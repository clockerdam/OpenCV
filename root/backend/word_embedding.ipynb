{
 "cells": [
  {
   "cell_type": "code",
   "execution_count": 1,
   "id": "8fc9b9b4-2805-4ba4-a192-eeaa4ac5c5fc",
   "metadata": {},
   "outputs": [],
   "source": [
    "import numpy as np\n",
    "from gensim.test.utils import datapath\n",
    "from gensim.models.fasttext import load_facebook_model\n",
    "from typing import List, Tuple\n",
    "from scipy import spatial\n",
    "\n",
    "# pretranied model by Facebook but it seems strange. might find better model\n",
    "cap_path = datapath(\"crime-and-punishment.bin\")\n",
    "fb_model = load_facebook_model(cap_path)\n",
    "\n",
    "# this looks better: https://fasttext.cc/docs/en/unsupervised-tutorial.html but i dont know where to save data and so on\n",
    "# here are the models: https://fasttext.cc/docs/en/pretrained-vectors.html"
   ]
  },
  {
   "cell_type": "code",
   "execution_count": 2,
   "id": "6e32200b-14b8-4474-b773-d73a5f32bb34",
   "metadata": {},
   "outputs": [],
   "source": [
    "def check_if_word_in_corpus(s: str) -> bool:\n",
    "    return s in fb_model.wv.key_to_index"
   ]
  },
  {
   "cell_type": "code",
   "execution_count": 3,
   "id": "bb9a3a4e-7aa8-40ed-b48b-74eba12c69b0",
   "metadata": {},
   "outputs": [],
   "source": [
    "def add_word_to_corpus(new_sentences: List[str]):\n",
    "    fb_model.build_vocab(new_sentences, update=True)\n",
    "    fb_model.train(new_sentences, total_examples=len(new_sentences), epochs=fb_model.epochs)"
   ]
  },
  {
   "cell_type": "code",
   "execution_count": 4,
   "id": "f1e216fe-55bf-49af-9801-bd6dcddfd75d",
   "metadata": {},
   "outputs": [],
   "source": [
    "def compute_similarity(s1: str, s2: str) -> float:\n",
    "    return 1 - spatial.distance.cosine(fb_model.wv[s1], fb_model.wv[s2])"
   ]
  },
  {
   "cell_type": "markdown",
   "id": "f23fa165-4432-42bc-a77b-a35506feb41d",
   "metadata": {
    "tags": []
   },
   "source": [
    "## Testing of functions"
   ]
  },
  {
   "cell_type": "code",
   "execution_count": 5,
   "id": "7d0cab52-f453-4a87-946c-274e06ada8cb",
   "metadata": {},
   "outputs": [
    {
     "data": {
      "text/plain": [
       "False"
      ]
     },
     "execution_count": 5,
     "metadata": {},
     "output_type": "execute_result"
    }
   ],
   "source": [
    "check_if_word_in_corpus('computer')"
   ]
  },
  {
   "cell_type": "code",
   "execution_count": 6,
   "id": "df9faf29-6272-4985-a193-57249429293c",
   "metadata": {},
   "outputs": [],
   "source": [
    "new_sentences = [\n",
    "    ['computer', 'aided', 'design'],\n",
    "    ['computer', 'science'],\n",
    "    ['computational', 'complexity'],\n",
    "    ['military', 'supercomputer'],\n",
    "    ['central', 'processing', 'unit'],\n",
    "    ['onboard', 'car', 'computer'],\n",
    "]\n",
    "\n",
    "add_word_to_corpus(new_sentences)"
   ]
  },
  {
   "cell_type": "code",
   "execution_count": 7,
   "id": "0381cf75-3900-4049-af79-00ab17b42a5d",
   "metadata": {},
   "outputs": [
    {
     "data": {
      "text/plain": [
       "True"
      ]
     },
     "execution_count": 7,
     "metadata": {},
     "output_type": "execute_result"
    }
   ],
   "source": [
    "check_if_word_in_corpus('computer')"
   ]
  },
  {
   "cell_type": "code",
   "execution_count": 7,
   "id": "e8354f5e-c480-4576-bc4f-57170c381686",
   "metadata": {},
   "outputs": [
    {
     "data": {
      "text/plain": [
       "0.9334312677383423"
      ]
     },
     "execution_count": 7,
     "metadata": {},
     "output_type": "execute_result"
    }
   ],
   "source": [
    "compute_similarity('computer', 'computation')"
   ]
  },
  {
   "cell_type": "code",
   "execution_count": 9,
   "id": "7a7d3f67-9894-4361-82a6-5aa1ccca245f",
   "metadata": {},
   "outputs": [
    {
     "data": {
      "text/plain": [
       "False"
      ]
     },
     "execution_count": 9,
     "metadata": {},
     "output_type": "execute_result"
    }
   ],
   "source": [
    "check_if_word_in_corpus('computation')"
   ]
  },
  {
   "cell_type": "code",
   "execution_count": 13,
   "id": "b9076a07-2bbe-43cd-8a4e-02829a020d26",
   "metadata": {},
   "outputs": [
    {
     "data": {
      "text/plain": [
       "0.7451281547546387"
      ]
     },
     "execution_count": 13,
     "metadata": {},
     "output_type": "execute_result"
    }
   ],
   "source": [
    "compute_similarity('computer', 'dog')"
   ]
  },
  {
   "cell_type": "markdown",
   "id": "799d3cfa-fced-4b22-a67f-b0367cfed5d3",
   "metadata": {},
   "source": [
    "## Problems that might be easily solveable\n",
    "\n",
    "- The facebook model only have 5 dimensions and are trained on a small dataset. There are better models i suppose but do not know where to store the data. I am also not sure we can add words then. But as long as we can get a value that might be ok. However, now our model can \"learn\" in some sence and generate new vectors. Don't know what is best\n",
    "- This is not produciton ready code. I do not know what is needed to make it feasible"
   ]
  },
  {
   "cell_type": "code",
   "execution_count": null,
   "id": "293dc51f-9b87-463f-b83d-c423723509ae",
   "metadata": {},
   "outputs": [],
   "source": []
  }
 ],
 "metadata": {
  "environment": {
   "kernel": "python3",
   "name": "pytorch-gpu.1-12.m99",
   "type": "gcloud",
   "uri": "gcr.io/deeplearning-platform-release/pytorch-gpu.1-12:m99"
  },
  "kernelspec": {
   "display_name": "Python 3.7.12 ('base')",
   "language": "python",
   "name": "python3"
  },
  "language_info": {
   "codemirror_mode": {
    "name": "ipython",
    "version": 3
   },
   "file_extension": ".py",
   "mimetype": "text/x-python",
   "name": "python",
   "nbconvert_exporter": "python",
   "pygments_lexer": "ipython3",
   "version": "3.7.12"
  },
  "vscode": {
   "interpreter": {
    "hash": "d4d1e4263499bec80672ea0156c357c1ee493ec2b1c70f0acce89fc37c4a6abe"
   }
  }
 },
 "nbformat": 4,
 "nbformat_minor": 5
}
