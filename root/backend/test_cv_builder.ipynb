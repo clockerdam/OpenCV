{
 "cells": [
  {
   "cell_type": "code",
   "execution_count": 1,
   "metadata": {},
   "outputs": [
    {
     "name": "stdout",
     "output_type": "stream",
     "text": [
      "Requirement already satisfied: black==22.10.0 in /opt/conda/lib/python3.7/site-packages (from -r requirements.txt (line 1)) (22.10.0)\n",
      "Requirement already satisfied: numpy==1.21.6 in /opt/conda/lib/python3.7/site-packages (from -r requirements.txt (line 2)) (1.21.6)\n",
      "Requirement already satisfied: Flask==2.2.2 in /opt/conda/lib/python3.7/site-packages (from -r requirements.txt (line 3)) (2.2.2)\n",
      "Requirement already satisfied: pymongo==3.12.0 in /opt/conda/lib/python3.7/site-packages (from -r requirements.txt (line 4)) (3.12.0)\n",
      "Requirement already satisfied: Python-dotenv==0.21.0 in /opt/conda/lib/python3.7/site-packages (from -r requirements.txt (line 5)) (0.21.0)\n",
      "Requirement already satisfied: Flask-Cors==3.0.10 in /opt/conda/lib/python3.7/site-packages (from -r requirements.txt (line 6)) (3.0.10)\n",
      "Requirement already satisfied: Flasgger==0.9.5 in /opt/conda/lib/python3.7/site-packages (from -r requirements.txt (line 7)) (0.9.5)\n",
      "Requirement already satisfied: Pydantic==1.9.0 in /opt/conda/lib/python3.7/site-packages (from -r requirements.txt (line 8)) (1.9.0)\n",
      "Requirement already satisfied: gensim==4.2.0 in /opt/conda/lib/python3.7/site-packages (from -r requirements.txt (line 10)) (4.2.0)\n",
      "Requirement already satisfied: keybert==0.7.0 in /opt/conda/lib/python3.7/site-packages (from -r requirements.txt (line 11)) (0.7.0)\n",
      "Requirement already satisfied: pandas==1.3.5 in /opt/conda/lib/python3.7/site-packages (from -r requirements.txt (line 12)) (1.3.5)\n",
      "Requirement already satisfied: google-cloud-storage in /opt/conda/lib/python3.7/site-packages (from -r requirements.txt (line 13)) (2.5.0)\n",
      "Requirement already satisfied: scispacy==0.5.1 in /opt/conda/lib/python3.7/site-packages (from -r requirements.txt (line 14)) (0.5.1)\n",
      "Requirement already satisfied: typing-extensions>=3.10.0.0 in /opt/conda/lib/python3.7/site-packages (from black==22.10.0->-r requirements.txt (line 1)) (4.1.1)\n",
      "Requirement already satisfied: mypy-extensions>=0.4.3 in /opt/conda/lib/python3.7/site-packages (from black==22.10.0->-r requirements.txt (line 1)) (0.4.3)\n",
      "Requirement already satisfied: tomli>=1.1.0 in /opt/conda/lib/python3.7/site-packages (from black==22.10.0->-r requirements.txt (line 1)) (2.0.1)\n",
      "Requirement already satisfied: platformdirs>=2 in /opt/conda/lib/python3.7/site-packages (from black==22.10.0->-r requirements.txt (line 1)) (2.5.2)\n",
      "Requirement already satisfied: click>=8.0.0 in /opt/conda/lib/python3.7/site-packages (from black==22.10.0->-r requirements.txt (line 1)) (8.1.3)\n",
      "Requirement already satisfied: pathspec>=0.9.0 in /opt/conda/lib/python3.7/site-packages (from black==22.10.0->-r requirements.txt (line 1)) (0.10.1)\n",
      "Requirement already satisfied: typed-ast>=1.4.2 in /opt/conda/lib/python3.7/site-packages (from black==22.10.0->-r requirements.txt (line 1)) (1.5.4)\n",
      "Requirement already satisfied: itsdangerous>=2.0 in /opt/conda/lib/python3.7/site-packages (from Flask==2.2.2->-r requirements.txt (line 3)) (2.1.2)\n",
      "Requirement already satisfied: Werkzeug>=2.2.2 in /opt/conda/lib/python3.7/site-packages (from Flask==2.2.2->-r requirements.txt (line 3)) (2.2.2)\n",
      "Requirement already satisfied: importlib-metadata>=3.6.0 in /opt/conda/lib/python3.7/site-packages (from Flask==2.2.2->-r requirements.txt (line 3)) (4.2.0)\n",
      "Requirement already satisfied: Jinja2>=3.0 in /opt/conda/lib/python3.7/site-packages (from Flask==2.2.2->-r requirements.txt (line 3)) (3.1.2)\n",
      "Requirement already satisfied: Six in /opt/conda/lib/python3.7/site-packages (from Flask-Cors==3.0.10->-r requirements.txt (line 6)) (1.16.0)\n",
      "Requirement already satisfied: mistune in /opt/conda/lib/python3.7/site-packages (from Flasgger==0.9.5->-r requirements.txt (line 7)) (2.0.4)\n",
      "Requirement already satisfied: PyYAML>=3.0 in /opt/conda/lib/python3.7/site-packages (from Flasgger==0.9.5->-r requirements.txt (line 7)) (6.0)\n",
      "Requirement already satisfied: jsonschema>=3.0.1 in /opt/conda/lib/python3.7/site-packages (from Flasgger==0.9.5->-r requirements.txt (line 7)) (4.16.0)\n",
      "Requirement already satisfied: scipy>=0.18.1 in /opt/conda/lib/python3.7/site-packages (from gensim==4.2.0->-r requirements.txt (line 10)) (1.7.3)\n",
      "Requirement already satisfied: smart-open>=1.8.1 in /opt/conda/lib/python3.7/site-packages (from gensim==4.2.0->-r requirements.txt (line 10)) (5.2.1)\n",
      "Requirement already satisfied: scikit-learn>=0.22.2 in /opt/conda/lib/python3.7/site-packages (from keybert==0.7.0->-r requirements.txt (line 11)) (1.0.2)\n",
      "Requirement already satisfied: sentence-transformers>=0.3.8 in /opt/conda/lib/python3.7/site-packages (from keybert==0.7.0->-r requirements.txt (line 11)) (2.2.2)\n",
      "Requirement already satisfied: rich>=10.4.0 in /opt/conda/lib/python3.7/site-packages (from keybert==0.7.0->-r requirements.txt (line 11)) (12.6.0)\n",
      "Requirement already satisfied: python-dateutil>=2.7.3 in /opt/conda/lib/python3.7/site-packages (from pandas==1.3.5->-r requirements.txt (line 12)) (2.8.2)\n",
      "Requirement already satisfied: pytz>=2017.3 in /opt/conda/lib/python3.7/site-packages (from pandas==1.3.5->-r requirements.txt (line 12)) (2022.5)\n",
      "Requirement already satisfied: conllu in /opt/conda/lib/python3.7/site-packages (from scispacy==0.5.1->-r requirements.txt (line 14)) (4.5.2)\n",
      "Requirement already satisfied: joblib in /opt/conda/lib/python3.7/site-packages (from scispacy==0.5.1->-r requirements.txt (line 14)) (1.2.0)\n",
      "Requirement already satisfied: spacy<3.5.0,>=3.4.0 in /opt/conda/lib/python3.7/site-packages (from scispacy==0.5.1->-r requirements.txt (line 14)) (3.4.2)\n",
      "Requirement already satisfied: requests<3.0.0,>=2.0.0 in /opt/conda/lib/python3.7/site-packages (from scispacy==0.5.1->-r requirements.txt (line 14)) (2.28.1)\n",
      "Requirement already satisfied: nmslib>=1.7.3.6 in /opt/conda/lib/python3.7/site-packages (from scispacy==0.5.1->-r requirements.txt (line 14)) (2.1.1)\n",
      "Requirement already satisfied: pysbd in /opt/conda/lib/python3.7/site-packages (from scispacy==0.5.1->-r requirements.txt (line 14)) (0.3.4)\n",
      "Requirement already satisfied: dnspython<2.0.0,>=1.16.0 in /opt/conda/lib/python3.7/site-packages (from pymongo==3.12.0->-r requirements.txt (line 4)) (1.16.0)\n",
      "Requirement already satisfied: google-resumable-media>=2.3.2 in /opt/conda/lib/python3.7/site-packages (from google-cloud-storage->-r requirements.txt (line 13)) (2.4.0)\n",
      "Requirement already satisfied: google-api-core!=2.0.*,!=2.1.*,!=2.2.*,!=2.3.0,<3.0.0dev,>=1.31.5 in /opt/conda/lib/python3.7/site-packages (from google-cloud-storage->-r requirements.txt (line 13)) (2.8.0)\n",
      "Requirement already satisfied: google-auth<3.0dev,>=1.25.0 in /opt/conda/lib/python3.7/site-packages (from google-cloud-storage->-r requirements.txt (line 13)) (2.13.0)\n",
      "Requirement already satisfied: google-cloud-core<3.0dev,>=2.3.0 in /opt/conda/lib/python3.7/site-packages (from google-cloud-storage->-r requirements.txt (line 13)) (2.3.2)\n",
      "Requirement already satisfied: googleapis-common-protos<2.0dev,>=1.52.0 in /opt/conda/lib/python3.7/site-packages (from google-api-core!=2.0.*,!=2.1.*,!=2.2.*,!=2.3.0,<3.0.0dev,>=1.31.5->google-cloud-storage->-r requirements.txt (line 13)) (1.56.4)\n",
      "Requirement already satisfied: protobuf>=3.12.0 in /opt/conda/lib/python3.7/site-packages (from google-api-core!=2.0.*,!=2.1.*,!=2.2.*,!=2.3.0,<3.0.0dev,>=1.31.5->google-cloud-storage->-r requirements.txt (line 13)) (4.21.8)\n",
      "Requirement already satisfied: pyasn1-modules>=0.2.1 in /opt/conda/lib/python3.7/site-packages (from google-auth<3.0dev,>=1.25.0->google-cloud-storage->-r requirements.txt (line 13)) (0.2.7)\n",
      "Requirement already satisfied: cachetools<6.0,>=2.0.0 in /opt/conda/lib/python3.7/site-packages (from google-auth<3.0dev,>=1.25.0->google-cloud-storage->-r requirements.txt (line 13)) (5.2.0)\n",
      "Requirement already satisfied: rsa<5,>=3.1.4 in /opt/conda/lib/python3.7/site-packages (from google-auth<3.0dev,>=1.25.0->google-cloud-storage->-r requirements.txt (line 13)) (4.9)\n",
      "Requirement already satisfied: google-crc32c<2.0dev,>=1.0 in /opt/conda/lib/python3.7/site-packages (from google-resumable-media>=2.3.2->google-cloud-storage->-r requirements.txt (line 13)) (1.1.2)\n",
      "Requirement already satisfied: zipp>=0.5 in /opt/conda/lib/python3.7/site-packages (from importlib-metadata>=3.6.0->Flask==2.2.2->-r requirements.txt (line 3)) (3.10.0)\n",
      "Requirement already satisfied: MarkupSafe>=2.0 in /opt/conda/lib/python3.7/site-packages (from Jinja2>=3.0->Flask==2.2.2->-r requirements.txt (line 3)) (2.1.1)\n",
      "Requirement already satisfied: attrs>=17.4.0 in /opt/conda/lib/python3.7/site-packages (from jsonschema>=3.0.1->Flasgger==0.9.5->-r requirements.txt (line 7)) (22.1.0)\n",
      "Requirement already satisfied: importlib-resources>=1.4.0 in /opt/conda/lib/python3.7/site-packages (from jsonschema>=3.0.1->Flasgger==0.9.5->-r requirements.txt (line 7)) (5.10.0)\n",
      "Requirement already satisfied: pkgutil-resolve-name>=1.3.10 in /opt/conda/lib/python3.7/site-packages (from jsonschema>=3.0.1->Flasgger==0.9.5->-r requirements.txt (line 7)) (1.3.10)\n",
      "Requirement already satisfied: pyrsistent!=0.17.0,!=0.17.1,!=0.17.2,>=0.14.0 in /opt/conda/lib/python3.7/site-packages (from jsonschema>=3.0.1->Flasgger==0.9.5->-r requirements.txt (line 7)) (0.18.1)\n",
      "Requirement already satisfied: pybind11<2.6.2 in /opt/conda/lib/python3.7/site-packages (from nmslib>=1.7.3.6->scispacy==0.5.1->-r requirements.txt (line 14)) (2.6.1)\n",
      "Requirement already satisfied: psutil in /opt/conda/lib/python3.7/site-packages (from nmslib>=1.7.3.6->scispacy==0.5.1->-r requirements.txt (line 14)) (5.9.3)\n",
      "Requirement already satisfied: charset-normalizer<3,>=2 in /opt/conda/lib/python3.7/site-packages (from requests<3.0.0,>=2.0.0->scispacy==0.5.1->-r requirements.txt (line 14)) (2.1.1)\n",
      "Requirement already satisfied: certifi>=2017.4.17 in /opt/conda/lib/python3.7/site-packages (from requests<3.0.0,>=2.0.0->scispacy==0.5.1->-r requirements.txt (line 14)) (2022.9.24)\n",
      "Requirement already satisfied: urllib3<1.27,>=1.21.1 in /opt/conda/lib/python3.7/site-packages (from requests<3.0.0,>=2.0.0->scispacy==0.5.1->-r requirements.txt (line 14)) (1.26.11)\n",
      "Requirement already satisfied: idna<4,>=2.5 in /opt/conda/lib/python3.7/site-packages (from requests<3.0.0,>=2.0.0->scispacy==0.5.1->-r requirements.txt (line 14)) (3.4)\n",
      "Requirement already satisfied: commonmark<0.10.0,>=0.9.0 in /opt/conda/lib/python3.7/site-packages (from rich>=10.4.0->keybert==0.7.0->-r requirements.txt (line 11)) (0.9.1)\n",
      "Requirement already satisfied: pygments<3.0.0,>=2.6.0 in /opt/conda/lib/python3.7/site-packages (from rich>=10.4.0->keybert==0.7.0->-r requirements.txt (line 11)) (2.13.0)\n",
      "Requirement already satisfied: threadpoolctl>=2.0.0 in /opt/conda/lib/python3.7/site-packages (from scikit-learn>=0.22.2->keybert==0.7.0->-r requirements.txt (line 11)) (3.1.0)\n",
      "Requirement already satisfied: tqdm in /opt/conda/lib/python3.7/site-packages (from sentence-transformers>=0.3.8->keybert==0.7.0->-r requirements.txt (line 11)) (4.64.1)\n",
      "Requirement already satisfied: nltk in /opt/conda/lib/python3.7/site-packages (from sentence-transformers>=0.3.8->keybert==0.7.0->-r requirements.txt (line 11)) (3.7)\n",
      "Requirement already satisfied: torchvision in /opt/conda/lib/python3.7/site-packages (from sentence-transformers>=0.3.8->keybert==0.7.0->-r requirements.txt (line 11)) (0.13.1+cu113)\n",
      "Requirement already satisfied: torch>=1.6.0 in /opt/conda/lib/python3.7/site-packages (from sentence-transformers>=0.3.8->keybert==0.7.0->-r requirements.txt (line 11)) (1.12.1)\n",
      "Requirement already satisfied: transformers<5.0.0,>=4.6.0 in /opt/conda/lib/python3.7/site-packages (from sentence-transformers>=0.3.8->keybert==0.7.0->-r requirements.txt (line 11)) (4.24.0)\n",
      "Requirement already satisfied: huggingface-hub>=0.4.0 in /opt/conda/lib/python3.7/site-packages (from sentence-transformers>=0.3.8->keybert==0.7.0->-r requirements.txt (line 11)) (0.10.1)\n",
      "Requirement already satisfied: sentencepiece in /opt/conda/lib/python3.7/site-packages (from sentence-transformers>=0.3.8->keybert==0.7.0->-r requirements.txt (line 11)) (0.1.97)\n",
      "Requirement already satisfied: cymem<2.1.0,>=2.0.2 in /opt/conda/lib/python3.7/site-packages (from spacy<3.5.0,>=3.4.0->scispacy==0.5.1->-r requirements.txt (line 14)) (2.0.7)\n",
      "Requirement already satisfied: wasabi<1.1.0,>=0.9.1 in /opt/conda/lib/python3.7/site-packages (from spacy<3.5.0,>=3.4.0->scispacy==0.5.1->-r requirements.txt (line 14)) (0.10.1)\n",
      "Requirement already satisfied: preshed<3.1.0,>=3.0.2 in /opt/conda/lib/python3.7/site-packages (from spacy<3.5.0,>=3.4.0->scispacy==0.5.1->-r requirements.txt (line 14)) (3.0.8)\n",
      "Requirement already satisfied: packaging>=20.0 in /opt/conda/lib/python3.7/site-packages (from spacy<3.5.0,>=3.4.0->scispacy==0.5.1->-r requirements.txt (line 14)) (21.3)\n",
      "Requirement already satisfied: setuptools in /opt/conda/lib/python3.7/site-packages (from spacy<3.5.0,>=3.4.0->scispacy==0.5.1->-r requirements.txt (line 14)) (59.8.0)\n",
      "Requirement already satisfied: srsly<3.0.0,>=2.4.3 in /opt/conda/lib/python3.7/site-packages (from spacy<3.5.0,>=3.4.0->scispacy==0.5.1->-r requirements.txt (line 14)) (2.4.5)\n",
      "Requirement already satisfied: thinc<8.2.0,>=8.1.0 in /opt/conda/lib/python3.7/site-packages (from spacy<3.5.0,>=3.4.0->scispacy==0.5.1->-r requirements.txt (line 14)) (8.1.5)\n",
      "Requirement already satisfied: spacy-legacy<3.1.0,>=3.0.10 in /opt/conda/lib/python3.7/site-packages (from spacy<3.5.0,>=3.4.0->scispacy==0.5.1->-r requirements.txt (line 14)) (3.0.10)\n",
      "Requirement already satisfied: spacy-loggers<2.0.0,>=1.0.0 in /opt/conda/lib/python3.7/site-packages (from spacy<3.5.0,>=3.4.0->scispacy==0.5.1->-r requirements.txt (line 14)) (1.0.3)\n",
      "Requirement already satisfied: langcodes<4.0.0,>=3.2.0 in /opt/conda/lib/python3.7/site-packages (from spacy<3.5.0,>=3.4.0->scispacy==0.5.1->-r requirements.txt (line 14)) (3.3.0)\n",
      "Requirement already satisfied: pathy>=0.3.5 in /opt/conda/lib/python3.7/site-packages (from spacy<3.5.0,>=3.4.0->scispacy==0.5.1->-r requirements.txt (line 14)) (0.6.2)\n",
      "Requirement already satisfied: typer<0.5.0,>=0.3.0 in /opt/conda/lib/python3.7/site-packages (from spacy<3.5.0,>=3.4.0->scispacy==0.5.1->-r requirements.txt (line 14)) (0.4.2)\n",
      "Requirement already satisfied: murmurhash<1.1.0,>=0.28.0 in /opt/conda/lib/python3.7/site-packages (from spacy<3.5.0,>=3.4.0->scispacy==0.5.1->-r requirements.txt (line 14)) (1.0.9)\n",
      "Requirement already satisfied: catalogue<2.1.0,>=2.0.6 in /opt/conda/lib/python3.7/site-packages (from spacy<3.5.0,>=3.4.0->scispacy==0.5.1->-r requirements.txt (line 14)) (2.0.8)\n",
      "Requirement already satisfied: cffi>=1.0.0 in /opt/conda/lib/python3.7/site-packages (from google-crc32c<2.0dev,>=1.0->google-resumable-media>=2.3.2->google-cloud-storage->-r requirements.txt (line 13)) (1.15.1)\n",
      "Requirement already satisfied: filelock in /opt/conda/lib/python3.7/site-packages (from huggingface-hub>=0.4.0->sentence-transformers>=0.3.8->keybert==0.7.0->-r requirements.txt (line 11)) (3.8.0)\n",
      "Requirement already satisfied: pyparsing!=3.0.5,>=2.0.2 in /opt/conda/lib/python3.7/site-packages (from packaging>=20.0->spacy<3.5.0,>=3.4.0->scispacy==0.5.1->-r requirements.txt (line 14)) (3.0.9)\n",
      "Requirement already satisfied: pyasn1<0.5.0,>=0.4.6 in /opt/conda/lib/python3.7/site-packages (from pyasn1-modules>=0.2.1->google-auth<3.0dev,>=1.25.0->google-cloud-storage->-r requirements.txt (line 13)) (0.4.8)\n",
      "Requirement already satisfied: blis<0.8.0,>=0.7.8 in /opt/conda/lib/python3.7/site-packages (from thinc<8.2.0,>=8.1.0->spacy<3.5.0,>=3.4.0->scispacy==0.5.1->-r requirements.txt (line 14)) (0.7.9)\n",
      "Requirement already satisfied: confection<1.0.0,>=0.0.1 in /opt/conda/lib/python3.7/site-packages (from thinc<8.2.0,>=8.1.0->spacy<3.5.0,>=3.4.0->scispacy==0.5.1->-r requirements.txt (line 14)) (0.0.3)\n",
      "Requirement already satisfied: regex!=2019.12.17 in /opt/conda/lib/python3.7/site-packages (from transformers<5.0.0,>=4.6.0->sentence-transformers>=0.3.8->keybert==0.7.0->-r requirements.txt (line 11)) (2022.10.31)\n",
      "Requirement already satisfied: tokenizers!=0.11.3,<0.14,>=0.11.1 in /opt/conda/lib/python3.7/site-packages (from transformers<5.0.0,>=4.6.0->sentence-transformers>=0.3.8->keybert==0.7.0->-r requirements.txt (line 11)) (0.13.1)\n",
      "Requirement already satisfied: pillow!=8.3.*,>=5.3.0 in /opt/conda/lib/python3.7/site-packages (from torchvision->sentence-transformers>=0.3.8->keybert==0.7.0->-r requirements.txt (line 11)) (9.2.0)\n",
      "Requirement already satisfied: pycparser in /opt/conda/lib/python3.7/site-packages (from cffi>=1.0.0->google-crc32c<2.0dev,>=1.0->google-resumable-media>=2.3.2->google-cloud-storage->-r requirements.txt (line 13)) (2.21)\n"
     ]
    }
   ],
   "source": [
    "!pip install -r requirements.txt"
   ]
  },
  {
   "cell_type": "code",
   "execution_count": 1,
   "metadata": {},
   "outputs": [
    {
     "name": "stdout",
     "output_type": "stream",
     "text": [
      "Connected to DB\n"
     ]
    }
   ],
   "source": [
    "from persistence import Connection as Database\n",
    "db: Database = Database()"
   ]
  },
  {
   "cell_type": "code",
   "execution_count": 2,
   "metadata": {},
   "outputs": [],
   "source": [
    "resumes = db.fetch_all_unlabeled_resumes()"
   ]
  },
  {
   "cell_type": "code",
   "execution_count": 3,
   "metadata": {},
   "outputs": [
    {
     "data": {
      "text/plain": [
       "30"
      ]
     },
     "execution_count": 3,
     "metadata": {},
     "output_type": "execute_result"
    }
   ],
   "source": [
    "len(resumes)"
   ]
  },
  {
   "cell_type": "code",
   "execution_count": 23,
   "metadata": {},
   "outputs": [],
   "source": [
    "import json\n",
    "resume = {}\n",
    "\n",
    "with open(\"demo/ds10_modified.json\") as f:\n",
    "    resume = json.load(f)"
   ]
  },
  {
   "cell_type": "code",
   "execution_count": 24,
   "metadata": {},
   "outputs": [
    {
     "name": "stdout",
     "output_type": "stream",
     "text": [
      "{\n",
      "    \"_id\": {\n",
      "        \"$oid\": \"637daad7a0bb6a79842907a1\"\n",
      "    },\n",
      "    \"title\": \"Data Scientist at SAP\",\n",
      "    \"contactInfo\": {\n",
      "        \"address\": \"Abraham Lincoln Street 1, Chicago, IL\",\n",
      "        \"website\": \"my-website.com\",\n",
      "        \"linkedin\": \"linkedin.com/in/me123\",\n",
      "        \"name\": \"Monica Music\",\n",
      "        \"phoneNumber\": \"01012345\",\n",
      "        \"email\": \"monica@music.co.kr\",\n",
      "        \"github\": \"monicamusic123\",\n",
      "        \"birthday\": \"24 December 1985\",\n",
      "        \"family\": \"5 kids, divorced\"\n",
      "    },\n",
      "    \"summary\": {\n",
      "        \"value\": \"Experienced data scientist with an obsession for decision trees.\",\n",
      "        \"label\": 0\n",
      "    },\n",
      "    \"experience\": {\n",
      "        \"value\": [\n",
      "            {\n",
      "                \"value\": {\n",
      "                    \"company\": \"SAP\",\n",
      "                    \"title\": \"Data Scientist\",\n",
      "                    \"location\": \"Berlin, Berlin, Germany\",\n",
      "                    \"fromDate\": \"October 2017\",\n",
      "                    \"toDate\": \"Present\",\n",
      "                    \"description\": \"Deep Learning Center of Exellence\"\n",
      "                },\n",
      "                \"label\": 0\n",
      "            },\n",
      "            {\n",
      "                \"value\": {\n",
      "                    \"company\": \"Amazon\",\n",
      "                    \"title\": \"Software Engineer\",\n",
      "                    \"location\": \"Berlin, Berlin, Germany\",\n",
      "                    \"fromDate\": \"March 2017\",\n",
      "                    \"toDate\": \"August 2017\",\n",
      "                    \"description\": \"Machine Translation Engineering team\"\n",
      "                },\n",
      "                \"label\": 0\n",
      "            },\n",
      "            {\n",
      "                \"value\": {\n",
      "                    \"company\": \"Samsung Electronics\",\n",
      "                    \"title\": \"Software Engineer\",\n",
      "                    \"location\": \"Suwon, South Korea\",\n",
      "                    \"fromDate\": \"January 2013\",\n",
      "                    \"toDate\": \"anuary 2015\",\n",
      "                    \"description\": \"Computer Vision Lab, DMC Research Center - Computer Vision Algorithm design, implementation, and optimization for embedded hardwares. (C, C++, Matlab)\"\n",
      "                },\n",
      "                \"label\": 0\n",
      "            },\n",
      "            {\n",
      "                \"value\": {\n",
      "                    \"company\": \"Penta Security Systems, Inc.\",\n",
      "                    \"title\": \"SDE Intern\",\n",
      "                    \"location\": \"Seoul, South Korea\",\n",
      "                    \"fromDate\": \"February 2012\",\n",
      "                    \"toDate\": \"July 2012\",\n",
      "                    \"description\": \"Database Security Team, Developed Java module for Database Encryption solution. Dealt with encryption products for diffrerent target relational databases such as Oracle, DB2, MSQ and different target operating systems such as Windows, Linux, Solaris, AIX.\"\n",
      "                },\n",
      "                \"label\": 0\n",
      "            }\n",
      "        ],\n",
      "        \"label\": 0\n",
      "    },\n",
      "    \"education\": {\n",
      "        \"value\": [\n",
      "            {\n",
      "                \"value\": {\n",
      "                    \"institution\": \"Korea Advanced Institute of Science and Technology\",\n",
      "                    \"location\": \"Korea\",\n",
      "                    \"title\": \"Master of Engineering (M.Eng.), Computer science & Machine Learning\",\n",
      "                    \"fromDate\": \"2015\",\n",
      "                    \"toDate\": \"2017\",\n",
      "                    \"description\": \"\"\n",
      "                },\n",
      "                \"label\": 0\n",
      "            },\n",
      "            {\n",
      "                \"value\": {\n",
      "                    \"institution\": \"POSTECH\",\n",
      "                    \"location\": \"Korea\",\n",
      "                    \"title\": \"Bachelor's degree, Physics & Computer Science\",\n",
      "                    \"fromDate\": \"2008\",\n",
      "                    \"toDate\": \"2013\",\n",
      "                    \"description\": \"\"\n",
      "                },\n",
      "                \"label\": 0\n",
      "            }\n",
      "        ],\n",
      "        \"label\": 0\n",
      "    },\n",
      "    \"interests\": {\n",
      "        \"value\": [\n",
      "            {\n",
      "                \"value\": \"Data Analysis\",\n",
      "                \"label\": 0\n",
      "            }\n",
      "        ],\n",
      "        \"label\": 0\n",
      "    },\n",
      "    \"accomplishments\": {\n",
      "        \"value\": [],\n",
      "        \"label\": 0\n",
      "    },\n",
      "    \"languages\": {\n",
      "        \"value\": [\n",
      "            {\n",
      "                \"value\": {\n",
      "                    \"name\": \"English\",\n",
      "                    \"proficiency\": 4\n",
      "                },\n",
      "                \"label\": 0\n",
      "            },\n",
      "            {\n",
      "                \"value\": {\n",
      "                    \"name\": \"Korean\",\n",
      "                    \"proficiency\": 5\n",
      "                },\n",
      "                \"label\": 0\n",
      "            }\n",
      "        ],\n",
      "        \"label\": 0\n",
      "    },\n",
      "    \"projects\": {\n",
      "        \"value\": [],\n",
      "        \"label\": 0\n",
      "    },\n",
      "    \"softSkills\": {\n",
      "        \"value\": [],\n",
      "        \"label\": 0\n",
      "    },\n",
      "    \"hardSkills\": {\n",
      "        \"value\": [\n",
      "            {\n",
      "                \"value\": {\n",
      "                    \"name\": \"Machine Learning\",\n",
      "                    \"proficiency\": 5\n",
      "                },\n",
      "                \"label\": 0\n",
      "            },\n",
      "            {\n",
      "                \"value\": {\n",
      "                    \"name\": \"Python\",\n",
      "                    \"proficiency\": 5\n",
      "                },\n",
      "                \"label\": 0\n",
      "            },\n",
      "            {\n",
      "                \"value\": {\n",
      "                    \"name\": \"Deep Learning\",\n",
      "                    \"proficiency\": 5\n",
      "                },\n",
      "                \"label\": 0\n",
      "            }\n",
      "        ],\n",
      "        \"label\": 0\n",
      "    },\n",
      "    \"certifications\": {\n",
      "        \"value\": [],\n",
      "        \"label\": 0\n",
      "    },\n",
      "    \"patents\": {\n",
      "        \"value\": [],\n",
      "        \"label\": 0\n",
      "    },\n",
      "    \"extracurriculars\": {\n",
      "        \"value\": [],\n",
      "        \"label\": 0\n",
      "    }\n",
      "}\n"
     ]
    }
   ],
   "source": [
    "import json\n",
    "print(json.dumps(resume, indent=4))"
   ]
  },
  {
   "cell_type": "code",
   "execution_count": 25,
   "metadata": {},
   "outputs": [],
   "source": [
    "import importlib"
   ]
  },
  {
   "cell_type": "code",
   "execution_count": 26,
   "metadata": {},
   "outputs": [],
   "source": [
    "job_description = \"\"\n",
    "with open(\"jd_examples/DS_JD2.txt\", 'r') as f:\n",
    "    job_description = f.read()\n",
    "    "
   ]
  },
  {
   "cell_type": "code",
   "execution_count": 27,
   "metadata": {},
   "outputs": [],
   "source": [
    "from model import Job\n",
    "importlib.reload(Job)\n",
    "Job = Job.Job\n",
    "from model.keyword_utils import extract_requirements_JD\n",
    "\n",
    "from persistence.cloud_storage.cloud_storage import read_job_keywords\n",
    "from util.json_to_df import create_df, get_resume_dict_from_dataframe\n",
    "\n",
    "job_title = \"Data Scientist\"\n",
    "description_keywords = extract_requirements_JD(job_description)\n",
    "job_keywords_csv = read_job_keywords(job_title)\n",
    "job = Job(job_title)\n",
    "job.load_from_csv_data(job_keywords_csv)\n",
    "\n",
    "orig_keywords = set(job.keywords.keys())\n",
    "jd_keyword_set = set(description_keywords)\n",
    "kw = list(orig_keywords.intersection(jd_keyword_set))\n",
    "\n",
    "job.update_keywords_from_description(description_keywords)\n",
    "\n",
    "\n",
    "resume_df, md = create_df(resume)"
   ]
  },
  {
   "cell_type": "code",
   "execution_count": 28,
   "metadata": {},
   "outputs": [
    {
     "data": {
      "text/plain": [
       "dict_keys(['machine learning', 'r', 'data science', 'python', 'deep learning', 'natural language processing', 'tableau', 'sql', 'predictive modeling', 'statistics', 'data analysis', 'data visualization', 'statistical modeling', 'tensorflow', 'predictive analytics', 'artificial intelligence', 'data mining', 'scikit-learn', 'data analytics', 'apache', 'spark', 'big data', 'hadoop', 'algorithms', 'git', 'amazon web services', 'big data analytics', 'hive', 'scala', 'matlab', 'pandas', 'numpy', 'sas', 'microsoft power bi', 'nlp', 'aws', 'ai', 'mathmatics', 'data scientist', 'b.e/b.tech/m.e/m.tech/ms', 'computer science', '3-6 years', 'advanced computer vision', 'keras', 'yolo', 'caffe', 'high dimension classifiers', 'advanced techniques', 'gcp', 'python flask\\nadditional information'])"
      ]
     },
     "execution_count": 28,
     "metadata": {},
     "output_type": "execute_result"
    }
   ],
   "source": [
    "job.keywords.keys()"
   ]
  },
  {
   "cell_type": "code",
   "execution_count": 29,
   "metadata": {},
   "outputs": [
    {
     "data": {
      "text/plain": [
       "{'3-6 years',\n",
       " 'advanced computer vision',\n",
       " 'advanced techniques',\n",
       " 'b.e/b.tech/m.e/m.tech/ms',\n",
       " 'caffe',\n",
       " 'computer science',\n",
       " 'deep learning',\n",
       " 'gcp',\n",
       " 'high dimension classifiers',\n",
       " 'keras',\n",
       " 'machine learning',\n",
       " 'python',\n",
       " 'python flask\\nadditional information',\n",
       " 'tensorflow',\n",
       " 'yolo'}"
      ]
     },
     "execution_count": 29,
     "metadata": {},
     "output_type": "execute_result"
    }
   ],
   "source": [
    "jd_keyword_set"
   ]
  },
  {
   "cell_type": "code",
   "execution_count": 30,
   "metadata": {},
   "outputs": [
    {
     "name": "stderr",
     "output_type": "stream",
     "text": [
      "/opt/conda/lib/python3.7/site-packages/gensim/models/keyedvectors.py:1166: RuntimeWarning: invalid value encountered in true_divide\n",
      "  similarities = dot_products / (norm * all_norms)\n"
     ]
    }
   ],
   "source": [
    "from model import resume_scorer\n",
    "# Make sure to reload everytime\n",
    "importlib.reload(resume_scorer)\n",
    "ResumeScorer = resume_scorer.ResumeScorer\n",
    "\n",
    "scorer: ResumeScorer = ResumeScorer(job)\n",
    "scored = scorer.score_resume_as_dataframe(resume_df)\n"
   ]
  },
  {
   "cell_type": "code",
   "execution_count": 31,
   "metadata": {},
   "outputs": [
    {
     "name": "stdout",
     "output_type": "stream",
     "text": [
      "14\n",
      "14\n"
     ]
    },
    {
     "data": {
      "text/html": [
       "<div>\n",
       "<style scoped>\n",
       "    .dataframe tbody tr th:only-of-type {\n",
       "        vertical-align: middle;\n",
       "    }\n",
       "\n",
       "    .dataframe tbody tr th {\n",
       "        vertical-align: top;\n",
       "    }\n",
       "\n",
       "    .dataframe thead th {\n",
       "        text-align: right;\n",
       "    }\n",
       "</style>\n",
       "<table border=\"1\" class=\"dataframe\">\n",
       "  <thead>\n",
       "    <tr style=\"text-align: right;\">\n",
       "      <th></th>\n",
       "      <th>type</th>\n",
       "      <th>scoring_text</th>\n",
       "      <th>score</th>\n",
       "      <th>duration</th>\n",
       "      <th>raw_keywords</th>\n",
       "    </tr>\n",
       "  </thead>\n",
       "  <tbody>\n",
       "    <tr>\n",
       "      <th>1</th>\n",
       "      <td>contactInfo</td>\n",
       "      <td>Monica Music</td>\n",
       "      <td>inf</td>\n",
       "      <td>NaN</td>\n",
       "      <td>[monica music]</td>\n",
       "    </tr>\n",
       "    <tr>\n",
       "      <th>6</th>\n",
       "      <td>education</td>\n",
       "      <td>Master of Engineering (M.Eng.), Computer scien...</td>\n",
       "      <td>0.919545</td>\n",
       "      <td>24.0</td>\n",
       "      <td>[computer science &amp; machine learning]</td>\n",
       "    </tr>\n",
       "    <tr>\n",
       "      <th>7</th>\n",
       "      <td>education</td>\n",
       "      <td>Bachelor's degree, Physics &amp; Computer Science</td>\n",
       "      <td>0.316250</td>\n",
       "      <td>60.0</td>\n",
       "      <td>[bachelor, physics &amp; computer science]</td>\n",
       "    </tr>\n",
       "    <tr>\n",
       "      <th>2</th>\n",
       "      <td>experience</td>\n",
       "      <td>Data Scientist Deep Learning Center of Exellence</td>\n",
       "      <td>0.000000</td>\n",
       "      <td>63.0</td>\n",
       "      <td>[]</td>\n",
       "    </tr>\n",
       "    <tr>\n",
       "      <th>4</th>\n",
       "      <td>experience</td>\n",
       "      <td>Software Engineer Computer Vision Lab, DMC Res...</td>\n",
       "      <td>0.370372</td>\n",
       "      <td>12.0</td>\n",
       "      <td>[software engineer computer vision lab, dmc re...</td>\n",
       "    </tr>\n",
       "    <tr>\n",
       "      <th>3</th>\n",
       "      <td>experience</td>\n",
       "      <td>Software Engineer Machine Translation Engineer...</td>\n",
       "      <td>0.665017</td>\n",
       "      <td>5.0</td>\n",
       "      <td>[software engineer machine translation enginee...</td>\n",
       "    </tr>\n",
       "    <tr>\n",
       "      <th>5</th>\n",
       "      <td>experience</td>\n",
       "      <td>SDE Intern Database Security Team, Developed J...</td>\n",
       "      <td>0.176595</td>\n",
       "      <td>5.0</td>\n",
       "      <td>[database encryption, oracle, msq, windows, li...</td>\n",
       "    </tr>\n",
       "    <tr>\n",
       "      <th>13</th>\n",
       "      <td>hardSkills</td>\n",
       "      <td>Deep Learning</td>\n",
       "      <td>1.770000</td>\n",
       "      <td>NaN</td>\n",
       "      <td>[deep learning]</td>\n",
       "    </tr>\n",
       "    <tr>\n",
       "      <th>11</th>\n",
       "      <td>hardSkills</td>\n",
       "      <td>Machine Learning</td>\n",
       "      <td>0.000000</td>\n",
       "      <td>NaN</td>\n",
       "      <td>[]</td>\n",
       "    </tr>\n",
       "    <tr>\n",
       "      <th>12</th>\n",
       "      <td>hardSkills</td>\n",
       "      <td>Python</td>\n",
       "      <td>0.000000</td>\n",
       "      <td>NaN</td>\n",
       "      <td>[]</td>\n",
       "    </tr>\n",
       "    <tr>\n",
       "      <th>8</th>\n",
       "      <td>interests</td>\n",
       "      <td>Data Analysis</td>\n",
       "      <td>-0.500000</td>\n",
       "      <td>NaN</td>\n",
       "      <td>[]</td>\n",
       "    </tr>\n",
       "    <tr>\n",
       "      <th>9</th>\n",
       "      <td>languages</td>\n",
       "      <td>English</td>\n",
       "      <td>0.079016</td>\n",
       "      <td>NaN</td>\n",
       "      <td>[english]</td>\n",
       "    </tr>\n",
       "    <tr>\n",
       "      <th>10</th>\n",
       "      <td>languages</td>\n",
       "      <td>Korean</td>\n",
       "      <td>0.009347</td>\n",
       "      <td>NaN</td>\n",
       "      <td>[korean]</td>\n",
       "    </tr>\n",
       "    <tr>\n",
       "      <th>0</th>\n",
       "      <td>summary</td>\n",
       "      <td>Experienced data scientist with an obsession f...</td>\n",
       "      <td>0.000000</td>\n",
       "      <td>NaN</td>\n",
       "      <td>[]</td>\n",
       "    </tr>\n",
       "  </tbody>\n",
       "</table>\n",
       "</div>"
      ],
      "text/plain": [
       "           type                                       scoring_text     score  \\\n",
       "1   contactInfo                                       Monica Music       inf   \n",
       "6     education  Master of Engineering (M.Eng.), Computer scien...  0.919545   \n",
       "7     education     Bachelor's degree, Physics & Computer Science   0.316250   \n",
       "2    experience   Data Scientist Deep Learning Center of Exellence  0.000000   \n",
       "4    experience  Software Engineer Computer Vision Lab, DMC Res...  0.370372   \n",
       "3    experience  Software Engineer Machine Translation Engineer...  0.665017   \n",
       "5    experience  SDE Intern Database Security Team, Developed J...  0.176595   \n",
       "13   hardSkills                                      Deep Learning  1.770000   \n",
       "11   hardSkills                                   Machine Learning  0.000000   \n",
       "12   hardSkills                                             Python  0.000000   \n",
       "8     interests                                      Data Analysis -0.500000   \n",
       "9     languages                                            English  0.079016   \n",
       "10    languages                                             Korean  0.009347   \n",
       "0       summary  Experienced data scientist with an obsession f...  0.000000   \n",
       "\n",
       "    duration                                       raw_keywords  \n",
       "1        NaN                                     [monica music]  \n",
       "6       24.0              [computer science & machine learning]  \n",
       "7       60.0             [bachelor, physics & computer science]  \n",
       "2       63.0                                                 []  \n",
       "4       12.0  [software engineer computer vision lab, dmc re...  \n",
       "3        5.0  [software engineer machine translation enginee...  \n",
       "5        5.0  [database encryption, oracle, msq, windows, li...  \n",
       "13       NaN                                    [deep learning]  \n",
       "11       NaN                                                 []  \n",
       "12       NaN                                                 []  \n",
       "8        NaN                                                 []  \n",
       "9        NaN                                          [english]  \n",
       "10       NaN                                           [korean]  \n",
       "0        NaN                                                 []  "
      ]
     },
     "execution_count": 31,
     "metadata": {},
     "output_type": "execute_result"
    }
   ],
   "source": [
    "importlib.reload(resume_scorer)\n",
    "\n",
    "cut, stats = resume_scorer.shorten_resume(scored, kw)\n",
    "\n",
    "print(len(scored))\n",
    "print(len(cut))\n",
    "cut[['type', 'scoring_text', 'score', 'duration', 'raw_keywords' ]]"
   ]
  },
  {
   "cell_type": "code",
   "execution_count": 32,
   "metadata": {},
   "outputs": [
    {
     "name": "stdout",
     "output_type": "stream",
     "text": [
      "{\"contactInfo\": {\"address\": \"Abraham Lincoln Street 1, Chicago, IL\", \"website\": \"my-website.com\", \"linkedin\": \"linkedin.com/in/me123\", \"name\": \"Monica Music\", \"phoneNumber\": \"01012345\", \"email\": \"monica@music.co.kr\", \"github\": \"monicamusic123\", \"birthday\": \"24 December 1985\", \"family\": \"5 kids, divorced\", \"keywords\": [[\"monica music\", 1.0]], \"raw_keywords\": [\"monica music\"], \"education_heuristic\": 0.0, \"experience_heuristic\": 0.0, \"contact_heuristic\": Infinity, \"interest_heuristic\": 0.0, \"covered_keywords\": [], \"keyword_cover_heuristic\": 0.0, \"score\": Infinity}, \"summary\": {\"value\": \"Experienced data scientist with an obsession for decision trees.\", \"label\": 0.0, \"keywords\": [], \"raw_keywords\": [], \"education_heuristic\": 0.0, \"experience_heuristic\": 0.0, \"contact_heuristic\": 0.0, \"interest_heuristic\": 0.0, \"covered_keywords\": [], \"keyword_cover_heuristic\": 0.0, \"score\": 0.0}, \"experience\": {\"value\": [{\"value\": {\"company\": \"SAP\", \"title\": \"Data Scientist\", \"location\": \"Berlin, Berlin, Germany\", \"fromDate\": \"October 2017\", \"toDate\": \"Present\", \"description\": \"Deep Learning Center of Exellence\", \"keywords\": [], \"raw_keywords\": [], \"education_heuristic\": 0.0, \"experience_heuristic\": 0.0, \"contact_heuristic\": 0.0, \"interest_heuristic\": 0.0, \"covered_keywords\": [], \"keyword_cover_heuristic\": 0.0, \"score\": 0.0}, \"label\": 0.0}, {\"value\": {\"company\": \"Samsung Electronics\", \"title\": \"Software Engineer\", \"location\": \"Suwon, South Korea\", \"fromDate\": \"January 2013\", \"toDate\": \"anuary 2015\", \"description\": \"Computer Vision Lab, DMC Research Center - Computer Vision Algorithm design, implementation, and optimization for embedded hardwares. (C, C++, Matlab)\", \"keywords\": [[\"software engineer computer vision lab\", 1.0], [\"dmc research center - computer vision algorithm\", 1.0], [\"c++\", 1.0], [\"matlab\", 1.0]], \"raw_keywords\": [\"software engineer computer vision lab\", \"dmc research center - computer vision algorithm\", \"c++\", \"matlab\"], \"education_heuristic\": 0.0, \"experience_heuristic\": 0.014, \"contact_heuristic\": 0.0, \"interest_heuristic\": 0.0, \"covered_keywords\": [], \"keyword_cover_heuristic\": 0.0, \"score\": 0.3703719976551262}, \"label\": 0.35637199765512617}, {\"value\": {\"company\": \"Amazon\", \"title\": \"Software Engineer\", \"location\": \"Berlin, Berlin, Germany\", \"fromDate\": \"March 2017\", \"toDate\": \"August 2017\", \"description\": \"Machine Translation Engineering team\", \"keywords\": [[\"software engineer machine translation engineering\", 1.0]], \"raw_keywords\": [\"software engineer machine translation engineering\"], \"education_heuristic\": 0.0, \"experience_heuristic\": 0.014, \"contact_heuristic\": 0.0, \"interest_heuristic\": 0.0, \"covered_keywords\": [], \"keyword_cover_heuristic\": 0.0, \"score\": 0.6650169198813711}, \"label\": 0.6510169198813711}, {\"value\": {\"company\": \"Penta Security Systems, Inc.\", \"title\": \"SDE Intern\", \"location\": \"Seoul, South Korea\", \"fromDate\": \"February 2012\", \"toDate\": \"July 2012\", \"description\": \"Database Security Team, Developed Java module for Database Encryption solution. Dealt with encryption products for diffrerent target relational databases such as Oracle, DB2, MSQ and different target operating systems such as Windows, Linux, Solaris, AIX.\", \"keywords\": [[\"database encryption\", 1.0], [\"oracle\", 1.0], [\"msq\", 1.0], [\"windows\", 1.0], [\"linux\", 1.0], [\"solaris\", 1.0], [\"aix\", 1.0]], \"raw_keywords\": [\"database encryption\", \"oracle\", \"msq\", \"windows\", \"linux\", \"solaris\", \"aix\"], \"education_heuristic\": 0.0, \"experience_heuristic\": 0.0, \"contact_heuristic\": 0.0, \"interest_heuristic\": 0.0, \"covered_keywords\": [], \"keyword_cover_heuristic\": 0.0, \"score\": 0.17659476480794903}, \"label\": 0.17659476480794903}], \"label\": 0}, \"education\": {\"value\": [{\"value\": {\"title\": \"Master of Engineering (M.Eng.), Computer science & Machine Learning\", \"location\": \"Korea\", \"fromDate\": \"2015\", \"toDate\": \"2017\", \"description\": \"\", \"institution\": \"Korea Advanced Institute of Science and Technology\", \"keywords\": [[\"computer science & machine learning\", 1.0]], \"raw_keywords\": [\"computer science & machine learning\"], \"education_heuristic\": 0.019, \"experience_heuristic\": 0.0, \"contact_heuristic\": 0.0, \"interest_heuristic\": 0.0, \"covered_keywords\": [], \"keyword_cover_heuristic\": 0.0, \"score\": 0.9195449399415383}, \"label\": 0.9005449399415383}, {\"value\": {\"title\": \"Bachelor's degree, Physics & Computer Science\", \"location\": \"Korea\", \"fromDate\": \"2008\", \"toDate\": \"2013\", \"description\": \"\", \"institution\": \"POSTECH\", \"keywords\": [[\"bachelor\", 1.0], [\"physics & computer science\", 1.0]], \"raw_keywords\": [\"bachelor\", \"physics & computer science\"], \"education_heuristic\": 0.03, \"experience_heuristic\": 0.0, \"contact_heuristic\": 0.0, \"interest_heuristic\": 0.0, \"covered_keywords\": [], \"keyword_cover_heuristic\": 0.0, \"score\": 0.3162501508507267}, \"label\": 0.28625015085072675}], \"label\": 0}, \"interests\": {\"value\": [{\"value\": \"Data Analysis\", \"label\": 0.0, \"keywords\": [], \"raw_keywords\": [], \"education_heuristic\": 0.0, \"experience_heuristic\": 0.0, \"contact_heuristic\": 0.0, \"interest_heuristic\": -0.5, \"covered_keywords\": [], \"keyword_cover_heuristic\": 0.0, \"score\": -0.5}], \"label\": 0}, \"accomplishments\": {\"value\": [], \"label\": 0}, \"languages\": {\"value\": [{\"value\": {\"name\": \"English\", \"proficiency\": 4.0, \"keywords\": [[\"english\", 1.0]], \"raw_keywords\": [\"english\"], \"education_heuristic\": 0.0, \"experience_heuristic\": 0.0, \"contact_heuristic\": 0.0, \"interest_heuristic\": 0.0, \"covered_keywords\": [], \"keyword_cover_heuristic\": 0.0, \"score\": 0.07901615542725735}, \"label\": 0.07901615542725735}, {\"value\": {\"name\": \"Korean\", \"proficiency\": 5.0, \"keywords\": [[\"korean\", 1.0]], \"raw_keywords\": [\"korean\"], \"education_heuristic\": 0.0, \"experience_heuristic\": 0.0, \"contact_heuristic\": 0.0, \"interest_heuristic\": 0.0, \"covered_keywords\": [], \"keyword_cover_heuristic\": 0.0, \"score\": 0.009347253993812202}, \"label\": 0.009347253993812202}], \"label\": 0}, \"projects\": {\"value\": [], \"label\": 0}, \"softSkills\": {\"value\": [], \"label\": 0}, \"hardSkills\": {\"value\": [{\"value\": {\"name\": \"Deep Learning\", \"proficiency\": 5.0, \"keywords\": [[\"deep learning\", 1.0]], \"raw_keywords\": [\"deep learning\"], \"education_heuristic\": 0.0, \"experience_heuristic\": 0.0, \"contact_heuristic\": 0.0, \"interest_heuristic\": 0.0, \"covered_keywords\": [\"deep learning\"], \"keyword_cover_heuristic\": 0.5, \"score\": 1.77}, \"label\": 1.27}, {\"value\": {\"name\": \"Machine Learning\", \"proficiency\": 5.0, \"keywords\": [], \"raw_keywords\": [], \"education_heuristic\": 0.0, \"experience_heuristic\": 0.0, \"contact_heuristic\": 0.0, \"interest_heuristic\": 0.0, \"covered_keywords\": [], \"keyword_cover_heuristic\": 0.0, \"score\": 0.0}, \"label\": 0.0}, {\"value\": {\"name\": \"Python\", \"proficiency\": 5.0, \"keywords\": [], \"raw_keywords\": [], \"education_heuristic\": 0.0, \"experience_heuristic\": 0.0, \"contact_heuristic\": 0.0, \"interest_heuristic\": 0.0, \"covered_keywords\": [], \"keyword_cover_heuristic\": 0.0, \"score\": 0.0}, \"label\": 0.0}], \"label\": 0}, \"certifications\": {\"value\": [], \"label\": 0}, \"patents\": {\"value\": [], \"label\": 0}, \"extracurriculars\": {\"value\": [], \"label\": 0}}\n"
     ]
    },
    {
     "name": "stderr",
     "output_type": "stream",
     "text": [
      "/opt/conda/lib/python3.7/site-packages/pandas/core/frame.py:4913: SettingWithCopyWarning: \n",
      "A value is trying to be set on a copy of a slice from a DataFrame\n",
      "\n",
      "See the caveats in the documentation: https://pandas.pydata.org/pandas-docs/stable/user_guide/indexing.html#returning-a-view-versus-a-copy\n",
      "  errors=errors,\n"
     ]
    }
   ],
   "source": [
    "import json\n",
    "from util.json_to_df import get_resume_dict_from_dataframe\n",
    "\n",
    "\n",
    "output_dict = get_resume_dict_from_dataframe(cut)\n",
    "# del output_dict['_id']\n",
    "print(json.dumps(output_dict))"
   ]
  },
  {
   "cell_type": "code",
   "execution_count": 33,
   "metadata": {},
   "outputs": [
    {
     "data": {
      "text/plain": [
       "{'machine learning', 'python', 'tensorflow'}"
      ]
     },
     "execution_count": 33,
     "metadata": {},
     "output_type": "execute_result"
    }
   ],
   "source": [
    "set(stats['missing_keywords'])"
   ]
  },
  {
   "cell_type": "code",
   "execution_count": 34,
   "metadata": {},
   "outputs": [],
   "source": [
    "cut = cut[resume_df.columns]\n",
    "cut = cut.drop([\"keywords\"], axis=1)"
   ]
  },
  {
   "cell_type": "code",
   "execution_count": 35,
   "metadata": {},
   "outputs": [
    {
     "data": {
      "text/plain": [
       "Index(['value', 'label', 'type', 'address', 'website', 'linkedin', 'name',\n",
       "       'phoneNumber', 'email', 'github', 'birthday', 'family', 'company',\n",
       "       'title', 'location', 'fromDate', 'toDate', 'description', 'duration',\n",
       "       'time_since', 'institution', 'proficiency', 'scoring_text',\n",
       "       'multiplier'],\n",
       "      dtype='object')"
      ]
     },
     "execution_count": 35,
     "metadata": {},
     "output_type": "execute_result"
    }
   ],
   "source": [
    "cut.columns"
   ]
  },
  {
   "cell_type": "code",
   "execution_count": 36,
   "metadata": {},
   "outputs": [
    {
     "data": {
      "text/plain": [
       "{'aix',\n",
       " 'bachelor',\n",
       " 'c++',\n",
       " 'computer science & machine learning',\n",
       " 'database encryption',\n",
       " 'deep learning',\n",
       " 'dmc research center - computer vision algorithm',\n",
       " 'english',\n",
       " 'korean',\n",
       " 'linux',\n",
       " 'matlab',\n",
       " 'monica music',\n",
       " 'msq',\n",
       " 'oracle',\n",
       " 'physics & computer science',\n",
       " 'software engineer computer vision lab',\n",
       " 'software engineer machine translation engineering',\n",
       " 'solaris',\n",
       " 'windows'}"
      ]
     },
     "execution_count": 36,
     "metadata": {},
     "output_type": "execute_result"
    }
   ],
   "source": [
    "set(stats['all_original_keywords'])"
   ]
  },
  {
   "cell_type": "code",
   "execution_count": 37,
   "metadata": {},
   "outputs": [
    {
     "name": "stdout",
     "output_type": "stream",
     "text": [
      "\n"
     ]
    }
   ],
   "source": [
    "from util.json_to_df import get_resume_dict_from_dataframe\n",
    "import json\n",
    "\n",
    "output = get_resume_dict_from_dataframe(cut, md)\n",
    "del output[\"_id\"]\n",
    "\n",
    "json.dumps(output)\n",
    "\n",
    "print(\"\")"
   ]
  },
  {
   "cell_type": "code",
   "execution_count": 38,
   "metadata": {},
   "outputs": [],
   "source": [
    "import spacy\n",
    "\n",
    "nlp = spacy.load(\"en_core_web_sm\")"
   ]
  },
  {
   "cell_type": "code",
   "execution_count": 39,
   "metadata": {},
   "outputs": [
    {
     "name": "stdout",
     "output_type": "stream",
     "text": [
      "Olav\n"
     ]
    }
   ],
   "source": [
    "text = \"Olav, like to eat cake for my brithday, and he knows vision transformers\"\n",
    "doc = nlp(text)\n",
    "\n",
    "for v in doc.ents: \n",
    "    print(v)"
   ]
  },
  {
   "cell_type": "code",
   "execution_count": 40,
   "metadata": {},
   "outputs": [
    {
     "name": "stdout",
     "output_type": "stream",
     "text": [
      "{\"_id\": {\"$oid\": \"637daad7a0bb6a79842907a1\"}, \"title\": \"Data Scientist at SAP\", \"contactInfo\": {\"address\": \"Abraham Lincoln Street 1, Chicago, IL\", \"website\": \"my-website.com\", \"linkedin\": \"linkedin.com/in/me123\", \"name\": \"Monica Music\", \"phoneNumber\": \"01012345\", \"email\": \"monica@music.co.kr\", \"github\": \"monicamusic123\", \"birthday\": \"24 December 1985\", \"family\": \"5 kids, divorced\"}, \"summary\": {\"value\": \"Experienced data scientist with an obsession for decision trees.\", \"label\": 0}, \"experience\": {\"value\": [{\"value\": {\"company\": \"SAP\", \"title\": \"Data Scientist\", \"location\": \"Berlin, Berlin, Germany\", \"fromDate\": \"October 2017\", \"toDate\": \"Present\", \"description\": \"Deep Learning Center of Exellence\"}, \"label\": 0}, {\"value\": {\"company\": \"Amazon\", \"title\": \"Software Engineer\", \"location\": \"Berlin, Berlin, Germany\", \"fromDate\": \"March 2017\", \"toDate\": \"August 2017\", \"description\": \"Machine Translation Engineering team\"}, \"label\": 0}, {\"value\": {\"company\": \"Samsung Electronics\", \"title\": \"Software Engineer\", \"location\": \"Suwon, South Korea\", \"fromDate\": \"January 2013\", \"toDate\": \"anuary 2015\", \"description\": \"Computer Vision Lab, DMC Research Center - Computer Vision Algorithm design, implementation, and optimization for embedded hardwares. (C, C++, Matlab)\"}, \"label\": 0}, {\"value\": {\"company\": \"Penta Security Systems, Inc.\", \"title\": \"SDE Intern\", \"location\": \"Seoul, South Korea\", \"fromDate\": \"February 2012\", \"toDate\": \"July 2012\", \"description\": \"Database Security Team, Developed Java module for Database Encryption solution. Dealt with encryption products for diffrerent target relational databases such as Oracle, DB2, MSQ and different target operating systems such as Windows, Linux, Solaris, AIX.\"}, \"label\": 0}], \"label\": 0}, \"education\": {\"value\": [{\"value\": {\"institution\": \"Korea Advanced Institute of Science and Technology\", \"location\": \"Korea\", \"title\": \"Master of Engineering (M.Eng.), Computer science & Machine Learning\", \"fromDate\": \"2015\", \"toDate\": \"2017\", \"description\": \"\"}, \"label\": 0}, {\"value\": {\"institution\": \"POSTECH\", \"location\": \"Korea\", \"title\": \"Bachelor's degree, Physics & Computer Science\", \"fromDate\": \"2008\", \"toDate\": \"2013\", \"description\": \"\"}, \"label\": 0}], \"label\": 0}, \"interests\": {\"value\": [{\"value\": \"Data Analysis\", \"label\": 0}], \"label\": 0}, \"accomplishments\": {\"value\": [], \"label\": 0}, \"languages\": {\"value\": [{\"value\": {\"name\": \"English\", \"proficiency\": 4}, \"label\": 0}, {\"value\": {\"name\": \"Korean\", \"proficiency\": 5}, \"label\": 0}], \"label\": 0}, \"projects\": {\"value\": [], \"label\": 0}, \"softSkills\": {\"value\": [], \"label\": 0}, \"hardSkills\": {\"value\": [{\"value\": {\"name\": \"Machine Learning\", \"proficiency\": 5}, \"label\": 0}, {\"value\": {\"name\": \"Python\", \"proficiency\": 5}, \"label\": 0}, {\"value\": {\"name\": \"Deep Learning\", \"proficiency\": 5}, \"label\": 0}], \"label\": 0}, \"certifications\": {\"value\": [], \"label\": 0}, \"patents\": {\"value\": [], \"label\": 0}, \"extracurriculars\": {\"value\": [], \"label\": 0}, \"description\": \"Data Scientist (Computer Vision) engineer\\n\\nFull-time\\nCompany Description\\nWe are an Artificial Intelligence (AI) focused product engineering company, providing our customers in healthcare, retail & e-commerce, manufacturing and hospitality sectors with cutting edge products & solutions, harnessing Big Data Analytics, Vision Analytics, and IoT.\\nEver since our inception in March 2010, Tech Vedika has been a partner of choice for several clients in US, Canada, Middle East and APAC. We were listed as one of the Top 10 Healthcare Analytics Solution Provider for year 2019' by Healthcare Tech Outlook Magazine.\\nWe strive for simple, elegant tech solutions to perform complex tasks. As a scalable technology partner, we enable organizations to improve operational efficiency and unleash new business potential\\nThe Data Scientist (Computer Vision) engineer will be required to build and implement algorithms based on our existing product portfolio and develop cutting-edge solutions for the emerging requirements of our key markets. \\n\\nJob Description\\nThe Data Scientist (Computer Vision) engineer will have the opportunity to interact and collaborate with our team of Tech Vedika (WARETRAC) experts in developing cutting-edge solutions to meet the dynamic nature of requirements for our customers. \\n\\nKey Responsibilities: \\n    \\u2022 Designing and implementing efficient computer vision algorithms for recognizing, tracking subjects within a controlled environment \\n    \\u2022 Architecting algorithms to work onboard our hardware systems as well as in the cloud where appropriate. \\n    \\u2022 Work together with our software development team to develop a scalable software solution \\n    \\u2022 Qualifications\\n\\n\\nRequired Experience:\\n\\n    \\u2022 B.E/B.Tech/M.E/M.Tech/MS in Computer Science, Applied Mathematics, or a related field. \\n    \\u2022 Minimum of 3-6 years of Relevant experience \\n    \\u2022 Experience and exposure on Advanced Computer Vision, Image processing and Machine Learning \\n    \\u2022 Practical experience in frameworks such as TensorFlow, TensorFlow Lite, OpenVINO, Keras, Yolo, Caffe. \\n    \\u2022 Hands-on experience on Image segmentation, feature extraction, High Dimension Classifiers and object tracking algorithms \\n    \\u2022 Solid Experience with Python, preferably in a Linux environment \\n    \\u2022 Good problem-solving and diagnostic skills, in a fast-paced environment. \\n    \\u2022 Work experience on data structures, algorithms, and ability to rapidly prototype and evaluate algorithms \\n    \\u2022 Experience in optimization for computer vision  \\n    \\u2022 Ability to write efficient and maintainable code \\n    \\u2022 Good analytical, problem solving, and communication skills are essential as well as the ability to work collaboratively in a team environment. \\n\\nDesired Experience:\\n\\n    \\u2022 Prior experience in working with depth sensors and 3D Reconstruction using computer vision, image processing techniques \\n    \\u2022 Advanced Techniques in Computer vision and Deep Learning. \\n    \\u2022 Knowledge on any Cloud Technologies (AWS, Azure, GCP.)  \\n    \\u2022 Knowledge on any Reporting Tools  \\n    \\u2022 Understanding of REST API, JSON, Python Flask \\n    \\u2022 Additional Information\\n\\nAt Tech Vedika, we are looking for talented individuals who want to work with driven people. Attain success while working on interesting projects with a culturally diverse group of individuals.\\n\\nBenefits:\\n\\n    \\u2022 Multiple Health coverage\\n    \\u2022 Competitive salary for a growing organization \\n    \\u2022 Gain experience rapidly\\n    \\u2022 Work directly with executive team\\n    \\u2022 Fast-paced work environment\"}\n"
     ]
    }
   ],
   "source": [
    "o = {**resume, \"description\": job_description} \n",
    "\n",
    "print(json.dumps(o))"
   ]
  }
 ],
 "metadata": {
  "kernelspec": {
   "display_name": "Python 3.7.12 ('base')",
   "language": "python",
   "name": "python3"
  },
  "language_info": {
   "codemirror_mode": {
    "name": "ipython",
    "version": 3
   },
   "file_extension": ".py",
   "mimetype": "text/x-python",
   "name": "python",
   "nbconvert_exporter": "python",
   "pygments_lexer": "ipython3",
   "version": "3.7.12"
  },
  "orig_nbformat": 4,
  "vscode": {
   "interpreter": {
    "hash": "d4d1e4263499bec80672ea0156c357c1ee493ec2b1c70f0acce89fc37c4a6abe"
   }
  }
 },
 "nbformat": 4,
 "nbformat_minor": 2
}
