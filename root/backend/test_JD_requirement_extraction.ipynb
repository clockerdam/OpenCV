{
 "cells": [
  {
   "cell_type": "markdown",
   "id": "5cb05469-5645-4dbd-802d-088c06bafc7c",
   "metadata": {},
   "source": [
    "# Extracting Bulletpoints\n",
    "## Assumes that there are bulletpoints\n"
   ]
  },
  {
   "cell_type": "code",
   "execution_count": 149,
   "id": "cc29d232-6274-4145-afc7-137623d4ce05",
   "metadata": {},
   "outputs": [],
   "source": [
    "import re\n",
    "\n",
    "not_an_absolute_path = 'jd_examples/SE_JD2.txt'\n",
    "with open(not_an_absolute_path, 'r') as f:\n",
    "    jd = f.read()"
   ]
  },
  {
   "cell_type": "code",
   "execution_count": 150,
   "id": "ac69d948-9965-4b3d-8662-cc1dafbb47e0",
   "metadata": {
    "tags": []
   },
   "outputs": [
    {
     "data": {
      "text/plain": [
       "'Software Engineer Moter\\n\\nWho are we?\\n\\nAioi Insurance Services USA is part of the MS&AD Insurance Group which is the 5th largest insurance company by market capitalization and is a Toyota affiliated company providing Toyota Insurance worldwide in 28 different countries. The Advanced Technology Group within Aioi Insurance USA specializes in Research and Development of new technologies that can be used by both the automotive and insurance industry. We build products and knowledge to help business leaders make better, data-driven decisions.\\n\\nJob Overview:\\n\\nThe Software Developer / DevOps Engineer is a hybrid role for a software developer with Amazon Web Services operational expertise. The work is expected to be roughly 60% software developer and 40% AWS DevOps. You will be developing software for our data ingestion & processing pipeline, data visualization portal, and database system. You will also be responsible for the DevOps aspect of our AWS system in optimizing operation, security systems, release management, and CI/CD.\\n\\nYou will be working primarily on our MOTER (Mobility On The Edge in Real-time) product which is the next generation of vehicle insurance data collection system that incorporate video and AI (Image Recognition) on the device. You will be working closely with our device development team and the data science team.\\n\\nWe are preparing to have MOTER applied in fleets of vehicles for pilot projects and need to have the product developed to a commercial-ready state—device software, connectivity, back-end, OTA functionality, etc.\\n\\n\\n\\nPrimary Job Responsibilities:\\n\\n\\t•\\tNew software product development in an agile environment\\n\\t•\\tResponsibilities for our AWS system operation\\n\\t•\\tContinue to enhance the system based on new findings and requirements\\n\\t•\\tPerform Error and Bug-Fix verification\\n\\nExperience:\\n\\n\\t•\\t5-10 years of IT development and/or IT operations experience\\n\\t•\\tExperience implementing solutions in a AWS cloud environment\\n\\t•\\tExperience with data bases and data base designs, preferably for big data\\n\\t•\\tExperience working in Agile Scrum environment\\n\\t•\\tExperience with server side (backend) software development\\n\\t•\\tExperience with device software development is a plus\\n\\t•\\tExperience with or working knowledge of automotive telematics or connected car is a big plus!\\n\\n\\n\\n\\nQualifications:\\n\\n\\t•\\tFour‐year college degree preferably in mathematics, statistics, economics, engineering, or IT field\\n\\t•\\tFamiliarity with contemporary software development approaches (e.g. agile), tools (e.g. Jira), and DevOps\\n\\t•\\t3-5+ years of hands on experience working in Software Engineering in a corporate environment or start-up environment\\n\\t•\\tProgramming language/system knowledge: JAVA, Linux, AWS, SQL, Python, and Javascript\\n\\t•\\tKnowledge of AWS IoT Core/GreenGrass is a plus\\n\\t•\\tKnowledge of Backend “cloud” infrastructure\\n\\t•\\tKnowledge of mobile networks and communication protocols is a plus\\n\\t•\\tKnowledge of Telematics systems and concept validation a plus\\n\\t•\\tCellular and Wi-Fi system knowledge is a plus\\n\\t•\\tMust be proficient with Microsoft Office Suite of products\\n\\t•\\tAwareness of software security and consumer privacy best practices\\n\\t•\\tEffective at building strong relationships, internally and externally\\n\\t•\\tStrong technical background to influence technical design and investment decisions\\n\\n\\n'"
      ]
     },
     "execution_count": 150,
     "metadata": {},
     "output_type": "execute_result"
    }
   ],
   "source": [
    "jd"
   ]
  },
  {
   "cell_type": "code",
   "execution_count": 22,
   "id": "b29c7839-b5b9-43fa-9956-62c1dbdaa65b",
   "metadata": {},
   "outputs": [],
   "source": [
    "regex_split_jd = r\"(?s).+?(?=^$)\""
   ]
  },
  {
   "cell_type": "code",
   "execution_count": 23,
   "id": "4cb4934b-95f9-472f-80b8-0a7f498865ab",
   "metadata": {
    "collapsed": true,
    "jupyter": {
     "outputs_hidden": true
    },
    "tags": []
   },
   "outputs": [
    {
     "name": "stdout",
     "output_type": "stream",
     "text": [
      "Match 1 was found at 0-24: Software Engineer Moter\n",
      "\n",
      "Match 2 was found at 24-37: \n",
      "Who are we?\n",
      "\n",
      "Match 3 was found at 37-543: \n",
      "Aioi Insurance Services USA is part of the MS&AD Insurance Group which is the 5th largest insurance company by market capitalization and is a Toyota affiliated company providing Toyota Insurance worldwide in 28 different countries. The Advanced Technology Group within Aioi Insurance USA specializes in Research and Development of new technologies that can be used by both the automotive and insurance industry. We build products and knowledge to help business leaders make better, data-driven decisions.\n",
      "\n",
      "Match 4 was found at 543-558: \n",
      "Job Overview:\n",
      "\n",
      "Match 5 was found at 558-1037: \n",
      "The Software Developer / DevOps Engineer is a hybrid role for a software developer with Amazon Web Services operational expertise. The work is expected to be roughly 60% software developer and 40% AWS DevOps. You will be developing software for our data ingestion & processing pipeline, data visualization portal, and database system. You will also be responsible for the DevOps aspect of our AWS system in optimizing operation, security systems, release management, and CI/CD.\n",
      "\n",
      "Match 6 was found at 1037-1351: \n",
      "You will be working primarily on our MOTER (Mobility On The Edge in Real-time) product which is the next generation of vehicle insurance data collection system that incorporate video and AI (Image Recognition) on the device. You will be working closely with our device development team and the data science team.\n",
      "\n",
      "Match 7 was found at 1351-1564: \n",
      "We are preparing to have MOTER applied in fleets of vehicles for pilot projects and need to have the product developed to a commercial-ready state—device software, connectivity, back-end, OTA functionality, etc.\n",
      "\n",
      "Match 8 was found at 1564-1565: \n",
      "\n",
      "Match 9 was found at 1565-1566: \n",
      "\n",
      "Match 10 was found at 1566-1597: \n",
      "Primary Job Responsibilities:\n",
      "\n",
      "Match 11 was found at 1597-1822: \n",
      "\t•\tNew software product development in an agile environment\n",
      "\t•\tResponsibilities for our AWS system operation\n",
      "\t•\tContinue to enhance the system based on new findings and requirements\n",
      "\t•\tPerform Error and Bug-Fix verification\n",
      "\n",
      "Match 12 was found at 1822-1835: \n",
      "Experience:\n",
      "\n",
      "Match 13 was found at 1835-2306: \n",
      "\t•\t5-10 years of IT development and/or IT operations experience\n",
      "\t•\tExperience implementing solutions in a AWS cloud environment\n",
      "\t•\tExperience with data bases and data base designs, preferably for big data\n",
      "\t•\tExperience working in Agile Scrum environment\n",
      "\t•\tExperience with server side (backend) software development\n",
      "\t•\tExperience with device software development is a plus\n",
      "\t•\tExperience with or working knowledge of automotive telematics or connected car is a big plus!\n",
      "\n",
      "Match 14 was found at 2306-2307: \n",
      "\n",
      "Match 15 was found at 2307-2308: \n",
      "\n",
      "Match 16 was found at 2308-2309: \n",
      "\n",
      "Match 17 was found at 2309-2326: \n",
      "Qualifications:\n",
      "\n",
      "Match 18 was found at 2326-3319: \n",
      "\t•\tFour‐year college degree preferably in mathematics, statistics, economics, engineering, or IT field\n",
      "\t•\tFamiliarity with contemporary software development approaches (e.g. agile), tools (e.g. Jira), and DevOps\n",
      "\t•\t3-5+ years of hands on experience working in Software Engineering in a corporate environment or start-up environment\n",
      "\t•\tProgramming language/system knowledge: JAVA, Linux, AWS, SQL, Python, and Javascript\n",
      "\t•\tKnowledge of AWS IoT Core/GreenGrass is a plus\n",
      "\t•\tKnowledge of Backend “cloud” infrastructure\n",
      "\t•\tKnowledge of mobile networks and communication protocols is a plus\n",
      "\t•\tKnowledge of Telematics systems and concept validation a plus\n",
      "\t•\tCellular and Wi-Fi system knowledge is a plus\n",
      "\t•\tMust be proficient with Microsoft Office Suite of products\n",
      "\t•\tAwareness of software security and consumer privacy best practices\n",
      "\t•\tEffective at building strong relationships, internally and externally\n",
      "\t•\tStrong technical background to influence technical design and investment decisions\n",
      "\n",
      "Match 19 was found at 3319-3320: \n",
      "\n",
      "Match 20 was found at 3320-3321: \n",
      "\n"
     ]
    }
   ],
   "source": [
    "matches = re.finditer(regex_split_jd, jd, re.MULTILINE)\n",
    "\n",
    "jd_list = []\n",
    "for matchNum, match in enumerate(matches, start=1):\n",
    "    jd_list.append(match.group())\n",
    "    print (\"Match {matchNum} was found at {start}-{end}: {match}\".format(matchNum = matchNum, start = match.start(), end = match.end(), match = match.group()))\n",
    "    \n",
    "    for groupNum in range(0, len(match.groups())):\n",
    "        groupNum = groupNum + 1\n",
    "        \n",
    "        print (\"Group {groupNum} found at {start}-{end}: {group}\".format(groupNum = groupNum, start = match.start(groupNum), end = match.end(groupNum), group = match.group(groupNum)))"
   ]
  },
  {
   "cell_type": "code",
   "execution_count": 5,
   "id": "5f1bbf9b-4d98-4f02-9b33-0848b3963470",
   "metadata": {
    "collapsed": true,
    "jupyter": {
     "outputs_hidden": true
    },
    "tags": []
   },
   "outputs": [
    {
     "name": "stdout",
     "output_type": "stream",
     "text": [
      "['Software Engineer Moter\\n', '\\nWho are we?\\n', '\\nAioi Insurance Services USA is part of the MS&AD Insurance Group which is the 5th largest insurance company by market capitalization and is a Toyota affiliated company providing Toyota Insurance worldwide in 28 different countries. The Advanced Technology Group within Aioi Insurance USA specializes in Research and Development of new technologies that can be used by both the automotive and insurance industry. We build products and knowledge to help business leaders make better, data-driven decisions.\\n', '\\nJob Overview:\\n', '\\nThe Software Developer / DevOps Engineer is a hybrid role for a software developer with Amazon Web Services operational expertise. The work is expected to be roughly 60% software developer and 40% AWS DevOps. You will be developing software for our data ingestion & processing pipeline, data visualization portal, and database system. You will also be responsible for the DevOps aspect of our AWS system in optimizing operation, security systems, release management, and CI/CD.\\n', '\\nYou will be working primarily on our MOTER (Mobility On The Edge in Real-time) product which is the next generation of vehicle insurance data collection system that incorporate video and AI (Image Recognition) on the device. You will be working closely with our device development team and the data science team.\\n', '\\nWe are preparing to have MOTER applied in fleets of vehicles for pilot projects and need to have the product developed to a commercial-ready state—device software, connectivity, back-end, OTA functionality, etc.\\n', '\\n', '\\n', '\\nPrimary Job Responsibilities:\\n', '\\n\\t•\\tNew software product development in an agile environment\\n\\t•\\tResponsibilities for our AWS system operation\\n\\t•\\tContinue to enhance the system based on new findings and requirements\\n\\t•\\tPerform Error and Bug-Fix verification\\n', '\\nExperience:\\n', '\\n\\t•\\t5-10 years of IT development and/or IT operations experience\\n\\t•\\tExperience implementing solutions in a AWS cloud environment\\n\\t•\\tExperience with data bases and data base designs, preferably for big data\\n\\t•\\tExperience working in Agile Scrum environment\\n\\t•\\tExperience with server side (backend) software development\\n\\t•\\tExperience with device software development is a plus\\n\\t•\\tExperience with or working knowledge of automotive telematics or connected car is a big plus!\\n', '\\n', '\\n', '\\n', '\\nQualifications:\\n', '\\n\\t•\\tFour‐year college degree preferably in mathematics, statistics, economics, engineering, or IT field\\n\\t•\\tFamiliarity with contemporary software development approaches (e.g. agile), tools (e.g. Jira), and DevOps\\n\\t•\\t3-5+ years of hands on experience working in Software Engineering in a corporate environment or start-up environment\\n\\t•\\tProgramming language/system knowledge: JAVA, Linux, AWS, SQL, Python, and Javascript\\n\\t•\\tKnowledge of AWS IoT Core/GreenGrass is a plus\\n\\t•\\tKnowledge of Backend “cloud” infrastructure\\n\\t•\\tKnowledge of mobile networks and communication protocols is a plus\\n\\t•\\tKnowledge of Telematics systems and concept validation a plus\\n\\t•\\tCellular and Wi-Fi system knowledge is a plus\\n\\t•\\tMust be proficient with Microsoft Office Suite of products\\n\\t•\\tAwareness of software security and consumer privacy best practices\\n\\t•\\tEffective at building strong relationships, internally and externally\\n\\t•\\tStrong technical background to influence technical design and investment decisions\\n', '\\n', '\\n']\n"
     ]
    }
   ],
   "source": [
    "print(jd_list)\n"
   ]
  },
  {
   "cell_type": "code",
   "execution_count": 6,
   "id": "34aef018-0721-401b-aca4-42c7a8a90cbe",
   "metadata": {},
   "outputs": [],
   "source": [
    "regex_find_req = \"((\\s.*[Ee]xperience.*:)|(\\s.*[Qq]ualification.*:)|(\\s.*[Rr]equire.*:))\""
   ]
  },
  {
   "cell_type": "code",
   "execution_count": 7,
   "id": "35765579-85a6-4c4a-9a48-c587dd0ddb60",
   "metadata": {},
   "outputs": [],
   "source": [
    "requirements = []\n",
    "for (i, line) in enumerate(jd_list):\n",
    "    match = re.match(regex_find_req, line)\n",
    "    if match != None:\n",
    "        requirements.append(jd_list[i+1])\n",
    "        "
   ]
  },
  {
   "cell_type": "code",
   "execution_count": 8,
   "id": "353a2506-6a2f-47f1-ac7c-3f0c7e95d4f7",
   "metadata": {},
   "outputs": [],
   "source": [
    "req0 = requirements[0].split('•')"
   ]
  },
  {
   "cell_type": "code",
   "execution_count": 9,
   "id": "23eaa38b-874e-4840-8c1f-223ea879f543",
   "metadata": {
    "collapsed": true,
    "jupyter": {
     "outputs_hidden": true
    },
    "tags": []
   },
   "outputs": [
    {
     "data": {
      "text/plain": [
       "['\\n\\t',\n",
       " '\\t5-10 years of IT development and/or IT operations experience\\n\\t',\n",
       " '\\tExperience implementing solutions in a AWS cloud environment\\n\\t',\n",
       " '\\tExperience with data bases and data base designs, preferably for big data\\n\\t',\n",
       " '\\tExperience working in Agile Scrum environment\\n\\t',\n",
       " '\\tExperience with server side (backend) software development\\n\\t',\n",
       " '\\tExperience with device software development is a plus\\n\\t',\n",
       " '\\tExperience with or working knowledge of automotive telematics or connected car is a big plus!\\n']"
      ]
     },
     "execution_count": 9,
     "metadata": {},
     "output_type": "execute_result"
    }
   ],
   "source": [
    "req0"
   ]
  },
  {
   "cell_type": "code",
   "execution_count": 10,
   "id": "c1905959-409a-45d2-b2f2-b30081d205d7",
   "metadata": {},
   "outputs": [],
   "source": [
    "for i in range(len(req0)):\n",
    "    req0_copy = req0.copy()\n",
    "    req0_copy[i] = req0_copy[i].strip()\n",
    "    req0[i] = req0[i].strip()\n",
    "    if req0[i] == '':\n",
    "        req0_copy.remove(req0[i])\n",
    "req0 = req0_copy"
   ]
  },
  {
   "cell_type": "code",
   "execution_count": 11,
   "id": "9f08124b-be64-40c2-9c59-5fe3340eacb2",
   "metadata": {
    "collapsed": true,
    "jupyter": {
     "outputs_hidden": true
    },
    "tags": []
   },
   "outputs": [
    {
     "data": {
      "text/plain": [
       "['',\n",
       " '5-10 years of IT development and/or IT operations experience',\n",
       " 'Experience implementing solutions in a AWS cloud environment',\n",
       " 'Experience with data bases and data base designs, preferably for big data',\n",
       " 'Experience working in Agile Scrum environment',\n",
       " 'Experience with server side (backend) software development',\n",
       " 'Experience with device software development is a plus',\n",
       " 'Experience with or working knowledge of automotive telematics or connected car is a big plus!']"
      ]
     },
     "execution_count": 11,
     "metadata": {},
     "output_type": "execute_result"
    }
   ],
   "source": [
    "req0"
   ]
  },
  {
   "cell_type": "code",
   "execution_count": 12,
   "id": "7df5e429-7668-44f6-9d63-d7e08264d6db",
   "metadata": {},
   "outputs": [],
   "source": [
    "req_list = []\n",
    "for el in requirements:\n",
    "    req = el.split('•')\n",
    "    for (i,_) in enumerate(req):\n",
    "        req[i] = req[i].strip()\n",
    "    req.remove('')\n",
    "    req_list.append(req)"
   ]
  },
  {
   "cell_type": "code",
   "execution_count": 13,
   "id": "d26d0f4d-5682-4288-889b-8e2edcd33943",
   "metadata": {},
   "outputs": [],
   "source": [
    "r_list = []\n",
    "for reqs in req_list:\n",
    "    r_list = r_list + reqs"
   ]
  },
  {
   "cell_type": "code",
   "execution_count": 132,
   "id": "04e8b3bf-5b7e-448c-85b5-8cd1eac55b50",
   "metadata": {
    "collapsed": true,
    "jupyter": {
     "outputs_hidden": true
    },
    "tags": []
   },
   "outputs": [
    {
     "data": {
      "text/plain": [
       "['5-10 years of IT development and/or IT operations experience',\n",
       " 'Experience implementing solutions in a AWS cloud environment',\n",
       " 'Experience with data bases and data base designs, preferably for big data',\n",
       " 'Experience working in Agile Scrum environment',\n",
       " 'Experience with server side (backend) software development',\n",
       " 'Experience with device software development is a plus',\n",
       " 'Experience with or working knowledge of automotive telematics or connected car is a big plus!',\n",
       " 'Four‐year college degree preferably in mathematics, statistics, economics, engineering, or IT field',\n",
       " 'Familiarity with contemporary software development approaches (e.g. agile), tools (e.g. Jira), and DevOps',\n",
       " '3-5+ years of hands on experience working in Software Engineering in a corporate environment or start-up environment',\n",
       " 'Programming language/system knowledge: JAVA, Linux, AWS, SQL, Python, and Javascript',\n",
       " 'Knowledge of AWS IoT Core/GreenGrass is a plus',\n",
       " 'Knowledge of Backend “cloud” infrastructure',\n",
       " 'Knowledge of mobile networks and communication protocols is a plus',\n",
       " 'Knowledge of Telematics systems and concept validation a plus',\n",
       " 'Cellular and Wi-Fi system knowledge is a plus',\n",
       " 'Must be proficient with Microsoft Office Suite of products',\n",
       " 'Awareness of software security and consumer privacy best practices',\n",
       " 'Effective at building strong relationships, internally and externally',\n",
       " 'Strong technical background to influence technical design and investment decisions']"
      ]
     },
     "execution_count": 132,
     "metadata": {},
     "output_type": "execute_result"
    }
   ],
   "source": [
    "r_list"
   ]
  },
  {
   "cell_type": "markdown",
   "id": "f4d93711-9906-42f8-b8a5-389efb7eea50",
   "metadata": {},
   "source": [
    "# Next up\n",
    "* Extract keywords from these bullet points"
   ]
  },
  {
   "cell_type": "code",
   "execution_count": 15,
   "id": "c084d5db-8d34-47a8-9c59-7a669c23937b",
   "metadata": {
    "collapsed": true,
    "jupyter": {
     "outputs_hidden": true
    },
    "tags": []
   },
   "outputs": [
    {
     "name": "stdout",
     "output_type": "stream",
     "text": [
      "Requirement already satisfied: scispacy in /opt/conda/lib/python3.7/site-packages (0.5.1)\n",
      "Requirement already satisfied: conllu in /opt/conda/lib/python3.7/site-packages (from scispacy) (4.5.2)\n",
      "Requirement already satisfied: numpy in /opt/conda/lib/python3.7/site-packages (from scispacy) (1.21.6)\n",
      "Requirement already satisfied: joblib in /opt/conda/lib/python3.7/site-packages (from scispacy) (1.2.0)\n",
      "Requirement already satisfied: spacy<3.5.0,>=3.4.0 in /opt/conda/lib/python3.7/site-packages (from scispacy) (3.4.2)\n",
      "Requirement already satisfied: nmslib>=1.7.3.6 in /opt/conda/lib/python3.7/site-packages (from scispacy) (2.1.1)\n",
      "Requirement already satisfied: requests<3.0.0,>=2.0.0 in /opt/conda/lib/python3.7/site-packages (from scispacy) (2.28.1)\n",
      "Requirement already satisfied: pysbd in /opt/conda/lib/python3.7/site-packages (from scispacy) (0.3.4)\n",
      "Requirement already satisfied: scikit-learn>=0.20.3 in /opt/conda/lib/python3.7/site-packages (from scispacy) (1.0.2)\n",
      "Requirement already satisfied: psutil in /opt/conda/lib/python3.7/site-packages (from nmslib>=1.7.3.6->scispacy) (5.9.3)\n",
      "Requirement already satisfied: pybind11<2.6.2 in /opt/conda/lib/python3.7/site-packages (from nmslib>=1.7.3.6->scispacy) (2.6.1)\n",
      "Requirement already satisfied: urllib3<1.27,>=1.21.1 in /opt/conda/lib/python3.7/site-packages (from requests<3.0.0,>=2.0.0->scispacy) (1.26.11)\n",
      "Requirement already satisfied: charset-normalizer<3,>=2 in /opt/conda/lib/python3.7/site-packages (from requests<3.0.0,>=2.0.0->scispacy) (2.1.1)\n",
      "Requirement already satisfied: certifi>=2017.4.17 in /opt/conda/lib/python3.7/site-packages (from requests<3.0.0,>=2.0.0->scispacy) (2022.9.24)\n",
      "Requirement already satisfied: idna<4,>=2.5 in /opt/conda/lib/python3.7/site-packages (from requests<3.0.0,>=2.0.0->scispacy) (3.4)\n",
      "Requirement already satisfied: scipy>=1.1.0 in /opt/conda/lib/python3.7/site-packages (from scikit-learn>=0.20.3->scispacy) (1.7.3)\n",
      "Requirement already satisfied: threadpoolctl>=2.0.0 in /opt/conda/lib/python3.7/site-packages (from scikit-learn>=0.20.3->scispacy) (3.1.0)\n",
      "Requirement already satisfied: murmurhash<1.1.0,>=0.28.0 in /opt/conda/lib/python3.7/site-packages (from spacy<3.5.0,>=3.4.0->scispacy) (1.0.9)\n",
      "Requirement already satisfied: packaging>=20.0 in /opt/conda/lib/python3.7/site-packages (from spacy<3.5.0,>=3.4.0->scispacy) (21.3)\n",
      "Requirement already satisfied: spacy-legacy<3.1.0,>=3.0.10 in /opt/conda/lib/python3.7/site-packages (from spacy<3.5.0,>=3.4.0->scispacy) (3.0.10)\n",
      "Requirement already satisfied: spacy-loggers<2.0.0,>=1.0.0 in /opt/conda/lib/python3.7/site-packages (from spacy<3.5.0,>=3.4.0->scispacy) (1.0.3)\n",
      "Requirement already satisfied: jinja2 in /opt/conda/lib/python3.7/site-packages (from spacy<3.5.0,>=3.4.0->scispacy) (3.1.2)\n",
      "Requirement already satisfied: pathy>=0.3.5 in /opt/conda/lib/python3.7/site-packages (from spacy<3.5.0,>=3.4.0->scispacy) (0.6.2)\n",
      "Requirement already satisfied: srsly<3.0.0,>=2.4.3 in /opt/conda/lib/python3.7/site-packages (from spacy<3.5.0,>=3.4.0->scispacy) (2.4.5)\n",
      "Requirement already satisfied: thinc<8.2.0,>=8.1.0 in /opt/conda/lib/python3.7/site-packages (from spacy<3.5.0,>=3.4.0->scispacy) (8.1.5)\n",
      "Requirement already satisfied: tqdm<5.0.0,>=4.38.0 in /opt/conda/lib/python3.7/site-packages (from spacy<3.5.0,>=3.4.0->scispacy) (4.64.1)\n",
      "Requirement already satisfied: preshed<3.1.0,>=3.0.2 in /opt/conda/lib/python3.7/site-packages (from spacy<3.5.0,>=3.4.0->scispacy) (3.0.8)\n",
      "Requirement already satisfied: pydantic!=1.8,!=1.8.1,<1.11.0,>=1.7.4 in /opt/conda/lib/python3.7/site-packages (from spacy<3.5.0,>=3.4.0->scispacy) (1.9.0)\n",
      "Requirement already satisfied: catalogue<2.1.0,>=2.0.6 in /opt/conda/lib/python3.7/site-packages (from spacy<3.5.0,>=3.4.0->scispacy) (2.0.8)\n",
      "Requirement already satisfied: typer<0.5.0,>=0.3.0 in /opt/conda/lib/python3.7/site-packages (from spacy<3.5.0,>=3.4.0->scispacy) (0.4.2)\n",
      "Requirement already satisfied: langcodes<4.0.0,>=3.2.0 in /opt/conda/lib/python3.7/site-packages (from spacy<3.5.0,>=3.4.0->scispacy) (3.3.0)\n",
      "Requirement already satisfied: typing-extensions<4.2.0,>=3.7.4 in /opt/conda/lib/python3.7/site-packages (from spacy<3.5.0,>=3.4.0->scispacy) (4.1.1)\n",
      "Requirement already satisfied: cymem<2.1.0,>=2.0.2 in /opt/conda/lib/python3.7/site-packages (from spacy<3.5.0,>=3.4.0->scispacy) (2.0.7)\n",
      "Requirement already satisfied: setuptools in /opt/conda/lib/python3.7/site-packages (from spacy<3.5.0,>=3.4.0->scispacy) (59.8.0)\n",
      "Requirement already satisfied: wasabi<1.1.0,>=0.9.1 in /opt/conda/lib/python3.7/site-packages (from spacy<3.5.0,>=3.4.0->scispacy) (0.10.1)\n",
      "Requirement already satisfied: zipp>=0.5 in /opt/conda/lib/python3.7/site-packages (from catalogue<2.1.0,>=2.0.6->spacy<3.5.0,>=3.4.0->scispacy) (3.10.0)\n",
      "Requirement already satisfied: pyparsing!=3.0.5,>=2.0.2 in /opt/conda/lib/python3.7/site-packages (from packaging>=20.0->spacy<3.5.0,>=3.4.0->scispacy) (3.0.9)\n",
      "Requirement already satisfied: smart-open<6.0.0,>=5.2.1 in /opt/conda/lib/python3.7/site-packages (from pathy>=0.3.5->spacy<3.5.0,>=3.4.0->scispacy) (5.2.1)\n",
      "Requirement already satisfied: blis<0.8.0,>=0.7.8 in /opt/conda/lib/python3.7/site-packages (from thinc<8.2.0,>=8.1.0->spacy<3.5.0,>=3.4.0->scispacy) (0.7.9)\n",
      "Requirement already satisfied: confection<1.0.0,>=0.0.1 in /opt/conda/lib/python3.7/site-packages (from thinc<8.2.0,>=8.1.0->spacy<3.5.0,>=3.4.0->scispacy) (0.0.3)\n",
      "Requirement already satisfied: click<9.0.0,>=7.1.1 in /opt/conda/lib/python3.7/site-packages (from typer<0.5.0,>=0.3.0->spacy<3.5.0,>=3.4.0->scispacy) (8.1.3)\n",
      "Requirement already satisfied: MarkupSafe>=2.0 in /opt/conda/lib/python3.7/site-packages (from jinja2->spacy<3.5.0,>=3.4.0->scispacy) (2.1.1)\n",
      "Requirement already satisfied: importlib-metadata in /opt/conda/lib/python3.7/site-packages (from click<9.0.0,>=7.1.1->typer<0.5.0,>=0.3.0->spacy<3.5.0,>=3.4.0->scispacy) (4.2.0)\n",
      "Note: you may need to restart the kernel to use updated packages.\n"
     ]
    }
   ],
   "source": [
    "pip install scispacy"
   ]
  },
  {
   "cell_type": "code",
   "execution_count": 41,
   "id": "8e2b63d4-e0cd-4575-ac5b-8e9312e14d90",
   "metadata": {
    "tags": []
   },
   "outputs": [
    {
     "name": "stdout",
     "output_type": "stream",
     "text": [
      "Collecting https://s3-us-west-2.amazonaws.com/ai2-s2-scispacy/releases/v0.5.1/en_core_sci_sm-0.5.1.tar.gz\n",
      "  Using cached https://s3-us-west-2.amazonaws.com/ai2-s2-scispacy/releases/v0.5.1/en_core_sci_sm-0.5.1.tar.gz (15.9 MB)\n",
      "  Preparing metadata (setup.py) ... \u001b[?25ldone\n",
      "\u001b[?25hRequirement already satisfied: spacy<3.5.0,>=3.4.1 in /opt/conda/lib/python3.7/site-packages (from en-core-sci-sm==0.5.1) (3.4.2)\n",
      "Requirement already satisfied: catalogue<2.1.0,>=2.0.6 in /opt/conda/lib/python3.7/site-packages (from spacy<3.5.0,>=3.4.1->en-core-sci-sm==0.5.1) (2.0.8)\n",
      "Requirement already satisfied: setuptools in /opt/conda/lib/python3.7/site-packages (from spacy<3.5.0,>=3.4.1->en-core-sci-sm==0.5.1) (59.8.0)\n",
      "Requirement already satisfied: typer<0.5.0,>=0.3.0 in /opt/conda/lib/python3.7/site-packages (from spacy<3.5.0,>=3.4.1->en-core-sci-sm==0.5.1) (0.4.2)\n",
      "Requirement already satisfied: spacy-loggers<2.0.0,>=1.0.0 in /opt/conda/lib/python3.7/site-packages (from spacy<3.5.0,>=3.4.1->en-core-sci-sm==0.5.1) (1.0.3)\n",
      "Requirement already satisfied: srsly<3.0.0,>=2.4.3 in /opt/conda/lib/python3.7/site-packages (from spacy<3.5.0,>=3.4.1->en-core-sci-sm==0.5.1) (2.4.5)\n",
      "Requirement already satisfied: cymem<2.1.0,>=2.0.2 in /opt/conda/lib/python3.7/site-packages (from spacy<3.5.0,>=3.4.1->en-core-sci-sm==0.5.1) (2.0.7)\n",
      "Requirement already satisfied: requests<3.0.0,>=2.13.0 in /opt/conda/lib/python3.7/site-packages (from spacy<3.5.0,>=3.4.1->en-core-sci-sm==0.5.1) (2.28.1)\n",
      "Requirement already satisfied: pathy>=0.3.5 in /opt/conda/lib/python3.7/site-packages (from spacy<3.5.0,>=3.4.1->en-core-sci-sm==0.5.1) (0.6.2)\n",
      "Requirement already satisfied: thinc<8.2.0,>=8.1.0 in /opt/conda/lib/python3.7/site-packages (from spacy<3.5.0,>=3.4.1->en-core-sci-sm==0.5.1) (8.1.5)\n",
      "Requirement already satisfied: numpy>=1.15.0 in /opt/conda/lib/python3.7/site-packages (from spacy<3.5.0,>=3.4.1->en-core-sci-sm==0.5.1) (1.21.6)\n",
      "Requirement already satisfied: jinja2 in /opt/conda/lib/python3.7/site-packages (from spacy<3.5.0,>=3.4.1->en-core-sci-sm==0.5.1) (3.1.2)\n",
      "Requirement already satisfied: tqdm<5.0.0,>=4.38.0 in /opt/conda/lib/python3.7/site-packages (from spacy<3.5.0,>=3.4.1->en-core-sci-sm==0.5.1) (4.64.1)\n",
      "Requirement already satisfied: langcodes<4.0.0,>=3.2.0 in /opt/conda/lib/python3.7/site-packages (from spacy<3.5.0,>=3.4.1->en-core-sci-sm==0.5.1) (3.3.0)\n",
      "Requirement already satisfied: murmurhash<1.1.0,>=0.28.0 in /opt/conda/lib/python3.7/site-packages (from spacy<3.5.0,>=3.4.1->en-core-sci-sm==0.5.1) (1.0.9)\n",
      "Requirement already satisfied: pydantic!=1.8,!=1.8.1,<1.11.0,>=1.7.4 in /opt/conda/lib/python3.7/site-packages (from spacy<3.5.0,>=3.4.1->en-core-sci-sm==0.5.1) (1.9.0)\n",
      "Requirement already satisfied: typing-extensions<4.2.0,>=3.7.4 in /opt/conda/lib/python3.7/site-packages (from spacy<3.5.0,>=3.4.1->en-core-sci-sm==0.5.1) (4.1.1)\n",
      "Requirement already satisfied: preshed<3.1.0,>=3.0.2 in /opt/conda/lib/python3.7/site-packages (from spacy<3.5.0,>=3.4.1->en-core-sci-sm==0.5.1) (3.0.8)\n",
      "Requirement already satisfied: spacy-legacy<3.1.0,>=3.0.10 in /opt/conda/lib/python3.7/site-packages (from spacy<3.5.0,>=3.4.1->en-core-sci-sm==0.5.1) (3.0.10)\n",
      "Requirement already satisfied: wasabi<1.1.0,>=0.9.1 in /opt/conda/lib/python3.7/site-packages (from spacy<3.5.0,>=3.4.1->en-core-sci-sm==0.5.1) (0.10.1)\n",
      "Requirement already satisfied: packaging>=20.0 in /opt/conda/lib/python3.7/site-packages (from spacy<3.5.0,>=3.4.1->en-core-sci-sm==0.5.1) (21.3)\n",
      "Requirement already satisfied: zipp>=0.5 in /opt/conda/lib/python3.7/site-packages (from catalogue<2.1.0,>=2.0.6->spacy<3.5.0,>=3.4.1->en-core-sci-sm==0.5.1) (3.10.0)\n",
      "Requirement already satisfied: pyparsing!=3.0.5,>=2.0.2 in /opt/conda/lib/python3.7/site-packages (from packaging>=20.0->spacy<3.5.0,>=3.4.1->en-core-sci-sm==0.5.1) (3.0.9)\n",
      "Requirement already satisfied: smart-open<6.0.0,>=5.2.1 in /opt/conda/lib/python3.7/site-packages (from pathy>=0.3.5->spacy<3.5.0,>=3.4.1->en-core-sci-sm==0.5.1) (5.2.1)\n",
      "Requirement already satisfied: idna<4,>=2.5 in /opt/conda/lib/python3.7/site-packages (from requests<3.0.0,>=2.13.0->spacy<3.5.0,>=3.4.1->en-core-sci-sm==0.5.1) (3.4)\n",
      "Requirement already satisfied: urllib3<1.27,>=1.21.1 in /opt/conda/lib/python3.7/site-packages (from requests<3.0.0,>=2.13.0->spacy<3.5.0,>=3.4.1->en-core-sci-sm==0.5.1) (1.26.11)\n",
      "Requirement already satisfied: certifi>=2017.4.17 in /opt/conda/lib/python3.7/site-packages (from requests<3.0.0,>=2.13.0->spacy<3.5.0,>=3.4.1->en-core-sci-sm==0.5.1) (2022.9.24)\n",
      "Requirement already satisfied: charset-normalizer<3,>=2 in /opt/conda/lib/python3.7/site-packages (from requests<3.0.0,>=2.13.0->spacy<3.5.0,>=3.4.1->en-core-sci-sm==0.5.1) (2.1.1)\n",
      "Requirement already satisfied: blis<0.8.0,>=0.7.8 in /opt/conda/lib/python3.7/site-packages (from thinc<8.2.0,>=8.1.0->spacy<3.5.0,>=3.4.1->en-core-sci-sm==0.5.1) (0.7.9)\n",
      "Requirement already satisfied: confection<1.0.0,>=0.0.1 in /opt/conda/lib/python3.7/site-packages (from thinc<8.2.0,>=8.1.0->spacy<3.5.0,>=3.4.1->en-core-sci-sm==0.5.1) (0.0.3)\n",
      "Requirement already satisfied: click<9.0.0,>=7.1.1 in /opt/conda/lib/python3.7/site-packages (from typer<0.5.0,>=0.3.0->spacy<3.5.0,>=3.4.1->en-core-sci-sm==0.5.1) (8.1.3)\n",
      "Requirement already satisfied: MarkupSafe>=2.0 in /opt/conda/lib/python3.7/site-packages (from jinja2->spacy<3.5.0,>=3.4.1->en-core-sci-sm==0.5.1) (2.1.1)\n",
      "Requirement already satisfied: importlib-metadata in /opt/conda/lib/python3.7/site-packages (from click<9.0.0,>=7.1.1->typer<0.5.0,>=0.3.0->spacy<3.5.0,>=3.4.1->en-core-sci-sm==0.5.1) (4.2.0)\n",
      "Note: you may need to restart the kernel to use updated packages.\n"
     ]
    }
   ],
   "source": [
    "pip install https://s3-us-west-2.amazonaws.com/ai2-s2-scispacy/releases/v0.5.1/en_core_sci_sm-0.5.1.tar.gz"
   ]
  },
  {
   "cell_type": "code",
   "execution_count": 39,
   "id": "f9211138-fcc1-4264-8f3a-201aade52832",
   "metadata": {},
   "outputs": [
    {
     "ename": "OSError",
     "evalue": "[E050] Can't find model 'en_core_web_sm'. It doesn't seem to be a Python package or a valid path to a data directory.",
     "output_type": "error",
     "traceback": [
      "\u001b[0;31m---------------------------------------------------------------------------\u001b[0m",
      "\u001b[0;31mOSError\u001b[0m                                   Traceback (most recent call last)",
      "\u001b[0;32m/tmp/ipykernel_20072/2747358980.py\u001b[0m in \u001b[0;36m<module>\u001b[0;34m\u001b[0m\n\u001b[1;32m      1\u001b[0m \u001b[0;32mimport\u001b[0m \u001b[0mspacy\u001b[0m\u001b[0;34m\u001b[0m\u001b[0;34m\u001b[0m\u001b[0m\n\u001b[1;32m      2\u001b[0m \u001b[0;31m#nlp = spacy.load(\"en_core_sci_sm\")\u001b[0m\u001b[0;34m\u001b[0m\u001b[0;34m\u001b[0m\u001b[0;34m\u001b[0m\u001b[0m\n\u001b[0;32m----> 3\u001b[0;31m \u001b[0mnlp\u001b[0m \u001b[0;34m=\u001b[0m \u001b[0mspacy\u001b[0m\u001b[0;34m.\u001b[0m\u001b[0mload\u001b[0m\u001b[0;34m(\u001b[0m\u001b[0;34m\"en_core_web_sm\"\u001b[0m\u001b[0;34m)\u001b[0m\u001b[0;34m\u001b[0m\u001b[0;34m\u001b[0m\u001b[0m\n\u001b[0m",
      "\u001b[0;32m/opt/conda/lib/python3.7/site-packages/spacy/__init__.py\u001b[0m in \u001b[0;36mload\u001b[0;34m(name, vocab, disable, enable, exclude, config)\u001b[0m\n\u001b[1;32m     58\u001b[0m         \u001b[0menable\u001b[0m\u001b[0;34m=\u001b[0m\u001b[0menable\u001b[0m\u001b[0;34m,\u001b[0m\u001b[0;34m\u001b[0m\u001b[0;34m\u001b[0m\u001b[0m\n\u001b[1;32m     59\u001b[0m         \u001b[0mexclude\u001b[0m\u001b[0;34m=\u001b[0m\u001b[0mexclude\u001b[0m\u001b[0;34m,\u001b[0m\u001b[0;34m\u001b[0m\u001b[0;34m\u001b[0m\u001b[0m\n\u001b[0;32m---> 60\u001b[0;31m         \u001b[0mconfig\u001b[0m\u001b[0;34m=\u001b[0m\u001b[0mconfig\u001b[0m\u001b[0;34m,\u001b[0m\u001b[0;34m\u001b[0m\u001b[0;34m\u001b[0m\u001b[0m\n\u001b[0m\u001b[1;32m     61\u001b[0m     )\n\u001b[1;32m     62\u001b[0m \u001b[0;34m\u001b[0m\u001b[0m\n",
      "\u001b[0;32m/opt/conda/lib/python3.7/site-packages/spacy/util.py\u001b[0m in \u001b[0;36mload_model\u001b[0;34m(name, vocab, disable, enable, exclude, config)\u001b[0m\n\u001b[1;32m    437\u001b[0m     \u001b[0;32mif\u001b[0m \u001b[0mname\u001b[0m \u001b[0;32min\u001b[0m \u001b[0mOLD_MODEL_SHORTCUTS\u001b[0m\u001b[0;34m:\u001b[0m\u001b[0;34m\u001b[0m\u001b[0;34m\u001b[0m\u001b[0m\n\u001b[1;32m    438\u001b[0m         \u001b[0;32mraise\u001b[0m \u001b[0mIOError\u001b[0m\u001b[0;34m(\u001b[0m\u001b[0mErrors\u001b[0m\u001b[0;34m.\u001b[0m\u001b[0mE941\u001b[0m\u001b[0;34m.\u001b[0m\u001b[0mformat\u001b[0m\u001b[0;34m(\u001b[0m\u001b[0mname\u001b[0m\u001b[0;34m=\u001b[0m\u001b[0mname\u001b[0m\u001b[0;34m,\u001b[0m \u001b[0mfull\u001b[0m\u001b[0;34m=\u001b[0m\u001b[0mOLD_MODEL_SHORTCUTS\u001b[0m\u001b[0;34m[\u001b[0m\u001b[0mname\u001b[0m\u001b[0;34m]\u001b[0m\u001b[0;34m)\u001b[0m\u001b[0;34m)\u001b[0m  \u001b[0;31m# type: ignore[index]\u001b[0m\u001b[0;34m\u001b[0m\u001b[0;34m\u001b[0m\u001b[0m\n\u001b[0;32m--> 439\u001b[0;31m     \u001b[0;32mraise\u001b[0m \u001b[0mIOError\u001b[0m\u001b[0;34m(\u001b[0m\u001b[0mErrors\u001b[0m\u001b[0;34m.\u001b[0m\u001b[0mE050\u001b[0m\u001b[0;34m.\u001b[0m\u001b[0mformat\u001b[0m\u001b[0;34m(\u001b[0m\u001b[0mname\u001b[0m\u001b[0;34m=\u001b[0m\u001b[0mname\u001b[0m\u001b[0;34m)\u001b[0m\u001b[0;34m)\u001b[0m\u001b[0;34m\u001b[0m\u001b[0;34m\u001b[0m\u001b[0m\n\u001b[0m\u001b[1;32m    440\u001b[0m \u001b[0;34m\u001b[0m\u001b[0m\n\u001b[1;32m    441\u001b[0m \u001b[0;34m\u001b[0m\u001b[0m\n",
      "\u001b[0;31mOSError\u001b[0m: [E050] Can't find model 'en_core_web_sm'. It doesn't seem to be a Python package or a valid path to a data directory."
     ]
    }
   ],
   "source": [
    "import spacy\n",
    "nlp = spacy.load(\"en_core_sci_sm\")\n",
    "#nlp = spacy.load(\"en_core_web_sm\")"
   ]
  },
  {
   "cell_type": "code",
   "execution_count": null,
   "id": "edf124cd-8c64-4c34-9c47-8dc06edc2e6a",
   "metadata": {},
   "outputs": [],
   "source": []
  },
  {
   "cell_type": "code",
   "execution_count": 89,
   "id": "979576e0-0ec6-417e-b32e-dc3c38f684d9",
   "metadata": {},
   "outputs": [
    {
     "name": "stdout",
     "output_type": "stream",
     "text": [
      "5-10 years of IT development and/or IT operations experience\n",
      "Noun phrases: ['5-10 years']\n",
      "Verbs: []\n",
      "years ENTITY\n",
      "IT ENTITY\n",
      "development ENTITY\n",
      "IT ENTITY\n",
      "operations ENTITY\n",
      "\n",
      "\n",
      "Experience implementing solutions in a AWS cloud environment\n",
      "Noun phrases: ['Experience', 'solutions']\n",
      "Verbs: ['implement']\n",
      "Experience ENTITY\n",
      "implementing ENTITY\n",
      "solutions ENTITY\n",
      "AWS cloud environment ENTITY\n",
      "\n",
      "\n",
      "Experience with data bases and data base designs, preferably for big data\n",
      "Noun phrases: ['Experience']\n",
      "Verbs: []\n",
      "Experience ENTITY\n",
      "data bases ENTITY\n",
      "data base designs ENTITY\n",
      "big data ENTITY\n",
      "\n",
      "\n",
      "Experience working in Agile Scrum environment\n",
      "Noun phrases: ['Experience']\n",
      "Verbs: ['work']\n",
      "Experience ENTITY\n",
      "working ENTITY\n",
      "Agile ENTITY\n",
      "Scrum environment ENTITY\n",
      "\n",
      "\n",
      "Experience with server side (backend) software development\n",
      "Noun phrases: ['Experience', '(backend']\n",
      "Verbs: []\n",
      "Experience ENTITY\n",
      "server side ENTITY\n",
      "\n",
      "\n",
      "Experience with device software development is a plus\n",
      "Noun phrases: ['Experience']\n",
      "Verbs: []\n",
      "Experience ENTITY\n",
      "device software development ENTITY\n",
      "\n",
      "\n",
      "Experience with or working knowledge of automotive telematics or connected car is a big plus!\n",
      "Noun phrases: ['Experience', 'knowledge']\n",
      "Verbs: ['work', 'connect']\n",
      "Experience with ENTITY\n",
      "working knowledge ENTITY\n",
      "automotive telematics ENTITY\n",
      "connected car ENTITY\n",
      "big plus ENTITY\n",
      "\n",
      "\n",
      "Four‐year college degree preferably in mathematics, statistics, economics, engineering, or IT field\n",
      "Noun phrases: ['Four‐year college degree', 'field']\n",
      "Verbs: []\n",
      "Four‐year ENTITY\n",
      "mathematics ENTITY\n",
      "statistics ENTITY\n",
      "economics ENTITY\n",
      "engineering ENTITY\n",
      "IT field ENTITY\n",
      "\n",
      "\n",
      "Familiarity with contemporary software development approaches (e.g. agile), tools (e.g. Jira), and DevOps\n",
      "Noun phrases: ['Familiarity', '(e.g. agile', 'tools', 'e.g. Jira']\n",
      "Verbs: []\n",
      "Familiarity ENTITY\n",
      "contemporary software development approaches ENTITY\n",
      "agile ENTITY\n",
      "tools ENTITY\n",
      "DevOps ENTITY\n",
      "\n",
      "\n",
      "3-5+ years of hands on experience working in Software Engineering in a corporate environment or start-up environment\n",
      "Noun phrases: ['3-5+ years']\n",
      "Verbs: ['work']\n",
      "years ENTITY\n",
      "hands ENTITY\n",
      "working ENTITY\n",
      "Software Engineering ENTITY\n",
      "corporate ENTITY\n",
      "environment ENTITY\n",
      "start-up environment ENTITY\n",
      "\n",
      "\n",
      "Programming language/system knowledge: JAVA, Linux, AWS, SQL, Python, and Javascript\n",
      "Noun phrases: ['Programming language/system knowledge', 'Linux']\n",
      "Verbs: []\n",
      "Programming language/system ENTITY\n",
      "JAVA ENTITY\n",
      "Linux ENTITY\n",
      "AWS ENTITY\n",
      "SQL ENTITY\n",
      "Python ENTITY\n",
      "Javascript ENTITY\n",
      "\n",
      "\n",
      "Knowledge of AWS IoT Core/GreenGrass is a plus\n",
      "Noun phrases: ['Knowledge']\n",
      "Verbs: []\n",
      "Knowledge ENTITY\n",
      "AWS ENTITY\n",
      "Core/GreenGrass ENTITY\n",
      "\n",
      "\n",
      "Knowledge of Backend “cloud” infrastructure\n",
      "Noun phrases: ['Knowledge']\n",
      "Verbs: []\n",
      "Knowledge ENTITY\n",
      "cloud” infrastructure ENTITY\n",
      "\n",
      "\n",
      "Knowledge of mobile networks and communication protocols is a plus\n",
      "Noun phrases: ['Knowledge']\n",
      "Verbs: []\n",
      "Knowledge ENTITY\n",
      "mobile networks ENTITY\n",
      "communication protocols ENTITY\n",
      "\n",
      "\n",
      "Knowledge of Telematics systems and concept validation a plus\n",
      "Noun phrases: ['Knowledge']\n",
      "Verbs: []\n",
      "Knowledge ENTITY\n",
      "Telematics systems ENTITY\n",
      "concept ENTITY\n",
      "validation ENTITY\n",
      "\n",
      "\n",
      "Cellular and Wi-Fi system knowledge is a plus\n",
      "Noun phrases: ['Wi-Fi']\n",
      "Verbs: []\n",
      "Cellular ENTITY\n",
      "Wi-Fi system ENTITY\n",
      "knowledge ENTITY\n",
      "\n",
      "\n",
      "Must be proficient with Microsoft Office Suite of products\n",
      "Noun phrases: []\n",
      "Verbs: []\n",
      "proficient ENTITY\n",
      "Microsoft Office Suite ENTITY\n",
      "products ENTITY\n",
      "\n",
      "\n",
      "Awareness of software security and consumer privacy best practices\n",
      "Noun phrases: ['Awareness']\n",
      "Verbs: []\n",
      "Awareness ENTITY\n",
      "software security ENTITY\n",
      "consumer privacy ENTITY\n",
      "practices ENTITY\n",
      "\n",
      "\n",
      "Effective at building strong relationships, internally and externally\n",
      "Noun phrases: ['strong relationships']\n",
      "Verbs: ['build']\n",
      "Effective ENTITY\n",
      "relationships ENTITY\n",
      "internally ENTITY\n",
      "externally ENTITY\n",
      "\n",
      "\n",
      "Strong technical background to influence technical design and investment decisions\n",
      "Noun phrases: ['Strong technical background', 'technical design', 'investment decisions']\n",
      "Verbs: ['influence']\n",
      "Strong ENTITY\n",
      "technical ENTITY\n",
      "influence ENTITY\n",
      "technical design ENTITY\n",
      "investment ENTITY\n",
      "decisions ENTITY\n",
      "\n",
      "\n"
     ]
    }
   ],
   "source": [
    "entity_list = []\n",
    "entities_to_remove_list = []\n",
    "for z in range(len(r_list)):\n",
    "    doc=nlp(r_list[z])\n",
    "    print(r_list[z])\n",
    "    print(\"Noun phrases:\", [chunk.text for chunk in doc.noun_chunks])\n",
    "    for chunk in doc.noun_chunks:\n",
    "        entities_to_remove_list.append(chunk.text.lower())\n",
    "    for token in doc:\n",
    "        if token.pos_ == \"VERB\":\n",
    "            entities_to_remove_list.append(token.lemma_.lower())\n",
    "    print(\"Verbs:\", [token.lemma_ for token in doc if token.pos_ == \"VERB\"])\n",
    "\n",
    "    # Find named entities, phrases and concepts\n",
    "    \n",
    "    for entity in doc.ents:\n",
    "        entity_list.append(entity.text.lower())\n",
    "        print(entity.text, entity.label_)\n",
    "    print('\\n')"
   ]
  },
  {
   "cell_type": "markdown",
   "id": "09ab6add-033f-4181-87fe-99083e248458",
   "metadata": {},
   "source": [
    "# Plan for future\n",
    "* Take the entities and remove the verbs and noun phrases to extract relevant keywords"
   ]
  },
  {
   "cell_type": "code",
   "execution_count": 90,
   "id": "9fb05ba6-eb28-4ec8-bba4-0c85ce1d79fb",
   "metadata": {},
   "outputs": [
    {
     "data": {
      "text/plain": [
       "['years',\n",
       " 'it',\n",
       " 'development',\n",
       " 'it',\n",
       " 'operations',\n",
       " 'experience',\n",
       " 'implementing',\n",
       " 'solutions',\n",
       " 'aws cloud environment',\n",
       " 'experience',\n",
       " 'data bases',\n",
       " 'data base designs',\n",
       " 'big data',\n",
       " 'experience',\n",
       " 'working',\n",
       " 'agile',\n",
       " 'scrum environment',\n",
       " 'experience',\n",
       " 'server side',\n",
       " 'experience',\n",
       " 'device software development',\n",
       " 'experience with',\n",
       " 'working knowledge',\n",
       " 'automotive telematics',\n",
       " 'connected car',\n",
       " 'big plus',\n",
       " 'four‐year',\n",
       " 'mathematics',\n",
       " 'statistics',\n",
       " 'economics',\n",
       " 'engineering',\n",
       " 'it field',\n",
       " 'familiarity',\n",
       " 'contemporary software development approaches',\n",
       " 'agile',\n",
       " 'tools',\n",
       " 'devops',\n",
       " 'years',\n",
       " 'hands',\n",
       " 'working',\n",
       " 'software engineering',\n",
       " 'corporate',\n",
       " 'environment',\n",
       " 'start-up environment',\n",
       " 'programming language/system',\n",
       " 'java',\n",
       " 'linux',\n",
       " 'aws',\n",
       " 'sql',\n",
       " 'python',\n",
       " 'javascript',\n",
       " 'knowledge',\n",
       " 'aws',\n",
       " 'core/greengrass',\n",
       " 'knowledge',\n",
       " 'cloud” infrastructure',\n",
       " 'knowledge',\n",
       " 'mobile networks',\n",
       " 'communication protocols',\n",
       " 'knowledge',\n",
       " 'telematics systems',\n",
       " 'concept',\n",
       " 'validation',\n",
       " 'cellular',\n",
       " 'wi-fi system',\n",
       " 'knowledge',\n",
       " 'proficient',\n",
       " 'microsoft office suite',\n",
       " 'products',\n",
       " 'awareness',\n",
       " 'software security',\n",
       " 'consumer privacy',\n",
       " 'practices',\n",
       " 'effective',\n",
       " 'relationships',\n",
       " 'internally',\n",
       " 'externally',\n",
       " 'strong',\n",
       " 'technical',\n",
       " 'influence',\n",
       " 'technical design',\n",
       " 'investment',\n",
       " 'decisions']"
      ]
     },
     "execution_count": 90,
     "metadata": {},
     "output_type": "execute_result"
    }
   ],
   "source": [
    "entity_list"
   ]
  },
  {
   "cell_type": "code",
   "execution_count": 91,
   "id": "af0139ce-49f3-440b-9a34-9b7b110aaddf",
   "metadata": {},
   "outputs": [
    {
     "data": {
      "text/plain": [
       "['5-10 years',\n",
       " 'experience',\n",
       " 'solutions',\n",
       " 'implement',\n",
       " 'experience',\n",
       " 'experience',\n",
       " 'work',\n",
       " 'experience',\n",
       " '(backend',\n",
       " 'experience',\n",
       " 'experience',\n",
       " 'knowledge',\n",
       " 'work',\n",
       " 'connect',\n",
       " 'four‐year college degree',\n",
       " 'field',\n",
       " 'familiarity',\n",
       " '(e.g. agile',\n",
       " 'tools',\n",
       " 'e.g. jira',\n",
       " '3-5+ years',\n",
       " 'work',\n",
       " 'programming language/system knowledge',\n",
       " 'linux',\n",
       " 'knowledge',\n",
       " 'knowledge',\n",
       " 'knowledge',\n",
       " 'knowledge',\n",
       " 'wi-fi',\n",
       " 'awareness',\n",
       " 'strong relationships',\n",
       " 'build',\n",
       " 'strong technical background',\n",
       " 'technical design',\n",
       " 'investment decisions',\n",
       " 'influence']"
      ]
     },
     "execution_count": 91,
     "metadata": {},
     "output_type": "execute_result"
    }
   ],
   "source": [
    "entities_to_remove_list"
   ]
  },
  {
   "cell_type": "code",
   "execution_count": 92,
   "id": "8a884e00-4c65-455f-ae4f-8837fefea4c5",
   "metadata": {
    "tags": []
   },
   "outputs": [
    {
     "data": {
      "text/plain": [
       "{'agile',\n",
       " 'automotive telematics',\n",
       " 'aws',\n",
       " 'aws cloud environment',\n",
       " 'big data',\n",
       " 'big plus',\n",
       " 'cellular',\n",
       " 'cloud” infrastructure',\n",
       " 'communication protocols',\n",
       " 'concept',\n",
       " 'connected car',\n",
       " 'consumer privacy',\n",
       " 'contemporary software development approaches',\n",
       " 'core/greengrass',\n",
       " 'corporate',\n",
       " 'data base designs',\n",
       " 'data bases',\n",
       " 'decisions',\n",
       " 'development',\n",
       " 'device software development',\n",
       " 'devops',\n",
       " 'economics',\n",
       " 'effective',\n",
       " 'engineering',\n",
       " 'environment',\n",
       " 'experience with',\n",
       " 'externally',\n",
       " 'four‐year',\n",
       " 'hands',\n",
       " 'implementing',\n",
       " 'internally',\n",
       " 'investment',\n",
       " 'it',\n",
       " 'it field',\n",
       " 'java',\n",
       " 'javascript',\n",
       " 'mathematics',\n",
       " 'microsoft office suite',\n",
       " 'mobile networks',\n",
       " 'operations',\n",
       " 'practices',\n",
       " 'products',\n",
       " 'proficient',\n",
       " 'programming language/system',\n",
       " 'python',\n",
       " 'relationships',\n",
       " 'scrum environment',\n",
       " 'server side',\n",
       " 'software engineering',\n",
       " 'software security',\n",
       " 'sql',\n",
       " 'start-up environment',\n",
       " 'statistics',\n",
       " 'strong',\n",
       " 'technical',\n",
       " 'telematics systems',\n",
       " 'validation',\n",
       " 'wi-fi system',\n",
       " 'working',\n",
       " 'working knowledge',\n",
       " 'years'}"
      ]
     },
     "execution_count": 92,
     "metadata": {},
     "output_type": "execute_result"
    }
   ],
   "source": [
    "entity_set = set(entity_list)\n",
    "remove_entities_set = set(entities_to_remove_list)\n",
    "entity_set - remove_entities_set"
   ]
  },
  {
   "cell_type": "code",
   "execution_count": 93,
   "id": "d0a4eeb3-516c-49d5-bf01-e0df0acfce2b",
   "metadata": {},
   "outputs": [],
   "source": [
    "def remove_dup(x):\n",
    "  return list(dict.fromkeys(x))\n"
   ]
  },
  {
   "cell_type": "code",
   "execution_count": 94,
   "id": "0d46eeea-4007-4149-aa0f-47170fd4b630",
   "metadata": {},
   "outputs": [],
   "source": [
    "entity_list = remove_dup(entity_list)\n",
    "\n",
    "for (i, line) in enumerate(jd_list):\n",
    "    match = re.match(regex_find_req, line)\n",
    "    if match != None:\n",
    "        requirements.append(jd_list[i+1])\n",
    "        \n",
    "entity_list_copy = entity_list.copy()\n",
    "for ent in entity_list:\n",
    "    regex = '.* {ent}.*'.format(ent=ent)\n",
    "    for ne in entities_to_remove_list:\n",
    "        match = re.match(regex, ne)\n",
    "        if match != None:\n",
    "            entity_list_copy.remove(ent)\n",
    "            break\n",
    "entity_list = entity_list_copy"
   ]
  },
  {
   "cell_type": "code",
   "execution_count": 137,
   "id": "b5885e36-cddd-412c-b9c9-487fcab0115f",
   "metadata": {},
   "outputs": [
    {
     "data": {
      "text/plain": [
       "64"
      ]
     },
     "execution_count": 137,
     "metadata": {},
     "output_type": "execute_result"
    }
   ],
   "source": [
    "entity_list"
   ]
  },
  {
   "cell_type": "code",
   "execution_count": 134,
   "id": "2ea27033-bfda-4062-9b2a-fafb32fb6940",
   "metadata": {},
   "outputs": [],
   "source": [
    "# help functions\n",
    "import re\n",
    "import spacy\n",
    "nlp = spacy.load(\"en_core_sci_sm\")\n",
    "\n",
    "def split_jd(jd: str) -> list:\n",
    "    regex_split_jd = r\"(?s).+?(?=^$)\"\n",
    "    matches = re.finditer(regex_split_jd, jd, re.MULTILINE)\n",
    "    jd_list = []\n",
    "    for match in matches:\n",
    "        jd_list.append(match.group())\n",
    "    return jd_list\n",
    "\n",
    "def find_req(jd_list: list) -> list:\n",
    "    regex_find_req = \"((\\s.*[Ee]xperience.*:)|(\\s.*[Qq]ualification.*:)|(\\s.*[Rr]equire.*:))\"\n",
    "    req = []\n",
    "    for (i, line) in enumerate(jd_list):\n",
    "        match = re.match(regex_find_req, line)\n",
    "        if match != None:\n",
    "            pot_req = jd_list[i+1].split('•')\n",
    "            for r in range(len(pot_req)):\n",
    "                pot_req[r] = pot_req[r].strip()\n",
    "            pot_req.remove('')\n",
    "            req = req+pot_req\n",
    "    return req\n",
    "\n",
    "def extract_entities(req: list) -> list:\n",
    "    entity_list = []\n",
    "    entities_to_remove_list = []\n",
    "    for r in r_list:\n",
    "        doc = nlp(r)\n",
    "        for chunk in doc.noun_chunks:\n",
    "            entities_to_remove_list.append(chunk.text.lower())\n",
    "        for token in doc:\n",
    "            if token.pos_ == \"VERB\":\n",
    "                entities_to_remove_list.append(token.lemma_.lower())\n",
    "        for entity in doc.ents:\n",
    "            entity_list.append(entity.text.lower())\n",
    "        \n",
    "    entity_list = list(dict.fromkeys(entity_list)) #remove duplicates\n",
    "    entity_list_copy = entity_list.copy()\n",
    "    for ent in entity_list:\n",
    "        regex = '.* {ent}.*'.format(ent=ent)\n",
    "        for ne in entities_to_remove_list:\n",
    "            match = re.match(regex, ne)\n",
    "            if match != None:\n",
    "                entity_list_copy.remove(ent)\n",
    "                break\n",
    "    entity_list = entity_list_copy\n",
    "    return entity_list\n"
   ]
  },
  {
   "cell_type": "code",
   "execution_count": 146,
   "id": "01909b51-114b-406b-b0d1-7cb784696e70",
   "metadata": {},
   "outputs": [],
   "source": [
    "def extract_requirements_JD(jd: str) -> list:\n",
    "    splitted_jd = split_jd(jd)\n",
    "    pot_req_found = find_req(splitted_jd)\n",
    "    req = extract_entities(pot_req_found)\n",
    "    return req"
   ]
  },
  {
   "cell_type": "code",
   "execution_count": 151,
   "id": "7b225b36-a8d6-4b42-9be9-02c0fbd40050",
   "metadata": {},
   "outputs": [
    {
     "name": "stdout",
     "output_type": "stream",
     "text": [
      "['it', 'development', 'operations', 'experience', 'implementing', 'solutions', 'aws cloud environment', 'data bases', 'data base designs', 'big data', 'working', 'scrum environment', 'server side', 'device software development', 'experience with', 'working knowledge', 'automotive telematics', 'connected car', 'big plus', 'four‐year', 'mathematics', 'statistics', 'economics', 'engineering', 'it field', 'familiarity', 'contemporary software development approaches', 'tools', 'devops', 'hands', 'software engineering', 'corporate', 'environment', 'start-up environment', 'programming language/system', 'java', 'linux', 'aws', 'sql', 'python', 'javascript', 'core/greengrass', 'cloud” infrastructure', 'mobile networks', 'communication protocols', 'telematics systems', 'concept', 'validation', 'cellular', 'wi-fi system', 'proficient', 'microsoft office suite', 'products', 'awareness', 'software security', 'consumer privacy', 'practices', 'effective', 'internally', 'externally', 'strong', 'influence', 'technical design', 'investment']\n"
     ]
    }
   ],
   "source": [
    "print(extract_requirements_JD(jd))"
   ]
  },
  {
   "cell_type": "markdown",
   "id": "eb8a6a3d-c5f5-4cc0-81a3-b659feb986e7",
   "metadata": {},
   "source": [
    "# Look into this Ø"
   ]
  },
  {
   "cell_type": "code",
   "execution_count": 148,
   "id": "4bd7273c-c138-4850-b174-254e1adb24a9",
   "metadata": {},
   "outputs": [
    {
     "name": "stdout",
     "output_type": "stream",
     "text": [
      "Collecting https://s3-us-west-2.amazonaws.com/ai2-s2-scispacy/releases/v0.5.1/en_core_sci_sm-0.5.1.tar.gz\n",
      "  Using cached https://s3-us-west-2.amazonaws.com/ai2-s2-scispacy/releases/v0.5.1/en_core_sci_sm-0.5.1.tar.gz (15.9 MB)\n",
      "  Preparing metadata (setup.py) ... \u001b[?25ldone\n",
      "\u001b[?25hRequirement already satisfied: spacy<3.5.0,>=3.4.1 in /opt/conda/lib/python3.7/site-packages (from en-core-sci-sm==0.5.1) (3.4.2)\n",
      "Requirement already satisfied: catalogue<2.1.0,>=2.0.6 in /opt/conda/lib/python3.7/site-packages (from spacy<3.5.0,>=3.4.1->en-core-sci-sm==0.5.1) (2.0.8)\n",
      "Requirement already satisfied: numpy>=1.15.0 in /opt/conda/lib/python3.7/site-packages (from spacy<3.5.0,>=3.4.1->en-core-sci-sm==0.5.1) (1.21.6)\n",
      "Requirement already satisfied: langcodes<4.0.0,>=3.2.0 in /opt/conda/lib/python3.7/site-packages (from spacy<3.5.0,>=3.4.1->en-core-sci-sm==0.5.1) (3.3.0)\n",
      "Requirement already satisfied: jinja2 in /opt/conda/lib/python3.7/site-packages (from spacy<3.5.0,>=3.4.1->en-core-sci-sm==0.5.1) (3.1.2)\n",
      "Requirement already satisfied: pydantic!=1.8,!=1.8.1,<1.11.0,>=1.7.4 in /opt/conda/lib/python3.7/site-packages (from spacy<3.5.0,>=3.4.1->en-core-sci-sm==0.5.1) (1.9.0)\n",
      "Requirement already satisfied: spacy-legacy<3.1.0,>=3.0.10 in /opt/conda/lib/python3.7/site-packages (from spacy<3.5.0,>=3.4.1->en-core-sci-sm==0.5.1) (3.0.10)\n",
      "Requirement already satisfied: typer<0.5.0,>=0.3.0 in /opt/conda/lib/python3.7/site-packages (from spacy<3.5.0,>=3.4.1->en-core-sci-sm==0.5.1) (0.4.2)\n",
      "Requirement already satisfied: thinc<8.2.0,>=8.1.0 in /opt/conda/lib/python3.7/site-packages (from spacy<3.5.0,>=3.4.1->en-core-sci-sm==0.5.1) (8.1.5)\n",
      "Requirement already satisfied: srsly<3.0.0,>=2.4.3 in /opt/conda/lib/python3.7/site-packages (from spacy<3.5.0,>=3.4.1->en-core-sci-sm==0.5.1) (2.4.5)\n",
      "Requirement already satisfied: preshed<3.1.0,>=3.0.2 in /opt/conda/lib/python3.7/site-packages (from spacy<3.5.0,>=3.4.1->en-core-sci-sm==0.5.1) (3.0.8)\n",
      "Requirement already satisfied: packaging>=20.0 in /opt/conda/lib/python3.7/site-packages (from spacy<3.5.0,>=3.4.1->en-core-sci-sm==0.5.1) (21.3)\n",
      "Requirement already satisfied: murmurhash<1.1.0,>=0.28.0 in /opt/conda/lib/python3.7/site-packages (from spacy<3.5.0,>=3.4.1->en-core-sci-sm==0.5.1) (1.0.9)\n",
      "Requirement already satisfied: cymem<2.1.0,>=2.0.2 in /opt/conda/lib/python3.7/site-packages (from spacy<3.5.0,>=3.4.1->en-core-sci-sm==0.5.1) (2.0.7)\n",
      "Requirement already satisfied: wasabi<1.1.0,>=0.9.1 in /opt/conda/lib/python3.7/site-packages (from spacy<3.5.0,>=3.4.1->en-core-sci-sm==0.5.1) (0.10.1)\n",
      "Requirement already satisfied: spacy-loggers<2.0.0,>=1.0.0 in /opt/conda/lib/python3.7/site-packages (from spacy<3.5.0,>=3.4.1->en-core-sci-sm==0.5.1) (1.0.3)\n",
      "Requirement already satisfied: tqdm<5.0.0,>=4.38.0 in /opt/conda/lib/python3.7/site-packages (from spacy<3.5.0,>=3.4.1->en-core-sci-sm==0.5.1) (4.64.1)\n",
      "Requirement already satisfied: typing-extensions<4.2.0,>=3.7.4 in /opt/conda/lib/python3.7/site-packages (from spacy<3.5.0,>=3.4.1->en-core-sci-sm==0.5.1) (4.1.1)\n",
      "Requirement already satisfied: requests<3.0.0,>=2.13.0 in /opt/conda/lib/python3.7/site-packages (from spacy<3.5.0,>=3.4.1->en-core-sci-sm==0.5.1) (2.28.1)\n",
      "Requirement already satisfied: pathy>=0.3.5 in /opt/conda/lib/python3.7/site-packages (from spacy<3.5.0,>=3.4.1->en-core-sci-sm==0.5.1) (0.6.2)\n",
      "Requirement already satisfied: setuptools in /opt/conda/lib/python3.7/site-packages (from spacy<3.5.0,>=3.4.1->en-core-sci-sm==0.5.1) (59.8.0)\n",
      "Requirement already satisfied: zipp>=0.5 in /opt/conda/lib/python3.7/site-packages (from catalogue<2.1.0,>=2.0.6->spacy<3.5.0,>=3.4.1->en-core-sci-sm==0.5.1) (3.10.0)\n",
      "Requirement already satisfied: pyparsing!=3.0.5,>=2.0.2 in /opt/conda/lib/python3.7/site-packages (from packaging>=20.0->spacy<3.5.0,>=3.4.1->en-core-sci-sm==0.5.1) (3.0.9)\n",
      "Requirement already satisfied: smart-open<6.0.0,>=5.2.1 in /opt/conda/lib/python3.7/site-packages (from pathy>=0.3.5->spacy<3.5.0,>=3.4.1->en-core-sci-sm==0.5.1) (5.2.1)\n",
      "Requirement already satisfied: certifi>=2017.4.17 in /opt/conda/lib/python3.7/site-packages (from requests<3.0.0,>=2.13.0->spacy<3.5.0,>=3.4.1->en-core-sci-sm==0.5.1) (2022.9.24)\n",
      "Requirement already satisfied: urllib3<1.27,>=1.21.1 in /opt/conda/lib/python3.7/site-packages (from requests<3.0.0,>=2.13.0->spacy<3.5.0,>=3.4.1->en-core-sci-sm==0.5.1) (1.26.11)\n",
      "Requirement already satisfied: idna<4,>=2.5 in /opt/conda/lib/python3.7/site-packages (from requests<3.0.0,>=2.13.0->spacy<3.5.0,>=3.4.1->en-core-sci-sm==0.5.1) (3.4)\n",
      "Requirement already satisfied: charset-normalizer<3,>=2 in /opt/conda/lib/python3.7/site-packages (from requests<3.0.0,>=2.13.0->spacy<3.5.0,>=3.4.1->en-core-sci-sm==0.5.1) (2.1.1)\n",
      "Requirement already satisfied: blis<0.8.0,>=0.7.8 in /opt/conda/lib/python3.7/site-packages (from thinc<8.2.0,>=8.1.0->spacy<3.5.0,>=3.4.1->en-core-sci-sm==0.5.1) (0.7.9)\n",
      "Requirement already satisfied: confection<1.0.0,>=0.0.1 in /opt/conda/lib/python3.7/site-packages (from thinc<8.2.0,>=8.1.0->spacy<3.5.0,>=3.4.1->en-core-sci-sm==0.5.1) (0.0.3)\n",
      "Requirement already satisfied: click<9.0.0,>=7.1.1 in /opt/conda/lib/python3.7/site-packages (from typer<0.5.0,>=0.3.0->spacy<3.5.0,>=3.4.1->en-core-sci-sm==0.5.1) (8.1.3)\n",
      "Requirement already satisfied: MarkupSafe>=2.0 in /opt/conda/lib/python3.7/site-packages (from jinja2->spacy<3.5.0,>=3.4.1->en-core-sci-sm==0.5.1) (2.1.1)\n",
      "Requirement already satisfied: importlib-metadata in /opt/conda/lib/python3.7/site-packages (from click<9.0.0,>=7.1.1->typer<0.5.0,>=0.3.0->spacy<3.5.0,>=3.4.1->en-core-sci-sm==0.5.1) (4.2.0)\n",
      "Note: you may need to restart the kernel to use updated packages.\n"
     ]
    }
   ],
   "source": [
    "pip install https://s3-us-west-2.amazonaws.com/ai2-s2-scispacy/releases/v0.5.1/en_core_sci_sm-0.5.1.tar.gz"
   ]
  },
  {
   "cell_type": "code",
   "execution_count": null,
   "id": "56d6fc32-6252-43fd-b8ac-9d716f19f1fc",
   "metadata": {},
   "outputs": [],
   "source": []
  }
 ],
 "metadata": {
  "environment": {
   "kernel": "python3",
   "name": "pytorch-gpu.1-12.m99",
   "type": "gcloud",
   "uri": "gcr.io/deeplearning-platform-release/pytorch-gpu.1-12:m99"
  },
  "kernelspec": {
   "display_name": "Python 3",
   "language": "python",
   "name": "python3"
  },
  "language_info": {
   "codemirror_mode": {
    "name": "ipython",
    "version": 3
   },
   "file_extension": ".py",
   "mimetype": "text/x-python",
   "name": "python",
   "nbconvert_exporter": "python",
   "pygments_lexer": "ipython3",
   "version": "3.7.12"
  }
 },
 "nbformat": 4,
 "nbformat_minor": 5
}
