{

 "cells": [
  {
   "cell_type": "code",
   "execution_count": 1,
   "id": "d49969fe-9d35-4b67-86c2-4ed83e75abbb",
   "metadata": {
    "collapsed": true,
    "jupyter": {
     "outputs_hidden": true
    },
    "tags": []
   },
   "outputs": [
    {
     "name": "stdout",
     "output_type": "stream",
     "text": [
      "Requirement already satisfied: black==22.10.0 in /opt/conda/lib/python3.7/site-packages (from -r requirements.txt (line 1)) (22.10.0)\n",
      "Requirement already satisfied: Flask==2.2.2 in /opt/conda/lib/python3.7/site-packages (from -r requirements.txt (line 2)) (2.2.2)\n",
      "Requirement already satisfied: pymongo==3.12.0 in /opt/conda/lib/python3.7/site-packages (from -r requirements.txt (line 3)) (3.12.0)\n",
      "Requirement already satisfied: Python-dotenv==0.21.0 in /opt/conda/lib/python3.7/site-packages (from -r requirements.txt (line 4)) (0.21.0)\n",
      "Requirement already satisfied: Flask-Cors==3.0.10 in /opt/conda/lib/python3.7/site-packages (from -r requirements.txt (line 5)) (3.0.10)\n",
      "Requirement already satisfied: Flasgger==0.9.5 in /opt/conda/lib/python3.7/site-packages (from -r requirements.txt (line 6)) (0.9.5)\n",
      "Requirement already satisfied: Pydantic==1.9.0 in /opt/conda/lib/python3.7/site-packages (from -r requirements.txt (line 7)) (1.9.0)\n",
      "Requirement already satisfied: gensim==4.2.0 in /opt/conda/lib/python3.7/site-packages (from -r requirements.txt (line 9)) (4.2.0)\n",
      "Requirement already satisfied: nltk==3.7 in /opt/conda/lib/python3.7/site-packages (from -r requirements.txt (line 10)) (3.7)\n",
      "Requirement already satisfied: transformers==4.24.0 in /opt/conda/lib/python3.7/site-packages (from -r requirements.txt (line 11)) (4.24.0)\n",
      "Requirement already satisfied: spacy==3.4.2 in /opt/conda/lib/python3.7/site-packages (from -r requirements.txt (line 12)) (3.4.2)\n",
      "Requirement already satisfied: spacy-legacy==3.0.10 in /opt/conda/lib/python3.7/site-packages (from -r requirements.txt (line 13)) (3.0.10)\n",
      "Requirement already satisfied: spacy-loggers==1.0.3 in /opt/conda/lib/python3.7/site-packages (from -r requirements.txt (line 14)) (1.0.3)\n",
      "Requirement already satisfied: keybert==0.7.0 in /opt/conda/lib/python3.7/site-packages (from -r requirements.txt (line 15)) (0.7.0)\n",
      "Requirement already satisfied: pandas==1.3.5 in /opt/conda/lib/python3.7/site-packages (from -r requirements.txt (line 16)) (1.3.5)\n",
      "Requirement already satisfied: scipy==1.7.3 in /opt/conda/lib/python3.7/site-packages (from -r requirements.txt (line 17)) (1.7.3)\n",
      "Requirement already satisfied: sklearn==0.0.post1 in /opt/conda/lib/python3.7/site-packages (from -r requirements.txt (line 18)) (0.0.post1)\n",
      "Requirement already satisfied: google-cloud-storage in /opt/conda/lib/python3.7/site-packages (from -r requirements.txt (line 19)) (2.5.0)\n",
      "Requirement already satisfied: platformdirs>=2 in /opt/conda/lib/python3.7/site-packages (from black==22.10.0->-r requirements.txt (line 1)) (2.5.2)\n",
      "Requirement already satisfied: typed-ast>=1.4.2 in /opt/conda/lib/python3.7/site-packages (from black==22.10.0->-r requirements.txt (line 1)) (1.5.4)\n",
      "Requirement already satisfied: mypy-extensions>=0.4.3 in /opt/conda/lib/python3.7/site-packages (from black==22.10.0->-r requirements.txt (line 1)) (0.4.3)\n",
      "Requirement already satisfied: typing-extensions>=3.10.0.0 in /opt/conda/lib/python3.7/site-packages (from black==22.10.0->-r requirements.txt (line 1)) (4.1.1)\n",
      "Requirement already satisfied: click>=8.0.0 in /opt/conda/lib/python3.7/site-packages (from black==22.10.0->-r requirements.txt (line 1)) (8.1.3)\n",
      "Requirement already satisfied: tomli>=1.1.0 in /opt/conda/lib/python3.7/site-packages (from black==22.10.0->-r requirements.txt (line 1)) (2.0.1)\n",
      "Requirement already satisfied: pathspec>=0.9.0 in /opt/conda/lib/python3.7/site-packages (from black==22.10.0->-r requirements.txt (line 1)) (0.10.1)\n",
      "Requirement already satisfied: importlib-metadata>=3.6.0 in /opt/conda/lib/python3.7/site-packages (from Flask==2.2.2->-r requirements.txt (line 2)) (4.2.0)\n",
      "Requirement already satisfied: Jinja2>=3.0 in /opt/conda/lib/python3.7/site-packages (from Flask==2.2.2->-r requirements.txt (line 2)) (3.1.2)\n",
      "Requirement already satisfied: itsdangerous>=2.0 in /opt/conda/lib/python3.7/site-packages (from Flask==2.2.2->-r requirements.txt (line 2)) (2.1.2)\n",
      "Requirement already satisfied: Werkzeug>=2.2.2 in /opt/conda/lib/python3.7/site-packages (from Flask==2.2.2->-r requirements.txt (line 2)) (2.2.2)\n",
      "Requirement already satisfied: Six in /opt/conda/lib/python3.7/site-packages (from Flask-Cors==3.0.10->-r requirements.txt (line 5)) (1.16.0)\n",
      "Requirement already satisfied: jsonschema>=3.0.1 in /opt/conda/lib/python3.7/site-packages (from Flasgger==0.9.5->-r requirements.txt (line 6)) (4.16.0)\n",
      "Requirement already satisfied: PyYAML>=3.0 in /opt/conda/lib/python3.7/site-packages (from Flasgger==0.9.5->-r requirements.txt (line 6)) (6.0)\n",
      "Requirement already satisfied: mistune in /opt/conda/lib/python3.7/site-packages (from Flasgger==0.9.5->-r requirements.txt (line 6)) (2.0.4)\n",
      "Requirement already satisfied: numpy>=1.17.0 in /opt/conda/lib/python3.7/site-packages (from gensim==4.2.0->-r requirements.txt (line 9)) (1.21.6)\n",
      "Requirement already satisfied: smart-open>=1.8.1 in /opt/conda/lib/python3.7/site-packages (from gensim==4.2.0->-r requirements.txt (line 9)) (5.2.1)\n",
      "Requirement already satisfied: regex>=2021.8.3 in /opt/conda/lib/python3.7/site-packages (from nltk==3.7->-r requirements.txt (line 10)) (2022.10.31)\n",
      "Requirement already satisfied: joblib in /opt/conda/lib/python3.7/site-packages (from nltk==3.7->-r requirements.txt (line 10)) (1.2.0)\n",
      "Requirement already satisfied: tqdm in /opt/conda/lib/python3.7/site-packages (from nltk==3.7->-r requirements.txt (line 10)) (4.64.1)\n",
      "Requirement already satisfied: packaging>=20.0 in /opt/conda/lib/python3.7/site-packages (from transformers==4.24.0->-r requirements.txt (line 11)) (21.3)\n",
      "Requirement already satisfied: requests in /opt/conda/lib/python3.7/site-packages (from transformers==4.24.0->-r requirements.txt (line 11)) (2.28.1)\n",
      "Requirement already satisfied: filelock in /opt/conda/lib/python3.7/site-packages (from transformers==4.24.0->-r requirements.txt (line 11)) (3.8.0)\n",
      "Requirement already satisfied: tokenizers!=0.11.3,<0.14,>=0.11.1 in /opt/conda/lib/python3.7/site-packages (from transformers==4.24.0->-r requirements.txt (line 11)) (0.13.1)\n",
      "Requirement already satisfied: huggingface-hub<1.0,>=0.10.0 in /opt/conda/lib/python3.7/site-packages (from transformers==4.24.0->-r requirements.txt (line 11)) (0.10.1)\n",
      "Requirement already satisfied: typer<0.5.0,>=0.3.0 in /opt/conda/lib/python3.7/site-packages (from spacy==3.4.2->-r requirements.txt (line 12)) (0.4.2)\n",
      "Requirement already satisfied: setuptools in /opt/conda/lib/python3.7/site-packages (from spacy==3.4.2->-r requirements.txt (line 12)) (59.8.0)\n",
      "Requirement already satisfied: catalogue<2.1.0,>=2.0.6 in /opt/conda/lib/python3.7/site-packages (from spacy==3.4.2->-r requirements.txt (line 12)) (2.0.8)\n",
      "Requirement already satisfied: pathy>=0.3.5 in /opt/conda/lib/python3.7/site-packages (from spacy==3.4.2->-r requirements.txt (line 12)) (0.6.2)\n",
      "Requirement already satisfied: langcodes<4.0.0,>=3.2.0 in /opt/conda/lib/python3.7/site-packages (from spacy==3.4.2->-r requirements.txt (line 12)) (3.3.0)\n",
      "Requirement already satisfied: thinc<8.2.0,>=8.1.0 in /opt/conda/lib/python3.7/site-packages (from spacy==3.4.2->-r requirements.txt (line 12)) (8.1.5)\n",
      "Requirement already satisfied: preshed<3.1.0,>=3.0.2 in /opt/conda/lib/python3.7/site-packages (from spacy==3.4.2->-r requirements.txt (line 12)) (3.0.8)\n",
      "Requirement already satisfied: wasabi<1.1.0,>=0.9.1 in /opt/conda/lib/python3.7/site-packages (from spacy==3.4.2->-r requirements.txt (line 12)) (0.10.1)\n",
      "Requirement already satisfied: murmurhash<1.1.0,>=0.28.0 in /opt/conda/lib/python3.7/site-packages (from spacy==3.4.2->-r requirements.txt (line 12)) (1.0.9)\n",
      "Requirement already satisfied: cymem<2.1.0,>=2.0.2 in /opt/conda/lib/python3.7/site-packages (from spacy==3.4.2->-r requirements.txt (line 12)) (2.0.7)\n",
      "Requirement already satisfied: srsly<3.0.0,>=2.4.3 in /opt/conda/lib/python3.7/site-packages (from spacy==3.4.2->-r requirements.txt (line 12)) (2.4.5)\n",
      "Requirement already satisfied: scikit-learn>=0.22.2 in /opt/conda/lib/python3.7/site-packages (from keybert==0.7.0->-r requirements.txt (line 15)) (1.0.2)\n",
      "Requirement already satisfied: rich>=10.4.0 in /opt/conda/lib/python3.7/site-packages (from keybert==0.7.0->-r requirements.txt (line 15)) (12.6.0)\n",
      "Requirement already satisfied: sentence-transformers>=0.3.8 in /opt/conda/lib/python3.7/site-packages (from keybert==0.7.0->-r requirements.txt (line 15)) (2.2.2)\n",
      "Requirement already satisfied: python-dateutil>=2.7.3 in /opt/conda/lib/python3.7/site-packages (from pandas==1.3.5->-r requirements.txt (line 16)) (2.8.2)\n",
      "Requirement already satisfied: pytz>=2017.3 in /opt/conda/lib/python3.7/site-packages (from pandas==1.3.5->-r requirements.txt (line 16)) (2022.5)\n",
      "Requirement already satisfied: dnspython<2.0.0,>=1.16.0 in /opt/conda/lib/python3.7/site-packages (from pymongo==3.12.0->-r requirements.txt (line 3)) (1.16.0)\n",
      "Requirement already satisfied: google-cloud-core<3.0dev,>=2.3.0 in /opt/conda/lib/python3.7/site-packages (from google-cloud-storage->-r requirements.txt (line 19)) (2.3.2)\n",
      "Requirement already satisfied: google-auth<3.0dev,>=1.25.0 in /opt/conda/lib/python3.7/site-packages (from google-cloud-storage->-r requirements.txt (line 19)) (2.13.0)\n",
      "Requirement already satisfied: google-api-core!=2.0.*,!=2.1.*,!=2.2.*,!=2.3.0,<3.0.0dev,>=1.31.5 in /opt/conda/lib/python3.7/site-packages (from google-cloud-storage->-r requirements.txt (line 19)) (2.8.0)\n",
      "Requirement already satisfied: google-resumable-media>=2.3.2 in /opt/conda/lib/python3.7/site-packages (from google-cloud-storage->-r requirements.txt (line 19)) (2.4.0)\n",
      "Requirement already satisfied: zipp>=0.5 in /opt/conda/lib/python3.7/site-packages (from catalogue<2.1.0,>=2.0.6->spacy==3.4.2->-r requirements.txt (line 12)) (3.10.0)\n",
      "Requirement already satisfied: protobuf>=3.12.0 in /opt/conda/lib/python3.7/site-packages (from google-api-core!=2.0.*,!=2.1.*,!=2.2.*,!=2.3.0,<3.0.0dev,>=1.31.5->google-cloud-storage->-r requirements.txt (line 19)) (4.21.8)\n",
      "Requirement already satisfied: googleapis-common-protos<2.0dev,>=1.52.0 in /opt/conda/lib/python3.7/site-packages (from google-api-core!=2.0.*,!=2.1.*,!=2.2.*,!=2.3.0,<3.0.0dev,>=1.31.5->google-cloud-storage->-r requirements.txt (line 19)) (1.56.4)\n",
      "Requirement already satisfied: rsa<5,>=3.1.4 in /opt/conda/lib/python3.7/site-packages (from google-auth<3.0dev,>=1.25.0->google-cloud-storage->-r requirements.txt (line 19)) (4.9)\n",
      "Requirement already satisfied: pyasn1-modules>=0.2.1 in /opt/conda/lib/python3.7/site-packages (from google-auth<3.0dev,>=1.25.0->google-cloud-storage->-r requirements.txt (line 19)) (0.2.7)\n",
      "Requirement already satisfied: cachetools<6.0,>=2.0.0 in /opt/conda/lib/python3.7/site-packages (from google-auth<3.0dev,>=1.25.0->google-cloud-storage->-r requirements.txt (line 19)) (5.2.0)\n",
      "Requirement already satisfied: google-crc32c<2.0dev,>=1.0 in /opt/conda/lib/python3.7/site-packages (from google-resumable-media>=2.3.2->google-cloud-storage->-r requirements.txt (line 19)) (1.1.2)\n",
      "Requirement already satisfied: MarkupSafe>=2.0 in /opt/conda/lib/python3.7/site-packages (from Jinja2>=3.0->Flask==2.2.2->-r requirements.txt (line 2)) (2.1.1)\n",
      "Requirement already satisfied: pkgutil-resolve-name>=1.3.10 in /opt/conda/lib/python3.7/site-packages (from jsonschema>=3.0.1->Flasgger==0.9.5->-r requirements.txt (line 6)) (1.3.10)\n",
      "Requirement already satisfied: pyrsistent!=0.17.0,!=0.17.1,!=0.17.2,>=0.14.0 in /opt/conda/lib/python3.7/site-packages (from jsonschema>=3.0.1->Flasgger==0.9.5->-r requirements.txt (line 6)) (0.18.1)\n",
      "Requirement already satisfied: attrs>=17.4.0 in /opt/conda/lib/python3.7/site-packages (from jsonschema>=3.0.1->Flasgger==0.9.5->-r requirements.txt (line 6)) (22.1.0)\n",
      "Requirement already satisfied: importlib-resources>=1.4.0 in /opt/conda/lib/python3.7/site-packages (from jsonschema>=3.0.1->Flasgger==0.9.5->-r requirements.txt (line 6)) (5.10.0)\n",
      "Requirement already satisfied: pyparsing!=3.0.5,>=2.0.2 in /opt/conda/lib/python3.7/site-packages (from packaging>=20.0->transformers==4.24.0->-r requirements.txt (line 11)) (3.0.9)\n",
      "Requirement already satisfied: charset-normalizer<3,>=2 in /opt/conda/lib/python3.7/site-packages (from requests->transformers==4.24.0->-r requirements.txt (line 11)) (2.1.1)\n",
      "Requirement already satisfied: certifi>=2017.4.17 in /opt/conda/lib/python3.7/site-packages (from requests->transformers==4.24.0->-r requirements.txt (line 11)) (2022.9.24)\n",
      "Requirement already satisfied: idna<4,>=2.5 in /opt/conda/lib/python3.7/site-packages (from requests->transformers==4.24.0->-r requirements.txt (line 11)) (3.4)\n",
      "Requirement already satisfied: urllib3<1.27,>=1.21.1 in /opt/conda/lib/python3.7/site-packages (from requests->transformers==4.24.0->-r requirements.txt (line 11)) (1.26.11)\n",
      "Requirement already satisfied: commonmark<0.10.0,>=0.9.0 in /opt/conda/lib/python3.7/site-packages (from rich>=10.4.0->keybert==0.7.0->-r requirements.txt (line 15)) (0.9.1)\n",
      "Requirement already satisfied: pygments<3.0.0,>=2.6.0 in /opt/conda/lib/python3.7/site-packages (from rich>=10.4.0->keybert==0.7.0->-r requirements.txt (line 15)) (2.13.0)\n",
      "Requirement already satisfied: threadpoolctl>=2.0.0 in /opt/conda/lib/python3.7/site-packages (from scikit-learn>=0.22.2->keybert==0.7.0->-r requirements.txt (line 15)) (3.1.0)\n",
      "Requirement already satisfied: torchvision in /opt/conda/lib/python3.7/site-packages (from sentence-transformers>=0.3.8->keybert==0.7.0->-r requirements.txt (line 15)) (0.13.1+cu113)\n",
      "Requirement already satisfied: sentencepiece in /opt/conda/lib/python3.7/site-packages (from sentence-transformers>=0.3.8->keybert==0.7.0->-r requirements.txt (line 15)) (0.1.97)\n",
      "Requirement already satisfied: torch>=1.6.0 in /opt/conda/lib/python3.7/site-packages (from sentence-transformers>=0.3.8->keybert==0.7.0->-r requirements.txt (line 15)) (1.12.1)\n",
      "Requirement already satisfied: confection<1.0.0,>=0.0.1 in /opt/conda/lib/python3.7/site-packages (from thinc<8.2.0,>=8.1.0->spacy==3.4.2->-r requirements.txt (line 12)) (0.0.3)\n",
      "Requirement already satisfied: blis<0.8.0,>=0.7.8 in /opt/conda/lib/python3.7/site-packages (from thinc<8.2.0,>=8.1.0->spacy==3.4.2->-r requirements.txt (line 12)) (0.7.9)\n",
      "Requirement already satisfied: cffi>=1.0.0 in /opt/conda/lib/python3.7/site-packages (from google-crc32c<2.0dev,>=1.0->google-resumable-media>=2.3.2->google-cloud-storage->-r requirements.txt (line 19)) (1.15.1)\n",
      "Requirement already satisfied: pyasn1<0.5.0,>=0.4.6 in /opt/conda/lib/python3.7/site-packages (from pyasn1-modules>=0.2.1->google-auth<3.0dev,>=1.25.0->google-cloud-storage->-r requirements.txt (line 19)) (0.4.8)\n",
      "Requirement already satisfied: pillow!=8.3.*,>=5.3.0 in /opt/conda/lib/python3.7/site-packages (from torchvision->sentence-transformers>=0.3.8->keybert==0.7.0->-r requirements.txt (line 15)) (9.2.0)\n",
      "Requirement already satisfied: pycparser in /opt/conda/lib/python3.7/site-packages (from cffi>=1.0.0->google-crc32c<2.0dev,>=1.0->google-resumable-media>=2.3.2->google-cloud-storage->-r requirements.txt (line 19)) (2.21)\n",
      "Requirement already satisfied: jupyter-lsp in /opt/conda/lib/python3.7/site-packages (1.5.1)\n",
      "Requirement already satisfied: entrypoints in /opt/conda/lib/python3.7/site-packages (from jupyter-lsp) (0.4)\n",
      "Requirement already satisfied: jupyter-server>=1.1.2 in /opt/conda/lib/python3.7/site-packages (from jupyter-lsp) (1.21.0)\n",
      "Requirement already satisfied: jupyter-core>=4.7.0 in /opt/conda/lib/python3.7/site-packages (from jupyter-server>=1.1.2->jupyter-lsp) (4.11.1)\n",
      "Requirement already satisfied: traitlets>=5.1 in /opt/conda/lib/python3.7/site-packages (from jupyter-server>=1.1.2->jupyter-lsp) (5.5.0)\n",
      "Requirement already satisfied: jupyter-client>=6.1.12 in /opt/conda/lib/python3.7/site-packages (from jupyter-server>=1.1.2->jupyter-lsp) (7.4.4)\n",
      "Requirement already satisfied: anyio<4,>=3.1.0 in /opt/conda/lib/python3.7/site-packages (from jupyter-server>=1.1.2->jupyter-lsp) (3.6.2)\n",
      "Requirement already satisfied: argon2-cffi in /opt/conda/lib/python3.7/site-packages (from jupyter-server>=1.1.2->jupyter-lsp) (21.3.0)\n",
      "Requirement already satisfied: nbformat>=5.2.0 in /opt/conda/lib/python3.7/site-packages (from jupyter-server>=1.1.2->jupyter-lsp) (5.7.0)\n",
      "Requirement already satisfied: jinja2 in /opt/conda/lib/python3.7/site-packages (from jupyter-server>=1.1.2->jupyter-lsp) (3.1.2)\n",
      "Requirement already satisfied: prometheus-client in /opt/conda/lib/python3.7/site-packages (from jupyter-server>=1.1.2->jupyter-lsp) (0.15.0)\n",
      "Requirement already satisfied: websocket-client in /opt/conda/lib/python3.7/site-packages (from jupyter-server>=1.1.2->jupyter-lsp) (1.4.1)\n",
      "Requirement already satisfied: nbconvert>=6.4.4 in /opt/conda/lib/python3.7/site-packages (from jupyter-server>=1.1.2->jupyter-lsp) (7.2.2)\n",
      "Requirement already satisfied: packaging in /opt/conda/lib/python3.7/site-packages (from jupyter-server>=1.1.2->jupyter-lsp) (21.3)\n",
      "Requirement already satisfied: terminado>=0.8.3 in /opt/conda/lib/python3.7/site-packages (from jupyter-server>=1.1.2->jupyter-lsp) (0.17.0)\n",
      "Requirement already satisfied: tornado>=6.1.0 in /opt/conda/lib/python3.7/site-packages (from jupyter-server>=1.1.2->jupyter-lsp) (6.2)\n",
      "Requirement already satisfied: Send2Trash in /opt/conda/lib/python3.7/site-packages (from jupyter-server>=1.1.2->jupyter-lsp) (1.8.0)\n",
      "Requirement already satisfied: pyzmq>=17 in /opt/conda/lib/python3.7/site-packages (from jupyter-server>=1.1.2->jupyter-lsp) (24.0.1)\n",
      "Requirement already satisfied: typing-extensions in /opt/conda/lib/python3.7/site-packages (from anyio<4,>=3.1.0->jupyter-server>=1.1.2->jupyter-lsp) (4.1.1)\n",
      "Requirement already satisfied: idna>=2.8 in /opt/conda/lib/python3.7/site-packages (from anyio<4,>=3.1.0->jupyter-server>=1.1.2->jupyter-lsp) (3.4)\n",
      "Requirement already satisfied: sniffio>=1.1 in /opt/conda/lib/python3.7/site-packages (from anyio<4,>=3.1.0->jupyter-server>=1.1.2->jupyter-lsp) (1.3.0)\n",
      "Requirement already satisfied: nest-asyncio>=1.5.4 in /opt/conda/lib/python3.7/site-packages (from jupyter-client>=6.1.12->jupyter-server>=1.1.2->jupyter-lsp) (1.5.6)\n",
      "Requirement already satisfied: python-dateutil>=2.8.2 in /opt/conda/lib/python3.7/site-packages (from jupyter-client>=6.1.12->jupyter-server>=1.1.2->jupyter-lsp) (2.8.2)\n",
      "Requirement already satisfied: bleach in /opt/conda/lib/python3.7/site-packages (from nbconvert>=6.4.4->jupyter-server>=1.1.2->jupyter-lsp) (5.0.1)\n",
      "Requirement already satisfied: defusedxml in /opt/conda/lib/python3.7/site-packages (from nbconvert>=6.4.4->jupyter-server>=1.1.2->jupyter-lsp) (0.7.1)\n",
      "Requirement already satisfied: nbclient>=0.5.0 in /opt/conda/lib/python3.7/site-packages (from nbconvert>=6.4.4->jupyter-server>=1.1.2->jupyter-lsp) (0.7.0)\n",
      "Requirement already satisfied: markupsafe>=2.0 in /opt/conda/lib/python3.7/site-packages (from nbconvert>=6.4.4->jupyter-server>=1.1.2->jupyter-lsp) (2.1.1)\n",
      "Requirement already satisfied: importlib-metadata>=3.6 in /opt/conda/lib/python3.7/site-packages (from nbconvert>=6.4.4->jupyter-server>=1.1.2->jupyter-lsp) (4.2.0)\n",
      "Requirement already satisfied: jupyterlab-pygments in /opt/conda/lib/python3.7/site-packages (from nbconvert>=6.4.4->jupyter-server>=1.1.2->jupyter-lsp) (0.2.2)\n",
      "Requirement already satisfied: pandocfilters>=1.4.1 in /opt/conda/lib/python3.7/site-packages (from nbconvert>=6.4.4->jupyter-server>=1.1.2->jupyter-lsp) (1.5.0)\n",
      "Requirement already satisfied: tinycss2 in /opt/conda/lib/python3.7/site-packages (from nbconvert>=6.4.4->jupyter-server>=1.1.2->jupyter-lsp) (1.2.1)\n",
      "Requirement already satisfied: pygments>=2.4.1 in /opt/conda/lib/python3.7/site-packages (from nbconvert>=6.4.4->jupyter-server>=1.1.2->jupyter-lsp) (2.13.0)\n",
      "Requirement already satisfied: mistune<3,>=2.0.3 in /opt/conda/lib/python3.7/site-packages (from nbconvert>=6.4.4->jupyter-server>=1.1.2->jupyter-lsp) (2.0.4)\n",
      "Requirement already satisfied: beautifulsoup4 in /opt/conda/lib/python3.7/site-packages (from nbconvert>=6.4.4->jupyter-server>=1.1.2->jupyter-lsp) (4.11.1)\n",
      "Requirement already satisfied: jsonschema>=2.6 in /opt/conda/lib/python3.7/site-packages (from nbformat>=5.2.0->jupyter-server>=1.1.2->jupyter-lsp) (4.16.0)\n",
      "Requirement already satisfied: fastjsonschema in /opt/conda/lib/python3.7/site-packages (from nbformat>=5.2.0->jupyter-server>=1.1.2->jupyter-lsp) (2.16.2)\n",
      "Requirement already satisfied: ptyprocess in /opt/conda/lib/python3.7/site-packages (from terminado>=0.8.3->jupyter-server>=1.1.2->jupyter-lsp) (0.7.0)\n",
      "Requirement already satisfied: argon2-cffi-bindings in /opt/conda/lib/python3.7/site-packages (from argon2-cffi->jupyter-server>=1.1.2->jupyter-lsp) (21.2.0)\n",
      "Requirement already satisfied: pyparsing!=3.0.5,>=2.0.2 in /opt/conda/lib/python3.7/site-packages (from packaging->jupyter-server>=1.1.2->jupyter-lsp) (3.0.9)\n",
      "Requirement already satisfied: zipp>=0.5 in /opt/conda/lib/python3.7/site-packages (from importlib-metadata>=3.6->nbconvert>=6.4.4->jupyter-server>=1.1.2->jupyter-lsp) (3.10.0)\n",
      "Requirement already satisfied: pyrsistent!=0.17.0,!=0.17.1,!=0.17.2,>=0.14.0 in /opt/conda/lib/python3.7/site-packages (from jsonschema>=2.6->nbformat>=5.2.0->jupyter-server>=1.1.2->jupyter-lsp) (0.18.1)\n",
      "Requirement already satisfied: attrs>=17.4.0 in /opt/conda/lib/python3.7/site-packages (from jsonschema>=2.6->nbformat>=5.2.0->jupyter-server>=1.1.2->jupyter-lsp) (22.1.0)\n",
      "Requirement already satisfied: pkgutil-resolve-name>=1.3.10 in /opt/conda/lib/python3.7/site-packages (from jsonschema>=2.6->nbformat>=5.2.0->jupyter-server>=1.1.2->jupyter-lsp) (1.3.10)\n",
      "Requirement already satisfied: importlib-resources>=1.4.0 in /opt/conda/lib/python3.7/site-packages (from jsonschema>=2.6->nbformat>=5.2.0->jupyter-server>=1.1.2->jupyter-lsp) (5.10.0)\n",
      "Requirement already satisfied: six>=1.5 in /opt/conda/lib/python3.7/site-packages (from python-dateutil>=2.8.2->jupyter-client>=6.1.12->jupyter-server>=1.1.2->jupyter-lsp) (1.16.0)\n",
      "Requirement already satisfied: cffi>=1.0.1 in /opt/conda/lib/python3.7/site-packages (from argon2-cffi-bindings->argon2-cffi->jupyter-server>=1.1.2->jupyter-lsp) (1.15.1)\n",
      "Requirement already satisfied: soupsieve>1.2 in /opt/conda/lib/python3.7/site-packages (from beautifulsoup4->nbconvert>=6.4.4->jupyter-server>=1.1.2->jupyter-lsp) (2.3.2.post1)\n",
      "Requirement already satisfied: webencodings in /opt/conda/lib/python3.7/site-packages (from bleach->nbconvert>=6.4.4->jupyter-server>=1.1.2->jupyter-lsp) (0.5.1)\n",
      "Requirement already satisfied: pycparser in /opt/conda/lib/python3.7/site-packages (from cffi>=1.0.1->argon2-cffi-bindings->argon2-cffi->jupyter-server>=1.1.2->jupyter-lsp) (2.21)\n",
      "Requirement already satisfied: python-lsp-server[all] in /opt/conda/lib/python3.7/site-packages (1.5.0)\n",
      "Requirement already satisfied: pluggy>=1.0.0 in /opt/conda/lib/python3.7/site-packages (from python-lsp-server[all]) (1.0.0)\n",
      "Requirement already satisfied: ujson>=3.0.0 in /opt/conda/lib/python3.7/site-packages (from python-lsp-server[all]) (5.5.0)\n",
      "Requirement already satisfied: setuptools>=39.0.0 in /opt/conda/lib/python3.7/site-packages (from python-lsp-server[all]) (59.8.0)\n",
      "Requirement already satisfied: jedi<0.19.0,>=0.17.2 in /opt/conda/lib/python3.7/site-packages (from python-lsp-server[all]) (0.18.1)\n",
      "Requirement already satisfied: python-lsp-jsonrpc>=1.0.0 in /opt/conda/lib/python3.7/site-packages (from python-lsp-server[all]) (1.0.0)\n",
      "Requirement already satisfied: pycodestyle<2.9.0,>=2.8.0 in /opt/conda/lib/python3.7/site-packages (from python-lsp-server[all]) (2.8.0)\n",
      "Requirement already satisfied: autopep8<1.7.0,>=1.6.0 in /opt/conda/lib/python3.7/site-packages (from python-lsp-server[all]) (1.6.0)\n",
      "Requirement already satisfied: pylint>=2.5.0 in /opt/conda/lib/python3.7/site-packages (from python-lsp-server[all]) (2.15.5)\n",
      "Requirement already satisfied: pydocstyle>=2.0.0 in /opt/conda/lib/python3.7/site-packages (from python-lsp-server[all]) (6.1.1)\n",
      "Requirement already satisfied: mccabe<0.7.0,>=0.6.0 in /opt/conda/lib/python3.7/site-packages (from python-lsp-server[all]) (0.6.1)\n",
      "Requirement already satisfied: flake8<4.1.0,>=4.0.0 in /opt/conda/lib/python3.7/site-packages (from python-lsp-server[all]) (4.0.1)\n",
      "Requirement already satisfied: pyflakes<2.5.0,>=2.4.0 in /opt/conda/lib/python3.7/site-packages (from python-lsp-server[all]) (2.4.0)\n",
      "Requirement already satisfied: rope>=0.10.5 in /opt/conda/lib/python3.7/site-packages (from python-lsp-server[all]) (1.4.0)\n",
      "Requirement already satisfied: yapf in /opt/conda/lib/python3.7/site-packages (from python-lsp-server[all]) (0.32.0)\n",
      "Requirement already satisfied: whatthepatch in /opt/conda/lib/python3.7/site-packages (from python-lsp-server[all]) (1.0.2)\n",
      "Requirement already satisfied: toml in /opt/conda/lib/python3.7/site-packages (from autopep8<1.7.0,>=1.6.0->python-lsp-server[all]) (0.10.2)\n",
      "Requirement already satisfied: importlib-metadata<4.3 in /opt/conda/lib/python3.7/site-packages (from flake8<4.1.0,>=4.0.0->python-lsp-server[all]) (4.2.0)\n",
      "Requirement already satisfied: parso<0.9.0,>=0.8.0 in /opt/conda/lib/python3.7/site-packages (from jedi<0.19.0,>=0.17.2->python-lsp-server[all]) (0.8.3)\n",
      "Requirement already satisfied: snowballstemmer in /opt/conda/lib/python3.7/site-packages (from pydocstyle>=2.0.0->python-lsp-server[all]) (2.2.0)\n",
      "Requirement already satisfied: tomlkit>=0.10.1 in /opt/conda/lib/python3.7/site-packages (from pylint>=2.5.0->python-lsp-server[all]) (0.11.6)\n",
      "Requirement already satisfied: tomli>=1.1.0 in /opt/conda/lib/python3.7/site-packages (from pylint>=2.5.0->python-lsp-server[all]) (2.0.1)\n",
      "Requirement already satisfied: astroid<=2.14.0-dev0,>=2.12.12 in /opt/conda/lib/python3.7/site-packages (from pylint>=2.5.0->python-lsp-server[all]) (2.12.12)\n",
      "Requirement already satisfied: platformdirs>=2.2.0 in /opt/conda/lib/python3.7/site-packages (from pylint>=2.5.0->python-lsp-server[all]) (2.5.2)\n",
      "Requirement already satisfied: isort<6,>=4.2.5 in /opt/conda/lib/python3.7/site-packages (from pylint>=2.5.0->python-lsp-server[all]) (5.10.1)\n",
      "Requirement already satisfied: typing-extensions>=3.10.0 in /opt/conda/lib/python3.7/site-packages (from pylint>=2.5.0->python-lsp-server[all]) (4.1.1)\n",
      "Requirement already satisfied: dill>=0.2 in /opt/conda/lib/python3.7/site-packages (from pylint>=2.5.0->python-lsp-server[all]) (0.3.5.1)\n",
      "Requirement already satisfied: pytoolconfig>=1.2.2 in /opt/conda/lib/python3.7/site-packages (from rope>=0.10.5->python-lsp-server[all]) (1.2.2)\n",
      "Requirement already satisfied: typed-ast<2.0,>=1.4.0 in /opt/conda/lib/python3.7/site-packages (from astroid<=2.14.0-dev0,>=2.12.12->pylint>=2.5.0->python-lsp-server[all]) (1.5.4)\n",
      "Requirement already satisfied: lazy-object-proxy>=1.4.0 in /opt/conda/lib/python3.7/site-packages (from astroid<=2.14.0-dev0,>=2.12.12->pylint>=2.5.0->python-lsp-server[all]) (1.8.0)\n",
      "Requirement already satisfied: wrapt<2,>=1.11 in /opt/conda/lib/python3.7/site-packages (from astroid<=2.14.0-dev0,>=2.12.12->pylint>=2.5.0->python-lsp-server[all]) (1.14.1)\n",
      "Requirement already satisfied: zipp>=0.5 in /opt/conda/lib/python3.7/site-packages (from importlib-metadata<4.3->flake8<4.1.0,>=4.0.0->python-lsp-server[all]) (3.10.0)\n",
      "Requirement already satisfied: packaging>=21.3 in /opt/conda/lib/python3.7/site-packages (from pytoolconfig>=1.2.2->rope>=0.10.5->python-lsp-server[all]) (21.3)\n",
      "Requirement already satisfied: pyparsing!=3.0.5,>=2.0.2 in /opt/conda/lib/python3.7/site-packages (from packaging>=21.3->pytoolconfig>=1.2.2->rope>=0.10.5->python-lsp-server[all]) (3.0.9)\n",
      "Requirement already satisfied: pymongo[srv] in /opt/conda/lib/python3.7/site-packages (3.12.0)\n",
      "Requirement already satisfied: dnspython<2.0.0,>=1.16.0 in /opt/conda/lib/python3.7/site-packages (from pymongo[srv]) (1.16.0)\n",
      "/bin/bash: line 0: fg: no job control\n",
      "ln: failed to create symbolic link '.lsp_symlink/': File exists\n"
     ]
    }
   ],
   "source": [
    "!pip install -r requirements.txt\n",
    "!pip install jupyter-lsp\n",
    "!pip install 'python-lsp-server[all]'\n",
    "!pip install \"pymongo[srv]\"\n",
    "!%config Completer.use_jedi = False\n",
   ]
  },
  {
   "cell_type": "code",
   "execution_count": 2,
   "id": "6092cc4b-d594-494f-a83c-f359e95c6574",
   "metadata": {},
   "outputs": [],
   "source": [
    "import numpy as np\n",
    "import pandas as pd\n",
    "from pandas import json_normalize #add this to req file if needed\n",
    "import json #add this to req file\n",
    "\n",
    "from persistence import Connection as Database"
   ]
  },
  {
   "cell_type": "code",
   "execution_count": 3,
   "id": "21b3e3b2-b7aa-42fa-97d6-f2cc48c253c0",
   "metadata": {},
   "outputs": [],
   "source": [
    "from typing import List, Tuple, Dict"
   ]
  },
  {
   "cell_type": "code",
   "execution_count": 4,
   "id": "16f771c3-52b0-43bd-a766-4c1d8fae793e",
   "metadata": {},
   "outputs": [
    {
     "name": "stdout",
     "output_type": "stream",
     "text": [
      "Connected to DB\n"
     ]
    }
   ],
   "source": [
    "# load some data \n",
    "db: Database = Database()"
   ]
  },
  {
   "cell_type": "code",
   "execution_count": 5,
   "id": "54e1ec10-4204-4269-87cf-05b360473382",
   "metadata": {},
   "outputs": [],
   "source": [
    "resumes = db.fetch_all_unlabeled_resumes()"
   ]
  },
  {
   "cell_type": "code",
   "execution_count": 6,
   "id": "5d6d1d65-c18b-47ee-92f7-3ee9d3cafc07",
   "metadata": {},
   "outputs": [
    {
     "name": "stdout",
     "output_type": "stream",
     "text": [
      "1\n",
      "dict_keys(['_id', 'title', 'contactInfo', 'summary', 'experience', 'education', 'interests', 'accomplishments', 'languages', 'projects', 'softSkills', 'hardSkills', 'certifications', 'patents', 'extracurriculars'])\n"
     ]
    }
   ],
   "source": [
    "print(len(resumes))\n",
    "\n",
    "print(resumes[0].keys())"
   ]
  },
  {
   "cell_type": "code",
   "execution_count": 7,
   "id": "647a88f8-6a2f-4dbf-afd4-7b0fcb98ac66",
   "metadata": {},
   "outputs": [
    {
     "name": "stdout",
     "output_type": "stream",
     "text": [
      "{'value': [], 'label': 0}\n"
     ]
    }
   ],
   "source": [
    "print(resumes[0]['patents'])\n"
   ]
  },
  {
   "cell_type": "code",
   "execution_count": 33,
   "id": "39e1f749-5d03-40e6-89fe-158ad3ae7bc4",
   "metadata": {},
   "outputs": [],
   "source": [
    "from datetime import datetime\n",
    "\n",
    "def time_of_experience(experience: pd.DataFrame) -> int:\n",
    "    try:\n",
    "        fromDate = experience.iloc[0]['fromDate']\n",
    "        toDate = experience.iloc[0]['toDate']\n",
    "        present_list = ['today', 'present']\n",
    "        if toDate.lower() in present_list:\n",
    "            datetime_object_to = datetime.today()\n",
    "        else:\n",
    "            datetime_object_to = datetime.strptime(toDate, '%B %Y')\n",
    "\n",
    "        datetime_object_from = datetime.strptime(fromDate, '%B %Y')    \n",
    "\n",
    "        diff = datetime_object_to - datetime_object_from\n",
    "        seconds_per_month = 86400*30\n",
    "        months = int(np.floor(diff.total_seconds()/seconds_per_month))\n",
    "        if months == 0: #one month\n",
    "            months = 1\n",
    "        return int(months)\n",
    "    except:\n",
    "        months = 12\n",
    "        return int(months)\n",
    "\n",
    "def time_of_education(education: pd.DataFrame) -> int:\n",
    "    try:\n",
    "        fromDate = education.iloc[0]['fromDate']\n",
    "        toDate = education.iloc[0]['toDate']\n",
    "        present_list = ['today', 'present']\n",
    "        if toDate.lower() in present_list:\n",
    "            datetime_object_to = datetime.today()\n",
    "        else:\n",
    "            datetime_object_to = datetime.strptime(toDate, '%Y')\n",
    "\n",
    "        datetime_object_from = datetime.strptime(fromDate, '%Y')    \n",
    "\n",
    "        diff = datetime_object_to - datetime_object_from\n",
    "        print(diff)\n",
    "        seconds_per_month = 86400*30\n",
    "        months = int(np.floor(diff.total_seconds()/seconds_per_month))\n",
    "        if months == 0: #one month\n",
    "            months = 1\n",
    "        return int(months)\n",
    "    except:\n",
    "        months = 12\n",
    "        return int(months)\n",
    "    \n",
    "\n",
    "    \n",
    "def time_since_experience(experience: pd.DataFrame) -> int:\n",
    "    try:\n",
    "        toDate = experience.iloc[0]['toDate']\n",
    "        present_list = ['today', 'present']\n",
    "        if toDate.lower() in present_list:\n",
    "            datetime_object_to = datetime.today()\n",
    "        else:\n",
    "            datetime_object_to = datetime.strptime(toDate, '%B %Y')\n",
    "        diff = datetime.today() - datetime_object_to\n",
    "        seconds_per_month = 86400*30\n",
    "        months = int(np.floor(diff.total_seconds()/seconds_per_month))\n",
    "        return int(months)\n",
    "    except:\n",
    "        months = 12\n",
    "        return int(months)\n",
    "\n",
    "def time_since_education(experience: pd.DataFrame) -> int:\n",
    "    try:\n",
    "        toDate = experience.iloc[0]['toDate']\n",
    "        present_list = ['today', 'present']\n",
    "        if toDate.lower() in present_list:\n",
    "            datetime_object_to = datetime.today()\n",
    "        else:\n",
    "            datetime_object_to = datetime.strptime(toDate, '%Y')\n",
    "        diff = datetime.today() - datetime_object_to\n",
    "        seconds_per_month = 86400*30\n",
    "        months = int(np.floor(diff.total_seconds()/seconds_per_month))\n",
    "        return int(months)\n",
    "    except:\n",
    "        months = 12\n",
    "        return int(months)\n",
    "    "
   ]
  },
  {
   "cell_type": "markdown",
   "id": "4c856154-36dd-4c7b-8571-cf40bd640f71",
   "metadata": {
    "tags": []
   },
   "source": [
    "## Contact information"
   ]
  },
  {
   "cell_type": "code",
   "execution_count": 9,
   "id": "5bda5aa2-7292-49ee-bb00-0937db7e47af",
   "metadata": {},
   "outputs": [],
   "source": [
    "contact_info = resumes[0]['contactInfo']\n",
    "contact_info_df = json_normalize(contact_info)\n",
    "contact_info_df['type'] = 'contactInfo'"
   ]
  },
  {
   "cell_type": "code",
   "execution_count": 10,
   "id": "07772209-f5b0-43f7-b34f-33f89ea4f1bd",
   "metadata": {},
   "outputs": [
    {
     "data": {
      "text/html": [
       "<div>\n",
       "<style scoped>\n",
       "    .dataframe tbody tr th:only-of-type {\n",
       "        vertical-align: middle;\n",
       "    }\n",
       "\n",
       "    .dataframe tbody tr th {\n",
       "        vertical-align: top;\n",
       "    }\n",
       "\n",
       "    .dataframe thead th {\n",
       "        text-align: right;\n",
       "    }\n",
       "</style>\n",
       "<table border=\"1\" class=\"dataframe\">\n",
       "  <thead>\n",
       "    <tr style=\"text-align: right;\">\n",
       "      <th></th>\n",
       "      <th>address</th>\n",
       "      <th>website</th>\n",
       "      <th>linkedin</th>\n",
       "      <th>name</th>\n",
       "      <th>phoneNumber</th>\n",
       "      <th>email</th>\n",
       "      <th>github</th>\n",
       "      <th>birthday</th>\n",
       "      <th>family</th>\n",
       "      <th>type</th>\n",
       "    </tr>\n",
       "  </thead>\n",
       "  <tbody>\n",
       "    <tr>\n",
       "      <th>0</th>\n",
       "      <td>Abraham Lincoln Street 1, Chicago, IL</td>\n",
       "      <td>my-website.com</td>\n",
       "      <td>linkedin.com/in/me123</td>\n",
       "      <td>Monica Music</td>\n",
       "      <td>01012345</td>\n",
       "      <td>monica@music.co.kr</td>\n",
       "      <td>monicamusic123</td>\n",
       "      <td>24 December 1985</td>\n",
       "      <td>5 kids, divorced</td>\n",
       "      <td>contactInfo</td>\n",
       "    </tr>\n",
       "  </tbody>\n",
       "</table>\n",
       "</div>"
      ],
      "text/plain": [
       "                                 address         website  \\\n",
       "0  Abraham Lincoln Street 1, Chicago, IL  my-website.com   \n",
       "\n",
       "                linkedin          name phoneNumber               email  \\\n",
       "0  linkedin.com/in/me123  Monica Music    01012345  monica@music.co.kr   \n",
       "\n",
       "           github          birthday            family         type  \n",
       "0  monicamusic123  24 December 1985  5 kids, divorced  contactInfo  "
      ]
     },
     "execution_count": 10,
     "metadata": {},
     "output_type": "execute_result"
    }
   ],
   "source": [
    "contact_info_df"
   ]
  },
  {
   "cell_type": "markdown",
   "id": "201b2e05-ed07-4ff0-8428-f42d0b9b705a",
   "metadata": {
    "tags": []
   },
   "source": [
    "## Contact information function"
   ]
  },
  {
   "cell_type": "code",
   "execution_count": 11,
   "id": "21e1e4fd-16c9-4a60-a646-37af175ec6cc",
   "metadata": {},
   "outputs": [],
   "source": [
    "def get_contact_info_df(resume: Dict) -> pd.DataFrame:\n",
    "    contact_info = resume['contactInfo']\n",
    "    contact_info_df = json_normalize(contact_info)\n",
    "    contact_info_df['type'] = 'contactInfo'\n",
    "    return contact_info_df"
   ]
  },
  {
   "cell_type": "markdown",
   "id": "f4588af2-9fbc-4cdf-a9d7-4c98aea6e9c4",
   "metadata": {
    "tags": []
   },
   "source": [
    "## Experiences"
   ]
  },
  {
   "cell_type": "code",
   "execution_count": 12,
   "id": "b34f3b67-2b7a-45b6-9c9e-2dc4ed5ef4ef",
   "metadata": {},
   "outputs": [
    {
     "name": "stdout",
     "output_type": "stream",
     "text": [
      "[{'value': {'company': 'SAP', 'title': 'Data Scientist', 'location': 'Berlin, Berlin, Germany', 'fromDate': 'October 2017', 'toDate': 'Present', 'description': 'Deep Learning Center of Exellence'}, 'label': 0}, {'value': {'company': 'Amazon', 'title': 'Software Engineer', 'location': 'Berlin, Berlin, Germany', 'fromDate': 'March 2017', 'toDate': 'August 2017', 'description': 'Machine Translation Engineering team'}, 'label': 0}, {'value': {'company': 'Samsung Electronics', 'title': 'Software Engineer', 'location': 'Suwon, South Korea', 'fromDate': 'January 2013', 'toDate': 'anuary 2015', 'description': 'Computer Vision Lab, DMC Research Center - Computer Vision Algorithm design, implementation, and optimization for embedded hardwares. (C, C++, Matlab)'}, 'label': 0}, {'value': {'company': 'Penta Security Systems, Inc.', 'title': 'SDE Intern', 'location': 'Seoul, South Korea', 'fromDate': 'February 2012', 'toDate': 'July 2012', 'description': 'Database Security Team, Developed Java module for Database Encryption solution. Dealt with encryption products for diffrerent target relational databases such as Oracle, DB2, MSQ and different target operating systems such as Windows, Linux, Solaris, AIX.'}, 'label': 0}]\n"
     ]
    }
   ],
   "source": [
    "print(resumes[0]['experience']['value'])"
   ]
  },
  {
   "cell_type": "code",
   "execution_count": 13,
   "id": "176734f0-2063-4394-af03-128cac604084",
   "metadata": {},
   "outputs": [],
   "source": [
    "experience = resumes[0]['experience']['value']\n",
    "experience_df = pd.DataFrame()\n",
    "for exp in experience:\n",
    "    df = json_normalize(exp['value'])\n",
    "    df['label'] = exp['label']\n",
    "    df['type'] = 'experience'\n",
    "    df['duration'] = time_of_experience(df)\n",
    "    experience_df = pd.concat([experience_df, df], ignore_index = True)\n",
    "    "
   ]
  },
  {
   "cell_type": "code",
   "execution_count": 14,
   "id": "fad1cc5d-0387-49e3-abbd-40e05067f786",
   "metadata": {},
   "outputs": [
    {
     "data": {
      "text/html": [
       "<div>\n",
       "<style scoped>\n",
       "    .dataframe tbody tr th:only-of-type {\n",
       "        vertical-align: middle;\n",
       "    }\n",
       "\n",
       "    .dataframe tbody tr th {\n",
       "        vertical-align: top;\n",
       "    }\n",
       "\n",
       "    .dataframe thead th {\n",
       "        text-align: right;\n",
       "    }\n",
       "</style>\n",
       "<table border=\"1\" class=\"dataframe\">\n",
       "  <thead>\n",
       "    <tr style=\"text-align: right;\">\n",
       "      <th></th>\n",
       "      <th>company</th>\n",
       "      <th>title</th>\n",
       "      <th>location</th>\n",
       "      <th>fromDate</th>\n",
       "      <th>toDate</th>\n",
       "      <th>description</th>\n",
       "      <th>label</th>\n",
       "      <th>type</th>\n",
       "      <th>duration</th>\n",
       "    </tr>\n",
       "  </thead>\n",
       "  <tbody>\n",
       "    <tr>\n",
       "      <th>0</th>\n",
       "      <td>SAP</td>\n",
       "      <td>Data Scientist</td>\n",
       "      <td>Berlin, Berlin, Germany</td>\n",
       "      <td>October 2017</td>\n",
       "      <td>Present</td>\n",
       "      <td>Deep Learning Center of Exellence</td>\n",
       "      <td>0</td>\n",
       "      <td>experience</td>\n",
       "      <td>62</td>\n",
       "    </tr>\n",
       "    <tr>\n",
       "      <th>1</th>\n",
       "      <td>Amazon</td>\n",
       "      <td>Software Engineer</td>\n",
       "      <td>Berlin, Berlin, Germany</td>\n",
       "      <td>March 2017</td>\n",
       "      <td>August 2017</td>\n",
       "      <td>Machine Translation Engineering team</td>\n",
       "      <td>0</td>\n",
       "      <td>experience</td>\n",
       "      <td>5</td>\n",
       "    </tr>\n",
       "    <tr>\n",
       "      <th>2</th>\n",
       "      <td>Samsung Electronics</td>\n",
       "      <td>Software Engineer</td>\n",
       "      <td>Suwon, South Korea</td>\n",
       "      <td>January 2013</td>\n",
       "      <td>anuary 2015</td>\n",
       "      <td>Computer Vision Lab, DMC Research Center - Com...</td>\n",
       "      <td>0</td>\n",
       "      <td>experience</td>\n",
       "      <td>12</td>\n",
       "    </tr>\n",
       "    <tr>\n",
       "      <th>3</th>\n",
       "      <td>Penta Security Systems, Inc.</td>\n",
       "      <td>SDE Intern</td>\n",
       "      <td>Seoul, South Korea</td>\n",
       "      <td>February 2012</td>\n",
       "      <td>July 2012</td>\n",
       "      <td>Database Security Team, Developed Java module ...</td>\n",
       "      <td>0</td>\n",
       "      <td>experience</td>\n",
       "      <td>5</td>\n",
       "    </tr>\n",
       "  </tbody>\n",
       "</table>\n",
       "</div>"
      ],
      "text/plain": [
       "                        company              title                 location  \\\n",
       "0                           SAP     Data Scientist  Berlin, Berlin, Germany   \n",
       "1                        Amazon  Software Engineer  Berlin, Berlin, Germany   \n",
       "2           Samsung Electronics  Software Engineer       Suwon, South Korea   \n",
       "3  Penta Security Systems, Inc.         SDE Intern       Seoul, South Korea   \n",
       "\n",
       "        fromDate       toDate  \\\n",
       "0   October 2017      Present   \n",
       "1     March 2017  August 2017   \n",
       "2   January 2013  anuary 2015   \n",
       "3  February 2012    July 2012   \n",
       "\n",
       "                                         description  label        type  \\\n",
       "0                  Deep Learning Center of Exellence      0  experience   \n",
       "1               Machine Translation Engineering team      0  experience   \n",
       "2  Computer Vision Lab, DMC Research Center - Com...      0  experience   \n",
       "3  Database Security Team, Developed Java module ...      0  experience   \n",
       "\n",
       "   duration  \n",
       "0        62  \n",
       "1         5  \n",
       "2        12  \n",
       "3         5  "
      ]
     },
     "execution_count": 14,
     "metadata": {},
     "output_type": "execute_result"
    }
   ],
   "source": [
    "experience_df"
   ]
  },
  {
   "cell_type": "markdown",
   "id": "2a07d88c-d7bf-45ee-b8ed-4a7c25fdfa1a",
   "metadata": {
    "tags": []
   },
   "source": [
    "## Experience function"
   ]
  },
  {
   "cell_type": "code",
   "execution_count": 15,
   "id": "89537415-1951-4435-bab5-aea719ba87a5",
   "metadata": {},
   "outputs": [],
   "source": [
    "def get_experience_df(resume: Dict) -> pd.DataFrame:\n",
    "    experience = resume['experience']['value']\n",
    "    experience_df = pd.DataFrame()\n",
    "    for exp in experience:\n",
    "        df = json_normalize(exp['value'])\n",
    "        df['label'] = exp['label']\n",
    "        df['type'] = 'experience'\n",
    "        df['duration'] = time_of_experience(df)\n",
    "        df['time_since'] = time_since_experience(df)\n",
    "        experience_df = pd.concat([experience_df, df], ignore_index = True)\n",
    "    return experience_df\n"
   ]
  },
  {
   "cell_type": "code",
   "execution_count": 34,
   "id": "376d40ee-9bc0-4f00-9e73-5bf4a2cbe44f",
   "metadata": {},
   "outputs": [
    {
     "data": {
      "text/html": [
       "<div>\n",
       "<style scoped>\n",
       "    .dataframe tbody tr th:only-of-type {\n",
       "        vertical-align: middle;\n",
       "    }\n",
       "\n",
       "    .dataframe tbody tr th {\n",
       "        vertical-align: top;\n",
       "    }\n",
       "\n",
       "    .dataframe thead th {\n",
       "        text-align: right;\n",
       "    }\n",
       "</style>\n",
       "<table border=\"1\" class=\"dataframe\">\n",
       "  <thead>\n",
       "    <tr style=\"text-align: right;\">\n",
       "      <th></th>\n",
       "      <th>company</th>\n",
       "      <th>title</th>\n",
       "      <th>location</th>\n",
       "      <th>fromDate</th>\n",
       "      <th>toDate</th>\n",
       "      <th>description</th>\n",
       "      <th>label</th>\n",
       "      <th>type</th>\n",
       "      <th>duration</th>\n",
       "      <th>time_since</th>\n",
       "    </tr>\n",
       "  </thead>\n",
       "  <tbody>\n",
       "    <tr>\n",
       "      <th>0</th>\n",
       "      <td>SAP</td>\n",
       "      <td>Data Scientist</td>\n",
       "      <td>Berlin, Berlin, Germany</td>\n",
       "      <td>October 2017</td>\n",
       "      <td>Present</td>\n",
       "      <td>Deep Learning Center of Exellence</td>\n",
       "      <td>0</td>\n",
       "      <td>experience</td>\n",
       "      <td>62</td>\n",
       "      <td>0</td>\n",
       "    </tr>\n",
       "    <tr>\n",
       "      <th>1</th>\n",
       "      <td>Amazon</td>\n",
       "      <td>Software Engineer</td>\n",
       "      <td>Berlin, Berlin, Germany</td>\n",
       "      <td>March 2017</td>\n",
       "      <td>August 2017</td>\n",
       "      <td>Machine Translation Engineering team</td>\n",
       "      <td>0</td>\n",
       "      <td>experience</td>\n",
       "      <td>5</td>\n",
       "      <td>64</td>\n",
       "    </tr>\n",
       "    <tr>\n",
       "      <th>2</th>\n",
       "      <td>Samsung Electronics</td>\n",
       "      <td>Software Engineer</td>\n",
       "      <td>Suwon, South Korea</td>\n",
       "      <td>January 2013</td>\n",
       "      <td>anuary 2015</td>\n",
       "      <td>Computer Vision Lab, DMC Research Center - Com...</td>\n",
       "      <td>0</td>\n",
       "      <td>experience</td>\n",
       "      <td>12</td>\n",
       "      <td>12</td>\n",
       "    </tr>\n",
       "    <tr>\n",
       "      <th>3</th>\n",
       "      <td>Penta Security Systems, Inc.</td>\n",
       "      <td>SDE Intern</td>\n",
       "      <td>Seoul, South Korea</td>\n",
       "      <td>February 2012</td>\n",
       "      <td>July 2012</td>\n",
       "      <td>Database Security Team, Developed Java module ...</td>\n",
       "      <td>0</td>\n",
       "      <td>experience</td>\n",
       "      <td>5</td>\n",
       "      <td>126</td>\n",
       "    </tr>\n",
       "  </tbody>\n",
       "</table>\n",
       "</div>"
      ],
      "text/plain": [
       "                        company              title                 location  \\\n",
       "0                           SAP     Data Scientist  Berlin, Berlin, Germany   \n",
       "1                        Amazon  Software Engineer  Berlin, Berlin, Germany   \n",
       "2           Samsung Electronics  Software Engineer       Suwon, South Korea   \n",
       "3  Penta Security Systems, Inc.         SDE Intern       Seoul, South Korea   \n",
       "\n",
       "        fromDate       toDate  \\\n",
       "0   October 2017      Present   \n",
       "1     March 2017  August 2017   \n",
       "2   January 2013  anuary 2015   \n",
       "3  February 2012    July 2012   \n",
       "\n",
       "                                         description  label        type  \\\n",
       "0                  Deep Learning Center of Exellence      0  experience   \n",
       "1               Machine Translation Engineering team      0  experience   \n",
       "2  Computer Vision Lab, DMC Research Center - Com...      0  experience   \n",
       "3  Database Security Team, Developed Java module ...      0  experience   \n",
       "\n",
       "   duration  time_since  \n",
       "0        62           0  \n",
       "1         5          64  \n",
       "2        12          12  \n",
       "3         5         126  "
      ]
     },
     "execution_count": 34,
     "metadata": {},
     "output_type": "execute_result"
    }
   ],
   "source": [
    "get_experience_df(resumes[0])"
   ]
  },
  {
   "cell_type": "markdown",
   "id": "a564e655-0f4f-4fc8-bd37-27a37bead965",
   "metadata": {
    "tags": []
   },
   "source": [
    "## Education function"
   ]
  },
  {
   "cell_type": "code",
   "execution_count": 36,
   "id": "96d45d64-0ce3-4822-b6f6-ca344982924b",
   "metadata": {},
   "outputs": [],
   "source": [
    "def get_education_df(resume: Dict) -> pd.DataFrame:\n",
    "    education = resume['education']['value']\n",
    "    education_df = pd.DataFrame()\n",
    "    for edu in education:\n",
    "        df = json_normalize(edu['value'])\n",
    "        df['label'] = edu['label']\n",
    "        df['type'] = 'education'\n",
    "        df['duration'] = time_of_education(df)\n",
    "        df['time_since'] = time_since_education(df)\n",
    "        education_df = pd.concat([education_df, df], ignore_index = True)\n",
    "    return education_df"
   ]
  },
  {
   "cell_type": "code",
   "execution_count": 37,
   "id": "fef4aba8-a858-4d75-bd18-e46b7efaae72",
   "metadata": {},
   "outputs": [
    {
     "name": "stdout",
     "output_type": "stream",
     "text": [
      "731 days, 0:00:00\n",
      "1827 days, 0:00:00\n"
     ]
    },
    {
     "data": {
      "text/html": [
       "<div>\n",
       "<style scoped>\n",
       "    .dataframe tbody tr th:only-of-type {\n",
       "        vertical-align: middle;\n",
       "    }\n",
       "\n",
       "    .dataframe tbody tr th {\n",
       "        vertical-align: top;\n",
       "    }\n",
       "\n",
       "    .dataframe thead th {\n",
       "        text-align: right;\n",
       "    }\n",
       "</style>\n",
       "<table border=\"1\" class=\"dataframe\">\n",
       "  <thead>\n",
       "    <tr style=\"text-align: right;\">\n",
       "      <th></th>\n",
       "      <th>institution</th>\n",
       "      <th>location</th>\n",
       "      <th>title</th>\n",
       "      <th>fromDate</th>\n",
       "      <th>toDate</th>\n",
       "      <th>description</th>\n",
       "      <th>label</th>\n",
       "      <th>type</th>\n",
       "      <th>duration</th>\n",
       "      <th>time_since</th>\n",
       "    </tr>\n",
       "  </thead>\n",
       "  <tbody>\n",
       "    <tr>\n",
       "      <th>0</th>\n",
       "      <td>Korea Advanced Institute of Science and Techno...</td>\n",
       "      <td>Korea</td>\n",
       "      <td>Master of Engineering (M.Eng.), Computer scien...</td>\n",
       "      <td>2015</td>\n",
       "      <td>2017</td>\n",
       "      <td></td>\n",
       "      <td>0</td>\n",
       "      <td>education</td>\n",
       "      <td>24</td>\n",
       "      <td>71</td>\n",
       "    </tr>\n",
       "    <tr>\n",
       "      <th>1</th>\n",
       "      <td>POSTECH</td>\n",
       "      <td>Korea</td>\n",
       "      <td>Bachelor's degree, Physics &amp; Computer Science</td>\n",
       "      <td>2008</td>\n",
       "      <td>2013</td>\n",
       "      <td></td>\n",
       "      <td>0</td>\n",
       "      <td>education</td>\n",
       "      <td>60</td>\n",
       "      <td>120</td>\n",
       "    </tr>\n",
       "  </tbody>\n",
       "</table>\n",
       "</div>"
      ],
      "text/plain": [
       "                                         institution location  \\\n",
       "0  Korea Advanced Institute of Science and Techno...    Korea   \n",
       "1                                            POSTECH    Korea   \n",
       "\n",
       "                                               title fromDate toDate  \\\n",
       "0  Master of Engineering (M.Eng.), Computer scien...     2015   2017   \n",
       "1      Bachelor's degree, Physics & Computer Science     2008   2013   \n",
       "\n",
       "  description  label       type  duration  time_since  \n",
       "0                  0  education        24          71  \n",
       "1                  0  education        60         120  "
      ]
     },
     "execution_count": 37,
     "metadata": {},
     "output_type": "execute_result"
    }
   ],
   "source": [
    "get_education_df(resumes[0])"
   ]
  },
  {
   "cell_type": "markdown",
   "id": "1871be87-550d-4ad2-8ccb-e7965c1c144d",
   "metadata": {},
   "source": [
    "## Interest function"
   ]
  },
  {
   "cell_type": "code",
   "execution_count": 38,
   "id": "9a56e236-d352-4b2d-9835-2a631f9d38b9",
   "metadata": {},
   "outputs": [
    {
     "name": "stdout",
     "output_type": "stream",
     "text": [
      "{'value': [{'value': {'institution': 'Korea Advanced Institute of Science and Technology', 'location': 'Korea', 'title': 'Master of Engineering (M.Eng.), Computer science & Machine Learning', 'fromDate': '2015', 'toDate': '2017', 'description': ''}, 'label': 0}, {'value': {'institution': 'POSTECH', 'location': 'Korea', 'title': \"Bachelor's degree, Physics & Computer Science\", 'fromDate': '2008', 'toDate': '2013', 'description': ''}, 'label': 0}], 'label': 0}\n"
     ]
    }
   ],
   "source": [
    "print(resumes[0]['education'])"
   ]
  },
  {
   "cell_type": "code",
   "execution_count": 39,
   "id": "1460cb12-27a1-4fa5-b915-ef043d811902",
   "metadata": {},
   "outputs": [
    {
     "name": "stdout",
     "output_type": "stream",
     "text": [
      "{'value': [{'value': 'Data Analysis', 'label': 0}], 'label': 0}\n"
     ]
    }
   ],
   "source": [
    "print(resumes[0]['interests'])"
   ]
  },
  {
   "cell_type": "code",
   "execution_count": 40,
   "id": "42ef4597-20b2-45cc-801e-364c612df815",
   "metadata": {},
   "outputs": [],
   "source": [
    "def get_interests_df(resume: Dict) -> pd.DataFrame:\n",
    "    interest = resume['interests']['value']\n",
    "    interest_df = pd.DataFrame()\n",
    "    for i in interest:\n",
    "        df = json_normalize(i)\n",
    "        df['label'] = i['label']\n",
    "        df['type'] = 'interests'\n",
    "        interest_df = pd.concat([interest_df, df], ignore_index = True)\n",
    "    return interest_df"
   ]
  },
  {
   "cell_type": "code",
   "execution_count": 41,
   "id": "e9e7bb93-ff27-4bf4-a000-fbf915221a28",
   "metadata": {},
   "outputs": [
    {
     "data": {
      "text/html": [
       "<div>\n",
       "<style scoped>\n",
       "    .dataframe tbody tr th:only-of-type {\n",
       "        vertical-align: middle;\n",
       "    }\n",
       "\n",
       "    .dataframe tbody tr th {\n",
       "        vertical-align: top;\n",
       "    }\n",
       "\n",
       "    .dataframe thead th {\n",
       "        text-align: right;\n",
       "    }\n",
       "</style>\n",
       "<table border=\"1\" class=\"dataframe\">\n",
       "  <thead>\n",
       "    <tr style=\"text-align: right;\">\n",
       "      <th></th>\n",
       "      <th>value</th>\n",
       "      <th>label</th>\n",
       "      <th>type</th>\n",
       "    </tr>\n",
       "  </thead>\n",
       "  <tbody>\n",
       "    <tr>\n",
       "      <th>0</th>\n",
       "      <td>Data Analysis</td>\n",
       "      <td>0</td>\n",
       "      <td>interests</td>\n",
       "    </tr>\n",
       "  </tbody>\n",
       "</table>\n",
       "</div>"
      ],
      "text/plain": [
       "           value  label       type\n",
       "0  Data Analysis      0  interests"
      ]
     },
     "execution_count": 41,
     "metadata": {},
     "output_type": "execute_result"
    }
   ],
   "source": [
    "get_interests_df(resumes[0])"
   ]
  },
  {
   "cell_type": "markdown",
   "id": "9f0d26d7-0044-40e9-a7fa-e2eb123629e5",
   "metadata": {},
   "source": [
    "## Accomplishment function"
   ]
  },
  {
   "cell_type": "code",
   "execution_count": 42,
   "id": "c7902c70-c9b1-436e-bbaf-d1be16d68865",
   "metadata": {},
   "outputs": [
    {
     "name": "stdout",
     "output_type": "stream",
     "text": [
      "{'value': [], 'label': 0}\n"
     ]
    }
   ],
   "source": [
    "print(resumes[0]['accomplishments'])"
   ]
  },
  {
   "cell_type": "code",
   "execution_count": 43,
   "id": "6b39db37-2e97-440c-981d-f2f30e005183",
   "metadata": {},
   "outputs": [],
   "source": [
    "def get_accomplishments_df(resume: Dict) -> pd.DataFrame:\n",
    "    accomplishment = resume['accomplishments']['value']\n",
    "    accomplishment_df = pd.DataFrame()\n",
    "    for acc in accomplishment:\n",
    "        df = json_normalize(acc['value'])\n",
    "        df['label'] = acc['label']\n",
    "        df['type'] = 'accomplishments'\n",
    "        accomplishment_df = pd.concat([accomplishment_df, df], ignore_index = True)\n",
    "    return accomplishment_df"
   ]
  },
  {
   "cell_type": "code",
   "execution_count": 44,
   "id": "c6312bc0-ca8d-4068-9cc0-db308d3e4764",
   "metadata": {},
   "outputs": [
    {
     "data": {
      "text/html": [
       "<div>\n",
       "<style scoped>\n",
       "    .dataframe tbody tr th:only-of-type {\n",
       "        vertical-align: middle;\n",
       "    }\n",
       "\n",
       "    .dataframe tbody tr th {\n",
       "        vertical-align: top;\n",
       "    }\n",
       "\n",
       "    .dataframe thead th {\n",
       "        text-align: right;\n",
       "    }\n",
       "</style>\n",
       "<table border=\"1\" class=\"dataframe\">\n",
       "  <thead>\n",
       "    <tr style=\"text-align: right;\">\n",
       "      <th></th>\n",
       "    </tr>\n",
       "  </thead>\n",
       "  <tbody>\n",
       "  </tbody>\n",
       "</table>\n",
       "</div>"
      ],
      "text/plain": [
       "Empty DataFrame\n",
       "Columns: []\n",
       "Index: []"
      ]
     },
     "execution_count": 44,
     "metadata": {},
     "output_type": "execute_result"
    }
   ],
   "source": [
    "get_accomplishments_df(resumes[0])"
   ]
  },
  {
   "cell_type": "markdown",
   "id": "92e4c820-017e-484d-9928-3453192d73de",
   "metadata": {},
   "source": [
    "## Language function"
   ]
  },
  {
   "cell_type": "code",
   "execution_count": 45,
   "id": "68c3ed18-5b90-4e06-8f0e-0ac0c611dd54",
   "metadata": {},
   "outputs": [
    {
     "name": "stdout",
     "output_type": "stream",
     "text": [
      "{'value': [{'value': {'name': 'English', 'proficiency': 4}, 'label': 0}, {'value': {'name': 'Korean', 'proficiency': 5}, 'label': 0}], 'label': 0}\n"
     ]
    }
   ],
   "source": [
    "print(resumes[0]['languages'])"
   ]
  },
  {
   "cell_type": "code",
   "execution_count": 46,
   "id": "760a3172-dfed-47a1-bb40-7c7e96348cdf",
   "metadata": {},
   "outputs": [],
   "source": [
    "def get_languages_df(resume: Dict) -> pd.DataFrame:\n",
    "    language = resume['languages']['value']\n",
    "    language_df = pd.DataFrame()\n",
    "    for lan in language:\n",
    "        df = json_normalize(lan['value'])\n",
    "        df['label'] = lan['label']\n",
    "        df['type'] = 'languages'\n",
    "        language_df = pd.concat([language_df, df], ignore_index = True)\n",
    "    return language_df"
   ]
  },
  {
   "cell_type": "code",
   "execution_count": 47,
   "id": "665cb140-ccb8-4303-8448-a0d4649b4eb0",
   "metadata": {},
   "outputs": [
    {
     "data": {
      "text/html": [
       "<div>\n",
       "<style scoped>\n",
       "    .dataframe tbody tr th:only-of-type {\n",
       "        vertical-align: middle;\n",
       "    }\n",
       "\n",
       "    .dataframe tbody tr th {\n",
       "        vertical-align: top;\n",
       "    }\n",
       "\n",
       "    .dataframe thead th {\n",
       "        text-align: right;\n",
       "    }\n",
       "</style>\n",
       "<table border=\"1\" class=\"dataframe\">\n",
       "  <thead>\n",
       "    <tr style=\"text-align: right;\">\n",
       "      <th></th>\n",
       "      <th>name</th>\n",
       "      <th>proficiency</th>\n",
       "      <th>label</th>\n",
       "      <th>type</th>\n",
       "    </tr>\n",
       "  </thead>\n",
       "  <tbody>\n",
       "    <tr>\n",
       "      <th>0</th>\n",
       "      <td>English</td>\n",
       "      <td>4</td>\n",
       "      <td>0</td>\n",
       "      <td>languages</td>\n",
       "    </tr>\n",
       "    <tr>\n",
       "      <th>1</th>\n",
       "      <td>Korean</td>\n",
       "      <td>5</td>\n",
       "      <td>0</td>\n",
       "      <td>languages</td>\n",
       "    </tr>\n",
       "  </tbody>\n",
       "</table>\n",
       "</div>"
      ],
      "text/plain": [
       "      name  proficiency  label       type\n",
       "0  English            4      0  languages\n",
       "1   Korean            5      0  languages"
      ]
     },
     "execution_count": 47,
     "metadata": {},
     "output_type": "execute_result"
    }
   ],
   "source": [
    "get_languages_df(resumes[0])"
   ]
  },
  {
   "cell_type": "markdown",
   "id": "5f34335e-be3c-49b5-9280-beba96b344c4",
   "metadata": {},
   "source": [
    "## Project function"
   ]
  },
  {
   "cell_type": "code",
   "execution_count": 48,
   "id": "366be81b-2a0f-4ee4-9dd5-7133ab8511d1",
   "metadata": {},
   "outputs": [
    {
     "name": "stdout",
     "output_type": "stream",
     "text": [
      "{'value': [], 'label': 0}\n"
     ]
    }
   ],
   "source": [
    "print(resumes[0]['projects'])"
   ]
  },
  {
   "cell_type": "code",
   "execution_count": 49,
   "id": "20e2d457-2ad0-4a01-9bbd-dd137c557403",
   "metadata": {},
   "outputs": [],
   "source": [
    "def get_projects_df(resume: Dict) -> pd.DataFrame:\n",
    "    project = resume['projects']['value']\n",
    "    project_df = pd.DataFrame()\n",
    "    for pro in project:\n",
    "        df = json_normalize(pro['value'])\n",
    "        df['label'] = pro['label']\n",
    "        df['type'] = 'projects'\n",
    "        project_df = pd.concat([project_df, df], ignore_index = True)\n",
    "    return project_df"
   ]
  },
  {
   "cell_type": "code",
   "execution_count": 50,
   "id": "542676fa-9ab4-4599-9d98-2065703b6b5f",
   "metadata": {},
   "outputs": [
    {
     "data": {
      "text/html": [
       "<div>\n",
       "<style scoped>\n",
       "    .dataframe tbody tr th:only-of-type {\n",
       "        vertical-align: middle;\n",
       "    }\n",
       "\n",
       "    .dataframe tbody tr th {\n",
       "        vertical-align: top;\n",
       "    }\n",
       "\n",
       "    .dataframe thead th {\n",
       "        text-align: right;\n",
       "    }\n",
       "</style>\n",
       "<table border=\"1\" class=\"dataframe\">\n",
       "  <thead>\n",
       "    <tr style=\"text-align: right;\">\n",
       "      <th></th>\n",
       "    </tr>\n",
       "  </thead>\n",
       "  <tbody>\n",
       "  </tbody>\n",
       "</table>\n",
       "</div>"
      ],
      "text/plain": [
       "Empty DataFrame\n",
       "Columns: []\n",
       "Index: []"
      ]
     },
     "execution_count": 50,
     "metadata": {},
     "output_type": "execute_result"
    }
   ],
   "source": [
    "get_projects_df(resumes[0])"
   ]
  },
  {
   "cell_type": "markdown",
   "id": "988dee02-f3f9-4125-ad9a-d3dcefaeb8d2",
   "metadata": {},
   "source": [
    "## Soft skill function"
   ]
  },
  {
   "cell_type": "code",
   "execution_count": 51,
   "id": "ec8069b2-0ae6-4eb2-99bf-b46fe34fa315",
   "metadata": {},
   "outputs": [
    {
     "name": "stdout",
     "output_type": "stream",
     "text": [
      "{'value': [], 'label': 0}\n"
     ]
    }
   ],
   "source": [
    "print(resumes[0]['softSkills'])"
   ]
  },
  {
   "cell_type": "code",
   "execution_count": 52,
   "id": "64805e5e-f1b9-49a8-be34-febce1b97dd0",
   "metadata": {},
   "outputs": [],
   "source": [
    "def get_soft_skills_df(resume: Dict) -> pd.DataFrame:\n",
    "    soft_skill = resume['softSkills']['value']\n",
    "    soft_skill_df = pd.DataFrame()\n",
    "    for ss in soft_skill:\n",
    "        df = json_normalize(ss['value'])\n",
    "        df['label'] = ss['label']\n",
    "        df['type'] = 'softSkills'\n",
    "        soft_skill_df = pd.concat([soft_skill_df, df], ignore_index = True)\n",
    "    return soft_skill_df"
   ]
  },
  {
   "cell_type": "code",
   "execution_count": 53,
   "id": "0970b0b5-1ea4-4fad-8da4-017ced6ac192",
   "metadata": {},
   "outputs": [
    {
     "data": {
      "text/html": [
       "<div>\n",
       "<style scoped>\n",
       "    .dataframe tbody tr th:only-of-type {\n",
       "        vertical-align: middle;\n",
       "    }\n",
       "\n",
       "    .dataframe tbody tr th {\n",
       "        vertical-align: top;\n",
       "    }\n",
       "\n",
       "    .dataframe thead th {\n",
       "        text-align: right;\n",
       "    }\n",
       "</style>\n",
       "<table border=\"1\" class=\"dataframe\">\n",
       "  <thead>\n",
       "    <tr style=\"text-align: right;\">\n",
       "      <th></th>\n",
       "    </tr>\n",
       "  </thead>\n",
       "  <tbody>\n",
       "  </tbody>\n",
       "</table>\n",
       "</div>"
      ],
      "text/plain": [
       "Empty DataFrame\n",
       "Columns: []\n",
       "Index: []"
      ]
     },
     "execution_count": 53,
     "metadata": {},
     "output_type": "execute_result"
    }
   ],
   "source": [
    "get_soft_skills_df(resumes[0])"
   ]
  },
  {
   "cell_type": "markdown",
   "id": "27efed92-14ba-48fd-9909-0e6094fce93e",
   "metadata": {},
   "source": [
    "## Hard skill function"
   ]
  },
  {
   "cell_type": "code",
   "execution_count": 54,
   "id": "4b5589cf-c0bb-48de-9be7-d8d0f8f179bb",
   "metadata": {},
   "outputs": [
    {
     "name": "stdout",
     "output_type": "stream",
     "text": [
      "{'value': [{'value': {'name': 'Machine Learning', 'proficiency': 5}, 'label': 0}, {'value': {'name': 'Python', 'proficiency': 5}, 'label': 0}, {'value': {'name': 'Deep Learning', 'proficiency': 5}, 'label': 0}], 'label': 0}\n"
     ]
    }
   ],
   "source": [
    "print(resumes[0]['hardSkills'])"
   ]
  },
  {
   "cell_type": "code",
   "execution_count": 55,
   "id": "58b6d4e5-dcdd-4c5d-a174-cb71be4cfb90",
   "metadata": {},
   "outputs": [],
   "source": [
    "def get_hard_skills_df(resume: Dict) -> pd.DataFrame:\n",
    "    hard_skill = resume['hardSkills']['value']\n",
    "    hard_skill_df = pd.DataFrame()\n",
    "    for hs in hard_skill:\n",
    "        df = json_normalize(hs['value'])\n",
    "        df['label'] = hs['label']\n",
    "        df['type'] = 'hardSkills'\n",
    "        hard_skill_df = pd.concat([hard_skill_df, df], ignore_index = True)\n",
    "    return hard_skill_df"
   ]
  },
  {
   "cell_type": "code",
   "execution_count": 56,
   "id": "cb933e5e-13e3-4691-8913-3809a79dd8c6",
   "metadata": {},
   "outputs": [
    {
     "data": {
      "text/html": [
       "<div>\n",
       "<style scoped>\n",
       "    .dataframe tbody tr th:only-of-type {\n",
       "        vertical-align: middle;\n",
       "    }\n",
       "\n",
       "    .dataframe tbody tr th {\n",
       "        vertical-align: top;\n",
       "    }\n",
       "\n",
       "    .dataframe thead th {\n",
       "        text-align: right;\n",
       "    }\n",
       "</style>\n",
       "<table border=\"1\" class=\"dataframe\">\n",
       "  <thead>\n",
       "    <tr style=\"text-align: right;\">\n",
       "      <th></th>\n",
       "      <th>name</th>\n",
       "      <th>proficiency</th>\n",
       "      <th>label</th>\n",
       "      <th>type</th>\n",
       "    </tr>\n",
       "  </thead>\n",
       "  <tbody>\n",
       "    <tr>\n",
       "      <th>0</th>\n",
       "      <td>Machine Learning</td>\n",
       "      <td>5</td>\n",
       "      <td>0</td>\n",
       "      <td>hardSkills</td>\n",
       "    </tr>\n",
       "    <tr>\n",
       "      <th>1</th>\n",
       "      <td>Python</td>\n",
       "      <td>5</td>\n",
       "      <td>0</td>\n",
       "      <td>hardSkills</td>\n",
       "    </tr>\n",
       "    <tr>\n",
       "      <th>2</th>\n",
       "      <td>Deep Learning</td>\n",
       "      <td>5</td>\n",
       "      <td>0</td>\n",
       "      <td>hardSkills</td>\n",
       "    </tr>\n",
       "  </tbody>\n",
       "</table>\n",
       "</div>"
      ],
      "text/plain": [
       "               name  proficiency  label        type\n",
       "0  Machine Learning            5      0  hardSkills\n",
       "1            Python            5      0  hardSkills\n",
       "2     Deep Learning            5      0  hardSkills"
      ]
     },
     "execution_count": 56,
     "metadata": {},
     "output_type": "execute_result"
    }
   ],
   "source": [
    "get_hard_skills_df(resumes[0])"
   ]
  },
  {
   "cell_type": "markdown",
   "id": "286eed58-d3e9-4fd9-a809-7215f4cb51e8",
   "metadata": {},
   "source": [
    "## Certification function"
   ]
  },
  {
   "cell_type": "code",
   "execution_count": 57,
   "id": "c1cf4cee-3641-4d9d-9279-45adeaa4b8dd",
   "metadata": {},
   "outputs": [
    {
     "name": "stdout",
     "output_type": "stream",
     "text": [
      "{'value': [], 'label': 0}\n"
     ]
    }
   ],
   "source": [
    "print(resumes[0]['certifications'])"
   ]
  },
  {
   "cell_type": "code",
   "execution_count": 58,
   "id": "d647181c-3a80-46ee-a588-19f3d32c1d1e",
   "metadata": {},
   "outputs": [],
   "source": [
    "def get_certifications_df(resume: Dict) -> pd.DataFrame:\n",
    "    certification = resume['certifications']['value']\n",
    "    certification_df = pd.DataFrame()\n",
    "    for cert in certification:\n",
    "        df = json_normalize(cert['value'])\n",
    "        df['label'] = cert['label']\n",
    "        df['type'] = 'certifications'\n",
    "        certificiation_df = pd.concat([certification_df, df], ignore_index = True)\n",
    "    return certification_df"
   ]
  },
  {
   "cell_type": "code",
   "execution_count": 59,
   "id": "3ff8615f-7278-48f6-a38a-ec6c3ca3907d",
   "metadata": {},
   "outputs": [
    {
     "data": {
      "text/html": [
       "<div>\n",
       "<style scoped>\n",
       "    .dataframe tbody tr th:only-of-type {\n",
       "        vertical-align: middle;\n",
       "    }\n",
       "\n",
       "    .dataframe tbody tr th {\n",
       "        vertical-align: top;\n",
       "    }\n",
       "\n",
       "    .dataframe thead th {\n",
       "        text-align: right;\n",
       "    }\n",
       "</style>\n",
       "<table border=\"1\" class=\"dataframe\">\n",
       "  <thead>\n",
       "    <tr style=\"text-align: right;\">\n",
       "      <th></th>\n",
       "    </tr>\n",
       "  </thead>\n",
       "  <tbody>\n",
       "  </tbody>\n",
       "</table>\n",
       "</div>"
      ],
      "text/plain": [
       "Empty DataFrame\n",
       "Columns: []\n",
       "Index: []"
      ]
     },
     "execution_count": 59,
     "metadata": {},
     "output_type": "execute_result"
    }
   ],
   "source": [
    "get_certifications_df(resumes[0])"
   ]
  },
  {
   "cell_type": "markdown",
   "id": "273ea1d8-f86b-4acc-b170-a5ae17ac57ae",
   "metadata": {},
   "source": [
    "## Patents function"
   ]
  },
  {
   "cell_type": "code",
   "execution_count": 60,
   "id": "00291868-737e-4152-b4a2-de8159389219",
   "metadata": {},
   "outputs": [
    {
     "name": "stdout",
     "output_type": "stream",
     "text": [
      "{'value': [], 'label': 0}\n"
     ]
    }
   ],
   "source": [
    "print(resumes[0]['patents'])"
   ]
  },
  {
   "cell_type": "code",
   "execution_count": 61,
   "id": "b92099d5-29a1-44ad-9d5b-11d7de59f1df",
   "metadata": {},
   "outputs": [],
   "source": [
    "def get_patents_df(resume: Dict) -> pd.DataFrame:\n",
    "    patent = resume['patents']['value']\n",
    "    patent_df = pd.DataFrame()\n",
    "    for p in patent:\n",
    "        df = json_normalize(p)\n",
    "        df['label'] = p['label']\n",
    "        df['type'] = 'patents'\n",
    "        patent_df = pd.concat([patent_df, df], ignore_index = True)\n",
    "    return patent_df"
   ]
  },
  {
   "cell_type": "code",
   "execution_count": 62,
   "id": "c0a41bc8-994c-4a05-a961-36472cbcfd2e",
   "metadata": {},
   "outputs": [
    {
     "data": {
      "text/html": [
       "<div>\n",
       "<style scoped>\n",
       "    .dataframe tbody tr th:only-of-type {\n",
       "        vertical-align: middle;\n",
       "    }\n",
       "\n",
       "    .dataframe tbody tr th {\n",
       "        vertical-align: top;\n",
       "    }\n",
       "\n",
       "    .dataframe thead th {\n",
       "        text-align: right;\n",
       "    }\n",
       "</style>\n",
       "<table border=\"1\" class=\"dataframe\">\n",
       "  <thead>\n",
       "    <tr style=\"text-align: right;\">\n",
       "      <th></th>\n",
       "    </tr>\n",
       "  </thead>\n",
       "  <tbody>\n",
       "  </tbody>\n",
       "</table>\n",
       "</div>"
      ],
      "text/plain": [
       "Empty DataFrame\n",
       "Columns: []\n",
       "Index: []"
      ]
     },
     "execution_count": 62,
     "metadata": {},
     "output_type": "execute_result"
    }
   ],
   "source": [
    "get_patents_df(resumes[0])"
   ]
  },
  {
   "cell_type": "markdown",
   "id": "91a04268-441a-402d-8896-5eb4552eb99a",
   "metadata": {},
   "source": [
    "## Extracurricular function"
   ]
  },
  {
   "cell_type": "code",
   "execution_count": 63,
   "id": "76928cd8-bbb9-429a-ae56-3a0fde35d57d",
   "metadata": {},
   "outputs": [
    {
     "name": "stdout",
     "output_type": "stream",
     "text": [
      "{'value': [], 'label': 0}\n"
     ]
    }
   ],
   "source": [
    "print(resumes[0]['extracurriculars'])"
   ]
  },
  {
   "cell_type": "code",
   "execution_count": 64,
   "id": "b25fca9b-1136-44f7-a47a-4d865130587f",
   "metadata": {},
   "outputs": [],
   "source": [
    "def get_extracurricular_df(resume: Dict) -> pd.DataFrame:\n",
    "    extracurricular = resume['extracurriculars']['value']\n",
    "    extracurricular_df = pd.DataFrame()\n",
    "    for extra in extracurricular:\n",
    "        df = json_normalize(extra['value'])\n",
    "        df['label'] = extra['label']\n",
    "        df['type'] = 'extracurriculars'\n",
    "        extracurricular_df = pd.concat([extracurricular_df, df], ignore_index = True)\n",
    "    return extracurricular_df"
   ]
  },
  {
   "cell_type": "code",
   "execution_count": 65,
   "id": "a01ab8a3-c098-4a5c-a3d4-ae500cc5a77f",
   "metadata": {},
   "outputs": [
    {
     "data": {
      "text/html": [
       "<div>\n",
       "<style scoped>\n",
       "    .dataframe tbody tr th:only-of-type {\n",
       "        vertical-align: middle;\n",
       "    }\n",
       "\n",
       "    .dataframe tbody tr th {\n",
       "        vertical-align: top;\n",
       "    }\n",
       "\n",
       "    .dataframe thead th {\n",
       "        text-align: right;\n",
       "    }\n",
       "</style>\n",
       "<table border=\"1\" class=\"dataframe\">\n",
       "  <thead>\n",
       "    <tr style=\"text-align: right;\">\n",
       "      <th></th>\n",
       "    </tr>\n",
       "  </thead>\n",
       "  <tbody>\n",
       "  </tbody>\n",
       "</table>\n",
       "</div>"
      ],
      "text/plain": [
       "Empty DataFrame\n",
       "Columns: []\n",
       "Index: []"
      ]
     },
     "execution_count": 65,
     "metadata": {},
     "output_type": "execute_result"
    }
   ],
   "source": [
    "get_extracurricular_df(resumes[0])"
   ]
  },
  {
   "cell_type": "markdown",
   "id": "4ba80094-6840-44bd-8003-5cd570616649",
   "metadata": {},
   "source": [
    "## Combine all functions in one"
   ]
  },
  {
   "cell_type": "code",
   "execution_count": 66,
   "id": "f25f8794-ec16-46e6-888e-3ebcc2c6016a",
   "metadata": {},
   "outputs": [],
   "source": [
    "def create_df(resume: Dict) -> pd.DataFrame:\n",
    "    contact_info_df = get_contact_info_df(resume)\n",
    "    experience_df = get_experience_df(resume)\n",
    "    education_df = get_education_df(resume)\n",
    "    interest_df = get_interests_df(resume)\n",
    "    accomplishment_df = get_accomplishments_df(resume)\n",
    "    language_df = get_languages_df(resume)\n",
    "    project_df = get_projects_df(resume)\n",
    "    soft_skill_df = get_soft_skills_df(resume)\n",
    "    hard_skill_df = get_hard_skills_df(resume)\n",
    "    certification_df = get_certifications_df(resume)\n",
    "    patent_df = get_patents_df(resume)\n",
    "    extracurricular_df = get_extracurricular_df(resume)\n",
    "    total_df = pd.concat([contact_info_df, experience_df, education_df, interest_df, accomplishment_df, language_df, project_df, soft_skill_df, hard_skill_df, certification_df, patent_df, extracurricular_df], ignore_index = True)\n",
    "    return total_df\n",
    "    \n",
    "    "
   ]
  },
  {
   "cell_type": "code",
   "execution_count": 67,
   "id": "720683c5-9c82-4186-ba11-4762bce0a415",
   "metadata": {},
   "outputs": [
    {
     "name": "stdout",
     "output_type": "stream",
     "text": [
      "731 days, 0:00:00\n",
      "1827 days, 0:00:00\n"
     ]
    },
    {
     "data": {
      "text/html": [
       "<div>\n",
       "<style scoped>\n",
       "    .dataframe tbody tr th:only-of-type {\n",
       "        vertical-align: middle;\n",
       "    }\n",
       "\n",
       "    .dataframe tbody tr th {\n",
       "        vertical-align: top;\n",
       "    }\n",
       "\n",
       "    .dataframe thead th {\n",
       "        text-align: right;\n",
       "    }\n",
       "</style>\n",
       "<table border=\"1\" class=\"dataframe\">\n",
       "  <thead>\n",
       "    <tr style=\"text-align: right;\">\n",
       "      <th></th>\n",
       "      <th>address</th>\n",
       "      <th>website</th>\n",
       "      <th>linkedin</th>\n",
       "      <th>name</th>\n",
       "      <th>phoneNumber</th>\n",
       "      <th>email</th>\n",
       "      <th>github</th>\n",
       "      <th>birthday</th>\n",
       "      <th>family</th>\n",
       "      <th>type</th>\n",
       "      <th>...</th>\n",
       "      <th>location</th>\n",
       "      <th>fromDate</th>\n",
       "      <th>toDate</th>\n",
       "      <th>description</th>\n",
       "      <th>label</th>\n",
       "      <th>duration</th>\n",
       "      <th>time_since</th>\n",
       "      <th>institution</th>\n",
       "      <th>value</th>\n",
       "      <th>proficiency</th>\n",
       "    </tr>\n",
       "  </thead>\n",
       "  <tbody>\n",
       "    <tr>\n",
       "      <th>0</th>\n",
       "      <td>Abraham Lincoln Street 1, Chicago, IL</td>\n",
       "      <td>my-website.com</td>\n",
       "      <td>linkedin.com/in/me123</td>\n",
       "      <td>Monica Music</td>\n",
       "      <td>01012345</td>\n",
       "      <td>monica@music.co.kr</td>\n",
       "      <td>monicamusic123</td>\n",
       "      <td>24 December 1985</td>\n",
       "      <td>5 kids, divorced</td>\n",
       "      <td>contactInfo</td>\n",
       "      <td>...</td>\n",
       "      <td>NaN</td>\n",
       "      <td>NaN</td>\n",
       "      <td>NaN</td>\n",
       "      <td>NaN</td>\n",
       "      <td>NaN</td>\n",
       "      <td>NaN</td>\n",
       "      <td>NaN</td>\n",
       "      <td>NaN</td>\n",
       "      <td>NaN</td>\n",
       "      <td>NaN</td>\n",
       "    </tr>\n",
       "    <tr>\n",
       "      <th>1</th>\n",
       "      <td>NaN</td>\n",
       "      <td>NaN</td>\n",
       "      <td>NaN</td>\n",
       "      <td>NaN</td>\n",
       "      <td>NaN</td>\n",
       "      <td>NaN</td>\n",
       "      <td>NaN</td>\n",
       "      <td>NaN</td>\n",
       "      <td>NaN</td>\n",
       "      <td>experience</td>\n",
       "      <td>...</td>\n",
       "      <td>Berlin, Berlin, Germany</td>\n",
       "      <td>October 2017</td>\n",
       "      <td>Present</td>\n",
       "      <td>Deep Learning Center of Exellence</td>\n",
       "      <td>0.0</td>\n",
       "      <td>62.0</td>\n",
       "      <td>0.0</td>\n",
       "      <td>NaN</td>\n",
       "      <td>NaN</td>\n",
       "      <td>NaN</td>\n",
       "    </tr>\n",
       "    <tr>\n",
       "      <th>2</th>\n",
       "      <td>NaN</td>\n",
       "      <td>NaN</td>\n",
       "      <td>NaN</td>\n",
       "      <td>NaN</td>\n",
       "      <td>NaN</td>\n",
       "      <td>NaN</td>\n",
       "      <td>NaN</td>\n",
       "      <td>NaN</td>\n",
       "      <td>NaN</td>\n",
       "      <td>experience</td>\n",
       "      <td>...</td>\n",
       "      <td>Berlin, Berlin, Germany</td>\n",
       "      <td>March 2017</td>\n",
       "      <td>August 2017</td>\n",
       "      <td>Machine Translation Engineering team</td>\n",
       "      <td>0.0</td>\n",
       "      <td>5.0</td>\n",
       "      <td>64.0</td>\n",
       "      <td>NaN</td>\n",
       "      <td>NaN</td>\n",
       "      <td>NaN</td>\n",
       "    </tr>\n",
       "    <tr>\n",
       "      <th>3</th>\n",
       "      <td>NaN</td>\n",
       "      <td>NaN</td>\n",
       "      <td>NaN</td>\n",
       "      <td>NaN</td>\n",
       "      <td>NaN</td>\n",
       "      <td>NaN</td>\n",
       "      <td>NaN</td>\n",
       "      <td>NaN</td>\n",
       "      <td>NaN</td>\n",
       "      <td>experience</td>\n",
       "      <td>...</td>\n",
       "      <td>Suwon, South Korea</td>\n",
       "      <td>January 2013</td>\n",
       "      <td>anuary 2015</td>\n",
       "      <td>Computer Vision Lab, DMC Research Center - Com...</td>\n",
       "      <td>0.0</td>\n",
       "      <td>12.0</td>\n",
       "      <td>12.0</td>\n",
       "      <td>NaN</td>\n",
       "      <td>NaN</td>\n",
       "      <td>NaN</td>\n",
       "    </tr>\n",
       "    <tr>\n",
       "      <th>4</th>\n",
       "      <td>NaN</td>\n",
       "      <td>NaN</td>\n",
       "      <td>NaN</td>\n",
       "      <td>NaN</td>\n",
       "      <td>NaN</td>\n",
       "      <td>NaN</td>\n",
       "      <td>NaN</td>\n",
       "      <td>NaN</td>\n",
       "      <td>NaN</td>\n",
       "      <td>experience</td>\n",
       "      <td>...</td>\n",
       "      <td>Seoul, South Korea</td>\n",
       "      <td>February 2012</td>\n",
       "      <td>July 2012</td>\n",
       "      <td>Database Security Team, Developed Java module ...</td>\n",
       "      <td>0.0</td>\n",
       "      <td>5.0</td>\n",
       "      <td>126.0</td>\n",
       "      <td>NaN</td>\n",
       "      <td>NaN</td>\n",
       "      <td>NaN</td>\n",
       "    </tr>\n",
       "    <tr>\n",
       "      <th>5</th>\n",
       "      <td>NaN</td>\n",
       "      <td>NaN</td>\n",
       "      <td>NaN</td>\n",
       "      <td>NaN</td>\n",
       "      <td>NaN</td>\n",
       "      <td>NaN</td>\n",
       "      <td>NaN</td>\n",
       "      <td>NaN</td>\n",
       "      <td>NaN</td>\n",
       "      <td>education</td>\n",
       "      <td>...</td>\n",
       "      <td>Korea</td>\n",
       "      <td>2015</td>\n",
       "      <td>2017</td>\n",
       "      <td></td>\n",
       "      <td>0.0</td>\n",
       "      <td>24.0</td>\n",
       "      <td>71.0</td>\n",
       "      <td>Korea Advanced Institute of Science and Techno...</td>\n",
       "      <td>NaN</td>\n",
       "      <td>NaN</td>\n",
       "    </tr>\n",
       "    <tr>\n",
       "      <th>6</th>\n",
       "      <td>NaN</td>\n",
       "      <td>NaN</td>\n",
       "      <td>NaN</td>\n",
       "      <td>NaN</td>\n",
       "      <td>NaN</td>\n",
       "      <td>NaN</td>\n",
       "      <td>NaN</td>\n",
       "      <td>NaN</td>\n",
       "      <td>NaN</td>\n",
       "      <td>education</td>\n",
       "      <td>...</td>\n",
       "      <td>Korea</td>\n",
       "      <td>2008</td>\n",
       "      <td>2013</td>\n",
       "      <td></td>\n",
       "      <td>0.0</td>\n",
       "      <td>60.0</td>\n",
       "      <td>120.0</td>\n",
       "      <td>POSTECH</td>\n",
       "      <td>NaN</td>\n",
       "      <td>NaN</td>\n",
       "    </tr>\n",
       "    <tr>\n",
       "      <th>7</th>\n",
       "      <td>NaN</td>\n",
       "      <td>NaN</td>\n",
       "      <td>NaN</td>\n",
       "      <td>NaN</td>\n",
       "      <td>NaN</td>\n",
       "      <td>NaN</td>\n",
       "      <td>NaN</td>\n",
       "      <td>NaN</td>\n",
       "      <td>NaN</td>\n",
       "      <td>interests</td>\n",
       "      <td>...</td>\n",
       "      <td>NaN</td>\n",
       "      <td>NaN</td>\n",
       "      <td>NaN</td>\n",
       "      <td>NaN</td>\n",
       "      <td>0.0</td>\n",
       "      <td>NaN</td>\n",
       "      <td>NaN</td>\n",
       "      <td>NaN</td>\n",
       "      <td>Data Analysis</td>\n",
       "      <td>NaN</td>\n",
       "    </tr>\n",
       "    <tr>\n",
       "      <th>8</th>\n",
       "      <td>NaN</td>\n",
       "      <td>NaN</td>\n",
       "      <td>NaN</td>\n",
       "      <td>English</td>\n",
       "      <td>NaN</td>\n",
       "      <td>NaN</td>\n",
       "      <td>NaN</td>\n",
       "      <td>NaN</td>\n",
       "      <td>NaN</td>\n",
       "      <td>languages</td>\n",
       "      <td>...</td>\n",
       "      <td>NaN</td>\n",
       "      <td>NaN</td>\n",
       "      <td>NaN</td>\n",
       "      <td>NaN</td>\n",
       "      <td>0.0</td>\n",
       "      <td>NaN</td>\n",
       "      <td>NaN</td>\n",
       "      <td>NaN</td>\n",
       "      <td>NaN</td>\n",
       "      <td>4.0</td>\n",
       "    </tr>\n",
       "    <tr>\n",
       "      <th>9</th>\n",
       "      <td>NaN</td>\n",
       "      <td>NaN</td>\n",
       "      <td>NaN</td>\n",
       "      <td>Korean</td>\n",
       "      <td>NaN</td>\n",
       "      <td>NaN</td>\n",
       "      <td>NaN</td>\n",
       "      <td>NaN</td>\n",
       "      <td>NaN</td>\n",
       "      <td>languages</td>\n",
       "      <td>...</td>\n",
       "      <td>NaN</td>\n",
       "      <td>NaN</td>\n",
       "      <td>NaN</td>\n",
       "      <td>NaN</td>\n",
       "      <td>0.0</td>\n",
       "      <td>NaN</td>\n",
       "      <td>NaN</td>\n",
       "      <td>NaN</td>\n",
       "      <td>NaN</td>\n",
       "      <td>5.0</td>\n",
       "    </tr>\n",
       "    <tr>\n",
       "      <th>10</th>\n",
       "      <td>NaN</td>\n",
       "      <td>NaN</td>\n",
       "      <td>NaN</td>\n",
       "      <td>Machine Learning</td>\n",
       "      <td>NaN</td>\n",
       "      <td>NaN</td>\n",
       "      <td>NaN</td>\n",
       "      <td>NaN</td>\n",
       "      <td>NaN</td>\n",
       "      <td>hardSkills</td>\n",
       "      <td>...</td>\n",
       "      <td>NaN</td>\n",
       "      <td>NaN</td>\n",
       "      <td>NaN</td>\n",
       "      <td>NaN</td>\n",
       "      <td>0.0</td>\n",
       "      <td>NaN</td>\n",
       "      <td>NaN</td>\n",
       "      <td>NaN</td>\n",
       "      <td>NaN</td>\n",
       "      <td>5.0</td>\n",
       "    </tr>\n",
       "    <tr>\n",
       "      <th>11</th>\n",
       "      <td>NaN</td>\n",
       "      <td>NaN</td>\n",
       "      <td>NaN</td>\n",
       "      <td>Python</td>\n",
       "      <td>NaN</td>\n",
       "      <td>NaN</td>\n",
       "      <td>NaN</td>\n",
       "      <td>NaN</td>\n",
       "      <td>NaN</td>\n",
       "      <td>hardSkills</td>\n",
       "      <td>...</td>\n",
       "      <td>NaN</td>\n",
       "      <td>NaN</td>\n",
       "      <td>NaN</td>\n",
       "      <td>NaN</td>\n",
       "      <td>0.0</td>\n",
       "      <td>NaN</td>\n",
       "      <td>NaN</td>\n",
       "      <td>NaN</td>\n",
       "      <td>NaN</td>\n",
       "      <td>5.0</td>\n",
       "    </tr>\n",
       "    <tr>\n",
       "      <th>12</th>\n",
       "      <td>NaN</td>\n",
       "      <td>NaN</td>\n",
       "      <td>NaN</td>\n",
       "      <td>Deep Learning</td>\n",
       "      <td>NaN</td>\n",
       "      <td>NaN</td>\n",
       "      <td>NaN</td>\n",
       "      <td>NaN</td>\n",
       "      <td>NaN</td>\n",
       "      <td>hardSkills</td>\n",
       "      <td>...</td>\n",
       "      <td>NaN</td>\n",
       "      <td>NaN</td>\n",
       "      <td>NaN</td>\n",
       "      <td>NaN</td>\n",
       "      <td>0.0</td>\n",
       "      <td>NaN</td>\n",
       "      <td>NaN</td>\n",
       "      <td>NaN</td>\n",
       "      <td>NaN</td>\n",
       "      <td>5.0</td>\n",
       "    </tr>\n",
       "  </tbody>\n",
       "</table>\n",
       "<p>13 rows × 22 columns</p>\n",
       "</div>"
      ],
      "text/plain": [
       "                                  address         website  \\\n",
       "0   Abraham Lincoln Street 1, Chicago, IL  my-website.com   \n",
       "1                                     NaN             NaN   \n",
       "2                                     NaN             NaN   \n",
       "3                                     NaN             NaN   \n",
       "4                                     NaN             NaN   \n",
       "5                                     NaN             NaN   \n",
       "6                                     NaN             NaN   \n",
       "7                                     NaN             NaN   \n",
       "8                                     NaN             NaN   \n",
       "9                                     NaN             NaN   \n",
       "10                                    NaN             NaN   \n",
       "11                                    NaN             NaN   \n",
       "12                                    NaN             NaN   \n",
       "\n",
       "                 linkedin              name phoneNumber               email  \\\n",
       "0   linkedin.com/in/me123      Monica Music    01012345  monica@music.co.kr   \n",
       "1                     NaN               NaN         NaN                 NaN   \n",
       "2                     NaN               NaN         NaN                 NaN   \n",
       "3                     NaN               NaN         NaN                 NaN   \n",
       "4                     NaN               NaN         NaN                 NaN   \n",
       "5                     NaN               NaN         NaN                 NaN   \n",
       "6                     NaN               NaN         NaN                 NaN   \n",
       "7                     NaN               NaN         NaN                 NaN   \n",
       "8                     NaN           English         NaN                 NaN   \n",
       "9                     NaN            Korean         NaN                 NaN   \n",
       "10                    NaN  Machine Learning         NaN                 NaN   \n",
       "11                    NaN            Python         NaN                 NaN   \n",
       "12                    NaN     Deep Learning         NaN                 NaN   \n",
       "\n",
       "            github          birthday            family         type  ...  \\\n",
       "0   monicamusic123  24 December 1985  5 kids, divorced  contactInfo  ...   \n",
       "1              NaN               NaN               NaN   experience  ...   \n",
       "2              NaN               NaN               NaN   experience  ...   \n",
       "3              NaN               NaN               NaN   experience  ...   \n",
       "4              NaN               NaN               NaN   experience  ...   \n",
       "5              NaN               NaN               NaN    education  ...   \n",
       "6              NaN               NaN               NaN    education  ...   \n",
       "7              NaN               NaN               NaN    interests  ...   \n",
       "8              NaN               NaN               NaN    languages  ...   \n",
       "9              NaN               NaN               NaN    languages  ...   \n",
       "10             NaN               NaN               NaN   hardSkills  ...   \n",
       "11             NaN               NaN               NaN   hardSkills  ...   \n",
       "12             NaN               NaN               NaN   hardSkills  ...   \n",
       "\n",
       "                   location       fromDate       toDate  \\\n",
       "0                       NaN            NaN          NaN   \n",
       "1   Berlin, Berlin, Germany   October 2017      Present   \n",
       "2   Berlin, Berlin, Germany     March 2017  August 2017   \n",
       "3        Suwon, South Korea   January 2013  anuary 2015   \n",
       "4        Seoul, South Korea  February 2012    July 2012   \n",
       "5                     Korea           2015         2017   \n",
       "6                     Korea           2008         2013   \n",
       "7                       NaN            NaN          NaN   \n",
       "8                       NaN            NaN          NaN   \n",
       "9                       NaN            NaN          NaN   \n",
       "10                      NaN            NaN          NaN   \n",
       "11                      NaN            NaN          NaN   \n",
       "12                      NaN            NaN          NaN   \n",
       "\n",
       "                                          description label duration  \\\n",
       "0                                                 NaN   NaN      NaN   \n",
       "1                   Deep Learning Center of Exellence   0.0     62.0   \n",
       "2                Machine Translation Engineering team   0.0      5.0   \n",
       "3   Computer Vision Lab, DMC Research Center - Com...   0.0     12.0   \n",
       "4   Database Security Team, Developed Java module ...   0.0      5.0   \n",
       "5                                                       0.0     24.0   \n",
       "6                                                       0.0     60.0   \n",
       "7                                                 NaN   0.0      NaN   \n",
       "8                                                 NaN   0.0      NaN   \n",
       "9                                                 NaN   0.0      NaN   \n",
       "10                                                NaN   0.0      NaN   \n",
       "11                                                NaN   0.0      NaN   \n",
       "12                                                NaN   0.0      NaN   \n",
       "\n",
       "    time_since                                        institution  \\\n",
       "0          NaN                                                NaN   \n",
       "1          0.0                                                NaN   \n",
       "2         64.0                                                NaN   \n",
       "3         12.0                                                NaN   \n",
       "4        126.0                                                NaN   \n",
       "5         71.0  Korea Advanced Institute of Science and Techno...   \n",
       "6        120.0                                            POSTECH   \n",
       "7          NaN                                                NaN   \n",
       "8          NaN                                                NaN   \n",
       "9          NaN                                                NaN   \n",
       "10         NaN                                                NaN   \n",
       "11         NaN                                                NaN   \n",
       "12         NaN                                                NaN   \n",
       "\n",
       "            value proficiency  \n",
       "0             NaN         NaN  \n",
       "1             NaN         NaN  \n",
       "2             NaN         NaN  \n",
       "3             NaN         NaN  \n",
       "4             NaN         NaN  \n",
       "5             NaN         NaN  \n",
       "6             NaN         NaN  \n",
       "7   Data Analysis         NaN  \n",
       "8             NaN         4.0  \n",
       "9             NaN         5.0  \n",
       "10            NaN         5.0  \n",
       "11            NaN         5.0  \n",
       "12            NaN         5.0  \n",
       "\n",
       "[13 rows x 22 columns]"
      ]
     },
     "execution_count": 67,
     "metadata": {},
     "output_type": "execute_result"
    }
   ],
   "source": [
    "create_df(resumes[0])"
   ]
  },
  {
   "cell_type": "code",
   "execution_count": null,
   "id": "4caf5c2b-77aa-4f19-8142-c128d286b1b8",
   "metadata": {},
   "outputs": [],
   "source": []
  }
 ],
 "metadata": {
  "environment": {
   "kernel": "python3",
   "name": "pytorch-gpu.1-12.m99",
   "type": "gcloud",
   "uri": "gcr.io/deeplearning-platform-release/pytorch-gpu.1-12:m99"
  },
  "kernelspec": {
   "display_name": "Python 3",
   "language": "python",
   "name": "python3"
  },
  "language_info": {
   "codemirror_mode": {
    "name": "ipython",
    "version": 3
   },
   "file_extension": ".py",
   "mimetype": "text/x-python",
   "name": "python",
   "nbconvert_exporter": "python",
   "pygments_lexer": "ipython3",
   "version": "3.7.12"
  }
 },
 "nbformat": 4,
 "nbformat_minor": 5
}
