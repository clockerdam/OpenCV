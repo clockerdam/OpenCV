{
 "cells": [
  {
   "cell_type": "code",
   "execution_count": 12,
   "metadata": {},
   "outputs": [
    {
     "name": "stdout",
     "output_type": "stream",
     "text": [
      "Collecting en-core-web-sm==3.4.1\n",
      "  Downloading https://github.com/explosion/spacy-models/releases/download/en_core_web_sm-3.4.1/en_core_web_sm-3.4.1-py3-none-any.whl (12.8 MB)\n",
      "\u001b[2K     \u001b[90m━━━━━━━━━━━━━━━━━━━━━━━━━━━━━━━━━━━━━━━━\u001b[0m \u001b[32m12.8/12.8 MB\u001b[0m \u001b[31m74.7 MB/s\u001b[0m eta \u001b[36m0:00:00\u001b[0m00:01\u001b[0m0:01\u001b[0m\n",
      "\u001b[?25hRequirement already satisfied: spacy<3.5.0,>=3.4.0 in /opt/conda/lib/python3.7/site-packages (from en-core-web-sm==3.4.1) (3.4.2)\n",
      "Requirement already satisfied: preshed<3.1.0,>=3.0.2 in /opt/conda/lib/python3.7/site-packages (from spacy<3.5.0,>=3.4.0->en-core-web-sm==3.4.1) (3.0.8)\n",
      "Requirement already satisfied: jinja2 in /opt/conda/lib/python3.7/site-packages (from spacy<3.5.0,>=3.4.0->en-core-web-sm==3.4.1) (3.1.2)\n",
      "Requirement already satisfied: typing-extensions<4.2.0,>=3.7.4 in /opt/conda/lib/python3.7/site-packages (from spacy<3.5.0,>=3.4.0->en-core-web-sm==3.4.1) (4.1.1)\n",
      "Requirement already satisfied: packaging>=20.0 in /home/oyvimons/.local/lib/python3.7/site-packages (from spacy<3.5.0,>=3.4.0->en-core-web-sm==3.4.1) (21.3)\n",
      "Requirement already satisfied: srsly<3.0.0,>=2.4.3 in /opt/conda/lib/python3.7/site-packages (from spacy<3.5.0,>=3.4.0->en-core-web-sm==3.4.1) (2.4.5)\n",
      "Requirement already satisfied: pydantic!=1.8,!=1.8.1,<1.11.0,>=1.7.4 in /opt/conda/lib/python3.7/site-packages (from spacy<3.5.0,>=3.4.0->en-core-web-sm==3.4.1) (1.9.0)\n",
      "Requirement already satisfied: cymem<2.1.0,>=2.0.2 in /opt/conda/lib/python3.7/site-packages (from spacy<3.5.0,>=3.4.0->en-core-web-sm==3.4.1) (2.0.7)\n",
      "Requirement already satisfied: murmurhash<1.1.0,>=0.28.0 in /opt/conda/lib/python3.7/site-packages (from spacy<3.5.0,>=3.4.0->en-core-web-sm==3.4.1) (1.0.9)\n",
      "Requirement already satisfied: tqdm<5.0.0,>=4.38.0 in /opt/conda/lib/python3.7/site-packages (from spacy<3.5.0,>=3.4.0->en-core-web-sm==3.4.1) (4.64.1)\n",
      "Requirement already satisfied: thinc<8.2.0,>=8.1.0 in /opt/conda/lib/python3.7/site-packages (from spacy<3.5.0,>=3.4.0->en-core-web-sm==3.4.1) (8.1.5)\n",
      "Requirement already satisfied: spacy-loggers<2.0.0,>=1.0.0 in /opt/conda/lib/python3.7/site-packages (from spacy<3.5.0,>=3.4.0->en-core-web-sm==3.4.1) (1.0.3)\n",
      "Requirement already satisfied: setuptools in /opt/conda/lib/python3.7/site-packages (from spacy<3.5.0,>=3.4.0->en-core-web-sm==3.4.1) (59.8.0)\n",
      "Requirement already satisfied: spacy-legacy<3.1.0,>=3.0.10 in /opt/conda/lib/python3.7/site-packages (from spacy<3.5.0,>=3.4.0->en-core-web-sm==3.4.1) (3.0.10)\n",
      "Requirement already satisfied: typer<0.5.0,>=0.3.0 in /opt/conda/lib/python3.7/site-packages (from spacy<3.5.0,>=3.4.0->en-core-web-sm==3.4.1) (0.4.2)\n",
      "Requirement already satisfied: wasabi<1.1.0,>=0.9.1 in /opt/conda/lib/python3.7/site-packages (from spacy<3.5.0,>=3.4.0->en-core-web-sm==3.4.1) (0.10.1)\n",
      "Requirement already satisfied: catalogue<2.1.0,>=2.0.6 in /opt/conda/lib/python3.7/site-packages (from spacy<3.5.0,>=3.4.0->en-core-web-sm==3.4.1) (2.0.8)\n",
      "Requirement already satisfied: numpy>=1.15.0 in /opt/conda/lib/python3.7/site-packages (from spacy<3.5.0,>=3.4.0->en-core-web-sm==3.4.1) (1.21.6)\n",
      "Requirement already satisfied: requests<3.0.0,>=2.13.0 in /opt/conda/lib/python3.7/site-packages (from spacy<3.5.0,>=3.4.0->en-core-web-sm==3.4.1) (2.28.1)\n",
      "Requirement already satisfied: pathy>=0.3.5 in /opt/conda/lib/python3.7/site-packages (from spacy<3.5.0,>=3.4.0->en-core-web-sm==3.4.1) (0.6.2)\n",
      "Requirement already satisfied: langcodes<4.0.0,>=3.2.0 in /opt/conda/lib/python3.7/site-packages (from spacy<3.5.0,>=3.4.0->en-core-web-sm==3.4.1) (3.3.0)\n",
      "Requirement already satisfied: zipp>=0.5 in /opt/conda/lib/python3.7/site-packages (from catalogue<2.1.0,>=2.0.6->spacy<3.5.0,>=3.4.0->en-core-web-sm==3.4.1) (3.10.0)\n",
      "Requirement already satisfied: pyparsing!=3.0.5,>=2.0.2 in /home/oyvimons/.local/lib/python3.7/site-packages (from packaging>=20.0->spacy<3.5.0,>=3.4.0->en-core-web-sm==3.4.1) (3.0.9)\n",
      "Requirement already satisfied: smart-open<6.0.0,>=5.2.1 in /opt/conda/lib/python3.7/site-packages (from pathy>=0.3.5->spacy<3.5.0,>=3.4.0->en-core-web-sm==3.4.1) (5.2.1)\n",
      "Requirement already satisfied: certifi>=2017.4.17 in /opt/conda/lib/python3.7/site-packages (from requests<3.0.0,>=2.13.0->spacy<3.5.0,>=3.4.0->en-core-web-sm==3.4.1) (2022.9.24)\n",
      "Requirement already satisfied: urllib3<1.27,>=1.21.1 in /opt/conda/lib/python3.7/site-packages (from requests<3.0.0,>=2.13.0->spacy<3.5.0,>=3.4.0->en-core-web-sm==3.4.1) (1.26.11)\n",
      "Requirement already satisfied: idna<4,>=2.5 in /opt/conda/lib/python3.7/site-packages (from requests<3.0.0,>=2.13.0->spacy<3.5.0,>=3.4.0->en-core-web-sm==3.4.1) (3.4)\n",
      "Requirement already satisfied: charset-normalizer<3,>=2 in /opt/conda/lib/python3.7/site-packages (from requests<3.0.0,>=2.13.0->spacy<3.5.0,>=3.4.0->en-core-web-sm==3.4.1) (2.1.1)\n",
      "Requirement already satisfied: confection<1.0.0,>=0.0.1 in /opt/conda/lib/python3.7/site-packages (from thinc<8.2.0,>=8.1.0->spacy<3.5.0,>=3.4.0->en-core-web-sm==3.4.1) (0.0.3)\n",
      "Requirement already satisfied: blis<0.8.0,>=0.7.8 in /opt/conda/lib/python3.7/site-packages (from thinc<8.2.0,>=8.1.0->spacy<3.5.0,>=3.4.0->en-core-web-sm==3.4.1) (0.7.9)\n",
      "Requirement already satisfied: click<9.0.0,>=7.1.1 in /opt/conda/lib/python3.7/site-packages (from typer<0.5.0,>=0.3.0->spacy<3.5.0,>=3.4.0->en-core-web-sm==3.4.1) (8.1.3)\n",
      "Requirement already satisfied: MarkupSafe>=2.0 in /opt/conda/lib/python3.7/site-packages (from jinja2->spacy<3.5.0,>=3.4.0->en-core-web-sm==3.4.1) (2.1.1)\n",
      "Requirement already satisfied: importlib-metadata in /opt/conda/lib/python3.7/site-packages (from click<9.0.0,>=7.1.1->typer<0.5.0,>=0.3.0->spacy<3.5.0,>=3.4.0->en-core-web-sm==3.4.1) (4.2.0)\n",
      "Installing collected packages: en-core-web-sm\n",
      "Successfully installed en-core-web-sm-3.4.1\n",
      "\u001b[38;5;2m✔ Download and installation successful\u001b[0m\n",
      "You can now load the package via spacy.load('en_core_web_sm')\n"
     ]
    }
   ],
   "source": [
    "!python -m spacy download en_core_web_sm"
   ]
  },
  {
   "cell_type": "code",
   "execution_count": 1,
   "metadata": {},
   "outputs": [
    {
     "name": "stdout",
     "output_type": "stream",
     "text": [
      "Connected to DB\n"
     ]
    }
   ],
   "source": [
    "from persistence import Connection as Database\n",
    "db: Database = Database()"
   ]
  },
  {
   "cell_type": "code",
   "execution_count": 2,
   "metadata": {},
   "outputs": [],
   "source": [
    "resumes = db.fetch_all_unlabeled_resumes()"
   ]
  },
  {
   "cell_type": "code",
   "execution_count": 3,
   "metadata": {},
   "outputs": [],
   "source": [
    "ds10 = resumes[9]"
   ]
  },
  {
   "cell_type": "code",
   "execution_count": 4,
   "metadata": {},
   "outputs": [],
   "source": [
    "description = \"\"\n",
    "\n",
    "with open(\"jd_examples/DS_JD1.txt\") as f: \n",
    "    description = f.read()"
   ]
  },
  {
   "cell_type": "code",
   "execution_count": 5,
   "metadata": {},
   "outputs": [
    {
     "name": "stdout",
     "output_type": "stream",
     "text": [
      "Starting prediciton for Data Scientist @ Apple\n",
      "Extracting keywords\n",
      "Scoring resume\n",
      "Cutting resume\n"
     ]
    },
    {
     "name": "stderr",
     "output_type": "stream",
     "text": [
      "/opt/conda/lib/python3.7/site-packages/gensim/models/keyedvectors.py:1166: RuntimeWarning: invalid value encountered in true_divide\n",
      "  similarities = dot_products / (norm * all_norms)\n",
      "/opt/conda/lib/python3.7/site-packages/pandas/core/frame.py:4913: SettingWithCopyWarning: \n",
      "A value is trying to be set on a copy of a slice from a DataFrame\n",
      "\n",
      "See the caveats in the documentation: https://pandas.pydata.org/pandas-docs/stable/user_guide/indexing.html#returning-a-view-versus-a-copy\n",
      "  errors=errors,\n"
     ]
    }
   ],
   "source": [
    "from prediction.prediction import improve_cv\n",
    "\n",
    "\n",
    "improved = improve_cv(\n",
    "    {\"title\": \"Data Scientist\", \"description\": description,\n",
    "     **ds10\n",
    "     }\n",
    ")"
   ]
  },
  {
   "cell_type": "code",
   "execution_count": 6,
   "metadata": {},
   "outputs": [
    {
     "data": {
      "text/plain": [
       "'{\"title\": \"Data Scientist @ Apple\", \"contactInfo\": {\"address\": \"Abraham Lincoln Street 1, Chicago, IL\", \"website\": \"my-website.com\", \"linkedin\": \"linkedin.com/in/me123\", \"name\": \"Monica Music\", \"phoneNumber\": \"01012345\", \"email\": \"monica@music.co.kr\", \"github\": \"monicamusic123\", \"birthday\": \"24 December 1985\", \"family\": \"5 kids, divorced\"}, \"experience\": {\"value\": [], \"label\": 0}, \"education\": {\"value\": [{\"value\": {\"title\": \"Doctor of Philosophy (Ph.D.), Information Systems for Data Science (STEM)\", \"location\": \"Boston\", \"fromDate\": \"2016\", \"toDate\": \"2021\", \"description\": \"\", \"duration\": 60.0, \"time_since\": 23.0, \"institution\": \"University of Massachusetts Boston\"}, \"label\": 0.11054765547072479}, {\"value\": {\"title\": \"Bachelor of Science - BS, Mechanical Engineering\", \"location\": \"Sharif\", \"fromDate\": \"2005\", \"toDate\": \"2009\", \"description\": \"\", \"duration\": 48.0, \"time_since\": 169.0, \"institution\": \"Sharif University of Technology\"}, \"label\": 0.23211774464312832}, {\"value\": {\"title\": \"Diploma in Physics and Mathematics Discipline\", \"location\": \"USA\", \"fromDate\": \"2001\", \"toDate\": \"2005\", \"description\": \"\", \"duration\": 48.0, \"time_since\": 218.0, \"institution\": \"Shahid Beheshti High School\"}, \"label\": 0.3188618561219961}], \"label\": 0}, \"interests\": {\"value\": [], \"label\": 0}, \"accomplishments\": {\"value\": [], \"label\": 0}, \"languages\": {\"value\": [], \"label\": 0}, \"projects\": {\"value\": [], \"label\": 0}, \"softSkills\": {\"value\": [], \"label\": 0}, \"hardSkills\": {\"value\": [{\"value\": {\"name\": \"Statistical Inference\", \"proficiency\": 5.0}, \"label\": 0.1853434528120809}, {\"value\": {\"name\": \"Predictive Modelling\", \"proficiency\": 5.0}, \"label\": 0.1296851311270694}, {\"value\": {\"name\": \"Experimentation\", \"proficiency\": 3.0}, \"label\": 0.0}], \"label\": 0}, \"certifications\": {\"value\": [], \"label\": 0}, \"patents\": {\"value\": [], \"label\": 0}, \"extracurriculars\": {\"value\": [], \"label\": 0}, \"stats\": {\"included_keywords\": [\"physics\"], \"removed_keywords\": [\"application theory\", \"improve performance\", \"market developed\", \"collaborated different\", \"advanced analytical\", \"user\", \"decreased\", \"presentation award\", \"machine learning\", \"mining sql\", \"time data\", \"philosophy ph\", \"statistical learning\", \"entrance\", \"terms financial\", \"conducting\", \"crm operations\", \"performing entity\", \"mba\", \"data scientist\", \"43\", \"machine\", \"entity resolution\", \"interaction\", \"company revenue\", \"executives\", \"test proposed\", \"56\", \"making simultaneous\", \"company\", \"learning tableau\", \"customer records\", \"voice\", \"analytics data\", \"pricing models\", \"science stem\", \"structure competing\", \"sequential human\", \"national\", \"use ai\", \"productivity\", \"enhanced time\", \"models\", \"teaching\", \"quantitative\", \"create value\", \"based voice\", \"information systems\", \"suppliers\", \"best phd\", \"learning\", \"online reviews\", \"like\", \"competition\", \"mathematically formulated\", \"analytical\", \"xgboost model\", \"doctor philosophy\", \"mathematics discipline\", \"functional project\", \"years\", \"universities\", \"developing data\", \"conducting customer\", \"award phd\", \"producing\", \"regression\", \"risk prediction\", \"log linear\", \"predict customer\", \"rnn\", \"context\", \"philosophy\", \"price risk\", \"dashboards\", \"56 approximately\", \"aggregate\", \"analytical solutions\", \"conducted experiments\", \"analytics\", \"data\", \"intensity\", \"business analytics\", \"ranked\", \"paper award\", \"experimentation executing\", \"fit analytics\", \"deep learning\", \"competition intensity\", \"award application\", \"sklearn statsmodels\", \"levels\", \"16 resolution\", \"diploma physics\", \"exploratory\", \"developing\", \"interaction trust\", \"big data\", \"improving product\", \"engineering python\", \"30 contact\", \"14\", \"business\", \"significant\", \"product data\", \"mpe 15\", \"experimentation\", \"helping\", \"methods business\", \"help\", \"structure\", \"aggregate individual\", \"plans\", \"fellow\", \"accurate\", \"creating data\", \"solutions machine\", \"bachelor\", \"practical insights\", \"perspectives\", \"science\", \"improved performance\", \"provide\", \"deep\", \"data science\", \"identify\", \"using cluster\", \"classification\", \"acquisition cost\", \"retention\", \"cost structure\", \"improve marketing\", \"built 52\", \"cost 11\", \"discipline\", \"developing advanced\", \"solutions create\", \"unmatched customer\", \"specialist responsible\", \"diploma\", \"exam\", \"quality trust\", \"music\", \"ai\", \"master business\", \"mechanical\", \"prescriptive model\", \"fellowship\", \"evaluating interaction\", \"best\", \"presentation\", \"better\", \"administration mba\", \"create practical\", \"450 000\", \"based\", \"systems evaluating\", \"experience\", \"information\", \"competing suppliers\", \"forest poisson\", \"prediction feature\", \"learning aggregate\", \"analysis based\", \"participants national\", \"helpfulness\", \"share creating\", \"improved prediction\", \"model selection\", \"predictive modelling\", \"managed cross\", \"digital platforms\", \"monica music\", \"usage executing\", \"nltk gensim\", \"customer\", \"price\", \"analyzing customer\", \"practical\", \"strategies product\", \"neural\", \"ph\", \"customer plans\", \"churn\", \"approximately 450\", \"trust\", \"adoption\", \"participants\", \"improve\", \"fellowship award\", \"erp development\", \"python applied\", \"advise\", \"use\", \"development\", \"research assistant\", \"mining\", \"entrance exam\", \"evaluating\", \"driven\", \"direct\", \"driven decisions\", \"quality\", \"000\", \"build advanced\", \"models deployed\", \"data mining\", \"450\", \"ai based\", \"ph data\", \"assistant systems\", \"improve predictive\", \"usa\", \"built ml\", \"dean\", \"using real\", \"phd\", \"using\", \"role interaction\", \"help stakeholders\", \"business growth\", \"national entrance\", \"analyzing\", \"bs mechanical\", \"campaigns\", \"second\", \"forecasting model\", \"doctor\", \"recommend opportunities\", \"new empirical\", \"designed\", \"decreased unmatched\", \"product\", \"fully\", \"predict churn\", \"games\", \"regional\", \"stem\", \"feature engineering\", \"master\", \"exam universities\", \"teams managed\", \"trust perspectives\", \"context built\", \"role\", \"fit\", \"analytics experimentation\", \"behavioral\", \"11 transactions\", \"effects competition\", \"neural networks\", \"modelling\", \"successful\", \"bachelor science\", \"results maximize\", \"triplebyte\", \"42\", \"assistant\", \"effects\", \"context usa\", \"experimental\", \"networks deep\", \"insights data\", \"cross functional\", \"sklearn keras\", \"statistical inference\", \"behavioral effects\", \"performing\", \"methods fellow\", \"competing\", \"behavioral models\", \"study context\", \"deployed end\", \"theory\", \"persian\", \"resolution python\", \"stakeholders advise\", \"interaction quality\", \"responsible growing\", \"courses quantitative\", \"customers decision\", \"monica\", \"marketing customer\", \"mechanical engineering\", \"costs sql\", \"experience strategies\", \"service performance\", \"intensity cost\", \"000 participants\", \"help company\", \"big\", \"triplebyte certified\", \"business administration\", \"grow\", \"rmse xgboost\", \"intern\", \"individual levels\", \"experimental study\", \"networks\", \"second best\", \"data driven\", \"conducted controlled\", \"tuned arima\", \"feature\", \"areas\", \"specialist\", \"experiments like\", \"award\", \"passionate\", \"problems recommend\", \"data build\", \"mau\", \"approximately\", \"individual\", \"statistical\", \"pipeline\", \"paper\", \"built\", \"physics mathematics\", \"fellow teaching\", \"quantitative methods\", \"plans activities\", \"house address\", \"performance risk\", \"bi\", \"systems\", \"driven market\", \"analysis developing\", \"science bs\", \"provide innovative\", \"suppliers learning\", \"engineering\", \"portfolio recommender\", \"end machine\", \"suppliers experimental\", \"challenging\", \"tableau\", \"operations product\", \"issues\", \"courses\", \"lifetime value\", \"student presentation\", \"mathematics\", \"best paper\", \"application\", \"relationship\", \"demand sales\", \"study\", \"scientist\", \"phd student\", \"developed stock\", \"teaching courses\", \"certified\", \"certified data\", \"bs\", \"rfm model\", \"predictive\", \"mining statistical\", \"using new\", \"producing dashboards\", \"recommend best\", \"projects\", \"insights value\", \"trust use\", \"process\", \"voice assistant\", \"administration\", \"decision support\", \"customer segmentation\", \"ranked 56\", \"features sentiment\", \"phd program\", \"ph information\", \"roles significant\", \"inference\", \"insights help\", \"driven solutions\", \"model better\", \"english\", \"student\", \"sas\", \"tools create\", \"python sql\", \"insights optimizing\", \"optimizing direct\", \"provider network\", \"cost\", \"creating actionable\", \"program\", \"methods\", \"systems data\", \"dean fellowship\"], \"missing_keywords\": [\"hadoop\", \"python\", \"computer science,\", \"spark\", \"statistics, data mining, machine learning\", \"sql\", \"electrical engineering\"]}}'"
      ]
     },
     "execution_count": 6,
     "metadata": {},
     "output_type": "execute_result"
    }
   ],
   "source": [
    "import json\n",
    "del improved[\"_id\"]\n",
    "json.dumps(improved)"
   ]
  }
 ],
 "metadata": {
  "kernelspec": {
   "display_name": "Python 3.7.12 ('base')",
   "language": "python",
   "name": "python3"
  },
  "language_info": {
   "codemirror_mode": {
    "name": "ipython",
    "version": 3
   },
   "file_extension": ".py",
   "mimetype": "text/x-python",
   "name": "python",
   "nbconvert_exporter": "python",
   "pygments_lexer": "ipython3",
   "version": "3.7.12"
  },
  "orig_nbformat": 4,
  "vscode": {
   "interpreter": {
    "hash": "d4d1e4263499bec80672ea0156c357c1ee493ec2b1c70f0acce89fc37c4a6abe"
   }
  }
 },
 "nbformat": 4,
 "nbformat_minor": 2
}
