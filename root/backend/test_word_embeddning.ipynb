{
 "cells": [
  {
   "cell_type": "markdown",
   "id": "6824d263-66e5-402f-9224-0b45fb99fe08",
   "metadata": {},
   "source": [
    "## This is just a test file for the embeddning"
   ]
  },
  {
   "cell_type": "code",
   "execution_count": 2,
   "id": "a83328fb-6cc2-47fd-b75c-2f2d2c34c472",
   "metadata": {},
   "outputs": [],
   "source": [
    "from pprint import pprint as print\n",
    "from gensim.models.fasttext import FastText\n",
    "from gensim.test.utils import datapath"
   ]
  },
  {
   "cell_type": "code",
   "execution_count": 3,
   "id": "4276cb0d-6700-4340-836f-a5ca7883b595",
   "metadata": {},
   "outputs": [
    {
     "data": {
      "text/plain": [
       "(240956, 301935)"
      ]
     },
     "execution_count": 3,
     "metadata": {},
     "output_type": "execute_result"
    }
   ],
   "source": [
    "# i cannot find a good bin file for this...\n",
    "#from gensim.models.fasttext import load_facebook_model\n",
    "#wv = load_facebook_model()\n",
    "\n",
    "\n",
    "corpus_file = datapath('lee_background.cor')  # absolute path to corpus\n",
    "model3 = FastText(vector_size=4, window=3, min_count=1)\n",
    "model3.build_vocab(corpus_file=corpus_file)  # scan over corpus to build the vocabulary\n",
    "total_words = model3.corpus_total_words  # number of words in the corpus\n",
    "model3.train(corpus_file=corpus_file, total_words=total_words, epochs=5)"
   ]
  },
  {
   "cell_type": "code",
   "execution_count": 4,
   "id": "94a372b5-3147-47f1-a386-c87efd4bb96c",
   "metadata": {},
   "outputs": [
    {
     "name": "stdout",
     "output_type": "stream",
     "text": [
      "29\n",
      "29\n"
     ]
    }
   ],
   "source": [
    "from gensim.test.utils import get_tmpfile\n",
    "from gensim.test.utils import common_texts\n",
    "\n",
    "model = FastText(vector_size=4, window=3, min_count=1)  # instantiate\n",
    "model.build_vocab(corpus_iterable=common_texts)\n",
    "model.train(corpus_iterable=common_texts, total_examples=len(common_texts), epochs=10)\n",
    "print(model.corpus_total_words)\n",
    "\n",
    "fname = get_tmpfile(\"fasttext.model\")\n",
    "model.save(fname)\n",
    "model = FastText.load(fname)\n",
    "\n",
    "print(model.corpus_total_words)"
   ]
  },
  {
   "cell_type": "code",
   "execution_count": 5,
   "id": "95da5202-4b71-4a04-b76a-4ec1c02f0174",
   "metadata": {},
   "outputs": [
    {
     "data": {
      "text/plain": [
       "True"
      ]
     },
     "execution_count": 5,
     "metadata": {},
     "output_type": "execute_result"
    }
   ],
   "source": [
    "import numpy as np\n",
    "\n",
    "'computer' in model.wv.key_to_index  # New word, currently out of vocab"
   ]
  },
  {
   "cell_type": "code",
   "execution_count": 8,
   "id": "01aec20e-2663-48fe-83d0-f6656c09622e",
   "metadata": {},
   "outputs": [],
   "source": [
    "\n",
    "\n",
    "old_vector = np.copy(model.wv['computer'])  # Grab the existing vector\n",
    "\n",
    "old_vector\n",
    "\n",
    "new_sentences = [\n",
    "    ['computer', 'aided', 'design'],\n",
    "    ['computer', 'science'],\n",
    "    ['computational', 'complexity'],\n",
    "    ['military', 'supercomputer'],\n",
    "    ['central', 'processing', 'unit'],\n",
    "    ['onboard', 'car', 'computer'],\n",
    "]\n"
   ]
  },
  {
   "cell_type": "code",
   "execution_count": 9,
   "id": "4a17429c-f7ff-4471-8855-a7bedebbd4fe",
   "metadata": {},
   "outputs": [
    {
     "data": {
      "text/plain": [
       "array([-0.00263242, -0.03817195, -0.02007434,  0.00741351], dtype=float32)"
      ]
     },
     "execution_count": 9,
     "metadata": {},
     "output_type": "execute_result"
    }
   ],
   "source": [
    "model.build_vocab(new_sentences, update=True)  # Update the vocabulary\n",
    "model.train(new_sentences, total_examples=len(new_sentences), epochs=model.epochs)\n",
    "\n",
    "new_vector = model.wv['computer']\n",
    "new_vector"
   ]
  },
  {
   "cell_type": "code",
   "execution_count": 10,
   "id": "02b41869-8261-4d0c-b242-491787933cb5",
   "metadata": {},
   "outputs": [
    {
     "data": {
      "text/plain": [
       "True"
      ]
     },
     "execution_count": 10,
     "metadata": {},
     "output_type": "execute_result"
    }
   ],
   "source": [
    "np.allclose(old_vector, new_vector, atol=1e-4)  # Vector has changed, model has learnt something\n",
    "\n"
   ]
  },
  {
   "cell_type": "code",
   "execution_count": null,
   "id": "0a082692-1260-4cc2-80c2-66b913e02668",
   "metadata": {},
   "outputs": [],
   "source": [
    "'computer' in fb_model.wv.key_to_index  # New word, currently out of vocab\n",
    "False\n",
    "old_computer = np.copy(fb_model.wv['computer'])  # Calculate current vectors\n",
    "fb_model.build_vocab(new_sentences, update=True)\n",
    "fb_model.train(new_sentences, total_examples=len(new_sentences), epochs=model.epochs)\n",
    "new_computer = fb_model.wv['computer']\n",
    "np.allclose(old_computer, new_computer, atol=1e-4)  # Vector has changed, model has learnt something\n",
    "False\n",
    "'computer' in fb_model.wv.key_to_index  # New word is now in the vocabulary\n",
    "True"
   ]
  },
  {
   "cell_type": "code",
   "execution_count": 39,
   "id": "9aff7fe8-5601-4d01-a388-ee01102774a4",
   "metadata": {},
   "outputs": [
    {
     "data": {
      "text/plain": [
       "array([0., 0., 0., 0., 0., 0., 0., 0., 0., 0., 0., 0., 0., 0., 0., 0., 0.,\n",
       "       0., 0., 0., 0., 0., 0., 0., 0., 0., 0., 0., 0., 0., 0., 0., 0., 0.,\n",
       "       0., 0., 0., 0., 0., 0., 0., 0., 0., 0., 0., 0., 0., 0., 0., 0., 0.,\n",
       "       0., 0., 0., 0., 0., 0., 0., 0., 0., 0., 0., 0., 0., 0., 0., 0., 0.,\n",
       "       0., 0., 0., 0., 0., 0., 0., 0., 0., 0., 0., 0., 0., 0., 0., 0., 0.,\n",
       "       0., 0., 0., 0., 0., 0., 0., 0., 0., 0., 0., 0., 0., 0., 0.],\n",
       "      dtype=float32)"
      ]
     },
     "execution_count": 39,
     "metadata": {},
     "output_type": "execute_result"
    }
   ],
   "source": []
  },
  {
   "cell_type": "code",
   "execution_count": 22,
   "id": "f0dae2c1-988d-4600-8cf5-302ce0bc3106",
   "metadata": {},
   "outputs": [],
   "source": [
    "from gensim.models.fasttext import load_facebook_model\n",
    "import numpy as np\n",
    "\n",
    "new_sentences = [\n",
    "    ['computer', 'aided', 'design'],\n",
    "    ['computer', 'science'],\n",
    "    ['computational', 'complexity'],\n",
    "    ['military', 'supercomputer'],\n",
    "    ['central', 'processing', 'unit'],\n",
    "    ['onboard', 'car', 'computer'],\n",
    "]\n",
    "cap_path = datapath(\"crime-and-punishment.bin\")\n",
    "\n",
    "\n",
    "\n",
    "fb_model = load_facebook_model(cap_path)\n",
    "\n"
   ]
  },
  {
   "cell_type": "code",
   "execution_count": 41,
   "id": "96898a1c-4fce-45ca-a79a-edd01cac3e74",
   "metadata": {},
   "outputs": [
    {
     "data": {
      "text/plain": [
       "False"
      ]
     },
     "execution_count": 41,
     "metadata": {},
     "output_type": "execute_result"
    }
   ],
   "source": [
    "'' in fb_model.wv.key_to_index"
   ]
  },
  {
   "cell_type": "code",
   "execution_count": 24,
   "id": "fa5c6102-eba9-4813-89e5-885256ca2f86",
   "metadata": {},
   "outputs": [
    {
     "data": {
      "text/plain": [
       "array([-0.01754012,  0.05520927,  0.06355207,  0.05296071,  0.05046377],\n",
       "      dtype=float32)"
      ]
     },
     "execution_count": 24,
     "metadata": {},
     "output_type": "execute_result"
    }
   ],
   "source": [
    "old_computer = np.copy(fb_model.wv['computer'])\n",
    "old_computer"
   ]
  },
  {
   "cell_type": "code",
   "execution_count": 25,
   "id": "d1acb752-a228-4c1f-8960-da489040d2d6",
   "metadata": {},
   "outputs": [
    {
     "data": {
      "text/plain": [
       "array([-0.02225105,  0.06033591,  0.06490689,  0.05112575,  0.05164139],\n",
       "      dtype=float32)"
      ]
     },
     "execution_count": 25,
     "metadata": {},
     "output_type": "execute_result"
    }
   ],
   "source": [
    "fb_model.build_vocab(new_sentences, update=True)\n",
    "fb_model.train(new_sentences, total_examples=len(new_sentences), epochs=fb_model.epochs)\n",
    "new_computer = fb_model.wv['computer']\n",
    "new_computer"
   ]
  },
  {
   "cell_type": "code",
   "execution_count": 26,
   "id": "f4e7e8a4-d6ed-4a78-9498-06be2b19f19a",
   "metadata": {},
   "outputs": [
    {
     "data": {
      "text/plain": [
       "False"
      ]
     },
     "execution_count": 26,
     "metadata": {},
     "output_type": "execute_result"
    }
   ],
   "source": [
    "np.allclose(old_computer, new_computer, atol=1e-4)  # Vector has changed, model has learnt something"
   ]
  },
  {
   "cell_type": "code",
   "execution_count": 27,
   "id": "4fdbe5a6-34ec-435b-aba9-caf570c22ee9",
   "metadata": {},
   "outputs": [
    {
     "data": {
      "text/plain": [
       "True"
      ]
     },
     "execution_count": 27,
     "metadata": {},
     "output_type": "execute_result"
    }
   ],
   "source": [
    "'computer' in fb_model.wv.key_to_index  # New word is now in the vocabulary"
   ]
  },
  {
   "cell_type": "code",
   "execution_count": 33,
   "id": "aa2b0486-0587-4a8e-8cf5-79d8155aff89",
   "metadata": {},
   "outputs": [
    {
     "data": {
      "text/plain": [
       "[('computational', 0.9919778108596802),\n",
       " ('complexity', 0.9892442226409912),\n",
       " ('лгать,', 0.9892262816429138),\n",
       " ('обыденную', 0.9888888001441956),\n",
       " ('supercomputer', 0.9874089360237122),\n",
       " ('ashamed.', 0.9848596453666687),\n",
       " ('приставания', 0.981712818145752),\n",
       " ('время,', 0.97895348072052),\n",
       " ('lodged', 0.9770848751068115),\n",
       " ('угрозы,', 0.9761002659797668)]"
      ]
     },
     "execution_count": 33,
     "metadata": {},
     "output_type": "execute_result"
    }
   ],
   "source": [
    "similarities = fb_model.wv.most_similar('computation')\n",
    "similarities\n"
   ]
  },
  {
   "cell_type": "code",
   "execution_count": 37,
   "id": "4a6aff16-d2a4-4772-9805-0874853d724a",
   "metadata": {},
   "outputs": [
    {
     "data": {
      "text/plain": [
       "[('computer', 0.9239985346794128),\n",
       " ('interface', 0.8864936828613281),\n",
       " ('eps', 0.8393409848213196),\n",
       " ('minors', 0.7720398902893066),\n",
       " ('time', 0.7128621339797974),\n",
       " ('human', 0.6134594082832336),\n",
       " ('system', 0.4492993950843811),\n",
       " ('graph', 0.4410752058029175),\n",
       " ('user', 0.3536098897457123),\n",
       " ('trees', 0.2776937782764435)]"
      ]
     },
     "execution_count": 37,
     "metadata": {},
     "output_type": "execute_result"
    }
   ],
   "source": [
    "similarities = model.wv.most_similar_cosmul('computation')\n",
    "\n",
    "similarities\n"
   ]
  },
  {
   "cell_type": "code",
   "execution_count": 38,
   "id": "ed0f1f85-d32a-4803-8dd1-f9b91326f03c",
   "metadata": {},
   "outputs": [
    {
     "data": {
      "text/plain": [
       "'tree'"
      ]
     },
     "execution_count": 38,
     "metadata": {},
     "output_type": "execute_result"
    }
   ],
   "source": [
    "not_matching = model.wv.doesnt_match(\"human computer interface tree\".split())\n",
    "\n",
    "not_matching\n"
   ]
  },
  {
   "cell_type": "code",
   "execution_count": 39,
   "id": "c072777d-a816-403d-b13c-0ea417f3e6f0",
   "metadata": {},
   "outputs": [
    {
     "data": {
      "text/plain": [
       "0.05815026"
      ]
     },
     "execution_count": 39,
     "metadata": {},
     "output_type": "execute_result"
    }
   ],
   "source": [
    "sim_score = model.wv.similarity('computer', 'human')\n",
    "sim_score"
   ]
  },
  {
   "cell_type": "code",
   "execution_count": 40,
   "id": "b3a7989d-1ad5-43cf-bf99-907cccae59b4",
   "metadata": {},
   "outputs": [
    {
     "data": {
      "text/plain": [
       "0.84799886"
      ]
     },
     "execution_count": 40,
     "metadata": {},
     "output_type": "execute_result"
    }
   ],
   "source": [
    "sim_score = model.wv.similarity('computer', 'computation')\n",
    "sim_score"
   ]
  },
  {
   "cell_type": "code",
   "execution_count": null,
   "id": "020891c5-0776-4911-b4b5-9fb55d302af6",
   "metadata": {},
   "outputs": [],
   "source": []
  }
 ],
 "metadata": {
  "environment": {
   "kernel": "python3",
   "name": "pytorch-gpu.1-12.m99",
   "type": "gcloud",
   "uri": "gcr.io/deeplearning-platform-release/pytorch-gpu.1-12:m99"
  },
  "kernelspec": {
   "display_name": "Python 3",
   "language": "python",
   "name": "python3"
  },
  "language_info": {
   "codemirror_mode": {
    "name": "ipython",
    "version": 3
   },
   "file_extension": ".py",
   "mimetype": "text/x-python",
   "name": "python",
   "nbconvert_exporter": "python",
   "pygments_lexer": "ipython3",
   "version": "3.7.12"
  }
 },
 "nbformat": 4,
 "nbformat_minor": 5
}
