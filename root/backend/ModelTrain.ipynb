{
 "cells": [
  {
   "cell_type": "code",
   "execution_count": null,
   "id": "c4fecdf8-5eb3-43c1-84b5-faa5f41726bc",
   "metadata": {
    "collapsed": true,
    "jupyter": {
     "outputs_hidden": true
    },
    "tags": []
   },
   "outputs": [
    {
     "name": "stdout",
     "output_type": "stream",
     "text": [
      "Requirement already satisfied: black==22.10.0 in /opt/conda/lib/python3.7/site-packages (from -r requirements.txt (line 1)) (22.10.0)\n",
      "Requirement already satisfied: Flask==2.2.2 in /opt/conda/lib/python3.7/site-packages (from -r requirements.txt (line 2)) (2.2.2)\n",
      "Requirement already satisfied: pymongo==3.12.0 in /opt/conda/lib/python3.7/site-packages (from -r requirements.txt (line 3)) (3.12.0)\n",
      "Requirement already satisfied: Python-dotenv==0.21.0 in /opt/conda/lib/python3.7/site-packages (from -r requirements.txt (line 4)) (0.21.0)\n",
      "Requirement already satisfied: Flask-Cors==3.0.10 in /opt/conda/lib/python3.7/site-packages (from -r requirements.txt (line 5)) (3.0.10)\n",
      "Requirement already satisfied: gensim==4.2.0 in /opt/conda/lib/python3.7/site-packages (from -r requirements.txt (line 6)) (4.2.0)\n",
      "Requirement already satisfied: nltk==3.7 in /opt/conda/lib/python3.7/site-packages (from -r requirements.txt (line 7)) (3.7)\n",
      "Requirement already satisfied: transformers==4.24.0 in /opt/conda/lib/python3.7/site-packages (from -r requirements.txt (line 8)) (4.24.0)\n",
      "Requirement already satisfied: mypy-extensions>=0.4.3 in /opt/conda/lib/python3.7/site-packages (from black==22.10.0->-r requirements.txt (line 1)) (0.4.3)\n",
      "Requirement already satisfied: pathspec>=0.9.0 in /opt/conda/lib/python3.7/site-packages (from black==22.10.0->-r requirements.txt (line 1)) (0.10.1)\n",
      "Requirement already satisfied: tomli>=1.1.0 in /opt/conda/lib/python3.7/site-packages (from black==22.10.0->-r requirements.txt (line 1)) (2.0.1)\n",
      "Requirement already satisfied: click>=8.0.0 in /opt/conda/lib/python3.7/site-packages (from black==22.10.0->-r requirements.txt (line 1)) (8.1.3)\n",
      "Requirement already satisfied: typing-extensions>=3.10.0.0 in /opt/conda/lib/python3.7/site-packages (from black==22.10.0->-r requirements.txt (line 1)) (4.4.0)\n",
      "Requirement already satisfied: platformdirs>=2 in /opt/conda/lib/python3.7/site-packages (from black==22.10.0->-r requirements.txt (line 1)) (2.5.2)\n",
      "Requirement already satisfied: typed-ast>=1.4.2 in /opt/conda/lib/python3.7/site-packages (from black==22.10.0->-r requirements.txt (line 1)) (1.5.4)\n",
      "Requirement already satisfied: importlib-metadata>=3.6.0 in /opt/conda/lib/python3.7/site-packages (from Flask==2.2.2->-r requirements.txt (line 2)) (4.2.0)\n",
      "Requirement already satisfied: Werkzeug>=2.2.2 in /opt/conda/lib/python3.7/site-packages (from Flask==2.2.2->-r requirements.txt (line 2)) (2.2.2)\n",
      "Requirement already satisfied: Jinja2>=3.0 in /opt/conda/lib/python3.7/site-packages (from Flask==2.2.2->-r requirements.txt (line 2)) (3.1.2)\n",
      "Requirement already satisfied: itsdangerous>=2.0 in /opt/conda/lib/python3.7/site-packages (from Flask==2.2.2->-r requirements.txt (line 2)) (2.1.2)\n",
      "Requirement already satisfied: Six in /opt/conda/lib/python3.7/site-packages (from Flask-Cors==3.0.10->-r requirements.txt (line 5)) (1.16.0)\n",
      "Requirement already satisfied: smart-open>=1.8.1 in /opt/conda/lib/python3.7/site-packages (from gensim==4.2.0->-r requirements.txt (line 6)) (6.2.0)\n",
      "Requirement already satisfied: numpy>=1.17.0 in /opt/conda/lib/python3.7/site-packages (from gensim==4.2.0->-r requirements.txt (line 6)) (1.21.6)\n",
      "Requirement already satisfied: scipy>=0.18.1 in /opt/conda/lib/python3.7/site-packages (from gensim==4.2.0->-r requirements.txt (line 6)) (1.7.3)\n",
      "Requirement already satisfied: joblib in /opt/conda/lib/python3.7/site-packages (from nltk==3.7->-r requirements.txt (line 7)) (1.2.0)\n",
      "Requirement already satisfied: tqdm in /opt/conda/lib/python3.7/site-packages (from nltk==3.7->-r requirements.txt (line 7)) (4.64.1)\n",
      "Requirement already satisfied: regex>=2021.8.3 in /opt/conda/lib/python3.7/site-packages (from nltk==3.7->-r requirements.txt (line 7)) (2022.10.31)\n",
      "Requirement already satisfied: requests in /opt/conda/lib/python3.7/site-packages (from transformers==4.24.0->-r requirements.txt (line 8)) (2.28.1)\n",
      "Requirement already satisfied: pyyaml>=5.1 in /opt/conda/lib/python3.7/site-packages (from transformers==4.24.0->-r requirements.txt (line 8)) (6.0)\n",
      "Requirement already satisfied: filelock in /opt/conda/lib/python3.7/site-packages (from transformers==4.24.0->-r requirements.txt (line 8)) (3.8.0)\n",
      "Requirement already satisfied: tokenizers!=0.11.3,<0.14,>=0.11.1 in /opt/conda/lib/python3.7/site-packages (from transformers==4.24.0->-r requirements.txt (line 8)) (0.13.1)\n",
      "Requirement already satisfied: huggingface-hub<1.0,>=0.10.0 in /opt/conda/lib/python3.7/site-packages (from transformers==4.24.0->-r requirements.txt (line 8)) (0.10.1)\n",
      "Requirement already satisfied: packaging>=20.0 in /opt/conda/lib/python3.7/site-packages (from transformers==4.24.0->-r requirements.txt (line 8)) (21.3)\n",
      "Requirement already satisfied: zipp>=0.5 in /opt/conda/lib/python3.7/site-packages (from importlib-metadata>=3.6.0->Flask==2.2.2->-r requirements.txt (line 2)) (3.10.0)\n",
      "Requirement already satisfied: MarkupSafe>=2.0 in /opt/conda/lib/python3.7/site-packages (from Jinja2>=3.0->Flask==2.2.2->-r requirements.txt (line 2)) (2.1.1)\n",
      "Requirement already satisfied: pyparsing!=3.0.5,>=2.0.2 in /opt/conda/lib/python3.7/site-packages (from packaging>=20.0->transformers==4.24.0->-r requirements.txt (line 8)) (3.0.9)\n",
      "Requirement already satisfied: idna<4,>=2.5 in /opt/conda/lib/python3.7/site-packages (from requests->transformers==4.24.0->-r requirements.txt (line 8)) (3.4)\n",
      "Requirement already satisfied: charset-normalizer<3,>=2 in /opt/conda/lib/python3.7/site-packages (from requests->transformers==4.24.0->-r requirements.txt (line 8)) (2.1.1)\n",
      "Requirement already satisfied: urllib3<1.27,>=1.21.1 in /opt/conda/lib/python3.7/site-packages (from requests->transformers==4.24.0->-r requirements.txt (line 8)) (1.26.11)\n",
      "Requirement already satisfied: certifi>=2017.4.17 in /opt/conda/lib/python3.7/site-packages (from requests->transformers==4.24.0->-r requirements.txt (line 8)) (2022.9.24)\n",
      "Requirement already satisfied: jupyter-lsp in /opt/conda/lib/python3.7/site-packages (1.5.1)\n",
      "Requirement already satisfied: jupyter-server>=1.1.2 in /opt/conda/lib/python3.7/site-packages (from jupyter-lsp) (1.21.0)\n",
      "Requirement already satisfied: entrypoints in /opt/conda/lib/python3.7/site-packages (from jupyter-lsp) (0.4)\n",
      "Requirement already satisfied: websocket-client in /opt/conda/lib/python3.7/site-packages (from jupyter-server>=1.1.2->jupyter-lsp) (1.4.1)\n",
      "Requirement already satisfied: jinja2 in /opt/conda/lib/python3.7/site-packages (from jupyter-server>=1.1.2->jupyter-lsp) (3.1.2)\n",
      "Requirement already satisfied: jupyter-client>=6.1.12 in /opt/conda/lib/python3.7/site-packages (from jupyter-server>=1.1.2->jupyter-lsp) (7.4.4)\n",
      "Requirement already satisfied: argon2-cffi in /opt/conda/lib/python3.7/site-packages (from jupyter-server>=1.1.2->jupyter-lsp) (21.3.0)\n",
      "Requirement already satisfied: tornado>=6.1.0 in /opt/conda/lib/python3.7/site-packages (from jupyter-server>=1.1.2->jupyter-lsp) (6.2)\n",
      "Requirement already satisfied: packaging in /opt/conda/lib/python3.7/site-packages (from jupyter-server>=1.1.2->jupyter-lsp) (21.3)\n",
      "Requirement already satisfied: traitlets>=5.1 in /opt/conda/lib/python3.7/site-packages (from jupyter-server>=1.1.2->jupyter-lsp) (5.5.0)\n",
      "Requirement already satisfied: pyzmq>=17 in /opt/conda/lib/python3.7/site-packages (from jupyter-server>=1.1.2->jupyter-lsp) (24.0.1)\n",
      "Requirement already satisfied: terminado>=0.8.3 in /opt/conda/lib/python3.7/site-packages (from jupyter-server>=1.1.2->jupyter-lsp) (0.17.0)\n",
      "Requirement already satisfied: jupyter-core>=4.7.0 in /opt/conda/lib/python3.7/site-packages (from jupyter-server>=1.1.2->jupyter-lsp) (4.11.1)\n",
      "Requirement already satisfied: nbconvert>=6.4.4 in /opt/conda/lib/python3.7/site-packages (from jupyter-server>=1.1.2->jupyter-lsp) (7.2.2)\n",
      "Requirement already satisfied: nbformat>=5.2.0 in /opt/conda/lib/python3.7/site-packages (from jupyter-server>=1.1.2->jupyter-lsp) (5.7.0)\n",
      "Requirement already satisfied: prometheus-client in /opt/conda/lib/python3.7/site-packages (from jupyter-server>=1.1.2->jupyter-lsp) (0.15.0)\n",
      "Requirement already satisfied: Send2Trash in /opt/conda/lib/python3.7/site-packages (from jupyter-server>=1.1.2->jupyter-lsp) (1.8.0)\n",
      "Requirement already satisfied: anyio<4,>=3.1.0 in /opt/conda/lib/python3.7/site-packages (from jupyter-server>=1.1.2->jupyter-lsp) (3.6.2)\n",
      "Requirement already satisfied: sniffio>=1.1 in /opt/conda/lib/python3.7/site-packages (from anyio<4,>=3.1.0->jupyter-server>=1.1.2->jupyter-lsp) (1.3.0)\n",
      "Requirement already satisfied: idna>=2.8 in /opt/conda/lib/python3.7/site-packages (from anyio<4,>=3.1.0->jupyter-server>=1.1.2->jupyter-lsp) (3.4)\n",
      "Requirement already satisfied: typing-extensions in /opt/conda/lib/python3.7/site-packages (from anyio<4,>=3.1.0->jupyter-server>=1.1.2->jupyter-lsp) (4.4.0)\n",
      "Requirement already satisfied: nest-asyncio>=1.5.4 in /opt/conda/lib/python3.7/site-packages (from jupyter-client>=6.1.12->jupyter-server>=1.1.2->jupyter-lsp) (1.5.6)\n",
      "Requirement already satisfied: python-dateutil>=2.8.2 in /opt/conda/lib/python3.7/site-packages (from jupyter-client>=6.1.12->jupyter-server>=1.1.2->jupyter-lsp) (2.8.2)\n",
      "Requirement already satisfied: pandocfilters>=1.4.1 in /opt/conda/lib/python3.7/site-packages (from nbconvert>=6.4.4->jupyter-server>=1.1.2->jupyter-lsp) (1.5.0)\n",
      "Requirement already satisfied: nbclient>=0.5.0 in /opt/conda/lib/python3.7/site-packages (from nbconvert>=6.4.4->jupyter-server>=1.1.2->jupyter-lsp) (0.7.0)\n",
      "Requirement already satisfied: defusedxml in /opt/conda/lib/python3.7/site-packages (from nbconvert>=6.4.4->jupyter-server>=1.1.2->jupyter-lsp) (0.7.1)\n",
      "Requirement already satisfied: importlib-metadata>=3.6 in /opt/conda/lib/python3.7/site-packages (from nbconvert>=6.4.4->jupyter-server>=1.1.2->jupyter-lsp) (4.2.0)\n",
      "Requirement already satisfied: jupyterlab-pygments in /opt/conda/lib/python3.7/site-packages (from nbconvert>=6.4.4->jupyter-server>=1.1.2->jupyter-lsp) (0.2.2)\n",
      "Requirement already satisfied: mistune<3,>=2.0.3 in /opt/conda/lib/python3.7/site-packages (from nbconvert>=6.4.4->jupyter-server>=1.1.2->jupyter-lsp) (2.0.4)\n",
      "Requirement already satisfied: tinycss2 in /opt/conda/lib/python3.7/site-packages (from nbconvert>=6.4.4->jupyter-server>=1.1.2->jupyter-lsp) (1.2.1)\n",
      "Requirement already satisfied: bleach in /opt/conda/lib/python3.7/site-packages (from nbconvert>=6.4.4->jupyter-server>=1.1.2->jupyter-lsp) (5.0.1)\n",
      "Requirement already satisfied: pygments>=2.4.1 in /opt/conda/lib/python3.7/site-packages (from nbconvert>=6.4.4->jupyter-server>=1.1.2->jupyter-lsp) (2.13.0)\n",
      "Requirement already satisfied: beautifulsoup4 in /opt/conda/lib/python3.7/site-packages (from nbconvert>=6.4.4->jupyter-server>=1.1.2->jupyter-lsp) (4.11.1)\n",
      "Requirement already satisfied: markupsafe>=2.0 in /opt/conda/lib/python3.7/site-packages (from nbconvert>=6.4.4->jupyter-server>=1.1.2->jupyter-lsp) (2.1.1)\n",
      "Requirement already satisfied: jsonschema>=2.6 in /opt/conda/lib/python3.7/site-packages (from nbformat>=5.2.0->jupyter-server>=1.1.2->jupyter-lsp) (4.16.0)\n",
      "Requirement already satisfied: fastjsonschema in /opt/conda/lib/python3.7/site-packages (from nbformat>=5.2.0->jupyter-server>=1.1.2->jupyter-lsp) (2.16.2)\n",
      "Requirement already satisfied: ptyprocess in /opt/conda/lib/python3.7/site-packages (from terminado>=0.8.3->jupyter-server>=1.1.2->jupyter-lsp) (0.7.0)\n",
      "Requirement already satisfied: argon2-cffi-bindings in /opt/conda/lib/python3.7/site-packages (from argon2-cffi->jupyter-server>=1.1.2->jupyter-lsp) (21.2.0)\n",
      "Requirement already satisfied: pyparsing!=3.0.5,>=2.0.2 in /opt/conda/lib/python3.7/site-packages (from packaging->jupyter-server>=1.1.2->jupyter-lsp) (3.0.9)\n",
      "Requirement already satisfied: zipp>=0.5 in /opt/conda/lib/python3.7/site-packages (from importlib-metadata>=3.6->nbconvert>=6.4.4->jupyter-server>=1.1.2->jupyter-lsp) (3.10.0)\n",
      "Requirement already satisfied: importlib-resources>=1.4.0 in /opt/conda/lib/python3.7/site-packages (from jsonschema>=2.6->nbformat>=5.2.0->jupyter-server>=1.1.2->jupyter-lsp) (5.10.0)\n",
      "Requirement already satisfied: pyrsistent!=0.17.0,!=0.17.1,!=0.17.2,>=0.14.0 in /opt/conda/lib/python3.7/site-packages (from jsonschema>=2.6->nbformat>=5.2.0->jupyter-server>=1.1.2->jupyter-lsp) (0.18.1)\n",
      "Requirement already satisfied: attrs>=17.4.0 in /opt/conda/lib/python3.7/site-packages (from jsonschema>=2.6->nbformat>=5.2.0->jupyter-server>=1.1.2->jupyter-lsp) (22.1.0)\n",
      "Requirement already satisfied: pkgutil-resolve-name>=1.3.10 in /opt/conda/lib/python3.7/site-packages (from jsonschema>=2.6->nbformat>=5.2.0->jupyter-server>=1.1.2->jupyter-lsp) (1.3.10)\n",
      "Requirement already satisfied: six>=1.5 in /opt/conda/lib/python3.7/site-packages (from python-dateutil>=2.8.2->jupyter-client>=6.1.12->jupyter-server>=1.1.2->jupyter-lsp) (1.16.0)\n",
      "Requirement already satisfied: cffi>=1.0.1 in /opt/conda/lib/python3.7/site-packages (from argon2-cffi-bindings->argon2-cffi->jupyter-server>=1.1.2->jupyter-lsp) (1.15.1)\n",
      "Requirement already satisfied: soupsieve>1.2 in /opt/conda/lib/python3.7/site-packages (from beautifulsoup4->nbconvert>=6.4.4->jupyter-server>=1.1.2->jupyter-lsp) (2.3.2.post1)\n",
      "Requirement already satisfied: webencodings in /opt/conda/lib/python3.7/site-packages (from bleach->nbconvert>=6.4.4->jupyter-server>=1.1.2->jupyter-lsp) (0.5.1)\n",
      "Requirement already satisfied: pycparser in /opt/conda/lib/python3.7/site-packages (from cffi>=1.0.1->argon2-cffi-bindings->argon2-cffi->jupyter-server>=1.1.2->jupyter-lsp) (2.21)\n",
      "Requirement already satisfied: python-lsp-server[all] in /opt/conda/lib/python3.7/site-packages (1.5.0)\n",
      "Requirement already satisfied: setuptools>=39.0.0 in /opt/conda/lib/python3.7/site-packages (from python-lsp-server[all]) (59.8.0)\n",
      "Requirement already satisfied: pluggy>=1.0.0 in /opt/conda/lib/python3.7/site-packages (from python-lsp-server[all]) (1.0.0)\n",
      "Requirement already satisfied: jedi<0.19.0,>=0.17.2 in /opt/conda/lib/python3.7/site-packages (from python-lsp-server[all]) (0.18.1)\n",
      "Requirement already satisfied: ujson>=3.0.0 in /opt/conda/lib/python3.7/site-packages (from python-lsp-server[all]) (5.5.0)\n",
      "Requirement already satisfied: python-lsp-jsonrpc>=1.0.0 in /opt/conda/lib/python3.7/site-packages (from python-lsp-server[all]) (1.0.0)\n",
      "Requirement already satisfied: pydocstyle>=2.0.0 in /opt/conda/lib/python3.7/site-packages (from python-lsp-server[all]) (6.1.1)\n",
      "Requirement already satisfied: autopep8<1.7.0,>=1.6.0 in /opt/conda/lib/python3.7/site-packages (from python-lsp-server[all]) (1.6.0)\n",
      "Requirement already satisfied: yapf in /opt/conda/lib/python3.7/site-packages (from python-lsp-server[all]) (0.32.0)\n",
      "Requirement already satisfied: flake8<4.1.0,>=4.0.0 in /opt/conda/lib/python3.7/site-packages (from python-lsp-server[all]) (4.0.1)\n",
      "Requirement already satisfied: mccabe<0.7.0,>=0.6.0 in /opt/conda/lib/python3.7/site-packages (from python-lsp-server[all]) (0.6.1)\n",
      "Requirement already satisfied: pyflakes<2.5.0,>=2.4.0 in /opt/conda/lib/python3.7/site-packages (from python-lsp-server[all]) (2.4.0)\n",
      "Requirement already satisfied: pycodestyle<2.9.0,>=2.8.0 in /opt/conda/lib/python3.7/site-packages (from python-lsp-server[all]) (2.8.0)\n",
      "Requirement already satisfied: pylint>=2.5.0 in /opt/conda/lib/python3.7/site-packages (from python-lsp-server[all]) (2.15.5)\n",
      "Requirement already satisfied: rope>=0.10.5 in /opt/conda/lib/python3.7/site-packages (from python-lsp-server[all]) (1.4.0)\n",
      "Requirement already satisfied: whatthepatch in /opt/conda/lib/python3.7/site-packages (from python-lsp-server[all]) (1.0.2)\n",
      "Requirement already satisfied: toml in /opt/conda/lib/python3.7/site-packages (from autopep8<1.7.0,>=1.6.0->python-lsp-server[all]) (0.10.2)\n",
      "Requirement already satisfied: importlib-metadata<4.3 in /opt/conda/lib/python3.7/site-packages (from flake8<4.1.0,>=4.0.0->python-lsp-server[all]) (4.2.0)\n",
      "Requirement already satisfied: parso<0.9.0,>=0.8.0 in /opt/conda/lib/python3.7/site-packages (from jedi<0.19.0,>=0.17.2->python-lsp-server[all]) (0.8.3)\n",
      "Requirement already satisfied: snowballstemmer in /opt/conda/lib/python3.7/site-packages (from pydocstyle>=2.0.0->python-lsp-server[all]) (2.2.0)\n",
      "Requirement already satisfied: tomli>=1.1.0 in /opt/conda/lib/python3.7/site-packages (from pylint>=2.5.0->python-lsp-server[all]) (2.0.1)\n",
      "Requirement already satisfied: dill>=0.2 in /opt/conda/lib/python3.7/site-packages (from pylint>=2.5.0->python-lsp-server[all]) (0.3.5.1)\n",
      "Requirement already satisfied: isort<6,>=4.2.5 in /opt/conda/lib/python3.7/site-packages (from pylint>=2.5.0->python-lsp-server[all]) (5.10.1)\n",
      "Requirement already satisfied: tomlkit>=0.10.1 in /opt/conda/lib/python3.7/site-packages (from pylint>=2.5.0->python-lsp-server[all]) (0.11.6)\n",
      "Requirement already satisfied: platformdirs>=2.2.0 in /opt/conda/lib/python3.7/site-packages (from pylint>=2.5.0->python-lsp-server[all]) (2.5.2)\n",
      "Requirement already satisfied: typing-extensions>=3.10.0 in /opt/conda/lib/python3.7/site-packages (from pylint>=2.5.0->python-lsp-server[all]) (4.4.0)\n",
      "Requirement already satisfied: astroid<=2.14.0-dev0,>=2.12.12 in /opt/conda/lib/python3.7/site-packages (from pylint>=2.5.0->python-lsp-server[all]) (2.12.12)\n",
      "Requirement already satisfied: pytoolconfig>=1.2.2 in /opt/conda/lib/python3.7/site-packages (from rope>=0.10.5->python-lsp-server[all]) (1.2.2)\n",
      "Requirement already satisfied: typed-ast<2.0,>=1.4.0 in /opt/conda/lib/python3.7/site-packages (from astroid<=2.14.0-dev0,>=2.12.12->pylint>=2.5.0->python-lsp-server[all]) (1.5.4)\n",
      "Requirement already satisfied: wrapt<2,>=1.11 in /opt/conda/lib/python3.7/site-packages (from astroid<=2.14.0-dev0,>=2.12.12->pylint>=2.5.0->python-lsp-server[all]) (1.14.1)\n",
      "Requirement already satisfied: lazy-object-proxy>=1.4.0 in /opt/conda/lib/python3.7/site-packages (from astroid<=2.14.0-dev0,>=2.12.12->pylint>=2.5.0->python-lsp-server[all]) (1.8.0)\n",
      "Requirement already satisfied: zipp>=0.5 in /opt/conda/lib/python3.7/site-packages (from importlib-metadata<4.3->flake8<4.1.0,>=4.0.0->python-lsp-server[all]) (3.10.0)\n",
      "Requirement already satisfied: packaging>=21.3 in /opt/conda/lib/python3.7/site-packages (from pytoolconfig>=1.2.2->rope>=0.10.5->python-lsp-server[all]) (21.3)\n",
      "Requirement already satisfied: pyparsing!=3.0.5,>=2.0.2 in /opt/conda/lib/python3.7/site-packages (from packaging>=21.3->pytoolconfig>=1.2.2->rope>=0.10.5->python-lsp-server[all]) (3.0.9)\n",
      "Requirement already satisfied: pymongo[srv] in /opt/conda/lib/python3.7/site-packages (3.12.0)\n",
      "Requirement already satisfied: dnspython<2.0.0,>=1.16.0 in /opt/conda/lib/python3.7/site-packages (from pymongo[srv]) (1.16.0)\n",
      "/bin/bash: line 0: fg: no job control\n",
      "ln: failed to create symbolic link '.lsp_symlink/': File exists\n"
     ]
    }
   ],
   "source": [
    "!pip install -r requirements.txt\n",
    "!pip install jupyter-lsp\n",
    "!pip install 'python-lsp-server[all]'\n",
    "!pip install \"pymongo[srv]\"\n",
    "!%config Completer.use_jedi = False\n",
    "!ln -s / .lsp_symlink"
   ]
  },
  {
   "cell_type": "code",
   "execution_count": null,
   "id": "57338f54-81f0-4083-8b78-01ca47ad0c23",
   "metadata": {},
   "outputs": [],
   "source": [
    "import torch\n",
    "import numpy as np\n",
    "import nltk\n",
    "from transformers import AutoTokenizer, DataCollatorWithPadding\n",
    "\n",
    "from persistence import Connection as Database"
   ]
  },
  {
   "cell_type": "code",
   "execution_count": null,
   "id": "cc87b079-3ff9-4cd1-8e8d-06b4d804823e",
   "metadata": {},
   "outputs": [
    {
     "data": {
      "text/plain": [
       "True"
      ]
     },
     "execution_count": 3,
     "metadata": {},
     "output_type": "execute_result"
    }
   ],
   "source": [
    "torch.cuda.is_available()"
   ]
  },
  {
   "cell_type": "code",
   "execution_count": null,
   "id": "8c9fa236-815b-4091-b36e-b9855e487927",
   "metadata": {},
   "outputs": [
    {
     "name": "stdout",
     "output_type": "stream",
     "text": [
      "Connected to DB\n"
     ]
    }
   ],
   "source": [
    "# load some data \n",
    "db: Database = Database()"
   ]
  },
  {
   "cell_type": "code",
   "execution_count": null,
   "id": "f06c252a-f2fa-4760-a551-8a81da0cc1ea",
   "metadata": {
    "tags": []
   },
   "outputs": [
    {
     "data": {
      "text/plain": [
       "[]"
      ]
     },
     "execution_count": 10,
     "metadata": {},
     "output_type": "execute_result"
    }
   ],
   "source": [
    "first = db.fetch_all_resumes()\n",
    "\n",
    "first"
   ]
  },
  {
   "cell_type": "code",
   "execution_count": null,
   "id": "5b74a7f3-005a-4ff6-81c8-7d68030385df",
   "metadata": {},
   "outputs": [],
   "source": []
  }
 ],
 "metadata": {
  "environment": {
   "kernel": "",
   "name": "pytorch-gpu.1-12.m99",
   "type": "gcloud",
   "uri": "gcr.io/deeplearning-platform-release/pytorch-gpu.1-12:m99"
  },
  "kernelspec": {
   "display_name": "",
   "name": ""
  },
  "language_info": {
   "name": ""
  }
 },
 "nbformat": 4,
 "nbformat_minor": 5
}
