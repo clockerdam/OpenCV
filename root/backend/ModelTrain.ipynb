{
 "cells": [
  {
   "cell_type": "code",
   "execution_count": null,
   "id": "c4fecdf8-5eb3-43c1-84b5-faa5f41726bc",
   "metadata": {
    "collapsed": true,
    "jupyter": {
     "outputs_hidden": true
    },
    "tags": []
   },
   "outputs": [],
   "source": [
    "!pip install -r requirements.txt\n",
    "!pip install jupyter-lsp\n",
    "!pip install 'python-lsp-server[all]'\n",
    "!pip install \"pymongo[srv]\"\n",
    "!%config Completer.use_jedi = False\n",
   ]
  },
  {
   "cell_type": "code",
   "execution_count": 1,
   "id": "57338f54-81f0-4083-8b78-01ca47ad0c23",
   "metadata": {},
   "outputs": [],
   "source": [
    "import numpy as np\n",
    "import pandas as pd\n",
    "\n",
    "from persistence import Connection as Database"
   ]
  },
  {
   "cell_type": "code",
   "execution_count": 2,
   "id": "fc777e0a-2cab-4856-9cb1-4b73cd5ae418",
   "metadata": {},
   "outputs": [],
   "source": [
    "from typing import List, Tuple"
   ]
  },
  {
   "cell_type": "code",
   "execution_count": 3,
   "id": "8c9fa236-815b-4091-b36e-b9855e487927",
   "metadata": {
    "tags": []
   },
   "outputs": [
    {
     "name": "stdout",
     "output_type": "stream",
     "text": [
      "Connected to DB\n"
     ]
    }
   ],
   "source": [
    "# load some data \n",
    "db: Database = Database()"
   ]
  },
  {
   "cell_type": "code",
   "execution_count": 4,
   "id": "f06c252a-f2fa-4760-a551-8a81da0cc1ea",
   "metadata": {
    "tags": []
   },
   "outputs": [],
   "source": [
    "resumes = db.fetch_all_unlabeled_resumes()"
   ]
  },
  {
   "cell_type": "code",
   "execution_count": 5,
   "id": "66ec3758",
   "metadata": {},
   "outputs": [
    {
     "data": {
      "text/plain": [
       "<module 'model.keyword_utils' from '/home/jupyter/OpenCV/root/backend/model/keyword_utils.py'>"
      ]
     },
     "execution_count": 5,
     "metadata": {},
     "output_type": "execute_result"
    }
   ],
   "source": [
    "import importlib\n",
    "from model import keyword_utils\n",
    "importlib.reload(keyword_utils)"
   ]
  },
  {
   "cell_type": "code",
   "execution_count": 6,
   "id": "42a6d205-441b-4c8f-8559-53a8ed8cb530",
   "metadata": {},
   "outputs": [],
   "source": [
    "from model import Job as J\n",
    "\n",
    "importlib.reload(J)\n",
    "Job = J.Job"
   ]
  },
  {
   "cell_type": "code",
   "execution_count": 7,
   "id": "d5948816-fbcb-4e40-ac3b-ec62853289c3",
   "metadata": {},
   "outputs": [
    {
     "name": "stdout",
     "output_type": "stream",
     "text": [
      "25\n"
     ]
    }
   ],
   "source": [
    "print(len(resumes))"
   ]
  },
  {
   "cell_type": "markdown",
   "id": "e4530751-87ee-45c0-8ddd-59eae8bd3d20",
   "metadata": {},
   "source": [
    "# Observations\n",
    "- We observed that it/IT is a conflict with stop-word removal …\n",
    "- Take the length of the experience into account \n",
    "- For example, statistical and statsitcs are close, maybe relevant to use embeddnings istead of intersection"
   ]
  },
  {
   "cell_type": "code",
   "execution_count": 8,
   "id": "96bc42ee",
   "metadata": {},
   "outputs": [
    {
     "name": "stdout",
     "output_type": "stream",
     "text": [
      "25\n",
      "{'value': [{'value': 'Medicine', 'label': 0}, {'value': 'Languages', 'label': 0}], 'label': 0}\n"
     ]
    }
   ],
   "source": [
    "print(len(resumes))\n",
    "\n",
    "print(resumes[1]['interests'])"
   ]
  },
  {
   "cell_type": "code",
   "execution_count": 9,
   "id": "f6881e3b",
   "metadata": {},
   "outputs": [
    {
     "name": "stdout",
     "output_type": "stream",
     "text": [
      "[('Data Scientist (ML Researcher) \\n - Developed recommendation systems for Melon (music), Kakao Webtoon (comics), and Kakao Page (novel)', 0.5339869104202009), ('Data Scientist \\n Machine learning - Developed content and product recommendation algorithms - Designed model evaluation cycles and experimentation processes Causal inference - Developed experiment methods for the in-house experimentation platform', 0.7557760273418015), ('Graduate Research Assistant \\n - Conducted social science research with an emphasis on causal inference and applied machine learning', 0.0366886913670631), ('Researcher/Research Data Analyst \\n - Examined the effect of campaign advertising on polls and elections', 0.9311738819414676), ('Research Intern/Assistant \\n - Developed differentially private statistical algorithms to conduct hypothesis tests in social science research', 0.2889529596495968), ('Sergeant \\n - Honorably discharged as KATUSA (Korean Augmentation To the US Army)', 0.05111648520135437), (\"Master's degree, Political Science (Concentration in Quantitative Methods and Behavior Analysis) \\n \", 0.1426010563918727), ('Bachelor of Arts - BA, Political Science \\n ', 0.8363423969328784), (' \\n ', 0.8165492939993214), (' \\n German Studies', 0.7112002753547966), ('I focus on applying machine learning and causal inference to offer data-driven insights and solutions - recommendation systems - behavioral research - experimentation', 0), ('Departmental Highest Honors \\n ', 0.7774628801197131), (\"Magna Cum Laude \\n Award for my master's degree\", 0.30226405682592306), (\"College Honors \\n Award for my bachelor's degree\", 0.5420212374187204), (\"Dean's Honors List \\n Award in my first year in college\", 0.1921871678137086), ('Army Commendation Medal \\n Award in my first year in college', 0.2417711646677838), ('Differentially Private Chi-squared Hypothesis Testing: Goodness of Fit and Independence Testing \\n Research Paper', 0.22176288931558819), ('English', 0), ('Korean', 0), ('Research', 0), ('Data Analytics', 0), ('R', 0), ('Cat cafe worker \\n Worked extra at a cat café.', 0.3695621080654474)]\n"
     ]
    }
   ],
   "source": [
    "\n",
    "print(keyword_utils.get_section_texts_with_score_from_resume(resumes[0]))"
   ]
  },
  {
   "cell_type": "code",
   "execution_count": 10,
   "id": "5b74a7f3-005a-4ff6-81c8-7d68030385df",
   "metadata": {
    "tags": []
   },
   "outputs": [],
   "source": [
    "from model.train_dictionaries import train_keywords_for_job_title\n",
    "j = train_keywords_for_job_title(\"Data scientist\", resumes)"
   ]
  },
  {
   "cell_type": "code",
   "execution_count": 11,
   "id": "8f193624",
   "metadata": {
    "collapsed": true,
    "jupyter": {
     "outputs_hidden": true
    },
    "tags": []
   },
   "outputs": [
    {
     "name": "stdout",
     "output_type": "stream",
     "text": [
      "('ias 13', 0.9150640210570984)\n"
     ]
    }
   ],
   "source": [
    "j.keywords\n",
    "\n",
    "for k in j.keywords.items(): \n",
    "    print(k)\n",
    "    break\n",
    "    \n",
    "# print(\"\\n\".join([f\"{k},{v}\" for k, v in j.keywords.items()]))"
   ]
  },
  {
   "cell_type": "code",
   "execution_count": 12,
   "id": "0f6fd2a2",
   "metadata": {},
   "outputs": [],
   "source": [
    "from persistence.cloud_storage.cloud_storage import write_job_keywords \n",
    "\n",
    "write_job_keywords(j)"
   ]
  },
  {
   "cell_type": "markdown",
   "id": "fdb91a99-2df9-4804-a40b-d6559ed3b9da",
   "metadata": {},
   "source": [
    "## Need to fix\n",
    " - Training keyword/weights Automatically\n",
    "\n",
    "## Training\n",
    "all cvs -> split into labeled-parts -> extract keywords (keybert) -> update score with label -> for each word output average -> List of words with score for position \n",
    "\n",
    "\n",
    "## Other features\n",
    " - Experience duration? \n",
    " - How long ago? "
   ]
  },
  {
   "cell_type": "code",
   "execution_count": 13,
   "id": "6b043d7e",
   "metadata": {},
   "outputs": [
    {
     "data": {
      "text/plain": [
       "{'address': 'Abraham Lincoln Street 1, Chicago, IL',\n",
       " 'website': 'my-website.com',\n",
       " 'linkedin': 'linkedin.com/in/me123',\n",
       " 'name': 'Monica Music',\n",
       " 'phoneNumber': '01012345',\n",
       " 'email': 'monica@music.co.kr',\n",
       " 'github': 'monicamusic123',\n",
       " 'birthday': '24 December 1985',\n",
       " 'family': '5 kids, divorced'}"
      ]
     },
     "execution_count": 13,
     "metadata": {},
     "output_type": "execute_result"
    }
   ],
   "source": [
    "resumes[1]['contactInfo']"
   ]
  },
  {
   "cell_type": "code",
   "execution_count": 14,
   "id": "3af4fb66",
   "metadata": {},
   "outputs": [
    {
     "name": "stdout",
     "output_type": "stream",
     "text": [
      "Empty DataFrame\n",
      "Columns: [value, label, type, address, website, linkedin, name, phoneNumber, email, github, birthday, family, company, title, location, fromDate, toDate, description, institution, proficiency, level, date, scoring_text, multiplier]\n",
      "Index: []\n",
      "\n",
      "[0 rows x 24 columns]\n",
      "Empty DataFrame\n",
      "Columns: [value, label, type, address, website, linkedin, name, phoneNumber, email, github, birthday, family, company, title, location, fromDate, toDate, description, institution, proficiency, level, date]\n",
      "Index: []\n",
      "\n",
      "[0 rows x 22 columns]\n"
     ]
    },
    {
     "name": "stderr",
     "output_type": "stream",
     "text": [
      "/opt/conda/lib/python3.7/site-packages/pandas/core/frame.py:4913: SettingWithCopyWarning: \n",
      "A value is trying to be set on a copy of a slice from a DataFrame\n",
      "\n",
      "See the caveats in the documentation: https://pandas.pydata.org/pandas-docs/stable/user_guide/indexing.html#returning-a-view-versus-a-copy\n",
      "  errors=errors,\n"
     ]
    }
   ],
   "source": [
    "import model\n",
    "from prediction import prediction\n",
    "from util import json_to_df \n",
    "importlib.reload(prediction)\n",
    "importlib.reload(model.resume_scorer)\n",
    "importlib.reload(json_to_df)\n",
    "\n",
    "\n",
    "improved = prediction.improve_cv(\"Data scientist\", resumes[1])"
   ]
  },
  {
   "cell_type": "code",
   "execution_count": 15,
   "id": "681a1420",
   "metadata": {},
   "outputs": [
    {
     "data": {
      "text/plain": [
       "{'title': 'Data Scientist at Thales',\n",
       " '_id': ObjectId('6374781d09ad88efd5044c9c'),\n",
       " 'summary': {'value': '', 'label': 0.0},\n",
       " 'experience': {'value': [{'value': {'company': 'Fondazione Santa Lucia',\n",
       "     'title': 'Engineering Trainee',\n",
       "     'location': '',\n",
       "     'fromDate': 'Mars 2008',\n",
       "     'toDate': 'September 2008',\n",
       "     'description': 'Linear Inverse techniques for high resolution EEG and brain hyper- connectivity estimation in healthy subjects'},\n",
       "    'label': 0.13508663678798602},\n",
       "   {'value': {'company': 'Fondazione Santa Lucia, Neuroeletrical Imaging and Brain Computer Interface Laboratory',\n",
       "     'title': 'Term Contract',\n",
       "     'location': 'Rome',\n",
       "     'fromDate': 'October 2008',\n",
       "     'toDate': 'December 2008',\n",
       "     'description': 'Application of high resolution EEG techniques and multivariate models for the brain connectivity estimation in healthy and patient subjects.'},\n",
       "    'label': 0.1385201750091479},\n",
       "   {'value': {'company': 'Thales',\n",
       "     'title': 'Data Scientist',\n",
       "     'location': 'Palaiseau',\n",
       "     'fromDate': 'September 2018',\n",
       "     'toDate': 'Present',\n",
       "     'description': ''},\n",
       "    'label': 0.47206456158368476}],\n",
       "  'label': 0},\n",
       " 'education': {'value': [{'value': {'title': 'Diploma de posgrado, Obtención y Procesamiento de Señales e Imágenes Biomédicas, Instrumentación Biomédica',\n",
       "     'location': 'Spain',\n",
       "     'fromDate': '2006',\n",
       "     'toDate': '2007',\n",
       "     'description': '',\n",
       "     'institution': 'Fundació Politècnica de Catalunya'},\n",
       "    'label': 0.18745157892088804},\n",
       "   {'value': {'title': 'Doctor of Philosophy - PhD, Biometry/Biometrics',\n",
       "     'location': 'Rome, Italy',\n",
       "     'fromDate': '2012',\n",
       "     'toDate': '2015',\n",
       "     'description': 'PhD with European Label in Biomedical electronics, electromagnetics and telecommunications Thesis – Automatic user recognition based on EEG signals. Main tasks: design of EEG recording protocols; signal acquisition; preprocessing for the enhancement of SNR; EEG analysis applying advanced signal processing methods for feature engineering; machine learning approaches for BCI and biometry applications.',\n",
       "     'institution': 'Università degli Studi di Roma Tre'},\n",
       "    'label': 0.19279513379254132},\n",
       "   {'value': {'title': \"Master's degree, Ingénierie biomédicale / médicale\",\n",
       "     'location': 'Rome, Italy',\n",
       "     'fromDate': '2008',\n",
       "     'toDate': '2011',\n",
       "     'description': '',\n",
       "     'institution': 'Sapienza Università di Roma'},\n",
       "    'label': 0.26994181552438573},\n",
       "   {'value': {'title': 'Regulación Automatica',\n",
       "     'location': 'Spain',\n",
       "     'fromDate': '2006',\n",
       "     'toDate': '2007',\n",
       "     'description': '',\n",
       "     'institution': 'Universitat Politècnica de Catalunya'},\n",
       "    'label': 0.5437008996386051}],\n",
       "  'label': 0},\n",
       " 'interests': {'value': [], 'label': 0},\n",
       " 'accomplishments': {'value': [{'value': {'title': 'CEA enhanced eurotalent - Marie Sklodowska-Curie Actions Programme',\n",
       "     'fromDate': '2022-01-20',\n",
       "     'toDate': 'Today',\n",
       "     'description': ''},\n",
       "    'label': 0.1780206398769982},\n",
       "   {'value': {'title': \"Best Master's Degree Thesis on Disability\",\n",
       "     'fromDate': '2017-07-23',\n",
       "     'toDate': '',\n",
       "     'description': ''},\n",
       "    'label': 0.22715836390603567},\n",
       "   {'value': {'title': 'European Biometrics Research Award',\n",
       "     'fromDate': '2021-03-20',\n",
       "     'toDate': '',\n",
       "     'description': ''},\n",
       "    'label': 0.35015758735533337}],\n",
       "  'label': 0},\n",
       " 'languages': {'value': [], 'label': 0},\n",
       " 'projects': {'value': [{'value': {'title': 'Academic Paper published',\n",
       "     'fromDate': '2022-10-02',\n",
       "     'toDate': '',\n",
       "     'description': 'https://scholar.google.com/citations? user=P5v6hRUAAAAJ&hl=fr'},\n",
       "    'label': 0.3336681489304159}],\n",
       "  'label': 0},\n",
       " 'softSkills': {'value': [], 'label': 0},\n",
       " 'hardSkills': {'value': [{'value': {'name': 'Algorithms', 'proficiency': 3.0},\n",
       "    'label': 0.549038412634259},\n",
       "   {'value': {'name': 'Signal processing', 'proficiency': 5.0},\n",
       "    'label': 0.7074359946792427}],\n",
       "  'label': 0},\n",
       " 'certifications': {'value': [{'value': {'title': 'Machine learning with PySpark',\n",
       "     'description': '',\n",
       "     'level': '',\n",
       "     'date': ''},\n",
       "    'label': 0.20930919811735965}],\n",
       "  'label': 0},\n",
       " 'patents': {'value': [], 'label': 0},\n",
       " 'extracurriculars': {'value': [], 'label': 0}}"
      ]
     },
     "execution_count": 15,
     "metadata": {},
     "output_type": "execute_result"
    }
   ],
   "source": [
    "improved"
   ]
  },
  {
   "cell_type": "code",
   "execution_count": 16,
   "id": "5a514e4b",
   "metadata": {},
   "outputs": [
    {
     "name": "stdout",
     "output_type": "stream",
     "text": [
      "[]\n",
      "  value  label         type                                address  \\\n",
      "1   NaN    0.0  contactInfo  Abraham Lincoln Street 1, Chicago, IL   \n",
      "\n",
      "          website               linkedin          name phoneNumber  \\\n",
      "1  my-website.com  linkedin.com/in/me123  Monica Music    01012345   \n",
      "\n",
      "                email          github  ... company title location fromDate  \\\n",
      "1  monica@music.co.kr  monicamusic123  ...     NaN   NaN      NaN      NaN   \n",
      "\n",
      "  toDate description institution proficiency level  date  \n",
      "1    NaN         NaN         NaN         NaN   NaN   NaN  \n",
      "\n",
      "[1 rows x 22 columns]\n",
      "  value  label         type                                address  \\\n",
      "1   NaN    0.0  contactInfo  Abraham Lincoln Street 1, Chicago, IL   \n",
      "\n",
      "          website               linkedin          name phoneNumber  \\\n",
      "1  my-website.com  linkedin.com/in/me123  Monica Music    01012345   \n",
      "\n",
      "                email          github  ... company title location fromDate  \\\n",
      "1  monica@music.co.kr  monicamusic123  ...     NaN   NaN      NaN      NaN   \n",
      "\n",
      "  toDate description institution proficiency level  date  \n",
      "1    NaN         NaN         NaN         NaN   NaN   NaN  \n",
      "\n",
      "[1 rows x 22 columns]\n",
      "{'address': 'Abraham Lincoln Street 1, Chicago, IL', 'website': 'my-website.com', 'linkedin': 'linkedin.com/in/me123', 'name': 'Monica Music', 'phoneNumber': '01012345', 'email': 'monica@music.co.kr', 'github': 'monicamusic123', 'birthday': '24 December 1985', 'family': '5 kids, divorced'}\n",
      "{'address': 'Abraham Lincoln Street 1, Chicago, IL', 'website': 'my-website.com', 'linkedin': 'linkedin.com/in/me123', 'name': 'Monica Music', 'phoneNumber': '01012345', 'email': 'monica@music.co.kr', 'github': 'monicamusic123', 'birthday': '24 December 1985', 'family': '5 kids, divorced'}\n",
      "{}\n"
     ]
    },
    {
     "name": "stderr",
     "output_type": "stream",
     "text": [
      "/opt/conda/lib/python3.7/site-packages/pandas/core/frame.py:4913: SettingWithCopyWarning: \n",
      "A value is trying to be set on a copy of a slice from a DataFrame\n",
      "\n",
      "See the caveats in the documentation: https://pandas.pydata.org/pandas-docs/stable/user_guide/indexing.html#returning-a-view-versus-a-copy\n",
      "  errors=errors,\n"
     ]
    }
   ],
   "source": [
    "importlib.reload(json_to_df)\n",
    "from jsondiff import diff\n",
    "res = resumes[1]\n",
    "\n",
    "df, md = json_to_df.create_df(res)\n",
    "\n",
    "print(df[df['type'] == 'none'].to_dict('records'))\n",
    "\n",
    "back = json_to_df.get_resume_dict_from_dataframe(df, md)\n",
    "\n",
    "print(df[df['type'] == 'contactInfo'])\n",
    "print(res['contactInfo'])\n",
    "print(back['contactInfo'])\n",
    "print(diff(res, back))"
   ]
  }
 ],
 "metadata": {
  "environment": {
   "kernel": "python3",
   "name": "pytorch-gpu.1-12.m99",
   "type": "gcloud",
   "uri": "gcr.io/deeplearning-platform-release/pytorch-gpu.1-12:m99"
  },
  "kernelspec": {
   "display_name": "Python 3",
   "language": "python",
   "name": "python3"
  },
  "language_info": {
   "codemirror_mode": {
    "name": "ipython",
    "version": 3
   },
   "file_extension": ".py",
   "mimetype": "text/x-python",
   "name": "python",
   "nbconvert_exporter": "python",
   "pygments_lexer": "ipython3",
   "version": "3.7.12"
  },
  "vscode": {
   "interpreter": {
    "hash": "d4d1e4263499bec80672ea0156c357c1ee493ec2b1c70f0acce89fc37c4a6abe"
   }
  }
 },
 "nbformat": 4,
 "nbformat_minor": 5
}
