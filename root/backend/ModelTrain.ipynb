{
 "cells": [
  {
   "cell_type": "code",
   "execution_count": 2,
   "id": "c4fecdf8-5eb3-43c1-84b5-faa5f41726bc",
   "metadata": {
    "collapsed": true,
    "jupyter": {
     "outputs_hidden": true
    },
    "tags": []
   },
   "outputs": [
    {
     "name": "stdout",
     "output_type": "stream",
     "text": [
      "Requirement already satisfied: black==22.10.0 in /opt/conda/lib/python3.7/site-packages (from -r requirements.txt (line 1)) (22.10.0)\n",
      "Requirement already satisfied: Flask==2.2.2 in /opt/conda/lib/python3.7/site-packages (from -r requirements.txt (line 2)) (2.2.2)\n",
      "Requirement already satisfied: pymongo==3.12.0 in /opt/conda/lib/python3.7/site-packages (from -r requirements.txt (line 3)) (3.12.0)\n",
      "Requirement already satisfied: Python-dotenv==0.21.0 in /opt/conda/lib/python3.7/site-packages (from -r requirements.txt (line 4)) (0.21.0)\n",
      "Requirement already satisfied: Flask-Cors==3.0.10 in /opt/conda/lib/python3.7/site-packages (from -r requirements.txt (line 5)) (3.0.10)\n",
      "Requirement already satisfied: Flasgger==0.9.5 in /opt/conda/lib/python3.7/site-packages (from -r requirements.txt (line 6)) (0.9.5)\n",
      "Requirement already satisfied: Pydantic==1.9.0 in /opt/conda/lib/python3.7/site-packages (from -r requirements.txt (line 7)) (1.9.0)\n",
      "Requirement already satisfied: gensim==4.2.0 in /opt/conda/lib/python3.7/site-packages (from -r requirements.txt (line 9)) (4.2.0)\n",
      "Requirement already satisfied: nltk==3.7 in /opt/conda/lib/python3.7/site-packages (from -r requirements.txt (line 10)) (3.7)\n",
      "Requirement already satisfied: transformers==4.24.0 in /opt/conda/lib/python3.7/site-packages (from -r requirements.txt (line 11)) (4.24.0)\n",
      "Requirement already satisfied: spacy==3.4.2 in /opt/conda/lib/python3.7/site-packages (from -r requirements.txt (line 12)) (3.4.2)\n",
      "Requirement already satisfied: spacy-legacy==3.0.10 in /opt/conda/lib/python3.7/site-packages (from -r requirements.txt (line 13)) (3.0.10)\n",
      "Requirement already satisfied: spacy-loggers==1.0.3 in /opt/conda/lib/python3.7/site-packages (from -r requirements.txt (line 14)) (1.0.3)\n",
      "Requirement already satisfied: keybert==0.7.0 in /opt/conda/lib/python3.7/site-packages (from -r requirements.txt (line 15)) (0.7.0)\n",
      "Requirement already satisfied: pandas==1.3.5 in /opt/conda/lib/python3.7/site-packages (from -r requirements.txt (line 16)) (1.3.5)\n",
      "Requirement already satisfied: tomli>=1.1.0 in /opt/conda/lib/python3.7/site-packages (from black==22.10.0->-r requirements.txt (line 1)) (2.0.1)\n",
      "Requirement already satisfied: typing-extensions>=3.10.0.0 in /opt/conda/lib/python3.7/site-packages (from black==22.10.0->-r requirements.txt (line 1)) (4.1.1)\n",
      "Requirement already satisfied: mypy-extensions>=0.4.3 in /opt/conda/lib/python3.7/site-packages (from black==22.10.0->-r requirements.txt (line 1)) (0.4.3)\n",
      "Requirement already satisfied: typed-ast>=1.4.2 in /opt/conda/lib/python3.7/site-packages (from black==22.10.0->-r requirements.txt (line 1)) (1.5.4)\n",
      "Requirement already satisfied: pathspec>=0.9.0 in /opt/conda/lib/python3.7/site-packages (from black==22.10.0->-r requirements.txt (line 1)) (0.10.1)\n",
      "Requirement already satisfied: click>=8.0.0 in /opt/conda/lib/python3.7/site-packages (from black==22.10.0->-r requirements.txt (line 1)) (8.1.3)\n",
      "Requirement already satisfied: platformdirs>=2 in /opt/conda/lib/python3.7/site-packages (from black==22.10.0->-r requirements.txt (line 1)) (2.5.2)\n",
      "Requirement already satisfied: itsdangerous>=2.0 in /opt/conda/lib/python3.7/site-packages (from Flask==2.2.2->-r requirements.txt (line 2)) (2.1.2)\n",
      "Requirement already satisfied: importlib-metadata>=3.6.0 in /opt/conda/lib/python3.7/site-packages (from Flask==2.2.2->-r requirements.txt (line 2)) (4.2.0)\n",
      "Requirement already satisfied: Werkzeug>=2.2.2 in /opt/conda/lib/python3.7/site-packages (from Flask==2.2.2->-r requirements.txt (line 2)) (2.2.2)\n",
      "Requirement already satisfied: Jinja2>=3.0 in /opt/conda/lib/python3.7/site-packages (from Flask==2.2.2->-r requirements.txt (line 2)) (3.1.2)\n",
      "Requirement already satisfied: Six in /opt/conda/lib/python3.7/site-packages (from Flask-Cors==3.0.10->-r requirements.txt (line 5)) (1.16.0)\n",
      "Requirement already satisfied: PyYAML>=3.0 in /opt/conda/lib/python3.7/site-packages (from Flasgger==0.9.5->-r requirements.txt (line 6)) (6.0)\n",
      "Requirement already satisfied: jsonschema>=3.0.1 in /opt/conda/lib/python3.7/site-packages (from Flasgger==0.9.5->-r requirements.txt (line 6)) (4.16.0)\n",
      "Requirement already satisfied: mistune in /opt/conda/lib/python3.7/site-packages (from Flasgger==0.9.5->-r requirements.txt (line 6)) (2.0.4)\n",
      "Requirement already satisfied: numpy>=1.17.0 in /opt/conda/lib/python3.7/site-packages (from gensim==4.2.0->-r requirements.txt (line 9)) (1.21.6)\n",
      "Requirement already satisfied: scipy>=0.18.1 in /opt/conda/lib/python3.7/site-packages (from gensim==4.2.0->-r requirements.txt (line 9)) (1.7.3)\n",
      "Requirement already satisfied: smart-open>=1.8.1 in /opt/conda/lib/python3.7/site-packages (from gensim==4.2.0->-r requirements.txt (line 9)) (5.2.1)\n",
      "Requirement already satisfied: tqdm in /opt/conda/lib/python3.7/site-packages (from nltk==3.7->-r requirements.txt (line 10)) (4.64.1)\n",
      "Requirement already satisfied: joblib in /opt/conda/lib/python3.7/site-packages (from nltk==3.7->-r requirements.txt (line 10)) (1.2.0)\n",
      "Requirement already satisfied: regex>=2021.8.3 in /opt/conda/lib/python3.7/site-packages (from nltk==3.7->-r requirements.txt (line 10)) (2022.10.31)\n",
      "Requirement already satisfied: packaging>=20.0 in /opt/conda/lib/python3.7/site-packages (from transformers==4.24.0->-r requirements.txt (line 11)) (21.3)\n",
      "Requirement already satisfied: tokenizers!=0.11.3,<0.14,>=0.11.1 in /opt/conda/lib/python3.7/site-packages (from transformers==4.24.0->-r requirements.txt (line 11)) (0.13.1)\n",
      "Requirement already satisfied: requests in /opt/conda/lib/python3.7/site-packages (from transformers==4.24.0->-r requirements.txt (line 11)) (2.28.1)\n",
      "Requirement already satisfied: huggingface-hub<1.0,>=0.10.0 in /opt/conda/lib/python3.7/site-packages (from transformers==4.24.0->-r requirements.txt (line 11)) (0.10.1)\n",
      "Requirement already satisfied: filelock in /opt/conda/lib/python3.7/site-packages (from transformers==4.24.0->-r requirements.txt (line 11)) (3.8.0)\n",
      "Requirement already satisfied: preshed<3.1.0,>=3.0.2 in /opt/conda/lib/python3.7/site-packages (from spacy==3.4.2->-r requirements.txt (line 12)) (3.0.8)\n",
      "Requirement already satisfied: wasabi<1.1.0,>=0.9.1 in /opt/conda/lib/python3.7/site-packages (from spacy==3.4.2->-r requirements.txt (line 12)) (0.10.1)\n",
      "Requirement already satisfied: langcodes<4.0.0,>=3.2.0 in /opt/conda/lib/python3.7/site-packages (from spacy==3.4.2->-r requirements.txt (line 12)) (3.3.0)\n",
      "Requirement already satisfied: cymem<2.1.0,>=2.0.2 in /opt/conda/lib/python3.7/site-packages (from spacy==3.4.2->-r requirements.txt (line 12)) (2.0.7)\n",
      "Requirement already satisfied: murmurhash<1.1.0,>=0.28.0 in /opt/conda/lib/python3.7/site-packages (from spacy==3.4.2->-r requirements.txt (line 12)) (1.0.9)\n",
      "Requirement already satisfied: setuptools in /opt/conda/lib/python3.7/site-packages (from spacy==3.4.2->-r requirements.txt (line 12)) (59.8.0)\n",
      "Requirement already satisfied: pathy>=0.3.5 in /opt/conda/lib/python3.7/site-packages (from spacy==3.4.2->-r requirements.txt (line 12)) (0.6.2)\n",
      "Requirement already satisfied: catalogue<2.1.0,>=2.0.6 in /opt/conda/lib/python3.7/site-packages (from spacy==3.4.2->-r requirements.txt (line 12)) (2.0.8)\n",
      "Requirement already satisfied: srsly<3.0.0,>=2.4.3 in /opt/conda/lib/python3.7/site-packages (from spacy==3.4.2->-r requirements.txt (line 12)) (2.4.5)\n",
      "Requirement already satisfied: thinc<8.2.0,>=8.1.0 in /opt/conda/lib/python3.7/site-packages (from spacy==3.4.2->-r requirements.txt (line 12)) (8.1.5)\n",
      "Requirement already satisfied: typer<0.5.0,>=0.3.0 in /opt/conda/lib/python3.7/site-packages (from spacy==3.4.2->-r requirements.txt (line 12)) (0.4.2)\n",
      "Requirement already satisfied: rich>=10.4.0 in /opt/conda/lib/python3.7/site-packages (from keybert==0.7.0->-r requirements.txt (line 15)) (12.6.0)\n",
      "Requirement already satisfied: scikit-learn>=0.22.2 in /opt/conda/lib/python3.7/site-packages (from keybert==0.7.0->-r requirements.txt (line 15)) (1.0.2)\n",
      "Requirement already satisfied: sentence-transformers>=0.3.8 in /opt/conda/lib/python3.7/site-packages (from keybert==0.7.0->-r requirements.txt (line 15)) (2.2.2)\n",
      "Requirement already satisfied: python-dateutil>=2.7.3 in /opt/conda/lib/python3.7/site-packages (from pandas==1.3.5->-r requirements.txt (line 16)) (2.8.2)\n",
      "Requirement already satisfied: pytz>=2017.3 in /opt/conda/lib/python3.7/site-packages (from pandas==1.3.5->-r requirements.txt (line 16)) (2022.5)\n",
      "Requirement already satisfied: dnspython<2.0.0,>=1.16.0 in /opt/conda/lib/python3.7/site-packages (from pymongo==3.12.0->-r requirements.txt (line 3)) (1.16.0)\n",
      "Requirement already satisfied: zipp>=0.5 in /opt/conda/lib/python3.7/site-packages (from catalogue<2.1.0,>=2.0.6->spacy==3.4.2->-r requirements.txt (line 12)) (3.10.0)\n",
      "Requirement already satisfied: MarkupSafe>=2.0 in /opt/conda/lib/python3.7/site-packages (from Jinja2>=3.0->Flask==2.2.2->-r requirements.txt (line 2)) (2.1.1)\n",
      "Requirement already satisfied: pyrsistent!=0.17.0,!=0.17.1,!=0.17.2,>=0.14.0 in /opt/conda/lib/python3.7/site-packages (from jsonschema>=3.0.1->Flasgger==0.9.5->-r requirements.txt (line 6)) (0.18.1)\n",
      "Requirement already satisfied: pkgutil-resolve-name>=1.3.10 in /opt/conda/lib/python3.7/site-packages (from jsonschema>=3.0.1->Flasgger==0.9.5->-r requirements.txt (line 6)) (1.3.10)\n",
      "Requirement already satisfied: attrs>=17.4.0 in /opt/conda/lib/python3.7/site-packages (from jsonschema>=3.0.1->Flasgger==0.9.5->-r requirements.txt (line 6)) (22.1.0)\n",
      "Requirement already satisfied: importlib-resources>=1.4.0 in /opt/conda/lib/python3.7/site-packages (from jsonschema>=3.0.1->Flasgger==0.9.5->-r requirements.txt (line 6)) (5.10.0)\n",
      "Requirement already satisfied: pyparsing!=3.0.5,>=2.0.2 in /opt/conda/lib/python3.7/site-packages (from packaging>=20.0->transformers==4.24.0->-r requirements.txt (line 11)) (3.0.9)\n",
      "Requirement already satisfied: certifi>=2017.4.17 in /opt/conda/lib/python3.7/site-packages (from requests->transformers==4.24.0->-r requirements.txt (line 11)) (2022.9.24)\n",
      "Requirement already satisfied: urllib3<1.27,>=1.21.1 in /opt/conda/lib/python3.7/site-packages (from requests->transformers==4.24.0->-r requirements.txt (line 11)) (1.26.11)\n",
      "Requirement already satisfied: charset-normalizer<3,>=2 in /opt/conda/lib/python3.7/site-packages (from requests->transformers==4.24.0->-r requirements.txt (line 11)) (2.1.1)\n",
      "Requirement already satisfied: idna<4,>=2.5 in /opt/conda/lib/python3.7/site-packages (from requests->transformers==4.24.0->-r requirements.txt (line 11)) (3.4)\n",
      "Requirement already satisfied: pygments<3.0.0,>=2.6.0 in /opt/conda/lib/python3.7/site-packages (from rich>=10.4.0->keybert==0.7.0->-r requirements.txt (line 15)) (2.13.0)\n",
      "Requirement already satisfied: commonmark<0.10.0,>=0.9.0 in /opt/conda/lib/python3.7/site-packages (from rich>=10.4.0->keybert==0.7.0->-r requirements.txt (line 15)) (0.9.1)\n",
      "Requirement already satisfied: threadpoolctl>=2.0.0 in /opt/conda/lib/python3.7/site-packages (from scikit-learn>=0.22.2->keybert==0.7.0->-r requirements.txt (line 15)) (3.1.0)\n",
      "Requirement already satisfied: sentencepiece in /opt/conda/lib/python3.7/site-packages (from sentence-transformers>=0.3.8->keybert==0.7.0->-r requirements.txt (line 15)) (0.1.97)\n",
      "Requirement already satisfied: torch>=1.6.0 in /opt/conda/lib/python3.7/site-packages (from sentence-transformers>=0.3.8->keybert==0.7.0->-r requirements.txt (line 15)) (1.12.1)\n",
      "Requirement already satisfied: torchvision in /opt/conda/lib/python3.7/site-packages (from sentence-transformers>=0.3.8->keybert==0.7.0->-r requirements.txt (line 15)) (0.13.1+cu113)\n",
      "Requirement already satisfied: blis<0.8.0,>=0.7.8 in /opt/conda/lib/python3.7/site-packages (from thinc<8.2.0,>=8.1.0->spacy==3.4.2->-r requirements.txt (line 12)) (0.7.9)\n",
      "Requirement already satisfied: confection<1.0.0,>=0.0.1 in /opt/conda/lib/python3.7/site-packages (from thinc<8.2.0,>=8.1.0->spacy==3.4.2->-r requirements.txt (line 12)) (0.0.3)\n",
      "Requirement already satisfied: pillow!=8.3.*,>=5.3.0 in /opt/conda/lib/python3.7/site-packages (from torchvision->sentence-transformers>=0.3.8->keybert==0.7.0->-r requirements.txt (line 15)) (9.2.0)\n",
      "Requirement already satisfied: jupyter-lsp in /opt/conda/lib/python3.7/site-packages (1.5.1)\n",
      "Requirement already satisfied: entrypoints in /opt/conda/lib/python3.7/site-packages (from jupyter-lsp) (0.4)\n",
      "Requirement already satisfied: jupyter-server>=1.1.2 in /opt/conda/lib/python3.7/site-packages (from jupyter-lsp) (1.21.0)\n",
      "Requirement already satisfied: jupyter-client>=6.1.12 in /opt/conda/lib/python3.7/site-packages (from jupyter-server>=1.1.2->jupyter-lsp) (7.4.4)\n",
      "Requirement already satisfied: traitlets>=5.1 in /opt/conda/lib/python3.7/site-packages (from jupyter-server>=1.1.2->jupyter-lsp) (5.5.0)\n",
      "Requirement already satisfied: Send2Trash in /opt/conda/lib/python3.7/site-packages (from jupyter-server>=1.1.2->jupyter-lsp) (1.8.0)\n",
      "Requirement already satisfied: nbconvert>=6.4.4 in /opt/conda/lib/python3.7/site-packages (from jupyter-server>=1.1.2->jupyter-lsp) (7.2.2)\n",
      "Requirement already satisfied: prometheus-client in /opt/conda/lib/python3.7/site-packages (from jupyter-server>=1.1.2->jupyter-lsp) (0.15.0)\n",
      "Requirement already satisfied: jinja2 in /opt/conda/lib/python3.7/site-packages (from jupyter-server>=1.1.2->jupyter-lsp) (3.1.2)\n",
      "Requirement already satisfied: packaging in /opt/conda/lib/python3.7/site-packages (from jupyter-server>=1.1.2->jupyter-lsp) (21.3)\n",
      "Requirement already satisfied: argon2-cffi in /opt/conda/lib/python3.7/site-packages (from jupyter-server>=1.1.2->jupyter-lsp) (21.3.0)\n",
      "Requirement already satisfied: terminado>=0.8.3 in /opt/conda/lib/python3.7/site-packages (from jupyter-server>=1.1.2->jupyter-lsp) (0.17.0)\n",
      "Requirement already satisfied: tornado>=6.1.0 in /opt/conda/lib/python3.7/site-packages (from jupyter-server>=1.1.2->jupyter-lsp) (6.2)\n",
      "Requirement already satisfied: jupyter-core>=4.7.0 in /opt/conda/lib/python3.7/site-packages (from jupyter-server>=1.1.2->jupyter-lsp) (4.11.1)\n",
      "Requirement already satisfied: websocket-client in /opt/conda/lib/python3.7/site-packages (from jupyter-server>=1.1.2->jupyter-lsp) (1.4.1)\n",
      "Requirement already satisfied: nbformat>=5.2.0 in /opt/conda/lib/python3.7/site-packages (from jupyter-server>=1.1.2->jupyter-lsp) (5.7.0)\n",
      "Requirement already satisfied: pyzmq>=17 in /opt/conda/lib/python3.7/site-packages (from jupyter-server>=1.1.2->jupyter-lsp) (24.0.1)\n",
      "Requirement already satisfied: anyio<4,>=3.1.0 in /opt/conda/lib/python3.7/site-packages (from jupyter-server>=1.1.2->jupyter-lsp) (3.6.2)\n",
      "Requirement already satisfied: sniffio>=1.1 in /opt/conda/lib/python3.7/site-packages (from anyio<4,>=3.1.0->jupyter-server>=1.1.2->jupyter-lsp) (1.3.0)\n",
      "Requirement already satisfied: idna>=2.8 in /opt/conda/lib/python3.7/site-packages (from anyio<4,>=3.1.0->jupyter-server>=1.1.2->jupyter-lsp) (3.4)\n",
      "Requirement already satisfied: typing-extensions in /opt/conda/lib/python3.7/site-packages (from anyio<4,>=3.1.0->jupyter-server>=1.1.2->jupyter-lsp) (4.1.1)\n",
      "Requirement already satisfied: nest-asyncio>=1.5.4 in /opt/conda/lib/python3.7/site-packages (from jupyter-client>=6.1.12->jupyter-server>=1.1.2->jupyter-lsp) (1.5.6)\n",
      "Requirement already satisfied: python-dateutil>=2.8.2 in /opt/conda/lib/python3.7/site-packages (from jupyter-client>=6.1.12->jupyter-server>=1.1.2->jupyter-lsp) (2.8.2)\n",
      "Requirement already satisfied: defusedxml in /opt/conda/lib/python3.7/site-packages (from nbconvert>=6.4.4->jupyter-server>=1.1.2->jupyter-lsp) (0.7.1)\n",
      "Requirement already satisfied: beautifulsoup4 in /opt/conda/lib/python3.7/site-packages (from nbconvert>=6.4.4->jupyter-server>=1.1.2->jupyter-lsp) (4.11.1)\n",
      "Requirement already satisfied: mistune<3,>=2.0.3 in /opt/conda/lib/python3.7/site-packages (from nbconvert>=6.4.4->jupyter-server>=1.1.2->jupyter-lsp) (2.0.4)\n",
      "Requirement already satisfied: bleach in /opt/conda/lib/python3.7/site-packages (from nbconvert>=6.4.4->jupyter-server>=1.1.2->jupyter-lsp) (5.0.1)\n",
      "Requirement already satisfied: markupsafe>=2.0 in /opt/conda/lib/python3.7/site-packages (from nbconvert>=6.4.4->jupyter-server>=1.1.2->jupyter-lsp) (2.1.1)\n",
      "Requirement already satisfied: pygments>=2.4.1 in /opt/conda/lib/python3.7/site-packages (from nbconvert>=6.4.4->jupyter-server>=1.1.2->jupyter-lsp) (2.13.0)\n",
      "Requirement already satisfied: importlib-metadata>=3.6 in /opt/conda/lib/python3.7/site-packages (from nbconvert>=6.4.4->jupyter-server>=1.1.2->jupyter-lsp) (4.2.0)\n",
      "Requirement already satisfied: pandocfilters>=1.4.1 in /opt/conda/lib/python3.7/site-packages (from nbconvert>=6.4.4->jupyter-server>=1.1.2->jupyter-lsp) (1.5.0)\n",
      "Requirement already satisfied: nbclient>=0.5.0 in /opt/conda/lib/python3.7/site-packages (from nbconvert>=6.4.4->jupyter-server>=1.1.2->jupyter-lsp) (0.7.0)\n",
      "Requirement already satisfied: tinycss2 in /opt/conda/lib/python3.7/site-packages (from nbconvert>=6.4.4->jupyter-server>=1.1.2->jupyter-lsp) (1.2.1)\n",
      "Requirement already satisfied: jupyterlab-pygments in /opt/conda/lib/python3.7/site-packages (from nbconvert>=6.4.4->jupyter-server>=1.1.2->jupyter-lsp) (0.2.2)\n",
      "Requirement already satisfied: fastjsonschema in /opt/conda/lib/python3.7/site-packages (from nbformat>=5.2.0->jupyter-server>=1.1.2->jupyter-lsp) (2.16.2)\n",
      "Requirement already satisfied: jsonschema>=2.6 in /opt/conda/lib/python3.7/site-packages (from nbformat>=5.2.0->jupyter-server>=1.1.2->jupyter-lsp) (4.16.0)\n",
      "Requirement already satisfied: ptyprocess in /opt/conda/lib/python3.7/site-packages (from terminado>=0.8.3->jupyter-server>=1.1.2->jupyter-lsp) (0.7.0)\n",
      "Requirement already satisfied: argon2-cffi-bindings in /opt/conda/lib/python3.7/site-packages (from argon2-cffi->jupyter-server>=1.1.2->jupyter-lsp) (21.2.0)\n",
      "Requirement already satisfied: pyparsing!=3.0.5,>=2.0.2 in /opt/conda/lib/python3.7/site-packages (from packaging->jupyter-server>=1.1.2->jupyter-lsp) (3.0.9)\n",
      "Requirement already satisfied: zipp>=0.5 in /opt/conda/lib/python3.7/site-packages (from importlib-metadata>=3.6->nbconvert>=6.4.4->jupyter-server>=1.1.2->jupyter-lsp) (3.10.0)\n",
      "Requirement already satisfied: attrs>=17.4.0 in /opt/conda/lib/python3.7/site-packages (from jsonschema>=2.6->nbformat>=5.2.0->jupyter-server>=1.1.2->jupyter-lsp) (22.1.0)\n",
      "Requirement already satisfied: pyrsistent!=0.17.0,!=0.17.1,!=0.17.2,>=0.14.0 in /opt/conda/lib/python3.7/site-packages (from jsonschema>=2.6->nbformat>=5.2.0->jupyter-server>=1.1.2->jupyter-lsp) (0.18.1)\n",
      "Requirement already satisfied: importlib-resources>=1.4.0 in /opt/conda/lib/python3.7/site-packages (from jsonschema>=2.6->nbformat>=5.2.0->jupyter-server>=1.1.2->jupyter-lsp) (5.10.0)\n",
      "Requirement already satisfied: pkgutil-resolve-name>=1.3.10 in /opt/conda/lib/python3.7/site-packages (from jsonschema>=2.6->nbformat>=5.2.0->jupyter-server>=1.1.2->jupyter-lsp) (1.3.10)\n",
      "Requirement already satisfied: six>=1.5 in /opt/conda/lib/python3.7/site-packages (from python-dateutil>=2.8.2->jupyter-client>=6.1.12->jupyter-server>=1.1.2->jupyter-lsp) (1.16.0)\n",
      "Requirement already satisfied: cffi>=1.0.1 in /opt/conda/lib/python3.7/site-packages (from argon2-cffi-bindings->argon2-cffi->jupyter-server>=1.1.2->jupyter-lsp) (1.15.1)\n",
      "Requirement already satisfied: soupsieve>1.2 in /opt/conda/lib/python3.7/site-packages (from beautifulsoup4->nbconvert>=6.4.4->jupyter-server>=1.1.2->jupyter-lsp) (2.3.2.post1)\n",
      "Requirement already satisfied: webencodings in /opt/conda/lib/python3.7/site-packages (from bleach->nbconvert>=6.4.4->jupyter-server>=1.1.2->jupyter-lsp) (0.5.1)\n",
      "Requirement already satisfied: pycparser in /opt/conda/lib/python3.7/site-packages (from cffi>=1.0.1->argon2-cffi-bindings->argon2-cffi->jupyter-server>=1.1.2->jupyter-lsp) (2.21)\n",
      "Requirement already satisfied: python-lsp-server[all] in /opt/conda/lib/python3.7/site-packages (1.5.0)\n",
      "Requirement already satisfied: pluggy>=1.0.0 in /opt/conda/lib/python3.7/site-packages (from python-lsp-server[all]) (1.0.0)\n",
      "Requirement already satisfied: jedi<0.19.0,>=0.17.2 in /opt/conda/lib/python3.7/site-packages (from python-lsp-server[all]) (0.18.1)\n",
      "Requirement already satisfied: ujson>=3.0.0 in /opt/conda/lib/python3.7/site-packages (from python-lsp-server[all]) (5.5.0)\n",
      "Requirement already satisfied: python-lsp-jsonrpc>=1.0.0 in /opt/conda/lib/python3.7/site-packages (from python-lsp-server[all]) (1.0.0)\n",
      "Requirement already satisfied: setuptools>=39.0.0 in /opt/conda/lib/python3.7/site-packages (from python-lsp-server[all]) (59.8.0)\n",
      "Requirement already satisfied: autopep8<1.7.0,>=1.6.0 in /opt/conda/lib/python3.7/site-packages (from python-lsp-server[all]) (1.6.0)\n",
      "Requirement already satisfied: pycodestyle<2.9.0,>=2.8.0 in /opt/conda/lib/python3.7/site-packages (from python-lsp-server[all]) (2.8.0)\n",
      "Requirement already satisfied: whatthepatch in /opt/conda/lib/python3.7/site-packages (from python-lsp-server[all]) (1.0.2)\n",
      "Requirement already satisfied: mccabe<0.7.0,>=0.6.0 in /opt/conda/lib/python3.7/site-packages (from python-lsp-server[all]) (0.6.1)\n",
      "Requirement already satisfied: flake8<4.1.0,>=4.0.0 in /opt/conda/lib/python3.7/site-packages (from python-lsp-server[all]) (4.0.1)\n",
      "Requirement already satisfied: pyflakes<2.5.0,>=2.4.0 in /opt/conda/lib/python3.7/site-packages (from python-lsp-server[all]) (2.4.0)\n",
      "Requirement already satisfied: pydocstyle>=2.0.0 in /opt/conda/lib/python3.7/site-packages (from python-lsp-server[all]) (6.1.1)\n",
      "Requirement already satisfied: yapf in /opt/conda/lib/python3.7/site-packages (from python-lsp-server[all]) (0.32.0)\n",
      "Requirement already satisfied: pylint>=2.5.0 in /opt/conda/lib/python3.7/site-packages (from python-lsp-server[all]) (2.15.5)\n",
      "Requirement already satisfied: rope>=0.10.5 in /opt/conda/lib/python3.7/site-packages (from python-lsp-server[all]) (1.4.0)\n",
      "Requirement already satisfied: toml in /opt/conda/lib/python3.7/site-packages (from autopep8<1.7.0,>=1.6.0->python-lsp-server[all]) (0.10.2)\n",
      "Requirement already satisfied: importlib-metadata<4.3 in /opt/conda/lib/python3.7/site-packages (from flake8<4.1.0,>=4.0.0->python-lsp-server[all]) (4.2.0)\n",
      "Requirement already satisfied: parso<0.9.0,>=0.8.0 in /opt/conda/lib/python3.7/site-packages (from jedi<0.19.0,>=0.17.2->python-lsp-server[all]) (0.8.3)\n",
      "Requirement already satisfied: snowballstemmer in /opt/conda/lib/python3.7/site-packages (from pydocstyle>=2.0.0->python-lsp-server[all]) (2.2.0)\n",
      "Requirement already satisfied: platformdirs>=2.2.0 in /opt/conda/lib/python3.7/site-packages (from pylint>=2.5.0->python-lsp-server[all]) (2.5.2)\n",
      "Requirement already satisfied: tomlkit>=0.10.1 in /opt/conda/lib/python3.7/site-packages (from pylint>=2.5.0->python-lsp-server[all]) (0.11.6)\n",
      "Requirement already satisfied: typing-extensions>=3.10.0 in /opt/conda/lib/python3.7/site-packages (from pylint>=2.5.0->python-lsp-server[all]) (4.1.1)\n",
      "Requirement already satisfied: isort<6,>=4.2.5 in /opt/conda/lib/python3.7/site-packages (from pylint>=2.5.0->python-lsp-server[all]) (5.10.1)\n",
      "Requirement already satisfied: tomli>=1.1.0 in /opt/conda/lib/python3.7/site-packages (from pylint>=2.5.0->python-lsp-server[all]) (2.0.1)\n",
      "Requirement already satisfied: dill>=0.2 in /opt/conda/lib/python3.7/site-packages (from pylint>=2.5.0->python-lsp-server[all]) (0.3.5.1)\n",
      "Requirement already satisfied: astroid<=2.14.0-dev0,>=2.12.12 in /opt/conda/lib/python3.7/site-packages (from pylint>=2.5.0->python-lsp-server[all]) (2.12.12)\n",
      "Requirement already satisfied: pytoolconfig>=1.2.2 in /opt/conda/lib/python3.7/site-packages (from rope>=0.10.5->python-lsp-server[all]) (1.2.2)\n",
      "Requirement already satisfied: typed-ast<2.0,>=1.4.0 in /opt/conda/lib/python3.7/site-packages (from astroid<=2.14.0-dev0,>=2.12.12->pylint>=2.5.0->python-lsp-server[all]) (1.5.4)\n",
      "Requirement already satisfied: lazy-object-proxy>=1.4.0 in /opt/conda/lib/python3.7/site-packages (from astroid<=2.14.0-dev0,>=2.12.12->pylint>=2.5.0->python-lsp-server[all]) (1.8.0)\n",
      "Requirement already satisfied: wrapt<2,>=1.11 in /opt/conda/lib/python3.7/site-packages (from astroid<=2.14.0-dev0,>=2.12.12->pylint>=2.5.0->python-lsp-server[all]) (1.14.1)\n",
      "Requirement already satisfied: zipp>=0.5 in /opt/conda/lib/python3.7/site-packages (from importlib-metadata<4.3->flake8<4.1.0,>=4.0.0->python-lsp-server[all]) (3.10.0)\n",
      "Requirement already satisfied: packaging>=21.3 in /opt/conda/lib/python3.7/site-packages (from pytoolconfig>=1.2.2->rope>=0.10.5->python-lsp-server[all]) (21.3)\n",
      "Requirement already satisfied: pyparsing!=3.0.5,>=2.0.2 in /opt/conda/lib/python3.7/site-packages (from packaging>=21.3->pytoolconfig>=1.2.2->rope>=0.10.5->python-lsp-server[all]) (3.0.9)\n",
      "Requirement already satisfied: pymongo[srv] in /opt/conda/lib/python3.7/site-packages (3.12.0)\n",
      "Requirement already satisfied: dnspython<2.0.0,>=1.16.0 in /opt/conda/lib/python3.7/site-packages (from pymongo[srv]) (1.16.0)\n",
      "/bin/bash: line 0: fg: no job control\n",
      "ln: failed to create symbolic link '.lsp_symlink/': File exists\n"
     ]
    }
   ],
   "source": [
    "!pip install -r requirements.txt\n",
    "!pip install jupyter-lsp\n",
    "!pip install 'python-lsp-server[all]'\n",
    "!pip install \"pymongo[srv]\"\n",
    "!%config Completer.use_jedi = False\n",
    "!ln -s / .lsp_symlink"
   ]
  },
  {
   "cell_type": "code",
   "execution_count": 2,
   "id": "57338f54-81f0-4083-8b78-01ca47ad0c23",
   "metadata": {},
   "outputs": [],
   "source": [
    "import numpy as np\n",
    "import nltk\n",
    "import pandas as pd\n",
    "\n",
    "from persistence import Connection as Database"
   ]
  },
  {
   "cell_type": "code",
   "execution_count": 3,
   "id": "fc777e0a-2cab-4856-9cb1-4b73cd5ae418",
   "metadata": {},
   "outputs": [],
   "source": [
    "from typing import List, Tuple"
   ]
  },
  {
   "cell_type": "code",
   "execution_count": 4,
   "id": "8c9fa236-815b-4091-b36e-b9855e487927",
   "metadata": {
    "tags": []
   },
   "outputs": [
    {
     "name": "stdout",
     "output_type": "stream",
     "text": [
      "Connected to DB\n"
     ]
    }
   ],
   "source": [
    "# load some data \n",
    "db: Database = Database()"
   ]
  },
  {
   "cell_type": "code",
   "execution_count": 5,
   "id": "f06c252a-f2fa-4760-a551-8a81da0cc1ea",
   "metadata": {
    "tags": []
   },
   "outputs": [],
   "source": [
    "resumes = db.fetch_all_unlabeled_resumes()"
   ]
  },
  {
   "cell_type": "code",
   "execution_count": 6,
   "id": "42a6d205-441b-4c8f-8559-53a8ed8cb530",
   "metadata": {},
   "outputs": [],
   "source": [
    "from model.Job import Job"
   ]
  },
  {
   "cell_type": "markdown",
   "id": "e4530751-87ee-45c0-8ddd-59eae8bd3d20",
   "metadata": {},
   "source": [
    "# Observations\n",
    "- We observed that it/IT is a conflict with stop-word removal …\n",
    "- Take the length of the experience into account \n",
    "- For example, statistical and statsitcs are close, maybe relevant to use embeddnings istead of intersection"
   ]
  },
  {
   "cell_type": "code",
   "execution_count": 18,
   "id": "96bc42ee",
   "metadata": {},
   "outputs": [
    {
     "name": "stdout",
     "output_type": "stream",
     "text": [
      "50\n",
      "{'value': [{'value': 'Social Media', 'label': 0}, {'value': 'Spreading knowledge', 'label': 0}], 'label': 0}\n"
     ]
    }
   ],
   "source": [
    "print(len(resumes))\n",
    "\n",
    "print(resumes[1]['interests'])"
   ]
  },
  {
   "cell_type": "code",
   "execution_count": 8,
   "id": "66ec3758",
   "metadata": {},
   "outputs": [
    {
     "data": {
      "text/plain": [
       "<module 'model.keyword_utils' from '/home/jupyter/OpenCV/root/backend/model/keyword_utils.py'>"
      ]
     },
     "execution_count": 8,
     "metadata": {},
     "output_type": "execute_result"
    }
   ],
   "source": [
    "import importlib\n",
    "from model import keyword_utils\n",
    "importlib.reload(keyword_utils)"
   ]
  },
  {
   "cell_type": "code",
   "execution_count": 9,
   "id": "f6881e3b",
   "metadata": {},
   "outputs": [
    {
     "name": "stdout",
     "output_type": "stream",
     "text": [
      "[('Data Scientist \\n ', 0.5909591785237429), ('Data Scientist @ A>RACE \\n A>RACE is the Accenture Risk Analytics Center of Excellence. It is a center created within Accenture which deals with risk management projects with the objective to provide innovative IT solutions.', 0.9619381521900876), ('Stage Consulting @ A>RACE \\n ', 0.7333717127785977), (\"Tutor \\n I was the tutor of the Master degree Direzione aziendale taught in the University of Bologna for one year. I managed the relations between professors and students, organized the schedules for the academic year and dealt with administrative issues related to the course's admission and graduation.\", 0.03841496368395636), ('Mentee \\n Mentee in the ICARO project. The project which last 9 months is an intensive entrepreneurial path aimed to bring university students close to the business culture. During this path, I learned to work together with students coming from different realities using a design thinking approach to solve real business cases.', 0.8039620961660148), ('Market research intern \\n The company is specialized in trade marketing and GDO marketing. The competences and responsibilities I undertook concerned: marketing, market researches, the creation of databases, store-check, CRM I also created presentations for customers and infographics for fair events.', 0.8684961863649394), ('Second cycle degree, Statistical science \\n ', 0.11813745800939113), ('Erasmus exchange student \\n Erasmus exchange student', 0.04925141473175498), (\"Laurea triennale in Scienze dell'Economia e della Gestione Aziendale, Management e marketing \\n \", 0.5799427152365789), (' \\n ', 0.2806405252611862), ('I am a passionate data scientist curious and ambitious. I love to dig into data trying to bring order in a word of chaos.', 0), ('Boxing', 0), ('Olympic gold medal in rowing \\n Tight race', 0.08639153198325022), (\"Project for Data Science \\n Built a NLP tool for optimizing ebay item descriptions. The professor didn't like it.\", 0.28944809501646496), ('Spanish', 0), ('Korean', 0), ('English', 0), ('Presenting', 0), ('Debating', 0), ('R', 0), ('Python', 0), ('Machine Learning', 0), ('Entrepreneurship - ICARO Bologna \\n ', 0.5103033403367461), ('SAS Certified Base Programmer for SAS 9 \\n ', 0.8553196238371297), (' \\n Runs a dog-shelter on the weekends for homeless dogs.', 0.6851900329424336)]\n"
     ]
    }
   ],
   "source": [
    "\n",
    "print(keyword_utils.get_section_texts_with_score_from_resume(resumes[0]))"
   ]
  },
  {
   "cell_type": "code",
   "execution_count": 11,
   "id": "5b74a7f3-005a-4ff6-81c8-7d68030385df",
   "metadata": {
    "tags": []
   },
   "outputs": [],
   "source": [
    "import random\n",
    "   \n",
    "def flatten(l: List) -> List: \n",
    "    return [item for sublist in l for item in sublist] # flattening the resulting listprint(resume_text_base)\n",
    "    \n",
    "    \n",
    "def train_keywords_for_job_title(job_title: str, dataset: List[dict]) -> Job: \n",
    "    \"\"\"Trains the keyword scores for a job title given the dataset\n",
    "    The dataset should be a list of labeled resumes, where the title of the labeling was the job title\"\"\"\n",
    "    job: Job = Job(job_title)\n",
    "    resume_text_base = [keyword_utils.get_section_texts_with_score_from_resume(resume) for resume in dataset]\n",
    "    resume_text_base = flatten(resume_text_base)\n",
    "    keywords = keyword_utils.extract_keywords_from_text([v[0] for v in resume_text_base])\n",
    "\n",
    "    flat_keywords = []\n",
    "    for i, row in enumerate(keywords): \n",
    "        for kw in row:\n",
    "            flat_keywords.append(kw + (resume_text_base[i][1],))\n",
    "    frame = pd.DataFrame(flat_keywords, columns=[\"word\", \"score\", \"paragraph_score\"])\n",
    "\n",
    "    frame['weighted_score'] = frame.score * frame.paragraph_score\n",
    "\n",
    "    frame = frame.groupby('word', as_index=True).mean().sort_values(by=['weighted_score'], ascending=False)\n",
    "    most_important = frame[frame.weighted_score > 0.2]\n",
    "\n",
    "    m = most_important.weighted_score\n",
    "    \n",
    "    job.set_keywords(m.to_dict())\n",
    "\n",
    "    \n",
    "    return job\n",
    "\n",
    "j = train_keywords_for_job_title(\"Data scientist\", resumes)\n",
    "    \n",
    "    "
   ]
  },
  {
   "cell_type": "code",
   "execution_count": 12,
   "id": "8f193624",
   "metadata": {},
   "outputs": [
    {
     "name": "stdout",
     "output_type": "stream",
     "text": [
      "1190\n"
     ]
    }
   ],
   "source": [
    "print(len(j.keywords))"
   ]
  },
  {
   "cell_type": "code",
   "execution_count": 15,
   "id": "52edd595-bd9d-427f-87f3-6e7142db20d4",
   "metadata": {},
   "outputs": [],
   "source": [
    "from persistence.models import Resume"
   ]
  },
  {
   "cell_type": "markdown",
   "id": "fdb91a99-2df9-4804-a40b-d6559ed3b9da",
   "metadata": {},
   "source": [
    "## Need to fix\n",
    " - Keyword extract funciton with keybert (Ø)\n",
    " - Embedding words (prebuilt) (K)\n",
    " - Distance func (K)\n",
    " \n",
    " - Training keyword/weights\n",
    " - word relevance to paragraph func (TF-IDF?)\n",
    " - Filter stopwords and stuff func \n",
    " - Refactor scoring into class\n",
    " - Make a interface class for scoring a cv \n",
    " - Function for cutting out content \n",
    "\n",
    "\n",
    "\n",
    "## Training\n",
    "all cvs -> split into labeled-parts -> extract keywords (keybert) -> update score with label -> for each word output average -> List of words with score for position \n",
    "\n",
    "\n",
    "## Other features\n",
    " - Experience duration? \n",
    " - How long ago? "
   ]
  },
  {
   "cell_type": "code",
   "execution_count": 32,
   "id": "ea29d71c-cc54-4462-9998-dc5d0cbd2c06",
   "metadata": {},
   "outputs": [],
   "source": [
    "import model.resume_scorer\n",
    "importlib.reload(model.resume_scorer)\n",
    "\n",
    "scorer = model.resume_scorer.ResumeScorer()\n",
    "out = scorer.score_resume(resumes[1], j)\n"
   ]
  },
  {
   "cell_type": "code",
   "execution_count": 33,
   "id": "d179ea64",
   "metadata": {},
   "outputs": [
    {
     "data": {
      "text/plain": [
       "{'value': [{'value': {'company': 'Google',\n",
       "    'title': 'Startup Mentor',\n",
       "    'location': 'Stockholm, Sweden',\n",
       "    'fromDate': 'October 2022',\n",
       "    'toDate': 'Present',\n",
       "    'description': 'I am a mentor at Google’s Accelerator Mentor community.'},\n",
       "   'label': 0.10979697031510403},\n",
       "  {'value': {'company': 'AI4Diversity',\n",
       "    'title': 'Director',\n",
       "    'location': 'Stockholm, Sweden',\n",
       "    'fromDate': 'December 2021',\n",
       "    'toDate': 'Present',\n",
       "    'description': '- I am a Director at AI4Diversity Sweden. - AI4Diversity is the fastest-growing nonprofit global initiative that engages and educates diverse communities about AI to benefit global society. - We believe AI makers need to be from diverse backgrounds to provide equal opportunities to everyone. - Our mission is to increase a more diverse representation and participation in AI. - We are a community-driven initiative bringing empowerment, knowledge, and active collaboration via education, research, events, and blogging.'},\n",
       "   'label': 0.06726603111070917},\n",
       "  {'value': {'company': 'Nova',\n",
       "    'title': 'Nova Member',\n",
       "    'location': 'Stockholm, Sweden',\n",
       "    'fromDate': 'March 2022',\n",
       "    'toDate': 'Present',\n",
       "    'description': \"- Nova Talent is a global by-invitation talent network comprising the top 3% of talents in their fields from over 72+ countries. - Nova allows the world's most talented professionals and students to share, learn, and connect with forward-thinking businesses in order to find their dream employment. - All Nova members were chosen through a rigorous selection procedure that emphasised personal traits as well as professional and academic achievements.\"},\n",
       "   'label': 0.026267410040373928},\n",
       "  {'value': {'company': 'KTH Royal Institute of Technology',\n",
       "    'title': 'Applied AI and Data Science Researcher',\n",
       "    'location': 'Stockholm, Sweden',\n",
       "    'fromDate': 'April 2022',\n",
       "    'toDate': 'July 2022',\n",
       "    'description': '- Analyzing climate change adaptation and sustainable development using AI. - Developing AI-driven systems for carbon sequestration measurement. Creating innovative AI-driven carbon reduction systems to enable true reduction activities and to achieve the net-zero carbon goal. - Analyzing the change in forest carbon and its correlation with different types of forestry techniques. - Performing ecological assessments for climate neutrality goals for several different sectors including agriculture and forestry, energy, biotechnology, and water ecosystems.'},\n",
       "   'label': 0.009038866286498057},\n",
       "  {'value': {'company': 'Earthbanc',\n",
       "    'title': 'Head of Artificial Intelligence',\n",
       "    'location': 'Stockholm, Sweden',\n",
       "    'fromDate': 'August 2020',\n",
       "    'toDate': 'April 2022',\n",
       "    'description': \"- Earthbanc is the world's first Carbon & ESG Reporting provider, that delivers Sustainable Finance AI advisory products and services to banks, financial institutions and asset managers, with a high degree of confidence propagation with bayesian neural networks. - As the head of Artificial Intelligence at Earthbanc, my roles include implementing Artificial Intelligence and Machine Learning techniques for remote sensing for verification of carbon sequestration. - I work with data collection using GIS (Geographical Information Systems), data pre-processing and building & testing of predictive model using AI and ML algorithms. - Also working towards Sustainable Development Goals (SDGs) such as climate change, no poverty, gender equality, zero hunger, decent work and economic growth, reduced inequalities and life on land.\"},\n",
       "   'label': 0.014099016903649803},\n",
       "  {'value': {'company': 'Google Developers',\n",
       "    'title': 'Technology and Career Mentor',\n",
       "    'location': 'Stockholm, Sweden',\n",
       "    'fromDate': 'February 2022',\n",
       "    'toDate': 'March 2022 ',\n",
       "    'description': '- A technology/career mentor at the Women Developer Academy Europe. - The goal is to equip women in tech with the skills, resources and support they need to become leaders in the industry through public speaking and other community contributions.'},\n",
       "   'label': 0.015903468657644103},\n",
       "  {'value': {'company': 'Katalysen & Partners',\n",
       "    'title': 'Data Scientist',\n",
       "    'location': 'Stockholm, Sweden',\n",
       "    'fromDate': 'October 2020',\n",
       "    'toDate': 'February 2021',\n",
       "    'description': '- Building a deep learning model employing Convolutional Neural Network (CNN) to predict clinical outcomes after shoulder arthroplastery. - The model employs minimal dataset and minimum number of features. - This model aims to predict the red flags (when the operation should not be performed), which equates to the progress being lesser than the MCD.'},\n",
       "   'label': 0.04745860588440796},\n",
       "  {'value': {'company': 'KTH Royal Institute of Technology',\n",
       "    'title': 'Artificial Intelligence Researcher',\n",
       "    'location': 'Stockholm, Sweden',\n",
       "    'fromDate': 'August 2019',\n",
       "    'toDate': 'June 2020',\n",
       "    'description': '- Implemented Bayesian Confidence Propagation Neural Network (BCPNN) & sequence learning in a non-spiking attractor neural network. - Analysed the behaviour of non-orthogonal sequences as well as implemented representation and sequential overlapping on the BCPNN model. - Presented that the proposed network model will be able to encode and reproduce temporal aspects of the input, and offers internal control of the recall dynamics by gain modulation.'},\n",
       "   'label': 0.0},\n",
       "  {'value': {'company': 'KTH Royal Institute of Technology',\n",
       "    'title': \"Visiting Researcher (Bachelor's Thesis)\",\n",
       "    'location': 'Stockholm, Sweden',\n",
       "    'fromDate': 'January 2019',\n",
       "    'toDate': 'April 2019',\n",
       "    'description': \"- Bachelor's Thesis between KTH Royal Institute of Technology and PES University on Computational Neuroscience using BCPNN algorithm. - Studied how we process thoughts in the brain and why people lose memory in diseases like Amnesia and Dementia. - Studied and analysed overlapping sequences in the brain.\"},\n",
       "   'label': 0.019814411407712777},\n",
       "  {'value': {'company': 'Indian Institute of Science (IISc)',\n",
       "    'title': 'Summer Research Intern',\n",
       "    'location': 'Bengaluru Area, India',\n",
       "    'fromDate': 'June 2018',\n",
       "    'toDate': 'August 2018',\n",
       "    'description': '- Worked on implementation of Non-Thermal Plasma in Environmental Remediation by performingNOxTreatment. - Studied and analysed different types of electric discharges.'},\n",
       "   'label': 0.0006306297421745603},\n",
       "  {'value': {'company': 'ISRO - Indian Space Research Organization',\n",
       "    'title': 'Summer Research Intern',\n",
       "    'location': 'Bengaluru Area, India',\n",
       "    'fromDate': 'May 2017',\n",
       "    'toDate': 'August 2017',\n",
       "    'description': '- Internship between PES University and Indian Space Research Organisation. - Was involved in the lauch of one of the first all student satellites in India. - Worked on the attitude determination and the control system (ADCS) of the of PISAT satellite andimplemented Q-method, QUEST and TRIAD algorithms for 3-axis attitude determination. - Worked on statistical analysis in open loop condition.'},\n",
       "   'label': 0.03843906101458078}],\n",
       " 'label': 0}"
      ]
     },
     "execution_count": 33,
     "metadata": {},
     "output_type": "execute_result"
    }
   ],
   "source": [
    "out['experience']"
   ]
  },
  {
   "cell_type": "code",
   "execution_count": null,
   "id": "c5243b5a-5aaa-43eb-830b-a86e71561786",
   "metadata": {},
   "outputs": [
    {
     "name": "stdout",
     "output_type": "stream",
     "text": [
      "November 2019\n",
      "2019-11-01 00:00:00\n",
      "September 2021\n",
      "2021-09-01 00:00:00\n",
      "670 days, 0:00:00\n",
      "2022-11-09 06:24:09.355882\n",
      "434\n"
     ]
    }
   ],
   "source": [
    "from datetime import datetime\n",
    "\n",
    "\n",
    "# this is just for Karl to learn, can be removed later\n",
    "# for words like \"today\" or \"present\" use today()\n",
    "\n",
    "fromDate = first['experience']['value'][1]['value']['fromDate']\n",
    "print(fromDate)\n",
    "datetime_object_from = datetime.strptime(fromDate, '%B %Y')\n",
    "print(datetime_object_from)\n",
    "\n",
    "toDate = first['experience']['value'][1]['value']['toDate']\n",
    "print(toDate)\n",
    "datetime_object_to = datetime.strptime(toDate, '%B %Y')\n",
    "print(datetime_object_to)\n",
    "\n",
    "print(datetime_object_to-datetime_object_from)\n",
    "\n",
    "today = datetime.today()\n",
    "print(today)\n",
    "\n",
    "diff = today - datetime_object_to\n",
    "days = np.floor(diff.total_seconds()/86400)\n",
    "print(int(days)) # gets the number of days"
   ]
  },
  {
   "cell_type": "code",
   "execution_count": null,
   "id": "2fc6fe37-a2d8-4bdd-ae51-5037bcd20d53",
   "metadata": {},
   "outputs": [
    {
     "name": "stdout",
     "output_type": "stream",
     "text": [
      "670 days, 0:00:00\n"
     ]
    }
   ],
   "source": [
    "def get_length_of_exp(experience) -> int:\n",
    "    \n"
   ]
  }
 ],
 "metadata": {
  "environment": {
   "kernel": "python3",
   "name": "pytorch-gpu.1-12.m99",
   "type": "gcloud",
   "uri": "gcr.io/deeplearning-platform-release/pytorch-gpu.1-12:m99"
  },
  "kernelspec": {
   "display_name": "Python 3",
   "language": "python",
   "name": "python3"
  },
  "language_info": {
   "codemirror_mode": {
    "name": "ipython",
    "version": 3
   },
   "file_extension": ".py",
   "mimetype": "text/x-python",
   "name": "python",
   "nbconvert_exporter": "python",
   "pygments_lexer": "ipython3",
   "version": "3.7.12"
  },
  "vscode": {
   "interpreter": {
    "hash": "d4d1e4263499bec80672ea0156c357c1ee493ec2b1c70f0acce89fc37c4a6abe"
   }
  }
 },
 "nbformat": 4,
 "nbformat_minor": 5
}
