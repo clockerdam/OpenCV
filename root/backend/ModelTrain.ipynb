{
 "cells": [
  {
   "cell_type": "code",
   "execution_count": 58,
   "id": "c4fecdf8-5eb3-43c1-84b5-faa5f41726bc",
   "metadata": {
    "collapsed": true,
    "jupyter": {
     "outputs_hidden": true
    },
    "tags": []
   },
   "outputs": [
    {
     "name": "stdout",
     "output_type": "stream",
     "text": [
      "Requirement already satisfied: black==22.10.0 in /opt/conda/lib/python3.7/site-packages (from -r requirements.txt (line 1)) (22.10.0)\n",
      "Requirement already satisfied: Flask==2.2.2 in /opt/conda/lib/python3.7/site-packages (from -r requirements.txt (line 2)) (2.2.2)\n",
      "Requirement already satisfied: pymongo==3.12.0 in /opt/conda/lib/python3.7/site-packages (from -r requirements.txt (line 3)) (3.12.0)\n",
      "Requirement already satisfied: Python-dotenv==0.21.0 in /opt/conda/lib/python3.7/site-packages (from -r requirements.txt (line 4)) (0.21.0)\n",
      "Requirement already satisfied: Flask-Cors==3.0.10 in /opt/conda/lib/python3.7/site-packages (from -r requirements.txt (line 5)) (3.0.10)\n",
      "Requirement already satisfied: Flasgger==0.9.5 in /opt/conda/lib/python3.7/site-packages (from -r requirements.txt (line 6)) (0.9.5)\n",
      "Requirement already satisfied: Pydantic==1.9.0 in /opt/conda/lib/python3.7/site-packages (from -r requirements.txt (line 7)) (1.9.0)\n",
      "Requirement already satisfied: gensim==4.2.0 in /opt/conda/lib/python3.7/site-packages (from -r requirements.txt (line 9)) (4.2.0)\n",
      "Requirement already satisfied: nltk==3.7 in /opt/conda/lib/python3.7/site-packages (from -r requirements.txt (line 10)) (3.7)\n",
      "Requirement already satisfied: transformers==4.24.0 in /opt/conda/lib/python3.7/site-packages (from -r requirements.txt (line 11)) (4.24.0)\n",
      "Requirement already satisfied: spacy==3.4.2 in /opt/conda/lib/python3.7/site-packages (from -r requirements.txt (line 12)) (3.4.2)\n",
      "Requirement already satisfied: spacy-legacy==3.0.10 in /opt/conda/lib/python3.7/site-packages (from -r requirements.txt (line 13)) (3.0.10)\n",
      "Requirement already satisfied: spacy-loggers==1.0.3 in /opt/conda/lib/python3.7/site-packages (from -r requirements.txt (line 14)) (1.0.3)\n",
      "Requirement already satisfied: tomli>=1.1.0 in /opt/conda/lib/python3.7/site-packages (from black==22.10.0->-r requirements.txt (line 1)) (2.0.1)\n",
      "Requirement already satisfied: click>=8.0.0 in /opt/conda/lib/python3.7/site-packages (from black==22.10.0->-r requirements.txt (line 1)) (8.1.3)\n",
      "Requirement already satisfied: platformdirs>=2 in /opt/conda/lib/python3.7/site-packages (from black==22.10.0->-r requirements.txt (line 1)) (2.5.2)\n",
      "Requirement already satisfied: typing-extensions>=3.10.0.0 in /opt/conda/lib/python3.7/site-packages (from black==22.10.0->-r requirements.txt (line 1)) (4.1.1)\n",
      "Requirement already satisfied: pathspec>=0.9.0 in /opt/conda/lib/python3.7/site-packages (from black==22.10.0->-r requirements.txt (line 1)) (0.10.1)\n",
      "Requirement already satisfied: mypy-extensions>=0.4.3 in /opt/conda/lib/python3.7/site-packages (from black==22.10.0->-r requirements.txt (line 1)) (0.4.3)\n",
      "Requirement already satisfied: typed-ast>=1.4.2 in /opt/conda/lib/python3.7/site-packages (from black==22.10.0->-r requirements.txt (line 1)) (1.5.4)\n",
      "Requirement already satisfied: Werkzeug>=2.2.2 in /opt/conda/lib/python3.7/site-packages (from Flask==2.2.2->-r requirements.txt (line 2)) (2.2.2)\n",
      "Requirement already satisfied: itsdangerous>=2.0 in /opt/conda/lib/python3.7/site-packages (from Flask==2.2.2->-r requirements.txt (line 2)) (2.1.2)\n",
      "Requirement already satisfied: importlib-metadata>=3.6.0 in /opt/conda/lib/python3.7/site-packages (from Flask==2.2.2->-r requirements.txt (line 2)) (4.2.0)\n",
      "Requirement already satisfied: Jinja2>=3.0 in /opt/conda/lib/python3.7/site-packages (from Flask==2.2.2->-r requirements.txt (line 2)) (3.1.2)\n",
      "Requirement already satisfied: Six in /opt/conda/lib/python3.7/site-packages (from Flask-Cors==3.0.10->-r requirements.txt (line 5)) (1.16.0)\n",
      "Requirement already satisfied: mistune in /opt/conda/lib/python3.7/site-packages (from Flasgger==0.9.5->-r requirements.txt (line 6)) (2.0.4)\n",
      "Requirement already satisfied: jsonschema>=3.0.1 in /opt/conda/lib/python3.7/site-packages (from Flasgger==0.9.5->-r requirements.txt (line 6)) (4.16.0)\n",
      "Requirement already satisfied: PyYAML>=3.0 in /opt/conda/lib/python3.7/site-packages (from Flasgger==0.9.5->-r requirements.txt (line 6)) (6.0)\n",
      "Requirement already satisfied: smart-open>=1.8.1 in /opt/conda/lib/python3.7/site-packages (from gensim==4.2.0->-r requirements.txt (line 9)) (5.2.1)\n",
      "Requirement already satisfied: scipy>=0.18.1 in /opt/conda/lib/python3.7/site-packages (from gensim==4.2.0->-r requirements.txt (line 9)) (1.7.3)\n",
      "Requirement already satisfied: numpy>=1.17.0 in /opt/conda/lib/python3.7/site-packages (from gensim==4.2.0->-r requirements.txt (line 9)) (1.21.6)\n",
      "Requirement already satisfied: joblib in /opt/conda/lib/python3.7/site-packages (from nltk==3.7->-r requirements.txt (line 10)) (1.2.0)\n",
      "Requirement already satisfied: tqdm in /opt/conda/lib/python3.7/site-packages (from nltk==3.7->-r requirements.txt (line 10)) (4.64.1)\n",
      "Requirement already satisfied: regex>=2021.8.3 in /opt/conda/lib/python3.7/site-packages (from nltk==3.7->-r requirements.txt (line 10)) (2022.10.31)\n",
      "Requirement already satisfied: huggingface-hub<1.0,>=0.10.0 in /opt/conda/lib/python3.7/site-packages (from transformers==4.24.0->-r requirements.txt (line 11)) (0.10.1)\n",
      "Requirement already satisfied: tokenizers!=0.11.3,<0.14,>=0.11.1 in /opt/conda/lib/python3.7/site-packages (from transformers==4.24.0->-r requirements.txt (line 11)) (0.13.1)\n",
      "Requirement already satisfied: requests in /opt/conda/lib/python3.7/site-packages (from transformers==4.24.0->-r requirements.txt (line 11)) (2.28.1)\n",
      "Requirement already satisfied: filelock in /opt/conda/lib/python3.7/site-packages (from transformers==4.24.0->-r requirements.txt (line 11)) (3.8.0)\n",
      "Requirement already satisfied: packaging>=20.0 in /opt/conda/lib/python3.7/site-packages (from transformers==4.24.0->-r requirements.txt (line 11)) (21.3)\n",
      "Requirement already satisfied: thinc<8.2.0,>=8.1.0 in /opt/conda/lib/python3.7/site-packages (from spacy==3.4.2->-r requirements.txt (line 12)) (8.1.5)\n",
      "Requirement already satisfied: setuptools in /opt/conda/lib/python3.7/site-packages (from spacy==3.4.2->-r requirements.txt (line 12)) (59.8.0)\n",
      "Requirement already satisfied: cymem<2.1.0,>=2.0.2 in /opt/conda/lib/python3.7/site-packages (from spacy==3.4.2->-r requirements.txt (line 12)) (2.0.7)\n",
      "Requirement already satisfied: typer<0.5.0,>=0.3.0 in /opt/conda/lib/python3.7/site-packages (from spacy==3.4.2->-r requirements.txt (line 12)) (0.4.2)\n",
      "Requirement already satisfied: wasabi<1.1.0,>=0.9.1 in /opt/conda/lib/python3.7/site-packages (from spacy==3.4.2->-r requirements.txt (line 12)) (0.10.1)\n",
      "Requirement already satisfied: murmurhash<1.1.0,>=0.28.0 in /opt/conda/lib/python3.7/site-packages (from spacy==3.4.2->-r requirements.txt (line 12)) (1.0.9)\n",
      "Requirement already satisfied: preshed<3.1.0,>=3.0.2 in /opt/conda/lib/python3.7/site-packages (from spacy==3.4.2->-r requirements.txt (line 12)) (3.0.8)\n",
      "Requirement already satisfied: srsly<3.0.0,>=2.4.3 in /opt/conda/lib/python3.7/site-packages (from spacy==3.4.2->-r requirements.txt (line 12)) (2.4.5)\n",
      "Requirement already satisfied: catalogue<2.1.0,>=2.0.6 in /opt/conda/lib/python3.7/site-packages (from spacy==3.4.2->-r requirements.txt (line 12)) (2.0.8)\n",
      "Requirement already satisfied: pathy>=0.3.5 in /opt/conda/lib/python3.7/site-packages (from spacy==3.4.2->-r requirements.txt (line 12)) (0.6.2)\n",
      "Requirement already satisfied: langcodes<4.0.0,>=3.2.0 in /opt/conda/lib/python3.7/site-packages (from spacy==3.4.2->-r requirements.txt (line 12)) (3.3.0)\n",
      "Requirement already satisfied: dnspython<2.0.0,>=1.16.0 in /opt/conda/lib/python3.7/site-packages (from pymongo==3.12.0->-r requirements.txt (line 3)) (1.16.0)\n",
      "Requirement already satisfied: zipp>=0.5 in /opt/conda/lib/python3.7/site-packages (from catalogue<2.1.0,>=2.0.6->spacy==3.4.2->-r requirements.txt (line 12)) (3.10.0)\n",
      "Requirement already satisfied: MarkupSafe>=2.0 in /opt/conda/lib/python3.7/site-packages (from Jinja2>=3.0->Flask==2.2.2->-r requirements.txt (line 2)) (2.1.1)\n",
      "Requirement already satisfied: importlib-resources>=1.4.0 in /opt/conda/lib/python3.7/site-packages (from jsonschema>=3.0.1->Flasgger==0.9.5->-r requirements.txt (line 6)) (5.10.0)\n",
      "Requirement already satisfied: pyrsistent!=0.17.0,!=0.17.1,!=0.17.2,>=0.14.0 in /opt/conda/lib/python3.7/site-packages (from jsonschema>=3.0.1->Flasgger==0.9.5->-r requirements.txt (line 6)) (0.18.1)\n",
      "Requirement already satisfied: pkgutil-resolve-name>=1.3.10 in /opt/conda/lib/python3.7/site-packages (from jsonschema>=3.0.1->Flasgger==0.9.5->-r requirements.txt (line 6)) (1.3.10)\n",
      "Requirement already satisfied: attrs>=17.4.0 in /opt/conda/lib/python3.7/site-packages (from jsonschema>=3.0.1->Flasgger==0.9.5->-r requirements.txt (line 6)) (22.1.0)\n",
      "Requirement already satisfied: pyparsing!=3.0.5,>=2.0.2 in /opt/conda/lib/python3.7/site-packages (from packaging>=20.0->transformers==4.24.0->-r requirements.txt (line 11)) (3.0.9)\n",
      "Requirement already satisfied: idna<4,>=2.5 in /opt/conda/lib/python3.7/site-packages (from requests->transformers==4.24.0->-r requirements.txt (line 11)) (3.4)\n",
      "Requirement already satisfied: urllib3<1.27,>=1.21.1 in /opt/conda/lib/python3.7/site-packages (from requests->transformers==4.24.0->-r requirements.txt (line 11)) (1.26.11)\n",
      "Requirement already satisfied: charset-normalizer<3,>=2 in /opt/conda/lib/python3.7/site-packages (from requests->transformers==4.24.0->-r requirements.txt (line 11)) (2.1.1)\n",
      "Requirement already satisfied: certifi>=2017.4.17 in /opt/conda/lib/python3.7/site-packages (from requests->transformers==4.24.0->-r requirements.txt (line 11)) (2022.9.24)\n",
      "Requirement already satisfied: blis<0.8.0,>=0.7.8 in /opt/conda/lib/python3.7/site-packages (from thinc<8.2.0,>=8.1.0->spacy==3.4.2->-r requirements.txt (line 12)) (0.7.9)\n",
      "Requirement already satisfied: confection<1.0.0,>=0.0.1 in /opt/conda/lib/python3.7/site-packages (from thinc<8.2.0,>=8.1.0->spacy==3.4.2->-r requirements.txt (line 12)) (0.0.3)\n",
      "Requirement already satisfied: jupyter-lsp in /opt/conda/lib/python3.7/site-packages (1.5.1)\n",
      "Requirement already satisfied: jupyter-server>=1.1.2 in /opt/conda/lib/python3.7/site-packages (from jupyter-lsp) (1.21.0)\n",
      "Requirement already satisfied: entrypoints in /opt/conda/lib/python3.7/site-packages (from jupyter-lsp) (0.4)\n",
      "Requirement already satisfied: pyzmq>=17 in /opt/conda/lib/python3.7/site-packages (from jupyter-server>=1.1.2->jupyter-lsp) (24.0.1)\n",
      "Requirement already satisfied: jupyter-core>=4.7.0 in /opt/conda/lib/python3.7/site-packages (from jupyter-server>=1.1.2->jupyter-lsp) (4.11.1)\n",
      "Requirement already satisfied: anyio<4,>=3.1.0 in /opt/conda/lib/python3.7/site-packages (from jupyter-server>=1.1.2->jupyter-lsp) (3.6.2)\n",
      "Requirement already satisfied: tornado>=6.1.0 in /opt/conda/lib/python3.7/site-packages (from jupyter-server>=1.1.2->jupyter-lsp) (6.2)\n",
      "Requirement already satisfied: nbformat>=5.2.0 in /opt/conda/lib/python3.7/site-packages (from jupyter-server>=1.1.2->jupyter-lsp) (5.7.0)\n",
      "Requirement already satisfied: argon2-cffi in /opt/conda/lib/python3.7/site-packages (from jupyter-server>=1.1.2->jupyter-lsp) (21.3.0)\n",
      "Requirement already satisfied: traitlets>=5.1 in /opt/conda/lib/python3.7/site-packages (from jupyter-server>=1.1.2->jupyter-lsp) (5.5.0)\n",
      "Requirement already satisfied: jinja2 in /opt/conda/lib/python3.7/site-packages (from jupyter-server>=1.1.2->jupyter-lsp) (3.1.2)\n",
      "Requirement already satisfied: Send2Trash in /opt/conda/lib/python3.7/site-packages (from jupyter-server>=1.1.2->jupyter-lsp) (1.8.0)\n",
      "Requirement already satisfied: websocket-client in /opt/conda/lib/python3.7/site-packages (from jupyter-server>=1.1.2->jupyter-lsp) (1.4.1)\n",
      "Requirement already satisfied: prometheus-client in /opt/conda/lib/python3.7/site-packages (from jupyter-server>=1.1.2->jupyter-lsp) (0.15.0)\n",
      "Requirement already satisfied: terminado>=0.8.3 in /opt/conda/lib/python3.7/site-packages (from jupyter-server>=1.1.2->jupyter-lsp) (0.17.0)\n",
      "Requirement already satisfied: jupyter-client>=6.1.12 in /opt/conda/lib/python3.7/site-packages (from jupyter-server>=1.1.2->jupyter-lsp) (7.4.4)\n",
      "Requirement already satisfied: packaging in /opt/conda/lib/python3.7/site-packages (from jupyter-server>=1.1.2->jupyter-lsp) (21.3)\n",
      "Requirement already satisfied: nbconvert>=6.4.4 in /opt/conda/lib/python3.7/site-packages (from jupyter-server>=1.1.2->jupyter-lsp) (7.2.2)\n",
      "Requirement already satisfied: idna>=2.8 in /opt/conda/lib/python3.7/site-packages (from anyio<4,>=3.1.0->jupyter-server>=1.1.2->jupyter-lsp) (3.4)\n",
      "Requirement already satisfied: sniffio>=1.1 in /opt/conda/lib/python3.7/site-packages (from anyio<4,>=3.1.0->jupyter-server>=1.1.2->jupyter-lsp) (1.3.0)\n",
      "Requirement already satisfied: typing-extensions in /opt/conda/lib/python3.7/site-packages (from anyio<4,>=3.1.0->jupyter-server>=1.1.2->jupyter-lsp) (4.1.1)\n",
      "Requirement already satisfied: nest-asyncio>=1.5.4 in /opt/conda/lib/python3.7/site-packages (from jupyter-client>=6.1.12->jupyter-server>=1.1.2->jupyter-lsp) (1.5.6)\n",
      "Requirement already satisfied: python-dateutil>=2.8.2 in /opt/conda/lib/python3.7/site-packages (from jupyter-client>=6.1.12->jupyter-server>=1.1.2->jupyter-lsp) (2.8.2)\n",
      "Requirement already satisfied: importlib-metadata>=3.6 in /opt/conda/lib/python3.7/site-packages (from nbconvert>=6.4.4->jupyter-server>=1.1.2->jupyter-lsp) (4.2.0)\n",
      "Requirement already satisfied: mistune<3,>=2.0.3 in /opt/conda/lib/python3.7/site-packages (from nbconvert>=6.4.4->jupyter-server>=1.1.2->jupyter-lsp) (2.0.4)\n",
      "Requirement already satisfied: pygments>=2.4.1 in /opt/conda/lib/python3.7/site-packages (from nbconvert>=6.4.4->jupyter-server>=1.1.2->jupyter-lsp) (2.13.0)\n",
      "Requirement already satisfied: pandocfilters>=1.4.1 in /opt/conda/lib/python3.7/site-packages (from nbconvert>=6.4.4->jupyter-server>=1.1.2->jupyter-lsp) (1.5.0)\n",
      "Requirement already satisfied: tinycss2 in /opt/conda/lib/python3.7/site-packages (from nbconvert>=6.4.4->jupyter-server>=1.1.2->jupyter-lsp) (1.2.1)\n",
      "Requirement already satisfied: beautifulsoup4 in /opt/conda/lib/python3.7/site-packages (from nbconvert>=6.4.4->jupyter-server>=1.1.2->jupyter-lsp) (4.11.1)\n",
      "Requirement already satisfied: jupyterlab-pygments in /opt/conda/lib/python3.7/site-packages (from nbconvert>=6.4.4->jupyter-server>=1.1.2->jupyter-lsp) (0.2.2)\n",
      "Requirement already satisfied: bleach in /opt/conda/lib/python3.7/site-packages (from nbconvert>=6.4.4->jupyter-server>=1.1.2->jupyter-lsp) (5.0.1)\n",
      "Requirement already satisfied: defusedxml in /opt/conda/lib/python3.7/site-packages (from nbconvert>=6.4.4->jupyter-server>=1.1.2->jupyter-lsp) (0.7.1)\n",
      "Requirement already satisfied: markupsafe>=2.0 in /opt/conda/lib/python3.7/site-packages (from nbconvert>=6.4.4->jupyter-server>=1.1.2->jupyter-lsp) (2.1.1)\n",
      "Requirement already satisfied: nbclient>=0.5.0 in /opt/conda/lib/python3.7/site-packages (from nbconvert>=6.4.4->jupyter-server>=1.1.2->jupyter-lsp) (0.7.0)\n",
      "Requirement already satisfied: fastjsonschema in /opt/conda/lib/python3.7/site-packages (from nbformat>=5.2.0->jupyter-server>=1.1.2->jupyter-lsp) (2.16.2)\n",
      "Requirement already satisfied: jsonschema>=2.6 in /opt/conda/lib/python3.7/site-packages (from nbformat>=5.2.0->jupyter-server>=1.1.2->jupyter-lsp) (4.16.0)\n",
      "Requirement already satisfied: ptyprocess in /opt/conda/lib/python3.7/site-packages (from terminado>=0.8.3->jupyter-server>=1.1.2->jupyter-lsp) (0.7.0)\n",
      "Requirement already satisfied: argon2-cffi-bindings in /opt/conda/lib/python3.7/site-packages (from argon2-cffi->jupyter-server>=1.1.2->jupyter-lsp) (21.2.0)\n",
      "Requirement already satisfied: pyparsing!=3.0.5,>=2.0.2 in /opt/conda/lib/python3.7/site-packages (from packaging->jupyter-server>=1.1.2->jupyter-lsp) (3.0.9)\n",
      "Requirement already satisfied: zipp>=0.5 in /opt/conda/lib/python3.7/site-packages (from importlib-metadata>=3.6->nbconvert>=6.4.4->jupyter-server>=1.1.2->jupyter-lsp) (3.10.0)\n",
      "Requirement already satisfied: importlib-resources>=1.4.0 in /opt/conda/lib/python3.7/site-packages (from jsonschema>=2.6->nbformat>=5.2.0->jupyter-server>=1.1.2->jupyter-lsp) (5.10.0)\n",
      "Requirement already satisfied: attrs>=17.4.0 in /opt/conda/lib/python3.7/site-packages (from jsonschema>=2.6->nbformat>=5.2.0->jupyter-server>=1.1.2->jupyter-lsp) (22.1.0)\n",
      "Requirement already satisfied: pkgutil-resolve-name>=1.3.10 in /opt/conda/lib/python3.7/site-packages (from jsonschema>=2.6->nbformat>=5.2.0->jupyter-server>=1.1.2->jupyter-lsp) (1.3.10)\n",
      "Requirement already satisfied: pyrsistent!=0.17.0,!=0.17.1,!=0.17.2,>=0.14.0 in /opt/conda/lib/python3.7/site-packages (from jsonschema>=2.6->nbformat>=5.2.0->jupyter-server>=1.1.2->jupyter-lsp) (0.18.1)\n",
      "Requirement already satisfied: six>=1.5 in /opt/conda/lib/python3.7/site-packages (from python-dateutil>=2.8.2->jupyter-client>=6.1.12->jupyter-server>=1.1.2->jupyter-lsp) (1.16.0)\n",
      "Requirement already satisfied: cffi>=1.0.1 in /opt/conda/lib/python3.7/site-packages (from argon2-cffi-bindings->argon2-cffi->jupyter-server>=1.1.2->jupyter-lsp) (1.15.1)\n",
      "Requirement already satisfied: soupsieve>1.2 in /opt/conda/lib/python3.7/site-packages (from beautifulsoup4->nbconvert>=6.4.4->jupyter-server>=1.1.2->jupyter-lsp) (2.3.2.post1)\n",
      "Requirement already satisfied: webencodings in /opt/conda/lib/python3.7/site-packages (from bleach->nbconvert>=6.4.4->jupyter-server>=1.1.2->jupyter-lsp) (0.5.1)\n",
      "Requirement already satisfied: pycparser in /opt/conda/lib/python3.7/site-packages (from cffi>=1.0.1->argon2-cffi-bindings->argon2-cffi->jupyter-server>=1.1.2->jupyter-lsp) (2.21)\n",
      "Requirement already satisfied: python-lsp-server[all] in /opt/conda/lib/python3.7/site-packages (1.5.0)\n",
      "Requirement already satisfied: python-lsp-jsonrpc>=1.0.0 in /opt/conda/lib/python3.7/site-packages (from python-lsp-server[all]) (1.0.0)\n",
      "Requirement already satisfied: setuptools>=39.0.0 in /opt/conda/lib/python3.7/site-packages (from python-lsp-server[all]) (59.8.0)\n",
      "Requirement already satisfied: pluggy>=1.0.0 in /opt/conda/lib/python3.7/site-packages (from python-lsp-server[all]) (1.0.0)\n",
      "Requirement already satisfied: jedi<0.19.0,>=0.17.2 in /opt/conda/lib/python3.7/site-packages (from python-lsp-server[all]) (0.18.1)\n",
      "Requirement already satisfied: ujson>=3.0.0 in /opt/conda/lib/python3.7/site-packages (from python-lsp-server[all]) (5.5.0)\n",
      "Requirement already satisfied: rope>=0.10.5 in /opt/conda/lib/python3.7/site-packages (from python-lsp-server[all]) (1.4.0)\n",
      "Requirement already satisfied: mccabe<0.7.0,>=0.6.0 in /opt/conda/lib/python3.7/site-packages (from python-lsp-server[all]) (0.6.1)\n",
      "Requirement already satisfied: autopep8<1.7.0,>=1.6.0 in /opt/conda/lib/python3.7/site-packages (from python-lsp-server[all]) (1.6.0)\n",
      "Requirement already satisfied: pycodestyle<2.9.0,>=2.8.0 in /opt/conda/lib/python3.7/site-packages (from python-lsp-server[all]) (2.8.0)\n",
      "Requirement already satisfied: yapf in /opt/conda/lib/python3.7/site-packages (from python-lsp-server[all]) (0.32.0)\n",
      "Requirement already satisfied: whatthepatch in /opt/conda/lib/python3.7/site-packages (from python-lsp-server[all]) (1.0.2)\n",
      "Requirement already satisfied: flake8<4.1.0,>=4.0.0 in /opt/conda/lib/python3.7/site-packages (from python-lsp-server[all]) (4.0.1)\n",
      "Requirement already satisfied: pyflakes<2.5.0,>=2.4.0 in /opt/conda/lib/python3.7/site-packages (from python-lsp-server[all]) (2.4.0)\n",
      "Requirement already satisfied: pylint>=2.5.0 in /opt/conda/lib/python3.7/site-packages (from python-lsp-server[all]) (2.15.5)\n",
      "Requirement already satisfied: pydocstyle>=2.0.0 in /opt/conda/lib/python3.7/site-packages (from python-lsp-server[all]) (6.1.1)\n",
      "Requirement already satisfied: toml in /opt/conda/lib/python3.7/site-packages (from autopep8<1.7.0,>=1.6.0->python-lsp-server[all]) (0.10.2)\n",
      "Requirement already satisfied: importlib-metadata<4.3 in /opt/conda/lib/python3.7/site-packages (from flake8<4.1.0,>=4.0.0->python-lsp-server[all]) (4.2.0)\n",
      "Requirement already satisfied: parso<0.9.0,>=0.8.0 in /opt/conda/lib/python3.7/site-packages (from jedi<0.19.0,>=0.17.2->python-lsp-server[all]) (0.8.3)\n",
      "Requirement already satisfied: snowballstemmer in /opt/conda/lib/python3.7/site-packages (from pydocstyle>=2.0.0->python-lsp-server[all]) (2.2.0)\n",
      "Requirement already satisfied: dill>=0.2 in /opt/conda/lib/python3.7/site-packages (from pylint>=2.5.0->python-lsp-server[all]) (0.3.5.1)\n",
      "Requirement already satisfied: typing-extensions>=3.10.0 in /opt/conda/lib/python3.7/site-packages (from pylint>=2.5.0->python-lsp-server[all]) (4.1.1)\n",
      "Requirement already satisfied: tomlkit>=0.10.1 in /opt/conda/lib/python3.7/site-packages (from pylint>=2.5.0->python-lsp-server[all]) (0.11.6)\n",
      "Requirement already satisfied: tomli>=1.1.0 in /opt/conda/lib/python3.7/site-packages (from pylint>=2.5.0->python-lsp-server[all]) (2.0.1)\n",
      "Requirement already satisfied: platformdirs>=2.2.0 in /opt/conda/lib/python3.7/site-packages (from pylint>=2.5.0->python-lsp-server[all]) (2.5.2)\n",
      "Requirement already satisfied: isort<6,>=4.2.5 in /opt/conda/lib/python3.7/site-packages (from pylint>=2.5.0->python-lsp-server[all]) (5.10.1)\n",
      "Requirement already satisfied: astroid<=2.14.0-dev0,>=2.12.12 in /opt/conda/lib/python3.7/site-packages (from pylint>=2.5.0->python-lsp-server[all]) (2.12.12)\n",
      "Requirement already satisfied: pytoolconfig>=1.2.2 in /opt/conda/lib/python3.7/site-packages (from rope>=0.10.5->python-lsp-server[all]) (1.2.2)\n",
      "Requirement already satisfied: typed-ast<2.0,>=1.4.0 in /opt/conda/lib/python3.7/site-packages (from astroid<=2.14.0-dev0,>=2.12.12->pylint>=2.5.0->python-lsp-server[all]) (1.5.4)\n",
      "Requirement already satisfied: lazy-object-proxy>=1.4.0 in /opt/conda/lib/python3.7/site-packages (from astroid<=2.14.0-dev0,>=2.12.12->pylint>=2.5.0->python-lsp-server[all]) (1.8.0)\n",
      "Requirement already satisfied: wrapt<2,>=1.11 in /opt/conda/lib/python3.7/site-packages (from astroid<=2.14.0-dev0,>=2.12.12->pylint>=2.5.0->python-lsp-server[all]) (1.14.1)\n",
      "Requirement already satisfied: zipp>=0.5 in /opt/conda/lib/python3.7/site-packages (from importlib-metadata<4.3->flake8<4.1.0,>=4.0.0->python-lsp-server[all]) (3.10.0)\n",
      "Requirement already satisfied: packaging>=21.3 in /opt/conda/lib/python3.7/site-packages (from pytoolconfig>=1.2.2->rope>=0.10.5->python-lsp-server[all]) (21.3)\n",
      "Requirement already satisfied: pyparsing!=3.0.5,>=2.0.2 in /opt/conda/lib/python3.7/site-packages (from packaging>=21.3->pytoolconfig>=1.2.2->rope>=0.10.5->python-lsp-server[all]) (3.0.9)\n",
      "Requirement already satisfied: pymongo[srv] in /opt/conda/lib/python3.7/site-packages (3.12.0)\n",
      "Requirement already satisfied: dnspython<2.0.0,>=1.16.0 in /opt/conda/lib/python3.7/site-packages (from pymongo[srv]) (1.16.0)\n",
      "/bin/bash: line 0: fg: no job control\n",
      "ln: failed to create symbolic link '.lsp_symlink/': File exists\n"
     ]
    }
   ],
   "source": [
    "!pip install -r requirements.txt\n",
    "!pip install jupyter-lsp\n",
    "!pip install 'python-lsp-server[all]'\n",
    "!pip install \"pymongo[srv]\"\n",
    "!%config Completer.use_jedi = False\n",
    "!ln -s / .lsp_symlink"
   ]
  },
  {
   "cell_type": "code",
   "execution_count": 4,
   "id": "57338f54-81f0-4083-8b78-01ca47ad0c23",
   "metadata": {},
   "outputs": [
    {
     "name": "stderr",
     "output_type": "stream",
     "text": [
      "[nltk_data] Downloading package stopwords to\n",
      "[nltk_data]     /home/jupyter/nltk_data...\n",
      "[nltk_data]   Package stopwords is already up-to-date!\n",
      "[nltk_data] Downloading package punkt to /home/jupyter/nltk_data...\n",
      "[nltk_data]   Package punkt is already up-to-date!\n"
     ]
    }
   ],
   "source": [
    "import torch\n",
    "import numpy as np\n",
    "import nltk\n",
    "nltk.download(\"stopwords\")\n",
    "nltk.download(\"punkt\")\n",
    "\n",
    "from persistence import Connection as Database"
   ]
  },
  {
   "cell_type": "code",
   "execution_count": 6,
   "id": "fc777e0a-2cab-4856-9cb1-4b73cd5ae418",
   "metadata": {},
   "outputs": [],
   "source": [
    "from typing import List"
   ]
  },
  {
   "cell_type": "code",
   "execution_count": 7,
   "id": "cc87b079-3ff9-4cd1-8e8d-06b4d804823e",
   "metadata": {},
   "outputs": [
    {
     "data": {
      "text/plain": [
       "True"
      ]
     },
     "execution_count": 7,
     "metadata": {},
     "output_type": "execute_result"
    }
   ],
   "source": [
    "torch.cuda.is_available()"
   ]
  },
  {
   "cell_type": "code",
   "execution_count": 8,
   "id": "8c9fa236-815b-4091-b36e-b9855e487927",
   "metadata": {
    "tags": []
   },
   "outputs": [
    {
     "name": "stdout",
     "output_type": "stream",
     "text": [
      "Connected to DB\n"
     ]
    }
   ],
   "source": [
    "# load some data \n",
    "db: Database = Database()"
   ]
  },
  {
   "cell_type": "code",
   "execution_count": 9,
   "id": "f06c252a-f2fa-4760-a551-8a81da0cc1ea",
   "metadata": {
    "tags": []
   },
   "outputs": [],
   "source": [
    "resumes = db.fetch_all_labeled_resumes()"
   ]
  },
  {
   "cell_type": "code",
   "execution_count": 10,
   "id": "42a6d205-441b-4c8f-8559-53a8ed8cb530",
   "metadata": {},
   "outputs": [],
   "source": [
    "from model.Job import Job"
   ]
  },
  {
   "cell_type": "code",
   "execution_count": 62,
   "id": "53b41dce-8558-4885-a8a4-b2ed22587421",
   "metadata": {},
   "outputs": [],
   "source": [
    "bag_of_words_DS = {\n",
    "\"machine learning\": 0.5,\n",
    "\"r (programming language)\": 0.5,\n",
    "\"data science\": 0.5,\n",
    "\"python\": 0.5,\n",
    "\"deep learning\": 0.5,\n",
    "\"natural language processing (nlp)\": 0.5,\n",
    "\"tableau\": 0.5,\n",
    "\"sql\": 0.5,\n",
    "\"predictive modeling\": 0.5,\n",
    "\"statistics\": 0.5,\n",
    "\"data analysis\": 0.5,\n",
    "\"data visualization\": 0.5,\n",
    "\"statistical modeling\": 0.5,\n",
    "\"tensorflow\": 0.5,\n",
    "\"predictive analytics\": 0.5,\n",
    "\"artificial intelligence (ai)\": 0.5,\n",
    "\"data mining\": 0.5,\n",
    "\"scikit-learn\": 0.5,\n",
    "\"data analytics\": 0.5,\n",
    "\"apache\": 0.5,\n",
    "\"spark\": 0.5,\n",
    "\"big data\": 0.5,\n",
    "\"hadoop\": 0.5,\n",
    "\"algorithms\": 0.5,\n",
    "\"git\": 0.5,\n",
    "\"amazon web services (aws)\": 0.5,\n",
    "\"big data analytics\": 0.5,\n",
    "\"hive\": 0.5,\n",
    "\"scala\": 0.5,\n",
    "\"matlab\": 0.5,\n",
    "\"pandas (software)\": 0.5,\n",
    "\"numpy\": 0.5,\n",
    "\"sas\": 0.5,\n",
    "\"microsoft power bi\": 0.5,\n",
    "    \"degree\": 0.9,\n",
    "    \"data\": 0.8\n",
    "}\n",
    "\n",
    "\n",
    "DS = Job(\"DS\")\n",
    "DS.set_keywords(bag_of_words_DS)\n"
   ]
  },
  {
   "cell_type": "markdown",
   "id": "e4530751-87ee-45c0-8ddd-59eae8bd3d20",
   "metadata": {},
   "source": [
    "# Observations\n",
    "- We observed that it/IT is a conflict with stop-word removal …\n",
    "- Take the length of the experience into account \n",
    "- For example, statistical and statsitcs are close, maybe relevant to use embeddnings istead of intersection"
   ]
  },
  {
   "cell_type": "code",
   "execution_count": 12,
   "id": "0342d879-c380-486c-93ca-889ef700adb4",
   "metadata": {
    "tags": []
   },
   "outputs": [],
   "source": [
    "from nltk.corpus import stopwords\n",
    "from nltk.tokenize import RegexpTokenizer\n",
    "\n",
    "tokenizer = RegexpTokenizer(r'\\w+')\n",
    "  \n",
    "stop_words = set(stopwords.words('english'))\n",
    "\n",
    "def extract_keywords(text: str) -> List[str]: \n",
    "    words = set(tokenizer.tokenize(text.lower()))\n",
    "    words = words.difference(stop_words)\n",
    "    \n",
    "    return words"
   ]
  },
  {
   "cell_type": "code",
   "execution_count": null,
   "id": "5b74a7f3-005a-4ff6-81c8-7d68030385df",
   "metadata": {
    "collapsed": true,
    "jupyter": {
     "outputs_hidden": true
    },
    "tags": []
   },
   "outputs": [
    {
     "name": "stdout",
     "output_type": "stream",
     "text": [
      "\n",
      "set()\n",
      "A>RACE is the Accenture Risk Analytics Center of Excellence. It is a center created within Accenture which deals with risk management projects with the objective to provide innovative IT solutions.\n",
      "{'risk', 'objective', 'management', 'race', 'created', 'deals', 'projects', 'solutions', 'center', 'accenture', 'within', 'analytics', 'excellence', 'innovative', 'provide'}\n",
      "\n",
      "set()\n",
      "I was the tutor of the Master degree Direzione aziendale taught in the University of Bologna for one year. I managed the relations between professors and students, organized the schedules for the academic year and dealt with administrative issues related to the course's admission and graduation.\n",
      "{'tutor', 'admission', 'taught', 'dealt', 'direzione', 'schedules', 'graduation', 'year', 'degree', 'administrative', 'professors', 'master', 'students', 'bologna', 'one', 'course', 'issues', 'managed', 'relations', 'academic', 'aziendale', 'university', 'related', 'organized'}\n",
      "Mentee in the ICARO project. The project which last 9 months is an intensive entrepreneurial path aimed to bring university students close to the business culture. During this path, I learned to work together with students coming from different realities using a design thinking approach to solve real business cases.\n",
      "{'icaro', 'business', 'path', 'project', 'mentee', 'design', 'work', 'last', 'together', 'culture', 'realities', 'approach', 'using', 'learned', 'students', 'cases', 'bring', 'close', 'coming', 'aimed', 'entrepreneurial', 'different', 'months', '9', 'real', 'university', 'intensive', 'thinking', 'solve'}\n",
      "The company is specialized in trade marketing and GDO marketing. The competences and responsibilities I undertook concerned: marketing, market researches, the creation of databases, store-check, CRM I also created presentations for customers and infographics for fair events.\n",
      "{'creation', 'crm', 'researches', 'presentations', 'also', 'store', 'responsibilities', 'gdo', 'created', 'customers', 'fair', 'databases', 'specialized', 'infographics', 'concerned', 'competences', 'check', 'market', 'undertook', 'marketing', 'trade', 'company', 'events'}\n"
     ]
    }
   ],
   "source": [
    "first = resumes[0]\n",
    "\n",
    "\n",
    "for exp in first['experience']['value']:\n",
    "    desc = exp['value']['description']\n",
    "    print(desc)\n",
    "    keywords = extract_keywords(desc)\n",
    "    print(keywords)"
   ]
  },
  {
   "cell_type": "code",
   "execution_count": 16,
   "id": "36a922f4-9be5-4b0e-aa3d-9acb28026532",
   "metadata": {},
   "outputs": [
    {
     "name": "stdout",
     "output_type": "stream",
     "text": [
      "[0, 0, 0, 0.9, 0, 0]\n"
     ]
    }
   ],
   "source": [
    "scores = list(map(score_experience, [exp['value'] for exp in first['experience']['value']]))\n",
    "\n",
    "print(scores)"
   ]
  },
  {
   "cell_type": "code",
   "execution_count": 17,
   "id": "59c9cfbc-60b9-45cf-a701-f190b4f9c86e",
   "metadata": {},
   "outputs": [
    {
     "name": "stdout",
     "output_type": "stream",
     "text": [
      "{'value': {'institution': 'Università di Bologna', 'title': 'Second cycle degree, Statistical science', 'location': 'Bologna', 'fromDate': '2017', 'toDate': '2019', 'description': ''}, 'label': 0}\n"
     ]
    }
   ],
   "source": [
    "print(first['education']['value'][0])"
   ]
  },
  {
   "cell_type": "code",
   "execution_count": 18,
   "id": "c27b204b-585d-4afa-8423-b9cc63d63251",
   "metadata": {},
   "outputs": [
    {
     "name": "stdout",
     "output_type": "stream",
     "text": [
      "{'science', 'degree', 'cycle', 'statistical', 'second'}\n",
      "{'student', 'erasmus', 'exchange'}\n",
      "{'management', 'marketing', 'e', 'triennale', 'economia', 'aziendale', 'gestione', 'laurea', 'dell', 'della', 'scienze'}\n",
      "set()\n"
     ]
    },
    {
     "data": {
      "text/plain": [
       "[0.9, 0, 0, 0]"
      ]
     },
     "execution_count": 18,
     "metadata": {},
     "output_type": "execute_result"
    }
   ],
   "source": [
    "def score_education_relevance(education) -> float: \n",
    "    title = education['title']\n",
    "    keywords = extract_keywords(title)\n",
    "    print(keywords)\n",
    "    return DS.relevance(keywords)\n",
    "    \n",
    "    \n",
    "edu_scores = list(map(score_education_relevance, [edu['value'] for edu in first['education']['value']]))\n",
    "edu_scores"
   ]
  },
  {
   "cell_type": "code",
   "execution_count": 19,
   "id": "52edd595-bd9d-427f-87f3-6e7142db20d4",
   "metadata": {},
   "outputs": [],
   "source": [
    "from persistence.models import Resume"
   ]
  },
  {
   "cell_type": "code",
   "execution_count": 95,
   "id": "ea29d71c-cc54-4462-9998-dc5d0cbd2c06",
   "metadata": {},
   "outputs": [],
   "source": [
    "from copy import deepcopy\n",
    "def score_resume(resume: Resume, job: Job) -> Resume:\n",
    "    \"\"\"\n",
    "    Takes in a resume and returns the same resume with labels given by our\n",
    "    scoring models .\n",
    "    This can be used as input for shortening the resume\n",
    "    \"\"\"\n",
    "    \n",
    "    # Create a deep copy for the output to make sure\n",
    "    # we dont modify the input data in any way \n",
    "    output = deepcopy(resume)\n",
    "    \n",
    "    # summary \n",
    "    summary_score = job.relevance(extract_keywords(resume['summary']['value']))\n",
    "    output['summary']['label'] = summary_score\n",
    "    \n",
    "    \n",
    "    #experience\n",
    "    for exp in output['experience']['value']:\n",
    "        exp_keyword = extract_keywords(exp['value']['description'])\n",
    "        score = job.relevance(exp_keyword)\n",
    "        exp['label'] = score\n",
    "    \n",
    "    \n",
    "    # Education\n",
    "    for edu in output['education']['value']:\n",
    "        edu_keyword = extract_keywords(edu['value']['title'])\n",
    "        score = job.relevance(edu_keyword)\n",
    "        edu['label'] = score\n",
    "\n",
    "    # Skills\n",
    "    ## hard\n",
    "    for skill in output['hardSkills']['value']:\n",
    "        relevance = job.relevance([skill['value']['name'].lower()]) * skill['value']['proficiency'] / 5\n",
    "        skill['label'] = relevance\n",
    "        \n",
    "    \n",
    "    ## soft\n",
    "    for skill in output['softSkills']['value']:\n",
    "        relevance = job.relevance([skill['value']['name'].lower()]) * skill['value']['proficiency'] / 5\n",
    "        skill['label'] = relevance\n",
    "    \n",
    "    # languages\n",
    "    for lang in output['languages']['value']:\n",
    "        relevance = job.relevance([lang['value']['name'].lower()]) * lang['value']['proficiency'] / 5\n",
    "        lang['label'] = relevance\n",
    "        \n",
    "    # certifications\n",
    "    for cert in output['certifications']['value']:\n",
    "        keywords = extract_keywords(cert['value']['title'])\n",
    "        relevance = job.relevance(keywords)\n",
    "        cert['label'] = relevance\n",
    "        \n",
    "    # accomplishements\n",
    "    for acc in output['accomplishments']['value']:\n",
    "        keywords = extract_keywords(acc['value']['title'])\n",
    "        relevance = job.relevance(keywords)\n",
    "        acc['label'] = relevance\n",
    "        \n",
    "    # projects\n",
    "    for proj in output['accomplishments']['value']:\n",
    "        keywords = extract_keywords(proj['value']['title'])\n",
    "        keywords.update(extract_keywords(proj['value']['description']))\n",
    "        relevance = job.relevance(keywords)\n",
    "        proj['label'] = relevance\n",
    "        \n",
    "    # extracurriculars\n",
    "    for extra in output['accomplishments']['value']:\n",
    "        keywords = extract_keywords(extra['value']['title'])\n",
    "        keywords.update(extract_keywords(proj['value']['description']))\n",
    "        relevance = job.relevance(keywords)\n",
    "        extra['label'] = relevance\n",
    "    \n",
    "    # patents\n",
    "    for patent in output['accomplishments']['value']:\n",
    "        keywords = extract_keywords(patent['value']['title'])\n",
    "        keywords.update(extract_keywords(proj['value']['description']))\n",
    "        relevance = job.relevance(keywords)\n",
    "        patent['label'] = relevance\n",
    "    \n",
    "    \n",
    "    # interests \n",
    "    for patent in output['accomplishments']['value']:\n",
    "        keywords = extract_keywords(patent['value']['title'])\n",
    "        keywords.update(extract_keywords(proj['value']['description']))\n",
    "        relevance = job.relevance(keywords)\n",
    "        patent['label'] = relevance\n",
    "    \n",
    "    return output"
   ]
  },
  {
   "cell_type": "code",
   "execution_count": 96,
   "id": "fcafd34d-adbf-451a-8d74-3c716f781d5e",
   "metadata": {},
   "outputs": [
    {
     "data": {
      "text/plain": [
       "{'value': [{'value': {'title': '',\n",
       "    'fromDate': '2010-01-23',\n",
       "    'toDate': 'Today',\n",
       "    'description': 'Runs a dog-shelter on the weekends for homeless dogs.'},\n",
       "   'label': 0}],\n",
       " 'label': 0}"
      ]
     },
     "execution_count": 96,
     "metadata": {},
     "output_type": "execute_result"
    }
   ],
   "source": [
    "out = score_resume(first, DS)\n",
    "out['extracurriculars']"
   ]
  },
  {
   "cell_type": "code",
   "execution_count": 63,
   "id": "8c6d5cd4-67d8-4ba1-ad38-8757904f8b89",
   "metadata": {},
   "outputs": [
    {
     "data": {
      "text/plain": [
       "{'_id': ObjectId('636b1bc1f728e7b519af0072'),\n",
       " 'title': {'value': 'Data scientist', 'label': 0},\n",
       " 'contactInfo': {'value': {'address': {'value': 'Stockholmsvägen 15',\n",
       "    'label': 0},\n",
       "   'website': {'value': '', 'label': 0},\n",
       "   'linkedin': {'value': 'www.linkedin.com/in/caterina- bonazzi ', 'label': 0},\n",
       "   'name': {'value': 'Caterina Bonazzi', 'label': 0},\n",
       "   'phoneNumber': {'value': '', 'label': 0},\n",
       "   'email': {'value': 'caterinabonazzi@gmail.com', 'label': 0},\n",
       "   'github': {'value': '', 'label': 0},\n",
       "   'birthday': {'value': '', 'label': 0},\n",
       "   'family': {'value': 'Husband and two children', 'label': 0}},\n",
       "  'label': 0},\n",
       " 'summary': {'value': 'I am a passionate data scientist curious and ambitious. I love to dig into data trying to bring order in a word of chaos.',\n",
       "  'label': 0},\n",
       " 'experience': {'value': [{'value': {'company': 'IKEA',\n",
       "     'title': 'Data Scientist',\n",
       "     'location': 'Malmö, Sweden',\n",
       "     'fromDate': 'September 2021',\n",
       "     'toDate': 'Present',\n",
       "     'description': ''},\n",
       "    'label': 0},\n",
       "   {'value': {'company': 'Accenture',\n",
       "     'title': 'Data Scientist @ A>RACE',\n",
       "     'location': 'Milano, Italy',\n",
       "     'fromDate': 'November 2019',\n",
       "     'toDate': 'September 2021',\n",
       "     'description': 'A>RACE is the Accenture Risk Analytics Center of Excellence. It is a center created within Accenture which deals with risk management projects with the objective to provide innovative IT solutions.'},\n",
       "    'label': 0},\n",
       "   {'value': {'company': 'Accenture',\n",
       "     'title': 'Stage Consulting @ A>RACE',\n",
       "     'location': 'Milano, Italy',\n",
       "     'fromDate': 'April 2019',\n",
       "     'toDate': 'October 2019',\n",
       "     'description': ''},\n",
       "    'label': 0},\n",
       "   {'value': {'company': 'Università di Bologna',\n",
       "     'title': 'Tutor',\n",
       "     'location': 'Bologna, Italy',\n",
       "     'fromDate': 'October 2017',\n",
       "     'toDate': 'October 2018',\n",
       "     'description': \"I was the tutor of the Master degree Direzione aziendale taught in the University of Bologna for one year. I managed the relations between professors and students, organized the schedules for the academic year and dealt with administrative issues related to the course's admission and graduation.\"},\n",
       "    'label': 0},\n",
       "   {'value': {'company': 'Fondazione Golinelli',\n",
       "     'title': 'Mentee',\n",
       "     'location': '',\n",
       "     'fromDate': 'November 2017',\n",
       "     'toDate': 'July 2018',\n",
       "     'description': 'Mentee in the ICARO project. The project which last 9 months is an intensive entrepreneurial path aimed to bring university students close to the business culture. During this path, I learned to work together with students coming from different realities using a design thinking approach to solve real business cases.'},\n",
       "    'label': 0},\n",
       "   {'value': {'company': 'Trade Marketing Studio',\n",
       "     'title': 'Market research intern',\n",
       "     'location': 'Bologna, Italy',\n",
       "     'fromDate': 'June 2016',\n",
       "     'toDate': 'September 2016',\n",
       "     'description': 'The company is specialized in trade marketing and GDO marketing. The competences and responsibilities I undertook concerned: marketing, market researches, the creation of databases, store-check, CRM I also created presentations for customers and infographics for fair events.'},\n",
       "    'label': 0}],\n",
       "  'label': 0},\n",
       " 'education': {'value': [{'value': {'institution': 'Università di Bologna',\n",
       "     'title': 'Second cycle degree, Statistical science',\n",
       "     'location': 'Bologna',\n",
       "     'fromDate': '2017',\n",
       "     'toDate': '2019',\n",
       "     'description': ''},\n",
       "    'label': 0},\n",
       "   {'value': {'institution': 'Lund University School of Economics and Management',\n",
       "     'title': 'Erasmus exchange student',\n",
       "     'location': 'Lund',\n",
       "     'fromDate': 'August 2018',\n",
       "     'toDate': 'January 2019',\n",
       "     'description': 'Erasmus exchange student'},\n",
       "    'label': 0},\n",
       "   {'value': {'institution': 'Università di Bologna',\n",
       "     'title': \"Laurea triennale in Scienze dell'Economia e della Gestione Aziendale, Management e marketing\",\n",
       "     'location': 'Bologna',\n",
       "     'fromDate': '2014',\n",
       "     'toDate': '2017',\n",
       "     'description': ''},\n",
       "    'label': 0},\n",
       "   {'value': {'institution': 'ITC Enrico Mattei',\n",
       "     'title': '',\n",
       "     'location': 'Rome, Italy',\n",
       "     'fromDate': '2009',\n",
       "     'toDate': '2014',\n",
       "     'description': ''},\n",
       "    'label': 0}],\n",
       "  'label': 0},\n",
       " 'interests': {'value': [{'value': 'Boxing', 'label': 0}], 'label': 0},\n",
       " 'accomplishments': {'value': [{'value': {'title': 'Olympic gold medal in rowing',\n",
       "     'fromDate': '2010-01-23',\n",
       "     'toDate': '',\n",
       "     'description': 'Tight race'},\n",
       "    'label': 0}],\n",
       "  'label': 0},\n",
       " 'languages': {'value': [{'value': {'name': 'Spanish', 'proficiency': 5},\n",
       "    'label': 0},\n",
       "   {'value': {'name': 'Korean', 'proficiency': 5}, 'label': 0},\n",
       "   {'value': {'name': 'English', 'proficiency': 2}, 'label': 0}],\n",
       "  'label': 0},\n",
       " 'projects': {'value': [{'value': {'title': 'Project for Data Science',\n",
       "     'fromDate': '2022-08-23',\n",
       "     'toDate': 'Today',\n",
       "     'description': \"Built a NLP tool for optimizing ebay item descriptions. The professor didn't like it.\"},\n",
       "    'label': 0}],\n",
       "  'label': 0},\n",
       " 'softSkills': {'value': [{'value': {'name': 'Presenting', 'proficiency': 5},\n",
       "    'label': 0},\n",
       "   {'value': {'name': 'Debating', 'proficiency': 2}, 'label': 0}],\n",
       "  'label': 0},\n",
       " 'hardSkills': {'value': [{'value': {'name': 'R', 'proficiency': 5},\n",
       "    'label': 0},\n",
       "   {'value': {'name': 'Python', 'proficiency': 5}, 'label': 0},\n",
       "   {'value': {'name': 'Machine Learning', 'proficiency': 4}, 'label': 0}],\n",
       "  'label': 0},\n",
       " 'certifications': {'value': [{'value': {'title': 'Entrepreneurship - ICARO Bologna',\n",
       "     'level': '',\n",
       "     'description': '',\n",
       "     'date': ''},\n",
       "    'label': 0},\n",
       "   {'value': {'title': 'SAS Certified Base Programmer for SAS 9',\n",
       "     'level': 'Basic',\n",
       "     'description': '',\n",
       "     'date': ''},\n",
       "    'label': 0}],\n",
       "  'label': 0},\n",
       " 'patents': {'value': [], 'label': 0},\n",
       " 'extracurriculars': {'value': [{'value': {'title': '',\n",
       "     'fromDate': '2010-01-23',\n",
       "     'toDate': 'Today',\n",
       "     'description': 'Runs a dog-shelter on the weekends for homeless dogs.'},\n",
       "    'label': 0}],\n",
       "  'label': 0}}"
      ]
     },
     "execution_count": 63,
     "metadata": {},
     "output_type": "execute_result"
    }
   ],
   "source": [
    "first"
   ]
  },
  {
   "cell_type": "code",
   "execution_count": 49,
   "id": "c5243b5a-5aaa-43eb-830b-a86e71561786",
   "metadata": {},
   "outputs": [
    {
     "name": "stdout",
     "output_type": "stream",
     "text": [
      "November 2019\n",
      "2019-11-01 00:00:00\n",
      "September 2021\n",
      "2021-09-01 00:00:00\n",
      "670 days, 0:00:00\n",
      "2022-11-09 06:24:09.355882\n",
      "434\n"
     ]
    }
   ],
   "source": [
    "from datetime import datetime\n",
    "\n",
    "\n",
    "# this is just for Karl to learn, can be removed later\n",
    "# for words like \"today\" or \"present\" use today()\n",
    "\n",
    "fromDate = first['experience']['value'][1]['value']['fromDate']\n",
    "print(fromDate)\n",
    "datetime_object_from = datetime.strptime(fromDate, '%B %Y')\n",
    "print(datetime_object_from)\n",
    "\n",
    "toDate = first['experience']['value'][1]['value']['toDate']\n",
    "print(toDate)\n",
    "datetime_object_to = datetime.strptime(toDate, '%B %Y')\n",
    "print(datetime_object_to)\n",
    "\n",
    "print(datetime_object_to-datetime_object_from)\n",
    "\n",
    "today = datetime.today()\n",
    "print(today)\n",
    "\n",
    "diff = today - datetime_object_to\n",
    "days = np.floor(diff.total_seconds()/86400)\n",
    "print(int(days)) # gets the number of days"
   ]
  },
  {
   "cell_type": "code",
   "execution_count": 38,
   "id": "2fc6fe37-a2d8-4bdd-ae51-5037bcd20d53",
   "metadata": {},
   "outputs": [
    {
     "name": "stdout",
     "output_type": "stream",
     "text": [
      "670 days, 0:00:00\n"
     ]
    }
   ],
   "source": [
    "def get_length_of_exp(experience) -> int:\n",
    "    \n"
   ]
  }
 ],
 "metadata": {
  "environment": {
   "kernel": "python3",
   "name": "pytorch-gpu.1-12.m99",
   "type": "gcloud",
   "uri": "gcr.io/deeplearning-platform-release/pytorch-gpu.1-12:m99"
  },
  "kernelspec": {
   "display_name": "Python 3",
   "language": "python",
   "name": "python3"
  },
  "language_info": {
   "codemirror_mode": {
    "name": "ipython",
    "version": 3
   },
   "file_extension": ".py",
   "mimetype": "text/x-python",
   "name": "python",
   "nbconvert_exporter": "python",
   "pygments_lexer": "ipython3",
   "version": "3.7.12"
  }
 },
 "nbformat": 4,
 "nbformat_minor": 5
}
