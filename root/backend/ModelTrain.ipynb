{
 "cells": [
  {
   "cell_type": "code",
   "execution_count": 1,
   "id": "c4fecdf8-5eb3-43c1-84b5-faa5f41726bc",
   "metadata": {
    "collapsed": true,
    "jupyter": {
     "outputs_hidden": true
    },
    "tags": []
   },
   "outputs": [
    {
     "name": "stdout",
     "output_type": "stream",
     "text": [
      "Requirement already satisfied: black==22.10.0 in /opt/conda/lib/python3.7/site-packages (from -r requirements.txt (line 1)) (22.10.0)\n",
      "Requirement already satisfied: Flask==2.2.2 in /opt/conda/lib/python3.7/site-packages (from -r requirements.txt (line 2)) (2.2.2)\n",
      "Requirement already satisfied: pymongo==3.12.0 in /opt/conda/lib/python3.7/site-packages (from -r requirements.txt (line 3)) (3.12.0)\n",
      "Requirement already satisfied: Python-dotenv==0.21.0 in /opt/conda/lib/python3.7/site-packages (from -r requirements.txt (line 4)) (0.21.0)\n",
      "Requirement already satisfied: Flask-Cors==3.0.10 in /opt/conda/lib/python3.7/site-packages (from -r requirements.txt (line 5)) (3.0.10)\n",
      "Requirement already satisfied: Flasgger==0.9.5 in /opt/conda/lib/python3.7/site-packages (from -r requirements.txt (line 6)) (0.9.5)\n",
      "Requirement already satisfied: Pydantic==1.9.0 in /opt/conda/lib/python3.7/site-packages (from -r requirements.txt (line 7)) (1.9.0)\n",
      "Requirement already satisfied: gensim==4.2.0 in /opt/conda/lib/python3.7/site-packages (from -r requirements.txt (line 9)) (4.2.0)\n",
      "Requirement already satisfied: nltk==3.7 in /opt/conda/lib/python3.7/site-packages (from -r requirements.txt (line 10)) (3.7)\n",
      "Requirement already satisfied: transformers==4.24.0 in /opt/conda/lib/python3.7/site-packages (from -r requirements.txt (line 11)) (4.24.0)\n",
      "Requirement already satisfied: spacy==3.4.2 in /opt/conda/lib/python3.7/site-packages (from -r requirements.txt (line 12)) (3.4.2)\n",
      "Requirement already satisfied: spacy-legacy==3.0.10 in /opt/conda/lib/python3.7/site-packages (from -r requirements.txt (line 13)) (3.0.10)\n",
      "Requirement already satisfied: spacy-loggers==1.0.3 in /opt/conda/lib/python3.7/site-packages (from -r requirements.txt (line 14)) (1.0.3)\n",
      "Requirement already satisfied: keybert==0.7.0 in /opt/conda/lib/python3.7/site-packages (from -r requirements.txt (line 15)) (0.7.0)\n",
      "Requirement already satisfied: pandas==1.3.5 in /opt/conda/lib/python3.7/site-packages (from -r requirements.txt (line 16)) (1.3.5)\n",
      "Requirement already satisfied: scipy==1.7.3 in /opt/conda/lib/python3.7/site-packages (from -r requirements.txt (line 17)) (1.7.3)\n",
      "Requirement already satisfied: sklearn==0.0.post1 in /opt/conda/lib/python3.7/site-packages (from -r requirements.txt (line 18)) (0.0.post1)\n",
      "Requirement already satisfied: google-cloud-storage in /opt/conda/lib/python3.7/site-packages (from -r requirements.txt (line 19)) (2.5.0)\n",
      "Requirement already satisfied: tomli>=1.1.0 in /opt/conda/lib/python3.7/site-packages (from black==22.10.0->-r requirements.txt (line 1)) (2.0.1)\n",
      "Requirement already satisfied: mypy-extensions>=0.4.3 in /opt/conda/lib/python3.7/site-packages (from black==22.10.0->-r requirements.txt (line 1)) (0.4.3)\n",
      "Requirement already satisfied: typed-ast>=1.4.2 in /opt/conda/lib/python3.7/site-packages (from black==22.10.0->-r requirements.txt (line 1)) (1.5.4)\n",
      "Requirement already satisfied: platformdirs>=2 in /opt/conda/lib/python3.7/site-packages (from black==22.10.0->-r requirements.txt (line 1)) (2.5.2)\n",
      "Requirement already satisfied: click>=8.0.0 in /opt/conda/lib/python3.7/site-packages (from black==22.10.0->-r requirements.txt (line 1)) (8.1.3)\n",
      "Requirement already satisfied: typing-extensions>=3.10.0.0 in /opt/conda/lib/python3.7/site-packages (from black==22.10.0->-r requirements.txt (line 1)) (4.1.1)\n",
      "Requirement already satisfied: pathspec>=0.9.0 in /opt/conda/lib/python3.7/site-packages (from black==22.10.0->-r requirements.txt (line 1)) (0.10.1)\n",
      "Requirement already satisfied: importlib-metadata>=3.6.0 in /opt/conda/lib/python3.7/site-packages (from Flask==2.2.2->-r requirements.txt (line 2)) (4.2.0)\n",
      "Requirement already satisfied: Jinja2>=3.0 in /opt/conda/lib/python3.7/site-packages (from Flask==2.2.2->-r requirements.txt (line 2)) (3.1.2)\n",
      "Requirement already satisfied: itsdangerous>=2.0 in /opt/conda/lib/python3.7/site-packages (from Flask==2.2.2->-r requirements.txt (line 2)) (2.1.2)\n",
      "Requirement already satisfied: Werkzeug>=2.2.2 in /opt/conda/lib/python3.7/site-packages (from Flask==2.2.2->-r requirements.txt (line 2)) (2.2.2)\n",
      "Requirement already satisfied: Six in /opt/conda/lib/python3.7/site-packages (from Flask-Cors==3.0.10->-r requirements.txt (line 5)) (1.16.0)\n",
      "Requirement already satisfied: jsonschema>=3.0.1 in /opt/conda/lib/python3.7/site-packages (from Flasgger==0.9.5->-r requirements.txt (line 6)) (4.16.0)\n",
      "Requirement already satisfied: mistune in /opt/conda/lib/python3.7/site-packages (from Flasgger==0.9.5->-r requirements.txt (line 6)) (2.0.4)\n",
      "Requirement already satisfied: PyYAML>=3.0 in /opt/conda/lib/python3.7/site-packages (from Flasgger==0.9.5->-r requirements.txt (line 6)) (6.0)\n",
      "Requirement already satisfied: numpy>=1.17.0 in /opt/conda/lib/python3.7/site-packages (from gensim==4.2.0->-r requirements.txt (line 9)) (1.21.6)\n",
      "Requirement already satisfied: smart-open>=1.8.1 in /opt/conda/lib/python3.7/site-packages (from gensim==4.2.0->-r requirements.txt (line 9)) (5.2.1)\n",
      "Requirement already satisfied: regex>=2021.8.3 in /opt/conda/lib/python3.7/site-packages (from nltk==3.7->-r requirements.txt (line 10)) (2022.10.31)\n",
      "Requirement already satisfied: tqdm in /opt/conda/lib/python3.7/site-packages (from nltk==3.7->-r requirements.txt (line 10)) (4.64.1)\n",
      "Requirement already satisfied: joblib in /opt/conda/lib/python3.7/site-packages (from nltk==3.7->-r requirements.txt (line 10)) (1.2.0)\n",
      "Requirement already satisfied: requests in /opt/conda/lib/python3.7/site-packages (from transformers==4.24.0->-r requirements.txt (line 11)) (2.28.1)\n",
      "Requirement already satisfied: tokenizers!=0.11.3,<0.14,>=0.11.1 in /opt/conda/lib/python3.7/site-packages (from transformers==4.24.0->-r requirements.txt (line 11)) (0.13.1)\n",
      "Requirement already satisfied: huggingface-hub<1.0,>=0.10.0 in /opt/conda/lib/python3.7/site-packages (from transformers==4.24.0->-r requirements.txt (line 11)) (0.10.1)\n",
      "Requirement already satisfied: filelock in /opt/conda/lib/python3.7/site-packages (from transformers==4.24.0->-r requirements.txt (line 11)) (3.8.0)\n",
      "Requirement already satisfied: packaging>=20.0 in /opt/conda/lib/python3.7/site-packages (from transformers==4.24.0->-r requirements.txt (line 11)) (21.3)\n",
      "Requirement already satisfied: srsly<3.0.0,>=2.4.3 in /opt/conda/lib/python3.7/site-packages (from spacy==3.4.2->-r requirements.txt (line 12)) (2.4.5)\n",
      "Requirement already satisfied: wasabi<1.1.0,>=0.9.1 in /opt/conda/lib/python3.7/site-packages (from spacy==3.4.2->-r requirements.txt (line 12)) (0.10.1)\n",
      "Requirement already satisfied: thinc<8.2.0,>=8.1.0 in /opt/conda/lib/python3.7/site-packages (from spacy==3.4.2->-r requirements.txt (line 12)) (8.1.5)\n",
      "Requirement already satisfied: pathy>=0.3.5 in /opt/conda/lib/python3.7/site-packages (from spacy==3.4.2->-r requirements.txt (line 12)) (0.6.2)\n",
      "Requirement already satisfied: langcodes<4.0.0,>=3.2.0 in /opt/conda/lib/python3.7/site-packages (from spacy==3.4.2->-r requirements.txt (line 12)) (3.3.0)\n",
      "Requirement already satisfied: setuptools in /opt/conda/lib/python3.7/site-packages (from spacy==3.4.2->-r requirements.txt (line 12)) (59.8.0)\n",
      "Requirement already satisfied: cymem<2.1.0,>=2.0.2 in /opt/conda/lib/python3.7/site-packages (from spacy==3.4.2->-r requirements.txt (line 12)) (2.0.7)\n",
      "Requirement already satisfied: typer<0.5.0,>=0.3.0 in /opt/conda/lib/python3.7/site-packages (from spacy==3.4.2->-r requirements.txt (line 12)) (0.4.2)\n",
      "Requirement already satisfied: catalogue<2.1.0,>=2.0.6 in /opt/conda/lib/python3.7/site-packages (from spacy==3.4.2->-r requirements.txt (line 12)) (2.0.8)\n",
      "Requirement already satisfied: preshed<3.1.0,>=3.0.2 in /opt/conda/lib/python3.7/site-packages (from spacy==3.4.2->-r requirements.txt (line 12)) (3.0.8)\n",
      "Requirement already satisfied: murmurhash<1.1.0,>=0.28.0 in /opt/conda/lib/python3.7/site-packages (from spacy==3.4.2->-r requirements.txt (line 12)) (1.0.9)\n",
      "Requirement already satisfied: sentence-transformers>=0.3.8 in /opt/conda/lib/python3.7/site-packages (from keybert==0.7.0->-r requirements.txt (line 15)) (2.2.2)\n",
      "Requirement already satisfied: rich>=10.4.0 in /opt/conda/lib/python3.7/site-packages (from keybert==0.7.0->-r requirements.txt (line 15)) (12.6.0)\n",
      "Requirement already satisfied: scikit-learn>=0.22.2 in /opt/conda/lib/python3.7/site-packages (from keybert==0.7.0->-r requirements.txt (line 15)) (1.0.2)\n",
      "Requirement already satisfied: python-dateutil>=2.7.3 in /opt/conda/lib/python3.7/site-packages (from pandas==1.3.5->-r requirements.txt (line 16)) (2.8.2)\n",
      "Requirement already satisfied: pytz>=2017.3 in /opt/conda/lib/python3.7/site-packages (from pandas==1.3.5->-r requirements.txt (line 16)) (2022.5)\n",
      "Requirement already satisfied: dnspython<2.0.0,>=1.16.0 in /opt/conda/lib/python3.7/site-packages (from pymongo==3.12.0->-r requirements.txt (line 3)) (1.16.0)\n",
      "Requirement already satisfied: google-resumable-media>=2.3.2 in /opt/conda/lib/python3.7/site-packages (from google-cloud-storage->-r requirements.txt (line 19)) (2.4.0)\n",
      "Requirement already satisfied: google-api-core!=2.0.*,!=2.1.*,!=2.2.*,!=2.3.0,<3.0.0dev,>=1.31.5 in /opt/conda/lib/python3.7/site-packages (from google-cloud-storage->-r requirements.txt (line 19)) (2.8.0)\n",
      "Requirement already satisfied: google-auth<3.0dev,>=1.25.0 in /opt/conda/lib/python3.7/site-packages (from google-cloud-storage->-r requirements.txt (line 19)) (2.13.0)\n",
      "Requirement already satisfied: google-cloud-core<3.0dev,>=2.3.0 in /opt/conda/lib/python3.7/site-packages (from google-cloud-storage->-r requirements.txt (line 19)) (2.3.2)\n",
      "Requirement already satisfied: zipp>=0.5 in /opt/conda/lib/python3.7/site-packages (from catalogue<2.1.0,>=2.0.6->spacy==3.4.2->-r requirements.txt (line 12)) (3.10.0)\n",
      "Requirement already satisfied: protobuf>=3.12.0 in /opt/conda/lib/python3.7/site-packages (from google-api-core!=2.0.*,!=2.1.*,!=2.2.*,!=2.3.0,<3.0.0dev,>=1.31.5->google-cloud-storage->-r requirements.txt (line 19)) (4.21.8)\n",
      "Requirement already satisfied: googleapis-common-protos<2.0dev,>=1.52.0 in /opt/conda/lib/python3.7/site-packages (from google-api-core!=2.0.*,!=2.1.*,!=2.2.*,!=2.3.0,<3.0.0dev,>=1.31.5->google-cloud-storage->-r requirements.txt (line 19)) (1.56.4)\n",
      "Requirement already satisfied: rsa<5,>=3.1.4 in /opt/conda/lib/python3.7/site-packages (from google-auth<3.0dev,>=1.25.0->google-cloud-storage->-r requirements.txt (line 19)) (4.9)\n",
      "Requirement already satisfied: cachetools<6.0,>=2.0.0 in /opt/conda/lib/python3.7/site-packages (from google-auth<3.0dev,>=1.25.0->google-cloud-storage->-r requirements.txt (line 19)) (5.2.0)\n",
      "Requirement already satisfied: pyasn1-modules>=0.2.1 in /opt/conda/lib/python3.7/site-packages (from google-auth<3.0dev,>=1.25.0->google-cloud-storage->-r requirements.txt (line 19)) (0.2.7)\n",
      "Requirement already satisfied: google-crc32c<2.0dev,>=1.0 in /opt/conda/lib/python3.7/site-packages (from google-resumable-media>=2.3.2->google-cloud-storage->-r requirements.txt (line 19)) (1.1.2)\n",
      "Requirement already satisfied: MarkupSafe>=2.0 in /opt/conda/lib/python3.7/site-packages (from Jinja2>=3.0->Flask==2.2.2->-r requirements.txt (line 2)) (2.1.1)\n",
      "Requirement already satisfied: importlib-resources>=1.4.0 in /opt/conda/lib/python3.7/site-packages (from jsonschema>=3.0.1->Flasgger==0.9.5->-r requirements.txt (line 6)) (5.10.0)\n",
      "Requirement already satisfied: attrs>=17.4.0 in /opt/conda/lib/python3.7/site-packages (from jsonschema>=3.0.1->Flasgger==0.9.5->-r requirements.txt (line 6)) (22.1.0)\n",
      "Requirement already satisfied: pyrsistent!=0.17.0,!=0.17.1,!=0.17.2,>=0.14.0 in /opt/conda/lib/python3.7/site-packages (from jsonschema>=3.0.1->Flasgger==0.9.5->-r requirements.txt (line 6)) (0.18.1)\n",
      "Requirement already satisfied: pkgutil-resolve-name>=1.3.10 in /opt/conda/lib/python3.7/site-packages (from jsonschema>=3.0.1->Flasgger==0.9.5->-r requirements.txt (line 6)) (1.3.10)\n",
      "Requirement already satisfied: pyparsing!=3.0.5,>=2.0.2 in /opt/conda/lib/python3.7/site-packages (from packaging>=20.0->transformers==4.24.0->-r requirements.txt (line 11)) (3.0.9)\n",
      "Requirement already satisfied: idna<4,>=2.5 in /opt/conda/lib/python3.7/site-packages (from requests->transformers==4.24.0->-r requirements.txt (line 11)) (3.4)\n",
      "Requirement already satisfied: charset-normalizer<3,>=2 in /opt/conda/lib/python3.7/site-packages (from requests->transformers==4.24.0->-r requirements.txt (line 11)) (2.1.1)\n",
      "Requirement already satisfied: certifi>=2017.4.17 in /opt/conda/lib/python3.7/site-packages (from requests->transformers==4.24.0->-r requirements.txt (line 11)) (2022.9.24)\n",
      "Requirement already satisfied: urllib3<1.27,>=1.21.1 in /opt/conda/lib/python3.7/site-packages (from requests->transformers==4.24.0->-r requirements.txt (line 11)) (1.26.11)\n",
      "Requirement already satisfied: commonmark<0.10.0,>=0.9.0 in /opt/conda/lib/python3.7/site-packages (from rich>=10.4.0->keybert==0.7.0->-r requirements.txt (line 15)) (0.9.1)\n",
      "Requirement already satisfied: pygments<3.0.0,>=2.6.0 in /opt/conda/lib/python3.7/site-packages (from rich>=10.4.0->keybert==0.7.0->-r requirements.txt (line 15)) (2.13.0)\n",
      "Requirement already satisfied: threadpoolctl>=2.0.0 in /opt/conda/lib/python3.7/site-packages (from scikit-learn>=0.22.2->keybert==0.7.0->-r requirements.txt (line 15)) (3.1.0)\n",
      "Requirement already satisfied: torch>=1.6.0 in /opt/conda/lib/python3.7/site-packages (from sentence-transformers>=0.3.8->keybert==0.7.0->-r requirements.txt (line 15)) (1.12.1)\n",
      "Requirement already satisfied: torchvision in /opt/conda/lib/python3.7/site-packages (from sentence-transformers>=0.3.8->keybert==0.7.0->-r requirements.txt (line 15)) (0.13.1+cu113)\n",
      "Requirement already satisfied: sentencepiece in /opt/conda/lib/python3.7/site-packages (from sentence-transformers>=0.3.8->keybert==0.7.0->-r requirements.txt (line 15)) (0.1.97)\n",
      "Requirement already satisfied: confection<1.0.0,>=0.0.1 in /opt/conda/lib/python3.7/site-packages (from thinc<8.2.0,>=8.1.0->spacy==3.4.2->-r requirements.txt (line 12)) (0.0.3)\n",
      "Requirement already satisfied: blis<0.8.0,>=0.7.8 in /opt/conda/lib/python3.7/site-packages (from thinc<8.2.0,>=8.1.0->spacy==3.4.2->-r requirements.txt (line 12)) (0.7.9)\n",
      "Requirement already satisfied: cffi>=1.0.0 in /opt/conda/lib/python3.7/site-packages (from google-crc32c<2.0dev,>=1.0->google-resumable-media>=2.3.2->google-cloud-storage->-r requirements.txt (line 19)) (1.15.1)\n",
      "Requirement already satisfied: pyasn1<0.5.0,>=0.4.6 in /opt/conda/lib/python3.7/site-packages (from pyasn1-modules>=0.2.1->google-auth<3.0dev,>=1.25.0->google-cloud-storage->-r requirements.txt (line 19)) (0.4.8)\n",
      "Requirement already satisfied: pillow!=8.3.*,>=5.3.0 in /opt/conda/lib/python3.7/site-packages (from torchvision->sentence-transformers>=0.3.8->keybert==0.7.0->-r requirements.txt (line 15)) (9.2.0)\n",
      "Requirement already satisfied: pycparser in /opt/conda/lib/python3.7/site-packages (from cffi>=1.0.0->google-crc32c<2.0dev,>=1.0->google-resumable-media>=2.3.2->google-cloud-storage->-r requirements.txt (line 19)) (2.21)\n",
      "Requirement already satisfied: jupyter-lsp in /opt/conda/lib/python3.7/site-packages (1.5.1)\n",
      "Requirement already satisfied: entrypoints in /opt/conda/lib/python3.7/site-packages (from jupyter-lsp) (0.4)\n",
      "Requirement already satisfied: jupyter-server>=1.1.2 in /opt/conda/lib/python3.7/site-packages (from jupyter-lsp) (1.21.0)\n",
      "Requirement already satisfied: argon2-cffi in /opt/conda/lib/python3.7/site-packages (from jupyter-server>=1.1.2->jupyter-lsp) (21.3.0)\n",
      "Requirement already satisfied: websocket-client in /opt/conda/lib/python3.7/site-packages (from jupyter-server>=1.1.2->jupyter-lsp) (1.4.1)\n",
      "Requirement already satisfied: pyzmq>=17 in /opt/conda/lib/python3.7/site-packages (from jupyter-server>=1.1.2->jupyter-lsp) (24.0.1)\n",
      "Requirement already satisfied: packaging in /opt/conda/lib/python3.7/site-packages (from jupyter-server>=1.1.2->jupyter-lsp) (21.3)\n",
      "Requirement already satisfied: nbconvert>=6.4.4 in /opt/conda/lib/python3.7/site-packages (from jupyter-server>=1.1.2->jupyter-lsp) (7.2.2)\n",
      "Requirement already satisfied: prometheus-client in /opt/conda/lib/python3.7/site-packages (from jupyter-server>=1.1.2->jupyter-lsp) (0.15.0)\n",
      "Requirement already satisfied: Send2Trash in /opt/conda/lib/python3.7/site-packages (from jupyter-server>=1.1.2->jupyter-lsp) (1.8.0)\n",
      "Requirement already satisfied: terminado>=0.8.3 in /opt/conda/lib/python3.7/site-packages (from jupyter-server>=1.1.2->jupyter-lsp) (0.17.0)\n",
      "Requirement already satisfied: anyio<4,>=3.1.0 in /opt/conda/lib/python3.7/site-packages (from jupyter-server>=1.1.2->jupyter-lsp) (3.6.2)\n",
      "Requirement already satisfied: tornado>=6.1.0 in /opt/conda/lib/python3.7/site-packages (from jupyter-server>=1.1.2->jupyter-lsp) (6.2)\n",
      "Requirement already satisfied: traitlets>=5.1 in /opt/conda/lib/python3.7/site-packages (from jupyter-server>=1.1.2->jupyter-lsp) (5.5.0)\n",
      "Requirement already satisfied: jupyter-client>=6.1.12 in /opt/conda/lib/python3.7/site-packages (from jupyter-server>=1.1.2->jupyter-lsp) (7.4.4)\n",
      "Requirement already satisfied: jupyter-core>=4.7.0 in /opt/conda/lib/python3.7/site-packages (from jupyter-server>=1.1.2->jupyter-lsp) (4.11.1)\n",
      "Requirement already satisfied: jinja2 in /opt/conda/lib/python3.7/site-packages (from jupyter-server>=1.1.2->jupyter-lsp) (3.1.2)\n",
      "Requirement already satisfied: nbformat>=5.2.0 in /opt/conda/lib/python3.7/site-packages (from jupyter-server>=1.1.2->jupyter-lsp) (5.7.0)\n",
      "Requirement already satisfied: sniffio>=1.1 in /opt/conda/lib/python3.7/site-packages (from anyio<4,>=3.1.0->jupyter-server>=1.1.2->jupyter-lsp) (1.3.0)\n",
      "Requirement already satisfied: idna>=2.8 in /opt/conda/lib/python3.7/site-packages (from anyio<4,>=3.1.0->jupyter-server>=1.1.2->jupyter-lsp) (3.4)\n",
      "Requirement already satisfied: typing-extensions in /opt/conda/lib/python3.7/site-packages (from anyio<4,>=3.1.0->jupyter-server>=1.1.2->jupyter-lsp) (4.1.1)\n",
      "Requirement already satisfied: python-dateutil>=2.8.2 in /opt/conda/lib/python3.7/site-packages (from jupyter-client>=6.1.12->jupyter-server>=1.1.2->jupyter-lsp) (2.8.2)\n",
      "Requirement already satisfied: nest-asyncio>=1.5.4 in /opt/conda/lib/python3.7/site-packages (from jupyter-client>=6.1.12->jupyter-server>=1.1.2->jupyter-lsp) (1.5.6)\n",
      "Requirement already satisfied: beautifulsoup4 in /opt/conda/lib/python3.7/site-packages (from nbconvert>=6.4.4->jupyter-server>=1.1.2->jupyter-lsp) (4.11.1)\n",
      "Requirement already satisfied: pandocfilters>=1.4.1 in /opt/conda/lib/python3.7/site-packages (from nbconvert>=6.4.4->jupyter-server>=1.1.2->jupyter-lsp) (1.5.0)\n",
      "Requirement already satisfied: importlib-metadata>=3.6 in /opt/conda/lib/python3.7/site-packages (from nbconvert>=6.4.4->jupyter-server>=1.1.2->jupyter-lsp) (4.2.0)\n",
      "Requirement already satisfied: pygments>=2.4.1 in /opt/conda/lib/python3.7/site-packages (from nbconvert>=6.4.4->jupyter-server>=1.1.2->jupyter-lsp) (2.13.0)\n",
      "Requirement already satisfied: tinycss2 in /opt/conda/lib/python3.7/site-packages (from nbconvert>=6.4.4->jupyter-server>=1.1.2->jupyter-lsp) (1.2.1)\n",
      "Requirement already satisfied: bleach in /opt/conda/lib/python3.7/site-packages (from nbconvert>=6.4.4->jupyter-server>=1.1.2->jupyter-lsp) (5.0.1)\n",
      "Requirement already satisfied: nbclient>=0.5.0 in /opt/conda/lib/python3.7/site-packages (from nbconvert>=6.4.4->jupyter-server>=1.1.2->jupyter-lsp) (0.7.0)\n",
      "Requirement already satisfied: defusedxml in /opt/conda/lib/python3.7/site-packages (from nbconvert>=6.4.4->jupyter-server>=1.1.2->jupyter-lsp) (0.7.1)\n",
      "Requirement already satisfied: mistune<3,>=2.0.3 in /opt/conda/lib/python3.7/site-packages (from nbconvert>=6.4.4->jupyter-server>=1.1.2->jupyter-lsp) (2.0.4)\n",
      "Requirement already satisfied: jupyterlab-pygments in /opt/conda/lib/python3.7/site-packages (from nbconvert>=6.4.4->jupyter-server>=1.1.2->jupyter-lsp) (0.2.2)\n",
      "Requirement already satisfied: markupsafe>=2.0 in /opt/conda/lib/python3.7/site-packages (from nbconvert>=6.4.4->jupyter-server>=1.1.2->jupyter-lsp) (2.1.1)\n",
      "Requirement already satisfied: fastjsonschema in /opt/conda/lib/python3.7/site-packages (from nbformat>=5.2.0->jupyter-server>=1.1.2->jupyter-lsp) (2.16.2)\n",
      "Requirement already satisfied: jsonschema>=2.6 in /opt/conda/lib/python3.7/site-packages (from nbformat>=5.2.0->jupyter-server>=1.1.2->jupyter-lsp) (4.16.0)\n",
      "Requirement already satisfied: ptyprocess in /opt/conda/lib/python3.7/site-packages (from terminado>=0.8.3->jupyter-server>=1.1.2->jupyter-lsp) (0.7.0)\n",
      "Requirement already satisfied: argon2-cffi-bindings in /opt/conda/lib/python3.7/site-packages (from argon2-cffi->jupyter-server>=1.1.2->jupyter-lsp) (21.2.0)\n",
      "Requirement already satisfied: pyparsing!=3.0.5,>=2.0.2 in /opt/conda/lib/python3.7/site-packages (from packaging->jupyter-server>=1.1.2->jupyter-lsp) (3.0.9)\n",
      "Requirement already satisfied: zipp>=0.5 in /opt/conda/lib/python3.7/site-packages (from importlib-metadata>=3.6->nbconvert>=6.4.4->jupyter-server>=1.1.2->jupyter-lsp) (3.10.0)\n",
      "Requirement already satisfied: pkgutil-resolve-name>=1.3.10 in /opt/conda/lib/python3.7/site-packages (from jsonschema>=2.6->nbformat>=5.2.0->jupyter-server>=1.1.2->jupyter-lsp) (1.3.10)\n",
      "Requirement already satisfied: importlib-resources>=1.4.0 in /opt/conda/lib/python3.7/site-packages (from jsonschema>=2.6->nbformat>=5.2.0->jupyter-server>=1.1.2->jupyter-lsp) (5.10.0)\n",
      "Requirement already satisfied: pyrsistent!=0.17.0,!=0.17.1,!=0.17.2,>=0.14.0 in /opt/conda/lib/python3.7/site-packages (from jsonschema>=2.6->nbformat>=5.2.0->jupyter-server>=1.1.2->jupyter-lsp) (0.18.1)\n",
      "Requirement already satisfied: attrs>=17.4.0 in /opt/conda/lib/python3.7/site-packages (from jsonschema>=2.6->nbformat>=5.2.0->jupyter-server>=1.1.2->jupyter-lsp) (22.1.0)\n",
      "Requirement already satisfied: six>=1.5 in /opt/conda/lib/python3.7/site-packages (from python-dateutil>=2.8.2->jupyter-client>=6.1.12->jupyter-server>=1.1.2->jupyter-lsp) (1.16.0)\n",
      "Requirement already satisfied: cffi>=1.0.1 in /opt/conda/lib/python3.7/site-packages (from argon2-cffi-bindings->argon2-cffi->jupyter-server>=1.1.2->jupyter-lsp) (1.15.1)\n",
      "Requirement already satisfied: soupsieve>1.2 in /opt/conda/lib/python3.7/site-packages (from beautifulsoup4->nbconvert>=6.4.4->jupyter-server>=1.1.2->jupyter-lsp) (2.3.2.post1)\n",
      "Requirement already satisfied: webencodings in /opt/conda/lib/python3.7/site-packages (from bleach->nbconvert>=6.4.4->jupyter-server>=1.1.2->jupyter-lsp) (0.5.1)\n",
      "Requirement already satisfied: pycparser in /opt/conda/lib/python3.7/site-packages (from cffi>=1.0.1->argon2-cffi-bindings->argon2-cffi->jupyter-server>=1.1.2->jupyter-lsp) (2.21)\n",
      "Requirement already satisfied: python-lsp-server[all] in /opt/conda/lib/python3.7/site-packages (1.5.0)\n",
      "Requirement already satisfied: ujson>=3.0.0 in /opt/conda/lib/python3.7/site-packages (from python-lsp-server[all]) (5.5.0)\n",
      "Requirement already satisfied: pluggy>=1.0.0 in /opt/conda/lib/python3.7/site-packages (from python-lsp-server[all]) (1.0.0)\n",
      "Requirement already satisfied: setuptools>=39.0.0 in /opt/conda/lib/python3.7/site-packages (from python-lsp-server[all]) (59.8.0)\n",
      "Requirement already satisfied: python-lsp-jsonrpc>=1.0.0 in /opt/conda/lib/python3.7/site-packages (from python-lsp-server[all]) (1.0.0)\n",
      "Requirement already satisfied: jedi<0.19.0,>=0.17.2 in /opt/conda/lib/python3.7/site-packages (from python-lsp-server[all]) (0.18.1)\n",
      "Requirement already satisfied: whatthepatch in /opt/conda/lib/python3.7/site-packages (from python-lsp-server[all]) (1.0.2)\n",
      "Requirement already satisfied: rope>=0.10.5 in /opt/conda/lib/python3.7/site-packages (from python-lsp-server[all]) (1.4.0)\n",
      "Requirement already satisfied: mccabe<0.7.0,>=0.6.0 in /opt/conda/lib/python3.7/site-packages (from python-lsp-server[all]) (0.6.1)\n",
      "Requirement already satisfied: pylint>=2.5.0 in /opt/conda/lib/python3.7/site-packages (from python-lsp-server[all]) (2.15.5)\n",
      "Requirement already satisfied: autopep8<1.7.0,>=1.6.0 in /opt/conda/lib/python3.7/site-packages (from python-lsp-server[all]) (1.6.0)\n",
      "Requirement already satisfied: flake8<4.1.0,>=4.0.0 in /opt/conda/lib/python3.7/site-packages (from python-lsp-server[all]) (4.0.1)\n",
      "Requirement already satisfied: yapf in /opt/conda/lib/python3.7/site-packages (from python-lsp-server[all]) (0.32.0)\n",
      "Requirement already satisfied: pydocstyle>=2.0.0 in /opt/conda/lib/python3.7/site-packages (from python-lsp-server[all]) (6.1.1)\n",
      "Requirement already satisfied: pycodestyle<2.9.0,>=2.8.0 in /opt/conda/lib/python3.7/site-packages (from python-lsp-server[all]) (2.8.0)\n",
      "Requirement already satisfied: pyflakes<2.5.0,>=2.4.0 in /opt/conda/lib/python3.7/site-packages (from python-lsp-server[all]) (2.4.0)\n",
      "Requirement already satisfied: toml in /opt/conda/lib/python3.7/site-packages (from autopep8<1.7.0,>=1.6.0->python-lsp-server[all]) (0.10.2)\n",
      "Requirement already satisfied: importlib-metadata<4.3 in /opt/conda/lib/python3.7/site-packages (from flake8<4.1.0,>=4.0.0->python-lsp-server[all]) (4.2.0)\n",
      "Requirement already satisfied: parso<0.9.0,>=0.8.0 in /opt/conda/lib/python3.7/site-packages (from jedi<0.19.0,>=0.17.2->python-lsp-server[all]) (0.8.3)\n",
      "Requirement already satisfied: snowballstemmer in /opt/conda/lib/python3.7/site-packages (from pydocstyle>=2.0.0->python-lsp-server[all]) (2.2.0)\n",
      "Requirement already satisfied: isort<6,>=4.2.5 in /opt/conda/lib/python3.7/site-packages (from pylint>=2.5.0->python-lsp-server[all]) (5.10.1)\n",
      "Requirement already satisfied: typing-extensions>=3.10.0 in /opt/conda/lib/python3.7/site-packages (from pylint>=2.5.0->python-lsp-server[all]) (4.1.1)\n",
      "Requirement already satisfied: platformdirs>=2.2.0 in /opt/conda/lib/python3.7/site-packages (from pylint>=2.5.0->python-lsp-server[all]) (2.5.2)\n",
      "Requirement already satisfied: astroid<=2.14.0-dev0,>=2.12.12 in /opt/conda/lib/python3.7/site-packages (from pylint>=2.5.0->python-lsp-server[all]) (2.12.12)\n",
      "Requirement already satisfied: dill>=0.2 in /opt/conda/lib/python3.7/site-packages (from pylint>=2.5.0->python-lsp-server[all]) (0.3.5.1)\n",
      "Requirement already satisfied: tomli>=1.1.0 in /opt/conda/lib/python3.7/site-packages (from pylint>=2.5.0->python-lsp-server[all]) (2.0.1)\n",
      "Requirement already satisfied: tomlkit>=0.10.1 in /opt/conda/lib/python3.7/site-packages (from pylint>=2.5.0->python-lsp-server[all]) (0.11.6)\n",
      "Requirement already satisfied: pytoolconfig>=1.2.2 in /opt/conda/lib/python3.7/site-packages (from rope>=0.10.5->python-lsp-server[all]) (1.2.2)\n",
      "Requirement already satisfied: typed-ast<2.0,>=1.4.0 in /opt/conda/lib/python3.7/site-packages (from astroid<=2.14.0-dev0,>=2.12.12->pylint>=2.5.0->python-lsp-server[all]) (1.5.4)\n",
      "Requirement already satisfied: lazy-object-proxy>=1.4.0 in /opt/conda/lib/python3.7/site-packages (from astroid<=2.14.0-dev0,>=2.12.12->pylint>=2.5.0->python-lsp-server[all]) (1.8.0)\n",
      "Requirement already satisfied: wrapt<2,>=1.11 in /opt/conda/lib/python3.7/site-packages (from astroid<=2.14.0-dev0,>=2.12.12->pylint>=2.5.0->python-lsp-server[all]) (1.14.1)\n",
      "Requirement already satisfied: zipp>=0.5 in /opt/conda/lib/python3.7/site-packages (from importlib-metadata<4.3->flake8<4.1.0,>=4.0.0->python-lsp-server[all]) (3.10.0)\n",
      "Requirement already satisfied: packaging>=21.3 in /opt/conda/lib/python3.7/site-packages (from pytoolconfig>=1.2.2->rope>=0.10.5->python-lsp-server[all]) (21.3)\n",
      "Requirement already satisfied: pyparsing!=3.0.5,>=2.0.2 in /opt/conda/lib/python3.7/site-packages (from packaging>=21.3->pytoolconfig>=1.2.2->rope>=0.10.5->python-lsp-server[all]) (3.0.9)\n",
      "Requirement already satisfied: pymongo[srv] in /opt/conda/lib/python3.7/site-packages (3.12.0)\n",
      "Requirement already satisfied: dnspython<2.0.0,>=1.16.0 in /opt/conda/lib/python3.7/site-packages (from pymongo[srv]) (1.16.0)\n",
      "/bin/bash: line 0: fg: no job control\n",
      "ln: failed to create symbolic link '.lsp_symlink/': File exists\n"
     ]
    }
   ],
   "source": [
    "!pip install -r requirements.txt\n",
    "!pip install jupyter-lsp\n",
    "!pip install 'python-lsp-server[all]'\n",
    "!pip install \"pymongo[srv]\"\n",
    "!%config Completer.use_jedi = False\n",
   ]
  },
  {
   "cell_type": "code",
   "execution_count": 2,
   "id": "57338f54-81f0-4083-8b78-01ca47ad0c23",
   "metadata": {},
   "outputs": [],
   "source": [
    "import numpy as np\n",
    "import pandas as pd\n",
    "\n",
    "from persistence import Connection as Database"
   ]
  },
  {
   "cell_type": "code",
   "execution_count": 3,
   "id": "fc777e0a-2cab-4856-9cb1-4b73cd5ae418",
   "metadata": {},
   "outputs": [],
   "source": [
    "from typing import List, Tuple"
   ]
  },
  {
   "cell_type": "code",
   "execution_count": 4,
   "id": "8c9fa236-815b-4091-b36e-b9855e487927",
   "metadata": {
    "tags": []
   },
   "outputs": [
    {
     "name": "stdout",
     "output_type": "stream",
     "text": [
      "Connected to DB\n"
     ]
    }
   ],
   "source": [
    "# load some data \n",
    "db: Database = Database()"
   ]
  },
  {
   "cell_type": "code",
   "execution_count": 5,
   "id": "f06c252a-f2fa-4760-a551-8a81da0cc1ea",
   "metadata": {
    "tags": []
   },
   "outputs": [],
   "source": [
    "resumes = db.fetch_all_unlabeled_resumes()"
   ]
  },
  {
   "cell_type": "code",
   "execution_count": 6,
   "id": "66ec3758",
   "metadata": {},
   "outputs": [
    {
     "data": {
      "text/plain": [
       "<module 'model.keyword_utils' from '/home/jupyter/OpenCV/root/backend/model/keyword_utils.py'>"
      ]
     },
     "execution_count": 6,
     "metadata": {},
     "output_type": "execute_result"
    }
   ],
   "source": [
    "import importlib\n",
    "from model import keyword_utils\n",
    "importlib.reload(keyword_utils)"
   ]
  },
  {
   "cell_type": "code",
   "execution_count": 7,
   "id": "42a6d205-441b-4c8f-8559-53a8ed8cb530",
   "metadata": {},
   "outputs": [],
   "source": [
    "from model import Job as J\n",
    "\n",
    "importlib.reload(J)\n",
    "Job = J.Job"
   ]
  },
  {
   "cell_type": "code",
   "execution_count": 8,
   "id": "d5948816-fbcb-4e40-ac3b-ec62853289c3",
   "metadata": {},
   "outputs": [
    {
     "name": "stdout",
     "output_type": "stream",
     "text": [
      "1\n"
     ]
    }
   ],
   "source": [
    "print(len(resumes))"
   ]
  },
  {
   "cell_type": "markdown",
   "id": "e4530751-87ee-45c0-8ddd-59eae8bd3d20",
   "metadata": {},
   "source": [
    "# Observations\n",
    "- We observed that it/IT is a conflict with stop-word removal …\n",
    "- Take the length of the experience into account \n",
    "- For example, statistical and statsitcs are close, maybe relevant to use embeddnings istead of intersection"
   ]
  },
  {
   "cell_type": "code",
   "execution_count": 9,
   "id": "96bc42ee",
   "metadata": {},
   "outputs": [
    {
     "name": "stdout",
     "output_type": "stream",
     "text": [
      "1\n"
     ]
    },
    {
     "ename": "IndexError",
     "evalue": "list index out of range",
     "output_type": "error",
     "traceback": [
      "\u001b[0;31m---------------------------------------------------------------------------\u001b[0m",
      "\u001b[0;31mIndexError\u001b[0m                                Traceback (most recent call last)",
      "\u001b[0;32m/tmp/ipykernel_11316/2295449272.py\u001b[0m in \u001b[0;36m<module>\u001b[0;34m\u001b[0m\n\u001b[1;32m      1\u001b[0m \u001b[0mprint\u001b[0m\u001b[0;34m(\u001b[0m\u001b[0mlen\u001b[0m\u001b[0;34m(\u001b[0m\u001b[0mresumes\u001b[0m\u001b[0;34m)\u001b[0m\u001b[0;34m)\u001b[0m\u001b[0;34m\u001b[0m\u001b[0;34m\u001b[0m\u001b[0m\n\u001b[1;32m      2\u001b[0m \u001b[0;34m\u001b[0m\u001b[0m\n\u001b[0;32m----> 3\u001b[0;31m \u001b[0mprint\u001b[0m\u001b[0;34m(\u001b[0m\u001b[0mresumes\u001b[0m\u001b[0;34m[\u001b[0m\u001b[0;36m1\u001b[0m\u001b[0;34m]\u001b[0m\u001b[0;34m[\u001b[0m\u001b[0;34m'interests'\u001b[0m\u001b[0;34m]\u001b[0m\u001b[0;34m)\u001b[0m\u001b[0;34m\u001b[0m\u001b[0;34m\u001b[0m\u001b[0m\n\u001b[0m",
      "\u001b[0;31mIndexError\u001b[0m: list index out of range"
     ]
    }
   ],
   "source": [
    "print(len(resumes))\n",
    "\n",
    "print(resumes[1]['interests'])"
   ]
  },
  {
   "cell_type": "code",
   "execution_count": null,
   "id": "f6881e3b",
   "metadata": {},
   "outputs": [],
   "source": [
    "\n",
    "print(keyword_utils.get_section_texts_with_score_from_resume(resumes[0]))"
   ]
  },
  {
   "cell_type": "code",
   "execution_count": null,
   "id": "5b74a7f3-005a-4ff6-81c8-7d68030385df",
   "metadata": {
    "tags": []
   },
   "outputs": [],
   "source": [
    "from model.train_dictionaries import train_keywords_for_job_title\n",
    "j = train_keywords_for_job_title(\"Data scientist\", resumes)"
   ]
  },
  {
   "cell_type": "code",
   "execution_count": null,
   "id": "8f193624",
   "metadata": {
    "tags": []
   },
   "outputs": [],
   "source": [
    "j.keywords\n",
    "\n",
    "for k in j.keywords.items(): \n",
    "    print(k)\n",
    "    break\n",
    "    \n",
    "# print(\"\\n\".join([f\"{k},{v}\" for k, v in j.keywords.items()]))"
   ]
  },
  {
   "cell_type": "code",
   "execution_count": null,
   "id": "0f6fd2a2",
   "metadata": {},
   "outputs": [],
   "source": [
    "from persistence.cloud_storage.cloud_storage import write_job_keywords \n",
    "\n",
    "write_job_keywords(j)"
   ]
  },
  {
   "cell_type": "markdown",
   "id": "fdb91a99-2df9-4804-a40b-d6559ed3b9da",
   "metadata": {},
   "source": [
    "## Need to fix\n",
    " - Training keyword/weights Automatically\n",
    "\n",
    "## Training\n",
    "all cvs -> split into labeled-parts -> extract keywords (keybert) -> update score with label -> for each word output average -> List of words with score for position \n",
    "\n",
    "\n",
    "## Other features\n",
    " - Experience duration? \n",
    " - How long ago? "
   ]
  },
  {
   "cell_type": "code",
   "execution_count": null,
   "id": "6b043d7e",
   "metadata": {},
   "outputs": [],
   "source": [
    "resumes[1]['contactInfo']"
   ]
  },
  {
   "cell_type": "code",
   "execution_count": null,
   "id": "3af4fb66",
   "metadata": {},
   "outputs": [],
   "source": [
    "import model\n",
    "from prediction import prediction\n",
    "from util import json_to_df \n",
    "importlib.reload(prediction)\n",
    "importlib.reload(model.resume_scorer)\n",
    "importlib.reload(json_to_df)\n",
    "\n",
    "\n",
    "improved = prediction.improve_cv(\"Data scientist\", resumes[1])"
   ]
  },
  {
   "cell_type": "code",
   "execution_count": 15,
   "id": "681a1420",
   "metadata": {},
   "outputs": [
    {
     "data": {
      "text/plain": [
       "{'title': 'Data Scientist at Thales',\n",
       " '_id': ObjectId('6374781d09ad88efd5044c9c'),\n",
       " 'summary': {'value': '', 'label': 0.0},\n",
       " 'experience': {'value': [{'value': {'company': 'Fondazione Santa Lucia',\n",
       "     'title': 'Engineering Trainee',\n",
       "     'location': '',\n",
       "     'fromDate': 'Mars 2008',\n",
       "     'toDate': 'September 2008',\n",
       "     'description': 'Linear Inverse techniques for high resolution EEG and brain hyper- connectivity estimation in healthy subjects'},\n",
       "    'label': 0.13508663678798602},\n",
       "   {'value': {'company': 'Fondazione Santa Lucia, Neuroeletrical Imaging and Brain Computer Interface Laboratory',\n",
       "     'title': 'Term Contract',\n",
       "     'location': 'Rome',\n",
       "     'fromDate': 'October 2008',\n",
       "     'toDate': 'December 2008',\n",
       "     'description': 'Application of high resolution EEG techniques and multivariate models for the brain connectivity estimation in healthy and patient subjects.'},\n",
       "    'label': 0.1385201750091479},\n",
       "   {'value': {'company': 'Thales',\n",
       "     'title': 'Data Scientist',\n",
       "     'location': 'Palaiseau',\n",
       "     'fromDate': 'September 2018',\n",
       "     'toDate': 'Present',\n",
       "     'description': ''},\n",
       "    'label': 0.47206456158368476}],\n",
       "  'label': 0},\n",
       " 'education': {'value': [{'value': {'title': 'Diploma de posgrado, Obtención y Procesamiento de Señales e Imágenes Biomédicas, Instrumentación Biomédica',\n",
       "     'location': 'Spain',\n",
       "     'fromDate': '2006',\n",
       "     'toDate': '2007',\n",
       "     'description': '',\n",
       "     'institution': 'Fundació Politècnica de Catalunya'},\n",
       "    'label': 0.18745157892088804},\n",
       "   {'value': {'title': 'Doctor of Philosophy - PhD, Biometry/Biometrics',\n",
       "     'location': 'Rome, Italy',\n",
       "     'fromDate': '2012',\n",
       "     'toDate': '2015',\n",
       "     'description': 'PhD with European Label in Biomedical electronics, electromagnetics and telecommunications Thesis – Automatic user recognition based on EEG signals. Main tasks: design of EEG recording protocols; signal acquisition; preprocessing for the enhancement of SNR; EEG analysis applying advanced signal processing methods for feature engineering; machine learning approaches for BCI and biometry applications.',\n",
       "     'institution': 'Università degli Studi di Roma Tre'},\n",
       "    'label': 0.19279513379254132},\n",
       "   {'value': {'title': \"Master's degree, Ingénierie biomédicale / médicale\",\n",
       "     'location': 'Rome, Italy',\n",
       "     'fromDate': '2008',\n",
       "     'toDate': '2011',\n",
       "     'description': '',\n",
       "     'institution': 'Sapienza Università di Roma'},\n",
       "    'label': 0.26994181552438573},\n",
       "   {'value': {'title': 'Regulación Automatica',\n",
       "     'location': 'Spain',\n",
       "     'fromDate': '2006',\n",
       "     'toDate': '2007',\n",
       "     'description': '',\n",
       "     'institution': 'Universitat Politècnica de Catalunya'},\n",
       "    'label': 0.5437008996386051}],\n",
       "  'label': 0},\n",
       " 'interests': {'value': [], 'label': 0},\n",
       " 'accomplishments': {'value': [{'value': {'title': 'CEA enhanced eurotalent - Marie Sklodowska-Curie Actions Programme',\n",
       "     'fromDate': '2022-01-20',\n",
       "     'toDate': 'Today',\n",
       "     'description': ''},\n",
       "    'label': 0.1780206398769982},\n",
       "   {'value': {'title': \"Best Master's Degree Thesis on Disability\",\n",
       "     'fromDate': '2017-07-23',\n",
       "     'toDate': '',\n",
       "     'description': ''},\n",
       "    'label': 0.22715836390603567},\n",
       "   {'value': {'title': 'European Biometrics Research Award',\n",
       "     'fromDate': '2021-03-20',\n",
       "     'toDate': '',\n",
       "     'description': ''},\n",
       "    'label': 0.35015758735533337}],\n",
       "  'label': 0},\n",
       " 'languages': {'value': [], 'label': 0},\n",
       " 'projects': {'value': [{'value': {'title': 'Academic Paper published',\n",
       "     'fromDate': '2022-10-02',\n",
       "     'toDate': '',\n",
       "     'description': 'https://scholar.google.com/citations? user=P5v6hRUAAAAJ&hl=fr'},\n",
       "    'label': 0.3336681489304159}],\n",
       "  'label': 0},\n",
       " 'softSkills': {'value': [], 'label': 0},\n",
       " 'hardSkills': {'value': [{'value': {'name': 'Algorithms', 'proficiency': 3.0},\n",
       "    'label': 0.549038412634259},\n",
       "   {'value': {'name': 'Signal processing', 'proficiency': 5.0},\n",
       "    'label': 0.7074359946792427}],\n",
       "  'label': 0},\n",
       " 'certifications': {'value': [{'value': {'title': 'Machine learning with PySpark',\n",
       "     'description': '',\n",
       "     'level': '',\n",
       "     'date': ''},\n",
       "    'label': 0.20930919811735965}],\n",
       "  'label': 0},\n",
       " 'patents': {'value': [], 'label': 0},\n",
       " 'extracurriculars': {'value': [], 'label': 0}}"
      ]
     },
     "execution_count": 15,
     "metadata": {},
     "output_type": "execute_result"
    }
   ],
   "source": [
    "improved"
   ]
  },
  {
   "cell_type": "code",
   "execution_count": 16,
   "id": "5a514e4b",
   "metadata": {},
   "outputs": [
    {
     "name": "stdout",
     "output_type": "stream",
     "text": [
      "[]\n",
      "  value  label         type                                address  \\\n",
      "1   NaN    0.0  contactInfo  Abraham Lincoln Street 1, Chicago, IL   \n",
      "\n",
      "          website               linkedin          name phoneNumber  \\\n",
      "1  my-website.com  linkedin.com/in/me123  Monica Music    01012345   \n",
      "\n",
      "                email          github  ... company title location fromDate  \\\n",
      "1  monica@music.co.kr  monicamusic123  ...     NaN   NaN      NaN      NaN   \n",
      "\n",
      "  toDate description institution proficiency level  date  \n",
      "1    NaN         NaN         NaN         NaN   NaN   NaN  \n",
      "\n",
      "[1 rows x 22 columns]\n",
      "  value  label         type                                address  \\\n",
      "1   NaN    0.0  contactInfo  Abraham Lincoln Street 1, Chicago, IL   \n",
      "\n",
      "          website               linkedin          name phoneNumber  \\\n",
      "1  my-website.com  linkedin.com/in/me123  Monica Music    01012345   \n",
      "\n",
      "                email          github  ... company title location fromDate  \\\n",
      "1  monica@music.co.kr  monicamusic123  ...     NaN   NaN      NaN      NaN   \n",
      "\n",
      "  toDate description institution proficiency level  date  \n",
      "1    NaN         NaN         NaN         NaN   NaN   NaN  \n",
      "\n",
      "[1 rows x 22 columns]\n",
      "{'address': 'Abraham Lincoln Street 1, Chicago, IL', 'website': 'my-website.com', 'linkedin': 'linkedin.com/in/me123', 'name': 'Monica Music', 'phoneNumber': '01012345', 'email': 'monica@music.co.kr', 'github': 'monicamusic123', 'birthday': '24 December 1985', 'family': '5 kids, divorced'}\n",
      "{'address': 'Abraham Lincoln Street 1, Chicago, IL', 'website': 'my-website.com', 'linkedin': 'linkedin.com/in/me123', 'name': 'Monica Music', 'phoneNumber': '01012345', 'email': 'monica@music.co.kr', 'github': 'monicamusic123', 'birthday': '24 December 1985', 'family': '5 kids, divorced'}\n",
      "{}\n"
     ]
    },
    {
     "name": "stderr",
     "output_type": "stream",
     "text": [
      "/opt/conda/lib/python3.7/site-packages/pandas/core/frame.py:4913: SettingWithCopyWarning: \n",
      "A value is trying to be set on a copy of a slice from a DataFrame\n",
      "\n",
      "See the caveats in the documentation: https://pandas.pydata.org/pandas-docs/stable/user_guide/indexing.html#returning-a-view-versus-a-copy\n",
      "  errors=errors,\n"
     ]
    }
   ],
   "source": [
    "importlib.reload(json_to_df)\n",
    "from jsondiff import diff\n",
    "res = resumes[1]\n",
    "\n",
    "df, md = json_to_df.create_df(res)\n",
    "\n",
    "print(df[df['type'] == 'none'].to_dict('records'))\n",
    "\n",
    "back = json_to_df.get_resume_dict_from_dataframe(df, md)\n",
    "\n",
    "print(df[df['type'] == 'contactInfo'])\n",
    "print(res['contactInfo'])\n",
    "print(back['contactInfo'])\n",
    "print(diff(res, back))"
   ]
  }
 ],
 "metadata": {
  "environment": {
   "kernel": "python3",
   "name": "pytorch-gpu.1-12.m99",
   "type": "gcloud",
   "uri": "gcr.io/deeplearning-platform-release/pytorch-gpu.1-12:m99"
  },
  "kernelspec": {
   "display_name": "Python 3",
   "language": "python",
   "name": "python3"
  },
  "language_info": {
   "codemirror_mode": {
    "name": "ipython",
    "version": 3
   },
   "file_extension": ".py",
   "mimetype": "text/x-python",
   "name": "python",
   "nbconvert_exporter": "python",
   "pygments_lexer": "ipython3",
   "version": "3.7.12"
  },
  "vscode": {
   "interpreter": {
    "hash": "d4d1e4263499bec80672ea0156c357c1ee493ec2b1c70f0acce89fc37c4a6abe"
   }
  }
 },
 "nbformat": 4,
 "nbformat_minor": 5
}
